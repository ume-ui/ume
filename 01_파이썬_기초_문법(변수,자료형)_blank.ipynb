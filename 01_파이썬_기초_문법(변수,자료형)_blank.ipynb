{
 "cells": [
  {
   "cell_type": "markdown",
   "metadata": {
    "id": "rykO60mofpWR"
   },
   "source": [
    "# 1. 변수"
   ]
  },
  {
   "cell_type": "code",
   "execution_count": null,
   "metadata": {},
   "outputs": [],
   "source": []
  },
  {
   "cell_type": "code",
   "execution_count": null,
   "metadata": {},
   "outputs": [],
   "source": [
    "name = \" 홍길동 \"\n",
    "age = 20 \n",
    "item_count = 15 \n",
    "print(\"이름:\", name.strip())    "
   ]
  },
  {
   "cell_type": "code",
   "execution_count": null,
   "metadata": {},
   "outputs": [],
   "source": [
    "city = \" seoul \"\n",
    "City = \" busan \"\n",
    "print(city, City )"
   ]
  },
  {
   "cell_type": "code",
   "execution_count": null,
   "metadata": {},
   "outputs": [],
   "source": [
    "city1 = \" seoul \"\n",
    "print(city1)"
   ]
  },
  {
   "cell_type": "code",
   "execution_count": null,
   "metadata": {},
   "outputs": [],
   "source": []
  },
  {
   "cell_type": "markdown",
   "metadata": {
    "id": "wUlzBbEmfpWT"
   },
   "source": [
    "# 3. 자료형"
   ]
  },
  {
   "cell_type": "code",
   "execution_count": null,
   "metadata": {},
   "outputs": [],
   "source": []
  },
  {
   "cell_type": "markdown",
   "metadata": {
    "id": "msOAV5snfpWU"
   },
   "source": [
    "## 1) 숫자형\n"
   ]
  },
  {
   "cell_type": "markdown",
   "metadata": {
    "id": "VNzBbeEefpWU"
   },
   "source": [
    "### (1) 표현"
   ]
  },
  {
   "cell_type": "code",
   "execution_count": null,
   "metadata": {},
   "outputs": [],
   "source": [
    "# 정수 \n",
    "x = 5 \n",
    "y = -1 \n",
    "z = 0 \n",
    "money = 1_000_000_000  # , 대신 _ 사용 가능\n",
    "print(x, y, z, money)"
   ]
  },
  {
   "cell_type": "code",
   "execution_count": null,
   "metadata": {},
   "outputs": [],
   "source": [
    "print(type(x))"
   ]
  },
  {
   "cell_type": "code",
   "execution_count": null,
   "metadata": {},
   "outputs": [],
   "source": [
    "# 실수 \n",
    "a = 3.141\n",
    "b =- 2.5\n",
    "c = 0.000000000000000001 #1e-18 이말은 소수점 18자리까지 표현한다는 의미\n",
    "print(a, b, c   )"
   ]
  },
  {
   "cell_type": "code",
   "execution_count": null,
   "metadata": {},
   "outputs": [],
   "source": [
    "x = 1e+10 # 1e+10은 10의 10제곱을 의미 = 0이 10개\n",
    "y = 3e-5\n",
    "print(x, y)"
   ]
  },
  {
   "cell_type": "code",
   "execution_count": null,
   "metadata": {},
   "outputs": [],
   "source": [
    "z = 1.0 \n",
    "print(type(z)) # <class 'float'> 실수"
   ]
  },
  {
   "cell_type": "markdown",
   "metadata": {
    "id": "qArKs0K3fpWU"
   },
   "source": [
    "### (2) 산술/복합 연산"
   ]
  },
  {
   "cell_type": "code",
   "execution_count": null,
   "metadata": {},
   "outputs": [],
   "source": [
    "num1 = 10 # 변수명에 숫자 사용 불가\n",
    "num2 = 20\n",
    "\n",
    "print(num1 + num2) # 변수명에 공백 사용 불가\n",
    "print(num1 - num2) # 변수명에 특수문자 사용 불가\n",
    "print(num1 * num2) # 변수명에 한글 사용 불가\n",
    "print(num1 / num2) # 변수명에 예약어 사용 불가  # print(num1 ** num2) # 변수명에 대소문자 구분 없음\n",
    "print(num1 // num2) # 변수명에 대소문자 구분 있음           \n",
    "print(num1 % num2) # 변수명에 대소문자 구분 있음        "
   ]
  },
  {
   "cell_type": "code",
   "execution_count": null,
   "metadata": {},
   "outputs": [],
   "source": [
    "num3 = 12/3\n",
    "\n",
    "print(type(num3))"
   ]
  },
  {
   "cell_type": "code",
   "execution_count": null,
   "metadata": {},
   "outputs": [],
   "source": [
    "money =50_000\n",
    "print(\"내잔고:\", money)\n",
    "\n",
    "money += 20_000\n",
    "print(\"내잔고:\", money)\n",
    "\n",
    "money -= 18_000\n",
    "print(\"내잔고:\", money) \n"
   ]
  },
  {
   "cell_type": "code",
   "execution_count": null,
   "metadata": {},
   "outputs": [],
   "source": [
    "text = 100\n",
    "ea =30\n",
    "print(int(text//ea))\n"
   ]
  },
  {
   "cell_type": "code",
   "execution_count": null,
   "metadata": {},
   "outputs": [],
   "source": [
    "#100 나누기 30 = 몫 3 나머지 10 \n",
    "# 나머지 10도 페이지로 표현할 수 있다. \n",
    "#나머지가 있는 경우에는 몪에 1을 더한다 \n",
    "posts = 100\n",
    "posts_per_page = 30\n",
    "page = posts // posts_per_page \n",
    "remainder = posts % posts_per_page \n",
    "\n",
    "\n",
    "\n",
    "if remainder > 0\n",
    "    page += 1\n",
    "print(page)"
   ]
  },
  {
   "cell_type": "markdown",
   "metadata": {
    "id": "5zVloo50fpWU"
   },
   "source": [
    "### (3) 예제"
   ]
  },
  {
   "cell_type": "markdown",
   "metadata": {
    "id": "xRKpBRBKfpWU"
   },
   "source": [
    "반복할 횟수 구하기: 100개의 게시물을 한 페이지에 30개씩 보여주려면 총 몇 페이지가 필요할까요?"
   ]
  },
  {
   "cell_type": "code",
   "execution_count": null,
   "metadata": {
    "id": "tYff6S7DfpWV"
   },
   "outputs": [],
   "source": [
    "posts = 100\n",
    "posts_per_page = 30\n",
    "\n",
    "page = posts // posts_per_page\n",
    "remainder = posts % posts_per_page\n",
    "\n",
    "if remainder > 0:\n",
    "    page += 1\n",
    "\n",
    "print(page)"
   ]
  },
  {
   "cell_type": "markdown",
   "metadata": {
    "id": "6zj1iSwefpWV"
   },
   "source": [
    "출생년도가 1982일 때 홀수, 짝수 판단하기"
   ]
  },
  {
   "cell_type": "code",
   "execution_count": null,
   "metadata": {
    "id": "A0Hb8prSfpWV"
   },
   "outputs": [],
   "source": [
    "birth = 1982\n",
    "result = birth % 2\n",
    "print(result) # 0 이면 남자, 1이면 여자"
   ]
  },
  {
   "cell_type": "markdown",
   "metadata": {
    "id": "BxNz_w8zfpWV"
   },
   "source": [
    "## 2) ⭐ 문자열"
   ]
  },
  {
   "cell_type": "markdown",
   "metadata": {
    "id": "g5c456kQfpWV"
   },
   "source": [
    "### (1) 표현"
   ]
  },
  {
   "cell_type": "code",
   "execution_count": null,
   "metadata": {},
   "outputs": [],
   "source": [
    "message = \"Hello\"\n",
    "print(message)  # Hello"
   ]
  },
  {
   "cell_type": "code",
   "execution_count": null,
   "metadata": {},
   "outputs": [],
   "source": [
    "message = \" i'm a man\"\n",
    "print(message)"
   ]
  },
  {
   "cell_type": "code",
   "execution_count": null,
   "metadata": {},
   "outputs": [],
   "source": [
    "message = \" i'm a man\""
   ]
  },
  {
   "cell_type": "code",
   "execution_count": null,
   "metadata": {},
   "outputs": [],
   "source": [
    "message = '\\\"철수가 말했습니다\\\"'\n",
    "print(message)"
   ]
  },
  {
   "cell_type": "code",
   "execution_count": null,
   "metadata": {},
   "outputs": [],
   "source": [
    "message = ' \"철수가 말했습니다\" '\n",
    "print(message)"
   ]
  },
  {
   "cell_type": "code",
   "execution_count": null,
   "metadata": {},
   "outputs": [],
   "source": [
    "review =\"\"\"짜장면 너무 맛있어요 \n",
    "여러분들 꼭 드셔보세요 \n",
    "완전 추천합니다\"\"\"\n",
    "print(review)"
   ]
  },
  {
   "cell_type": "markdown",
   "metadata": {
    "id": "toneTdjWfpWV"
   },
   "source": [
    "### (2) 연산"
   ]
  },
  {
   "cell_type": "code",
   "execution_count": null,
   "metadata": {},
   "outputs": [],
   "source": [
    "# 더하기 +(결합) 와 곱하기 *(반복) 만 있을것이다 \n",
    "text1 = \"안녕\"\n",
    "text2 = \"하세요 \"    \n",
    "text = text1 + text2 \n",
    "print(text)"
   ]
  },
  {
   "cell_type": "code",
   "execution_count": null,
   "metadata": {},
   "outputs": [],
   "source": [
    "text1 = \"\""
   ]
  },
  {
   "cell_type": "code",
   "execution_count": null,
   "metadata": {},
   "outputs": [],
   "source": [
    "#디버깅 \n",
    "print(\"=\"*50)   \n",
    "print(\"반복1이 시작되었습니다\")\n",
    "print(\"=\"*50)"
   ]
  },
  {
   "cell_type": "code",
   "execution_count": null,
   "metadata": {},
   "outputs": [],
   "source": [
    "name = \"홍길동\"\n",
    "name1 = \"홍길동 \"\n",
    "print(name)\n",
    "print(name1)"
   ]
  },
  {
   "cell_type": "code",
   "execution_count": null,
   "metadata": {},
   "outputs": [],
   "source": [
    "print((len(name)))\n",
    "print((len(name1)))"
   ]
  },
  {
   "cell_type": "markdown",
   "metadata": {
    "id": "hUBJ8gzffpWW"
   },
   "source": [
    "### (3) 인덱싱/슬라이싱"
   ]
  },
  {
   "cell_type": "markdown",
   "metadata": {},
   "source": [
    "# 인덱싱 "
   ]
  },
  {
   "cell_type": "code",
   "execution_count": null,
   "metadata": {},
   "outputs": [],
   "source": [
    "regist_num = \"901212-1325221\" \n",
    "print(regist_num[7]) #성별확인 \n",
    "print(regist_num[-7])\n",
    "\n"
   ]
  },
  {
   "cell_type": "code",
   "execution_count": null,
   "metadata": {},
   "outputs": [],
   "source": [
    "product1 = \"1002A\"\n",
    "product2 = \"1023938B\"\n",
    "product3 = \"22C\"\n",
    "print(product1[-1]) # 1\n",
    "print(product2[-1]) # B\n",
    "print(product3[-1]) # C \n"
   ]
  },
  {
   "cell_type": "markdown",
   "metadata": {
    "id": "y6mwyMTAfpWW"
   },
   "source": [
    "#### 슬라이싱"
   ]
  },
  {
   "cell_type": "markdown",
   "metadata": {
    "id": "pdb-uQGQfpWW"
   },
   "source": [
    "문제. 주민등번호 뒷자리에서 성별을 제외하고 *로 표시해주세요."
   ]
  },
  {
   "cell_type": "code",
   "execution_count": null,
   "metadata": {
    "id": "d5Tm04Y7fpWW"
   },
   "outputs": [],
   "source": [
    "regist_num = \"901212-1325221\" \n",
    "print(regist_num[0:6]) # 0부터 6까지 슬라이싱\n",
    "print(regist_num[:6]) \n",
    "print(regist_num[2:6]) \n",
    "#음수표현\n",
    "print(regist_num[-12:-8]) "
   ]
  },
  {
   "cell_type": "code",
   "execution_count": null,
   "metadata": {},
   "outputs": [],
   "source": [
    "#주민등록번호 뒷자리에서 성별을 제외하고 *\n",
    "regist_num = \"901212-1325221\" \n",
    "left = regist_num[:8]\n",
    "right = \"*\" *6\n",
    "print(left + right)  # 901212-*******"
   ]
  },
  {
   "cell_type": "code",
   "execution_count": null,
   "metadata": {},
   "outputs": [],
   "source": [
    "print = \"홍길동\""
   ]
  },
  {
   "cell_type": "markdown",
   "metadata": {
    "id": "gATEkKPQfpWW"
   },
   "source": [
    "### (4) 문자열 포매팅(f-string)"
   ]
  },
  {
   "cell_type": "code",
   "execution_count": null,
   "metadata": {
    "id": "NYRqG_0QfpWW"
   },
   "outputs": [],
   "source": [
    "name = \"홍길동\"\n",
    "print(f\"{name}님 환영합니다.\")  # {name} 출력"
   ]
  },
  {
   "cell_type": "markdown",
   "metadata": {
    "id": "JeI53FmcfpWW"
   },
   "source": [
    "### (5) 관련 메서드"
   ]
  },
  {
   "cell_type": "markdown",
   "metadata": {
    "id": "2kO-FpdCfpWW"
   },
   "source": [
    "#### ⭐ 문자열 나누기(split)"
   ]
  },
  {
   "cell_type": "code",
   "execution_count": null,
   "metadata": {
    "id": "UjuLhug4fpWW"
   },
   "outputs": [],
   "source": [
    "address1 = \"서울시 강남구          역삼동\"\n",
    "address2 = \"강남구/동작구/노원구\"\n",
    "#문자안에 기능이 있을때 메서드  \n",
    "# #메서드는 변수옆에 붙이는 함수라고 생각하면 된다\n",
    "\n",
    "\n",
    "print(address1.split())\n",
    "print(address2.split(\"/\"))"
   ]
  },
  {
   "cell_type": "markdown",
   "metadata": {
    "id": "O7SkuuYafpWW"
   },
   "source": [
    "예제. 파일 확장자 찾기"
   ]
  },
  {
   "cell_type": "code",
   "execution_count": null,
   "metadata": {
    "id": "8HHL8hmKfpWW"
   },
   "outputs": [],
   "source": [
    "file_name1 = \"data.txt\"\n",
    "file_name2 = \"text.ipynb\"\n",
    "file_name3 = \"time_stamp.json\"\n",
    "print(file_name1.split(\".\"))"
   ]
  },
  {
   "cell_type": "markdown",
   "metadata": {
    "id": "9AbgJyKYfpWW"
   },
   "source": [
    "#### 문자열 대체(replace)"
   ]
  },
  {
   "cell_type": "code",
   "execution_count": null,
   "metadata": {
    "id": "vdNBt5V5fpWW"
   },
   "outputs": [],
   "source": [
    "email = \" jason@company.com\" \n",
    "print(email.replace(\"jason\", \"peter\"))"
   ]
  },
  {
   "cell_type": "markdown",
   "metadata": {
    "id": "WcpA-035fpWW"
   },
   "source": [
    "#### 대/소문자 변환(lower, upper)"
   ]
  },
  {
   "cell_type": "code",
   "execution_count": null,
   "metadata": {},
   "outputs": [],
   "source": [
    "gender = \"mmffMFmf\"\n",
    "gender = (gender.lower())\n",
    "print(gender.lower())\n",
    "print(gender.count(\"m\"))"
   ]
  },
  {
   "cell_type": "markdown",
   "metadata": {
    "id": "9_t2Lzt6fpWW"
   },
   "source": [
    "#### 공백 제거(lstrip/rstrip/strip)"
   ]
  },
  {
   "cell_type": "code",
   "execution_count": null,
   "metadata": {
    "id": "NSZRjfk2fpWW"
   },
   "outputs": [],
   "source": [
    "name = \"   홍길동\"\n",
    "\n",
    "print(f\"{name.strip()}\")\n",
    "print(f\"{name.lstrip()}\")\n",
    "print(f\"{name.rstrip()}\")\n"
   ]
  },
  {
   "cell_type": "markdown",
   "metadata": {
    "id": "MDmVNNmlfpWX"
   },
   "source": [
    "#### 카운트 세기(count)"
   ]
  },
  {
   "cell_type": "code",
   "execution_count": null,
   "metadata": {
    "id": "4OabxfPpfpWX"
   },
   "outputs": [],
   "source": []
  },
  {
   "cell_type": "markdown",
   "metadata": {
    "id": "TcBsq-A4fpWX"
   },
   "source": [
    "예제. 리뷰\n",
    "\n",
    "짬뽕은 정말 맵고 맛있었어요. 해산물이 가득 들어가서 만족했습니다.\n",
    "짜장면은 이 집에서 먹어본 것 중 가장 맛있었어요\n",
    "짜장면 굿"
   ]
  },
  {
   "cell_type": "code",
   "execution_count": null,
   "metadata": {
    "id": "dU5G3cEufpWX"
   },
   "outputs": [],
   "source": [
    "review = \"\"\"\n",
    "짬뽕은 정말 맵고 맛있었어요. 해산물이 가득 들어가서 만족했습니다.\n",
    "짜장면은 이 집에서 먹어본 것 중 가장 맛있었어요\n",
    "짜장면 굿\"\"\"\n",
    "review.count(\"짬뽕\")"
   ]
  },
  {
   "cell_type": "code",
   "execution_count": null,
   "metadata": {},
   "outputs": [],
   "source": []
  },
  {
   "cell_type": "markdown",
   "metadata": {
    "id": "32pY-NGFfpWX"
   },
   "source": [
    "## 3) 리스트(List)"
   ]
  },
  {
   "cell_type": "markdown",
   "metadata": {
    "id": "wZ5yZQH-fpWX"
   },
   "source": [
    "### (1) 표현"
   ]
  },
  {
   "cell_type": "code",
   "execution_count": null,
   "metadata": {
    "id": "HA86_T3JfpWX"
   },
   "outputs": [],
   "source": [
    "#숫자,문자\n",
    "##리플[], 딕셔너리{}, 집합{}, 튜플() \n",
    "#딕셔너리는 key와 value로 구성되어 있다.{'키':값}\n",
    "#리스트는 순서가 있고, 중복이 가능하다.\n",
    "#집합은 순서가 없고, 중복이 불가능하다.\n",
    "#튜플은 순서가 있고, 중복이 가능하지만 수정이 불가능하다.\n",
    "#리스트 [사과, 바나나, 오렌지, 사과]\n",
    "#딕셔너리 {'사과':apple, '바나나':banana, '오렌지':orange} fruits['사과']\n",
    "#집합 {1, 2, 3} 고유\n",
    "#튜플 (사과, 오렌지, 멜론)\n",
    "불(Bool) True, False\n",
    "#정수 int 실수 float 문자열 str 리스트 list 딕셔너리 dict 집합 set 튜플 tuple\n",
    "#mylist = []\n",
    "print(mylist)"
   ]
  },
  {
   "cell_type": "code",
   "execution_count": null,
   "metadata": {},
   "outputs": [],
   "source": [
    "jan = 20000 \n",
    "feb = 5000\n",
    "mar = 30000\n",
    "apr = 10000\n",
    "may = 2000\n",
    "\n",
    "money = jan + feb+ mar + apr + may\n",
    "print(money)  # (20000, 5000, 30000, 10000, 2000)"
   ]
  },
  {
   "cell_type": "code",
   "execution_count": null,
   "metadata": {},
   "outputs": [],
   "source": [
    "money2025 = [2000, 40000, 5000]\n",
    "print((sum(money2025)))  # 47000"
   ]
  },
  {
   "cell_type": "code",
   "execution_count": null,
   "metadata": {},
   "outputs": [],
   "source": []
  },
  {
   "cell_type": "code",
   "execution_count": null,
   "metadata": {},
   "outputs": [],
   "source": [
    "#리스트 만들기 \n",
    "mylist =[1, 2, \"가\", [\"a\", \"b\", \"c\"], (5),{\"key\":\"valuew\"} ]\n",
    "print(mylist)"
   ]
  },
  {
   "cell_type": "code",
   "execution_count": null,
   "metadata": {},
   "outputs": [],
   "source": [
    "data = [['홍길동', 30], ['박영희', 22 ],['김철수', 25], ['이영희', 28]]\n",
    "print(data)  # ['홍길동', 30]\n",
    "print((len))"
   ]
  },
  {
   "cell_type": "markdown",
   "metadata": {
    "id": "MJ0aiHRifpWX"
   },
   "source": [
    "### (2) 인덱싱/슬라이싱"
   ]
  },
  {
   "cell_type": "markdown",
   "metadata": {
    "id": "-4z5eF4FfpWX"
   },
   "source": [
    "#### 인덱싱"
   ]
  },
  {
   "cell_type": "markdown",
   "metadata": {
    "id": "FYU_bl_6fpWb"
   },
   "source": [
    "#### 슬라이싱"
   ]
  },
  {
   "cell_type": "markdown",
   "metadata": {
    "id": "M5-urS5_fpWb"
   },
   "source": [
    "예제.\n",
    "\n",
    "```\n",
    "data = [25, \"apple\", 3.13, [\"dog\", \"cat\", \"rabbit\"]]\n",
    "```\n",
    "\n",
    "* \"cat\" 출력"
   ]
  },
  {
   "cell_type": "code",
   "execution_count": null,
   "metadata": {
    "id": "CQTMPPw-fpWb"
   },
   "outputs": [],
   "source": [
    "data = [25, \"apple\", 3.13, [\"dog\", \"cat\", \"rabbit\"]]\n",
    "print(data[3][1])"
   ]
  },
  {
   "cell_type": "code",
   "execution_count": null,
   "metadata": {},
   "outputs": [],
   "source": [
    "orders = [\"pasta\", \"pizza\", \"cake\", \"bread\"]\n",
    "#거꾸로 \n",
    "print(orders[::-1])"
   ]
  },
  {
   "cell_type": "markdown",
   "metadata": {
    "id": "aG4ATJ-HfpWb"
   },
   "source": [
    "예제.\n",
    "\n",
    "```\n",
    "data = [25, 'apple', 3.13, ['dog', 'cat', 'rabbit']]\n",
    "```\n",
    "\n",
    "* ['dog', 'cat'] 출력"
   ]
  },
  {
   "cell_type": "code",
   "execution_count": null,
   "metadata": {
    "id": "9UwRH5WafpWb"
   },
   "outputs": [],
   "source": [
    "data = [25, \"apple\", 3.13, [\"dog\", \"cat\", \"rabbit\"]]\n",
    "print(data[3][0],data[3][1])"
   ]
  },
  {
   "cell_type": "code",
   "execution_count": null,
   "metadata": {},
   "outputs": [],
   "source": [
    "data = [25, \"apple\", 3.13, [\"dog\", \"cat\", \"rabbit\"]]\n",
    "print(data[-1][:2]) #리스트라서 가능하다 "
   ]
  },
  {
   "cell_type": "markdown",
   "metadata": {
    "id": "1I_5wkFhfpWb"
   },
   "source": [
    "### (2) 연산"
   ]
  },
  {
   "cell_type": "markdown",
   "metadata": {
    "id": "ESRph4l8fpWc"
   },
   "source": [
    "#### 덧셈(결합)"
   ]
  },
  {
   "cell_type": "code",
   "execution_count": null,
   "metadata": {},
   "outputs": [],
   "source": [
    "text1 = '점심'\n",
    "text2 = '뭐먹지'\n",
    "result = text1 + text2\n",
    "print(result)"
   ]
  },
  {
   "cell_type": "markdown",
   "metadata": {
    "id": "BbGZBaetfpWc"
   },
   "source": [
    "#### 곱셈(복제)"
   ]
  },
  {
   "cell_type": "code",
   "execution_count": null,
   "metadata": {},
   "outputs": [],
   "source": [
    "text = \"안녕\"\n",
    "result =text*5\n",
    "print((result))"
   ]
  },
  {
   "cell_type": "code",
   "execution_count": null,
   "metadata": {},
   "outputs": [],
   "source": [
    "jan_visits = [10, 0, 3, 2]\n",
    "feb_visits = [2, 50, 23, 29]\n",
    "\n",
    "vists = jan_visits + feb_visits\n",
    "print(vists)  # [10, 0, 3, 2, 2, 50, 23, 29]"
   ]
  },
  {
   "cell_type": "markdown",
   "metadata": {
    "id": "qpxQzhmbfpWc"
   },
   "source": [
    "### (3) range"
   ]
  },
  {
   "cell_type": "code",
   "execution_count": null,
   "metadata": {},
   "outputs": [],
   "source": [
    "#`range(n)` : 0부터 n-1까지의 범위를 만들어준다."
   ]
  },
  {
   "cell_type": "code",
   "execution_count": null,
   "metadata": {},
   "outputs": [],
   "source": [
    "# 연속된 숫자를 리스트로 만들고 싶어요 \n",
    "num_list =range(4)\n",
    "\n",
    "print(num_list)\n",
    "print(type(num_list))  # [0, 1, 2, 3]"
   ]
  },
  {
   "cell_type": "code",
   "execution_count": null,
   "metadata": {},
   "outputs": [],
   "source": [
    "num_list = list(range(10))\n",
    "print(num_list)\n",
    "print(num_list[3 :])"
   ]
  },
  {
   "cell_type": "code",
   "execution_count": null,
   "metadata": {},
   "outputs": [],
   "source": [
    "print(type(range(10)))\n",
    "num_list = list(range(10))\n",
    "print(type(num_list))\n",
    "num_list = list(range(1, 2, 2))\n",
    "print(num_list)"
   ]
  },
  {
   "cell_type": "code",
   "execution_count": null,
   "metadata": {},
   "outputs": [],
   "source": [
    "#range (start, end ) : start 부터 end -1 까지 범위를 만든다\n",
    "num_list = list(range(10))\n",
    "\n",
    "num_list = list((range(1,11,3)))\n",
    "print(num_list)\n"
   ]
  },
  {
   "cell_type": "code",
   "execution_count": null,
   "metadata": {},
   "outputs": [],
   "source": [
    "num_list = list(range(10))\n",
    "num_list = list((range(5, , -1)))\n",
    "print(num_list)"
   ]
  },
  {
   "cell_type": "code",
   "execution_count": null,
   "metadata": {},
   "outputs": [],
   "source": []
  },
  {
   "cell_type": "markdown",
   "metadata": {
    "id": "cUcxDoQtfpWc"
   },
   "source": [
    "### (4) 수정/추가/삭제"
   ]
  },
  {
   "cell_type": "markdown",
   "metadata": {
    "id": "eYSBz_UVfpWc"
   },
   "source": [
    "#### 수정"
   ]
  },
  {
   "cell_type": "code",
   "execution_count": null,
   "metadata": {},
   "outputs": [],
   "source": [
    "# 0에서 7까지의 범위를 나열\n",
    "num_list = (list(range(8)))\n",
    "print(num_list)\n",
    "\n",
    "#1번째 값을 '일'을 바꾸기 \n",
    "print(num_list[1])\n",
    "num_list[1] = \"일\"\n",
    "print(num_list)\n",
    "\n"
   ]
  },
  {
   "cell_type": "code",
   "execution_count": null,
   "metadata": {},
   "outputs": [],
   "source": [
    "#5번째 값을 '오' \n",
    "print(num_list[5])\n",
    "num_list[5] = \"오\"\n",
    "print(num_list)"
   ]
  },
  {
   "cell_type": "code",
   "execution_count": null,
   "metadata": {},
   "outputs": [],
   "source": [
    "#3번째에서 끝까지의 데이터를 \"하하하\"로 바꾸기 \n"
   ]
  },
  {
   "cell_type": "code",
   "execution_count": null,
   "metadata": {},
   "outputs": [],
   "source": [
    "#슬라이싱한 자료를 대체하기 위해서는 여러 개의 자료가 담긴 리스트여야한다 (한개의 자료이면 안된다.)\n",
    "#문자열은 (ex. \"안녕하세요 \") 자동으로 글자 하나하나를 요소로 인식해준다. "
   ]
  },
  {
   "cell_type": "markdown",
   "metadata": {
    "id": "gESOTUWxfpWc"
   },
   "source": [
    "#### 추가"
   ]
  },
  {
   "cell_type": "code",
   "execution_count": null,
   "metadata": {},
   "outputs": [],
   "source": [
    "data = list(range(5))\n",
    "\n",
    "#데이터 한 개 추가 \n",
    "data = data + [5]\n",
    "print((data))\n"
   ]
  },
  {
   "cell_type": "code",
   "execution_count": null,
   "metadata": {},
   "outputs": [],
   "source": [
    "#데이터 여러 개 추가 \n",
    "data = list(range(5))\n",
    "data = data + [1, 2, 3]\n",
    "print(data) \n",
    "\n"
   ]
  },
  {
   "cell_type": "code",
   "execution_count": null,
   "metadata": {},
   "outputs": [],
   "source": [
    "data = list(range(5))\n",
    "data.append([1, 2, 3, 4, 5])\n",
    "print(data)"
   ]
  },
  {
   "cell_type": "code",
   "execution_count": null,
   "metadata": {},
   "outputs": [],
   "source": [
    "data = list(range(5))\n",
    "data.extend([1, 2, 3, 4, 5])\n",
    "print(data)"
   ]
  },
  {
   "cell_type": "markdown",
   "metadata": {
    "id": "bJ4Jr4egfpWc"
   },
   "source": [
    "#### 삭제"
   ]
  },
  {
   "cell_type": "code",
   "execution_count": null,
   "metadata": {},
   "outputs": [],
   "source": [
    "\n"
   ]
  },
  {
   "cell_type": "code",
   "execution_count": null,
   "metadata": {},
   "outputs": [],
   "source": [
    "print(list(range(5)))\n"
   ]
  },
  {
   "cell_type": "code",
   "execution_count": null,
   "metadata": {},
   "outputs": [],
   "source": [
    "print(list(range(2, 6)))"
   ]
  },
  {
   "cell_type": "code",
   "execution_count": null,
   "metadata": {},
   "outputs": [],
   "source": [
    "#3번째 데이터를 삭제해주세요 \n",
    "num_list = list(range(0, 100, 10))\n",
    "\n",
    "#3번째 데이터를 삭제해주세요(del 이용) \n",
    "num_list.del(2)\n",
    "print(num_list)\n",
    "#7번째 데이터를 삭제해주세요(remove 이용)\n",
    "num_list.remove(70)\n",
    "print(num_list)\n",
    "#뒤에서 3번째부터 끝까지 데이터를 삭제해주세요 \n",
    "print(num_list[-3:])\n",
    "num_list[-3:] = []\n",
    "print(num_list)\n"
   ]
  },
  {
   "cell_type": "markdown",
   "metadata": {
    "id": "3jw2_iXffpWc"
   },
   "source": [
    "예제. 게시물 코드\n",
    "\n",
    "```\n",
    "post_data = [\"ID001\", \"ID002\", \"ID003\", \"ID004\", \"ID005\"]\n",
    "```"
   ]
  },
  {
   "cell_type": "code",
   "execution_count": null,
   "metadata": {},
   "outputs": [],
   "source": [
    "#\"ID003\" 데이터에 오류가 생겼다 \n",
    "#오류가 생긴 데이터는 삭제하고 error_data에 담아주세요 \n",
    "post_data = [\"ID001\", \"ID002\", \"ID003\", \"ID004\", \"ID005\"]\n",
    "pop_data = post_data.pop(2)\n",
    "print(pop_data)\n",
    "print(post_data)\n",
    "\n",
    "error_data =[]\n",
    "error_data.append((pop_data))\n",
    "print(error_data)"
   ]
  },
  {
   "cell_type": "markdown",
   "metadata": {},
   "source": [
    "# 삽입"
   ]
  },
  {
   "cell_type": "code",
   "execution_count": null,
   "metadata": {},
   "outputs": [],
   "source": [
    "num_list = [10, 20, 30]\n",
    "print(num_list)\n",
    "num_list.insert(2,40)\n",
    "print(num_list)"
   ]
  },
  {
   "cell_type": "code",
   "execution_count": null,
   "metadata": {},
   "outputs": [],
   "source": [
    "num_list = list(range(0, 100, 10))\n",
    "print(num_list)"
   ]
  },
  {
   "cell_type": "code",
   "execution_count": null,
   "metadata": {
    "id": "TTVODq-pfpWc"
   },
   "outputs": [],
   "source": []
  },
  {
   "cell_type": "markdown",
   "metadata": {
    "id": "nzrEdhKXfpWc"
   },
   "source": [
    "## 4) 튜플(Tuple)"
   ]
  },
  {
   "cell_type": "markdown",
   "metadata": {},
   "source": [
    "# 리스트[] 튜플 ()"
   ]
  },
  {
   "cell_type": "code",
   "execution_count": null,
   "metadata": {},
   "outputs": [],
   "source": [
    "#빈 튜플 만들기 \n",
    "data = ()\n",
    "#튜플 데이터의 타입 출력하기 \n",
    "print(type(data))\n"
   ]
  },
  {
   "cell_type": "markdown",
   "metadata": {
    "id": "k6jpRXd8fpWc"
   },
   "source": [
    "### (1) 표현"
   ]
  },
  {
   "cell_type": "code",
   "execution_count": null,
   "metadata": {},
   "outputs": [],
   "source": [
    "# 요소가 1개인 튜플 만들기 (데이터 10)\n",
    "data = (10)\n",
    "print(data)\n",
    "print(type(data))\n",
    "\n",
    "data = (10,)  \n",
    "print(data)\n",
    "print(type(data))"
   ]
  },
  {
   "cell_type": "code",
   "execution_count": null,
   "metadata": {},
   "outputs": [],
   "source": [
    "fruits = ( \"사과\", \"포도\", \"오렌지\")\n",
    "fruits[1] = '멜론'\n",
    "print(fruits)"
   ]
  },
  {
   "cell_type": "code",
   "execution_count": null,
   "metadata": {},
   "outputs": [],
   "source": [
    "del fruits[-1]\n",
    "print(fruits)"
   ]
  },
  {
   "cell_type": "markdown",
   "metadata": {
    "id": "bCZYM_W2fpWc"
   },
   "source": [
    "## 5) 딕셔너리(Dictionary)"
   ]
  },
  {
   "cell_type": "markdown",
   "metadata": {
    "id": "iQ82NPU1fpWc"
   },
   "source": [
    "### (1) 표현"
   ]
  },
  {
   "cell_type": "code",
   "execution_count": null,
   "metadata": {},
   "outputs": [],
   "source": [
    "mydict ={}\n",
    "print((mydict))\n",
    "print(type(mydict))"
   ]
  },
  {
   "cell_type": "code",
   "execution_count": null,
   "metadata": {},
   "outputs": [],
   "source": [
    "data = [[\"홍길동\", 68], [\"최수연\", 44], [\"김철수\", 90]]\n",
    "print(data)"
   ]
  },
  {
   "cell_type": "code",
   "execution_count": null,
   "metadata": {},
   "outputs": [],
   "source": [
    "score_data1 = {\n",
    "    \"이름\": [\"홍길동\", \"최수연\", \"김철수\"]\n",
    "    \"성적\": [68, 44, 90]\n",
    "}\n",
    "score_data2 = {\n",
    "            \"홍길동\": 68, \"최수연\":44 \"김철수\" : 90\n",
    "}\n",
    "print(score_data1)\n",
    "print(score_data2)\n"
   ]
  },
  {
   "cell_type": "code",
   "execution_count": null,
   "metadata": {},
   "outputs": [],
   "source": []
  },
  {
   "cell_type": "markdown",
   "metadata": {
    "id": "hakTc3rjfpWc"
   },
   "source": [
    "### (2) 딕셔너리 다루기"
   ]
  },
  {
   "cell_type": "code",
   "execution_count": null,
   "metadata": {},
   "outputs": [],
   "source": []
  },
  {
   "cell_type": "markdown",
   "metadata": {
    "id": "s2HGu7VwfpWc"
   },
   "source": [
    "예제. 날씨 데이터\n",
    "* 'city'키 'Busan'으로 수정하기\n",
    "* 미세먼지(`pm10`)키 추가하기 (값: 34)\n",
    "* 'forecast' 키에 ['Rainy', 'Rainy'] 추가하기\n",
    "\n",
    "```\n",
    "weather_data = {\n",
    "    'city': 'Seoul',\n",
    "    'temperature': 22.5,  # 섭씨\n",
    "    'humidity': 60,       # 상대 습도(%)\n",
    "    'forecast': ['Sunny', 'Cloudy', 'Rainy']  # 3일 예보\n",
    "}\n",
    "```"
   ]
  },
  {
   "cell_type": "code",
   "execution_count": null,
   "metadata": {
    "id": "w3-dH_uTfpWc"
   },
   "outputs": [],
   "source": [
    " weather_data = {\n",
    "     'city': 'Seoul',\n",
    "     'temperature': 22.5,  # 섭씨\n",
    "     'humidity': 60,       # 상대 습도(%)\n",
    "     'forecast': ['Sunny', 'Cloudy', 'Rainy']  # 3일 예보\n",
    "     }\n"
   ]
  },
  {
   "cell_type": "code",
   "execution_count": null,
   "metadata": {},
   "outputs": [],
   "source": [
    "print(weather_data[\"city\"])\n",
    "weather_data[\"city\"] = \"Busan\"\n",
    "print(weather_data)"
   ]
  },
  {
   "cell_type": "code",
   "execution_count": null,
   "metadata": {},
   "outputs": [],
   "source": [
    "#미세먼지 ('pm10')키 추가하기 \n",
    "weather_data[\"pm10\"] = 34\n",
    "print(weather_data) \n"
   ]
  },
  {
   "cell_type": "code",
   "execution_count": null,
   "metadata": {},
   "outputs": [],
   "source": [
    "weather_data = {\n",
    "    'city': 'Seoul',\n",
    "    'temperature': 22.5,  # 섭씨\n",
    "    'humidity': 60,       # 상대 습도(%)\n",
    "    'forecast': ['Sunny', 'Cloudy', 'Rainy']  # 3일 예보\n",
    "}\n",
    "\n",
    "print(weather_data[\"city\"])\n",
    "weather_data[\"city\"] = \"Busan\"\n",
    "print(weather_data[\"city\"])\n",
    "print(weather_data)           # 문제 1\n",
    "\n",
    "weather_data[\"PM10\"] = 34\n",
    "print(weather_data)           # 문제 2\n",
    "\n",
    "print(weather_data[\"forecast\"])\n",
    "\n",
    "weather_data[\"forecast\"].append([\"Rainy\", \"Rainy\"])\n",
    "print(weather_data)\n",
    "weather_data[\"forecast\"].extend([\"Rainy\", \"Rainy\"])\n",
    "print(weather_data)           # 문제 3"
   ]
  },
  {
   "cell_type": "markdown",
   "metadata": {
    "id": "T1fOPGfffpWd"
   },
   "source": [
    "### (3) 관련 메서드"
   ]
  },
  {
   "cell_type": "code",
   "execution_count": null,
   "metadata": {},
   "outputs": [],
   "source": []
  },
  {
   "cell_type": "markdown",
   "metadata": {
    "id": "xyFqV-k4fpWd"
   },
   "source": [
    "#### 조회"
   ]
  },
  {
   "cell_type": "code",
   "execution_count": null,
   "metadata": {},
   "outputs": [],
   "source": [
    "student = {\"name\": \"홍길동\", \"age\":28, \"height\":187.3, \"score\":88}\n"
   ]
  },
  {
   "cell_type": "code",
   "execution_count": null,
   "metadata": {},
   "outputs": [],
   "source": [
    "#모든 키 조회\n",
    "print(list(student.keys()))\n",
    "#모든 값 조회\n",
    "print(type(student.keys()))\n",
    "\n",
    "print(list(student.value()))\n",
    "#모든 (키,값) 조회\n",
    "print(type(student.value()))\n",
    "#모든 (키,값) 조회\n",
    "print(list(student.items()))\n",
    "#모든 (키,값) 조회\n",
    "print(type(student.items()))"
   ]
  },
  {
   "cell_type": "code",
   "execution_count": null,
   "metadata": {},
   "outputs": [],
   "source": [
    "student = {\"name\": \"홍길동\", \"age\":28, \"height\":187.3, \"score\":88}\n",
    "#name키에 대한 값을 추출해주세요 \n",
    "print(student.get(\"weight\", \"없음\"))\n",
    "#모든 값 조회\n"
   ]
  },
  {
   "cell_type": "code",
   "execution_count": null,
   "metadata": {},
   "outputs": [],
   "source": [
    "\"weight\" in student\n"
   ]
  },
  {
   "cell_type": "code",
   "execution_count": null,
   "metadata": {},
   "outputs": [],
   "source": [
    "\"weight\" not in student"
   ]
  },
  {
   "cell_type": "code",
   "execution_count": null,
   "metadata": {},
   "outputs": [],
   "source": [
    "#student 딕셔너리 a라는 키가 있으면 값을 A라고 바꿔주고 아니라면 a라는 키를 값을 \"\"으로 만들어주세요 \n",
    "#student_list의 학생이 student_dict에 없으면 \"참석\"을 값으로 딕셔너리의 키를 등록하라\n",
    "student_list = [\"홍길동\", \"김예지\", \"김사랑\"]\n",
    "student_dict = {\"김예지\":\"참석\"}\n",
    "for student in student_list :\n",
    "    if student not in student_dict: \n",
    "        student_dict[student] = \"참석\"\n",
    "\n",
    "print(student_dict)       "
   ]
  },
  {
   "cell_type": "code",
   "execution_count": null,
   "metadata": {},
   "outputs": [],
   "source": [
    "student_dict3 = {'김유정': '참석', '장찬영': '참석', '황화인': '참석'}\n",
    "student_dict3.clear()\n",
    "print(student_dict3)"
   ]
  },
  {
   "cell_type": "markdown",
   "metadata": {
    "id": "NXLo6tYHfpWd"
   },
   "source": [
    "#### 삭제"
   ]
  },
  {
   "cell_type": "markdown",
   "metadata": {
    "id": "l8y7gZ80fpWd"
   },
   "source": [
    "## 6) 집합"
   ]
  },
  {
   "cell_type": "markdown",
   "metadata": {
    "id": "NsSD5UjdfpWd"
   },
   "source": [
    "### (1) 표현"
   ]
  },
  {
   "cell_type": "code",
   "execution_count": null,
   "metadata": {},
   "outputs": [],
   "source": [
    "set_list = []\n",
    "myset = set(set_list)\n",
    "\n",
    "print(myset)\n",
    "print(type(myset))\n",
    "\n"
   ]
  },
  {
   "cell_type": "code",
   "execution_count": null,
   "metadata": {},
   "outputs": [],
   "source": [
    "#중복 제거 \n",
    "set_list = []\n",
    "myset = set(set_list)\n",
    "\n",
    "print(myset)\n",
    "print(myset(type))"
   ]
  },
  {
   "cell_type": "markdown",
   "metadata": {
    "id": "zJqGcyIbfpWd"
   },
   "source": [
    "예제. 이메일 중복 제거\n",
    "\n",
    "```\n",
    "emails = ['user1@example.com','user2@example.com','user1@example.com','user3@example.com','user2@example.com']\n",
    "```"
   ]
  },
  {
   "cell_type": "code",
   "execution_count": null,
   "metadata": {
    "id": "lmsklubGfpWd"
   },
   "outputs": [],
   "source": [
    "emails = ['user1@example.com','user2@example.com','user1@example.com','user3@example.com','user2@example.com']\n",
    "print(set(emails))"
   ]
  },
  {
   "cell_type": "code",
   "execution_count": null,
   "metadata": {},
   "outputs": [],
   "source": [
    "emails_set =set(email)\n",
    "print(set(0))"
   ]
  },
  {
   "cell_type": "code",
   "execution_count": null,
   "metadata": {},
   "outputs": [],
   "source": [
    "myset = {1, 2, 3, 4, 5}\n",
    "print(myset)\n",
    "\n",
    "#6추가하기 \n",
    "myset.add(6)\n",
    "print(myset)\n",
    "\n",
    "#5추가하기 \n",
    "myset.add(5)\n",
    "print(myset)\n"
   ]
  },
  {
   "cell_type": "code",
   "execution_count": null,
   "metadata": {},
   "outputs": [],
   "source": [
    "#4, 7, 8 추가하기 \n",
    "myset.update({4,7,8})\n",
    "print(myset)"
   ]
  },
  {
   "cell_type": "markdown",
   "metadata": {
    "id": "u3-4s3VbfpWe"
   },
   "source": [
    "### (2) 요소 추가/제거"
   ]
  },
  {
   "cell_type": "markdown",
   "metadata": {
    "id": "-IE7WahqfpWe"
   },
   "source": [
    "#### 추가"
   ]
  },
  {
   "cell_type": "code",
   "execution_count": null,
   "metadata": {
    "id": "ijOunSBsfzf-"
   },
   "outputs": [],
   "source": []
  },
  {
   "cell_type": "code",
   "execution_count": null,
   "metadata": {},
   "outputs": [],
   "source": [
    "myset.remove(5)\n",
    "print(myset)"
   ]
  },
  {
   "cell_type": "markdown",
   "metadata": {
    "id": "inOzgS8ofpWe"
   },
   "source": [
    "#### 제거"
   ]
  },
  {
   "cell_type": "code",
   "execution_count": null,
   "metadata": {},
   "outputs": [],
   "source": [
    "#remove, discard\n",
    "#5 제거하기 \n",
    "# 9 제거하기 \n",
    "myset.remove(5) \n",
    "print(myset)\n",
    "\n"
   ]
  },
  {
   "cell_type": "code",
   "execution_count": null,
   "metadata": {},
   "outputs": [],
   "source": [
    "#myset.remove(9) \n",
    "#print(myset) 오류발생"
   ]
  },
  {
   "cell_type": "code",
   "execution_count": null,
   "metadata": {},
   "outputs": [],
   "source": [
    "myset.discard(9)\n",
    "print(myset)  #9가 없음에도 제거했다고 인식 "
   ]
  },
  {
   "cell_type": "markdown",
   "metadata": {},
   "source": [
    "<img src='https://www.dropbox.com/scl/fi/o9jjkizgbclwemi9wot4h/.png?rlkey=35o0zu24jc99ggiv9ex3pukqf&st=f69cko7q&dl=1' width=30%>"
   ]
  },
  {
   "cell_type": "markdown",
   "metadata": {},
   "source": []
  },
  {
   "cell_type": "code",
   "execution_count": null,
   "metadata": {},
   "outputs": [],
   "source": [
    "set1 = {\"A\", \"B\", \"C\", \"D\", \"F\", \"G\"}\n",
    "set2 = {\"A\", \"B\", \"F\", \"H\"}\n",
    "\n",
    "#합집합(요가 또는 헬스 / 요가 OR 헬스 \n",
    "set_insert\n",
    "\n",
    "#차집합"
   ]
  },
  {
   "cell_type": "code",
   "execution_count": null,
   "metadata": {
    "vscode": {
     "languageId": "html"
    }
   },
   "outputs": [],
   "source": [
    "in_likesport = {\"농구\", \"축구\", \"야구\", \"배구\", \"MMA\"}\n",
    "chan_likesport = {\"배구\", \"수영\", \"양궁\", \"축구\", \"클라이밍\"}\n",
    "\n",
    "합집합\n",
    "set_union = in_likesport | chan_likesport\n",
    "print(set_union)\n",
    "set_union2 = in_likesport.union(chan_likesport)\n",
    "print(set_union2)\n",
    "\n",
    "교집합\n",
    "set_union = in_likesport & chan_likesport\n",
    "print(set_union)\n",
    "set_union2 = in_likesport.intersection(chan_likesport)\n",
    "print(set_union2)\n",
    "\n",
    "차집합 (위 - 아래)\n",
    "set_union = in_likesport - chan_likesport\n",
    "print(set_union)\n",
    "set_union2 = in_likesport.difference(chan_likesport)\n",
    "print(set_union2)\n",
    "\n",
    "차집합 (아래 - 위)\n",
    "set_union = chan_likesport - in_likesport\n",
    "print(set_union)\n",
    "set_union2 = chan_likesport.difference(in_likesport)\n",
    "print(set_union2)\n",
    "﻿\n"
   ]
  },
  {
   "cell_type": "markdown",
   "metadata": {},
   "source": []
  },
  {
   "cell_type": "markdown",
   "metadata": {
    "id": "N7sDYPgkfpWe"
   },
   "source": [
    "### (3) 연산"
   ]
  },
  {
   "cell_type": "markdown",
   "metadata": {
    "id": "WCXq_UaJfpWe"
   },
   "source": [
    "## 7) 불"
   ]
  },
  {
   "cell_type": "code",
   "execution_count": null,
   "metadata": {},
   "outputs": [],
   "source": []
  },
  {
   "cell_type": "code",
   "execution_count": null,
   "metadata": {},
   "outputs": [],
   "source": [
    "swich =True\n",
    "login =False"
   ]
  },
  {
   "cell_type": "code",
   "execution_count": null,
   "metadata": {},
   "outputs": [],
   "source": [
    "login = True\n",
    "if login == True: \n",
    "    print(\"환영합니다\")"
   ]
  },
  {
   "cell_type": "code",
   "execution_count": null,
   "metadata": {},
   "outputs": [],
   "source": [
    "\n",
    "login = False\n",
    "if login == True :\n",
    "    print(\"어서오십시오. 공주님.\")\n",
    "else :\n",
    "    print(\"저리 썩 물러가지 못할까\")"
   ]
  },
  {
   "cell_type": "code",
   "execution_count": null,
   "metadata": {},
   "outputs": [],
   "source": [
    "visit = {\"A\", \"B\", \"C\", \"H\", \"I\"}\n",
    "\n",
    "if \"G\" not in visit :\n",
    "    print(\"참석하지 않으셨습니다.\")"
   ]
  },
  {
   "cell_type": "code",
   "execution_count": null,
   "metadata": {},
   "outputs": [],
   "source": [
    "visit = {\"A\", \"B\", \"C\", \"H\", \"I\"}\n",
    "\n",
    "if \"김유정\" not in visit:\n",
    "        print(\"앵그리버드\")"
   ]
  },
  {
   "cell_type": "code",
   "execution_count": null,
   "metadata": {},
   "outputs": [],
   "source": [
    "#a == b 같다\n",
    "#a != b 같지 않다 \n",
    "\n",
    "#AB A|B 이때 |는 or\n",
    "(T: True, F: False)\n",
    "A B A|B(A or B)\n",
    "T T  T\n",
    "T F  T\n",
    "F T  T\n",
    "F F  F\n",
    "\n"
   ]
  },
  {
   "cell_type": "markdown",
   "metadata": {},
   "source": [
    "# 제어문"
   ]
  },
  {
   "cell_type": "markdown",
   "metadata": {},
   "source": [
    "## 1.조건문"
   ]
  },
  {
   "cell_type": "code",
   "execution_count": null,
   "metadata": {},
   "outputs": [],
   "source": [
    "#미성년자 판단하기(만 18세이상)\n",
    "#나이를 age라는 변수로 만들고 age가 19 미만이면. \"미성년자입니다\"\n",
    "age = 16 \n",
    "if age < 19:\n",
    "    print(\"미성년자입니다\")"
   ]
  },
  {
   "cell_type": "code",
   "execution_count": null,
   "metadata": {},
   "outputs": [],
   "source": [
    "#나이를 age라는 변수로 만들고 age가 19 미만이면. \"미성년자입니다\" 라고 출력하고, 이상이면 \"성인입니다\"라고 출력\n",
    "age = 59\n",
    "if age < 19:\n",
    "    print(\"미성년자입니다\")\n",
    "else:\n",
    "\n",
    "    print(\"성인입니다\")"
   ]
  },
  {
   "cell_type": "code",
   "execution_count": null,
   "metadata": {},
   "outputs": [],
   "source": [
    "\n"
   ]
  },
  {
   "cell_type": "code",
   "execution_count": null,
   "metadata": {},
   "outputs": [],
   "source": [
    "#등급에 따라 메시지 출력하기 \n",
    "#A-Perfect, B-Excellent, C-Good, 그 외 노력하세요라고 출력해주세요 \n",
    "a = \"A-Perfect\"\n",
    "b = \"B-Excellent\"\n",
    "c = \"C-Good\"\n",
    "grade =[a,b,c]\n",
    "cheerup = \"노력하세요\"\n",
    "if \"노력하세요\"not in grade  \n",
    "print(cheerup)"
   ]
  },
  {
   "cell_type": "code",
   "execution_count": null,
   "metadata": {},
   "outputs": [],
   "source": [
    "grade = 'C'\n",
    "if grade =='A':\n",
    "    print(\"Perfect\")\n",
    "elif grade =='B':\n",
    "    print(\"B-Excellent\")\n",
    "elif grade =='C'\n",
    "    print('C-Good')\n",
    "else:\n",
    "    print(\"Unknown grade\")  # optional: A, B, C가 아니면 여기 실행\n"
   ]
  },
  {
   "cell_type": "code",
   "execution_count": null,
   "metadata": {},
   "outputs": [],
   "source": [
    "##화면에 Hello World 문자열을 출력하세요.\n",
    "print('Hello World')"
   ]
  },
  {
   "cell_type": "code",
   "execution_count": null,
   "metadata": {},
   "outputs": [],
   "source": [
    "#화면에 Mary's cosmetics을 출력하세요. (중간에 '가 있음에 주의하세요)\n",
    "print(\"Mary's cosmetics\")"
   ]
  },
  {
   "cell_type": "code",
   "execution_count": 2,
   "metadata": {},
   "outputs": [
    {
     "name": "stdout",
     "output_type": "stream",
     "text": [
      "신씨가 소리질렀다. \"도둑이야\".\n"
     ]
    }
   ],
   "source": [
    "#화면에 아래 문장을 출력하세요. (중간에 \"가 있음에 주의하세요.)\n",
    "print('신씨가 소리질렀다. \"도둑이야\".')"
   ]
  },
  {
   "cell_type": "code",
   "execution_count": 4,
   "metadata": {},
   "outputs": [
    {
     "name": "stdout",
     "output_type": "stream",
     "text": [
      "C:\\Windows\n"
     ]
    }
   ],
   "source": [
    "#화면에 C:\\Windows를 출력하세요.\n",
    "print(\"C:\\Windows\")"
   ]
  },
  {
   "cell_type": "code",
   "execution_count": null,
   "metadata": {},
   "outputs": [
    {
     "name": "stdout",
     "output_type": "stream",
     "text": [
      "안녕하세요.\n",
      "만나서\t\t반갑습니다.\n"
     ]
    }
   ],
   "source": [
    "#다음 코드를 실행해보고 \\t와 \\n의 역할을 설명해보세요.\n",
    "print(\"안녕하세요.\\n만나서\\t\\t반갑습니다.\") \n",
    "#\\n은 줄바꿈 #\\t 는 탭\n"
   ]
  },
  {
   "cell_type": "code",
   "execution_count": 15,
   "metadata": {},
   "outputs": [
    {
     "name": "stdout",
     "output_type": "stream",
     "text": [
      "오늘은일요일\n"
     ]
    }
   ],
   "source": [
    "#print 함수에 두 개의 단어를 입력한 예제입니다. 아래 코드의 출력 결과를 예상해봅시다.\n",
    "print (\"오늘은\"\"일요일\") # 오늘은, 일요일 "
   ]
  },
  {
   "cell_type": "code",
   "execution_count": 17,
   "metadata": {},
   "outputs": [
    {
     "name": "stdout",
     "output_type": "stream",
     "text": [
      "naver;kakao;sk;samsung\n"
     ]
    }
   ],
   "source": [
    "#print() 함수를 사용하여 다음과 같이 출력하세요.\n",
    "print(\"naver;kakao;sk;samsung\")\n",
    "\n"
   ]
  },
  {
   "cell_type": "code",
   "execution_count": 18,
   "metadata": {},
   "outputs": [
    {
     "name": "stdout",
     "output_type": "stream",
     "text": [
      "naver/kakao/sk/samsung\n"
     ]
    }
   ],
   "source": [
    "#print() 함수를 사용하여 다음과 같이 출력하세요.\n",
    "print(\"naver/kakao/sk/samsung\")"
   ]
  },
  {
   "cell_type": "code",
   "execution_count": null,
   "metadata": {},
   "outputs": [
    {
     "name": "stdout",
     "output_type": "stream",
     "text": [
      "first second\n"
     ]
    }
   ],
   "source": [
    "#다음 코드를 수정하여 줄바꿈이 없이 출력하세요. (힌트: end='') print 함수는 두 번 사용합니다. \n",
    "#세미콜론 (;)은 한줄에 여러 개의 명령을 작성하기 위해 사용합니다.\n",
    "print(\"first\",end = \" \")\n",
    "print(\"second\") "
   ]
  },
  {
   "cell_type": "code",
   "execution_count": null,
   "metadata": {},
   "outputs": [
    {
     "name": "stdout",
     "output_type": "stream",
     "text": [
      "1\n"
     ]
    }
   ],
   "source": [
    "#5/3의 결과를 화면에 출력하세요.\n",
    "print(int(1.888)) #인트사용시에는 반올림 없음"
   ]
  },
  {
   "cell_type": "code",
   "execution_count": 58,
   "metadata": {},
   "outputs": [
    {
     "name": "stdout",
     "output_type": "stream",
     "text": [
      "500000\n"
     ]
    }
   ],
   "source": [
    "#삼성전자라는 변수로 50,000원을 바인딩해보세요. 삼성전자 주식 10주를 보유하고 있을 때 총 평가금액을 출력하세요.\n",
    "stock = 50_000 #주식가격 \n",
    "share = 10  #주식수\n",
    "print(stock*share)"
   ]
  },
  {
   "cell_type": "code",
   "execution_count": null,
   "metadata": {},
   "outputs": [],
   "source": [
    "#다음 표는 삼성전자의 일부 투자정보입니다. 변수를 사용해서 시가총액, 현재가, PER 등을 바인딩해보세요.\n",
    "시가총액 = 298\n",
    "stock = 50_000 #주식가격 \n",
    "per = 15.79"
   ]
  },
  {
   "cell_type": "code",
   "execution_count": 81,
   "metadata": {},
   "outputs": [
    {
     "name": "stdout",
     "output_type": "stream",
     "text": [
      "hello!python\n",
      "hello ! python\n",
      "hello! python\n"
     ]
    }
   ],
   "source": [
    "#변수 s와 t에는 각각 문자열이 바인딩 되어있습니다.\n",
    "s = \"hello\"\n",
    "t = \"python\"\n",
    "print(s, end =\"\")\n",
    "print(\"!\", end =\"\")\n",
    "print(t)\n",
    "print(s, \"!\", t)\n",
    "print(s+\"!\",t)"
   ]
  },
  {
   "cell_type": "code",
   "execution_count": null,
   "metadata": {},
   "outputs": [
    {
     "name": "stdout",
     "output_type": "stream",
     "text": [
      "8\n",
      "12\n"
     ]
    }
   ],
   "source": [
    "#아래 코드의 실행 결과를 예상해보세요.\n",
    "# 2 + 2 * 3  =8\n",
    "print((2+2*3)) #이때 웬만하면 (2*3)\n",
    "print(((2+2)*3))  "
   ]
  },
  {
   "cell_type": "code",
   "execution_count": null,
   "metadata": {},
   "outputs": [],
   "source": [
    "#type() 함수는 데이터 타입을 판별합니다. 변수 a에는 128 숫자가 바인딩돼 있어 type 함수가 int (정수)형임을 알려줍니다.\n",
    "#a = 128\n",
    "#print (type(a))\n",
    "#<class 'int'>\n",
    "#아래 변수에 바인딩된 값의 타입을 판별해보세요.\n",
    "\n",
    "#>> a = \"132\""
   ]
  },
  {
   "cell_type": "markdown",
   "metadata": {},
   "source": []
  },
  {
   "cell_type": "code",
   "execution_count": null,
   "metadata": {},
   "outputs": [
    {
     "name": "stdout",
     "output_type": "stream",
     "text": [
      "720\n"
     ]
    }
   ],
   "source": [
    "#num_str = \"720\"\n",
    "num_str = int(\"720\")\n",
    "type(num_str)\n",
    "print(num_str)"
   ]
  },
  {
   "cell_type": "code",
   "execution_count": null,
   "metadata": {},
   "outputs": [
    {
     "name": "stdout",
     "output_type": "stream",
     "text": [
      "2\n"
     ]
    }
   ],
   "source": [
    "a = 1 \n",
    "a = a + 1 \n",
    "print(a)\n"
   ]
  },
  {
   "cell_type": "code",
   "execution_count": null,
   "metadata": {},
   "outputs": [
    {
     "name": "stdout",
     "output_type": "stream",
     "text": [
      "100\n"
     ]
    }
   ],
   "source": [
    "#정수 100을 문자열 '100'으로 변환해보세요.\n",
    "a = 100\n",
    "a = str(a)  #결과값이 도출되어도 a는 정수다 \n",
    "print(a)\n"
   ]
  },
  {
   "cell_type": "code",
   "execution_count": null,
   "metadata": {},
   "outputs": [],
   "source": [
    "a = 1 \n",
    "b = str(a)\n",
    "c = b  #b와 c는 정수"
   ]
  },
  {
   "cell_type": "code",
   "execution_count": 114,
   "metadata": {},
   "outputs": [
    {
     "name": "stdout",
     "output_type": "stream",
     "text": [
      "15.79\n"
     ]
    }
   ],
   "source": [
    "#018 문자열을 실수로 변환\n",
    "#문자열 \"15.79\"를 실수(float) 타입으로 변환해보세요.\n",
    "a = \"15.79\"\n",
    "a = float(a)\n",
    "print(a)\n",
    "\n"
   ]
  },
  {
   "cell_type": "code",
   "execution_count": 120,
   "metadata": {},
   "outputs": [
    {
     "name": "stdout",
     "output_type": "stream",
     "text": [
      "2025 2024 2023\n",
      "2024\n"
     ]
    }
   ],
   "source": [
    "#019 문자열을 정수로 변환\n",
    "#year라는 변수가 문자열 타입의 연도를 바인딩하고 있습니다. 이를 정수로 변환한 후 최근 3년의 연도를 화면에 출력해보세요.\n",
    "\n",
    "year = \"2025\"\n",
    "year = int(year)\n",
    "print(year, year-1, year-2)\n",
    "year =year-1\n",
    "print(year)\n",
    "\n"
   ]
  },
  {
   "cell_type": "code",
   "execution_count": null,
   "metadata": {},
   "outputs": [
    {
     "name": "stdout",
     "output_type": "stream",
     "text": [
      "1166016\n"
     ]
    }
   ],
   "source": [
    "# 020 파이썬 계산\n",
    "#에이컨이 월 48,584원에 무이자 36개월의 조건으로 홈쇼핑에서 판매되고 있습니다. 총 금액은 계산한 후 이를 화면에 출력해보세요. (변수사용하기)\n",
    "price = 48_584\n",
    "fax = 36 #무이자 36개월 \n",
    "fax = 24 \n",
    "result = price*fax\n",
    "print(result)"
   ]
  },
  {
   "cell_type": "code",
   "execution_count": 5,
   "metadata": {},
   "outputs": [
    {
     "name": "stdout",
     "output_type": "stream",
     "text": [
      "p t\n"
     ]
    }
   ],
   "source": [
    "#021 문자열 인덱싱\n",
    "#letters가 바인딩하는 문자열에서 첫번째와 세번째 문자를 출력하세요.\n",
    "\n",
    "letters = 'python'\n",
    "print(letters[0], letters[2])"
   ]
  },
  {
   "cell_type": "code",
   "execution_count": 9,
   "metadata": {},
   "outputs": [
    {
     "name": "stdout",
     "output_type": "stream",
     "text": [
      "2210\n"
     ]
    }
   ],
   "source": [
    "#자동차 번호가 다음과 같을 때 뒤에 4자리만 출력하세요.\n",
    "\n",
    "license_plate = \"24가 2210\" \n",
    "print(license_plate[4:9])"
   ]
  },
  {
   "cell_type": "code",
   "execution_count": 13,
   "metadata": {},
   "outputs": [
    {
     "name": "stdout",
     "output_type": "stream",
     "text": [
      "홀 홀 홀\n"
     ]
    }
   ],
   "source": [
    "#아래의 문자열에서 '홀' 만 출력하세요.\n",
    "\n",
    "string = \"홀짝홀짝홀짝\"\n",
    "print(string[0],string[2],string[4])  "
   ]
  },
  {
   "cell_type": "code",
   "execution_count": 17,
   "metadata": {},
   "outputs": [
    {
     "name": "stdout",
     "output_type": "stream",
     "text": [
      "NOHTYP\n"
     ]
    }
   ],
   "source": [
    "#문자열을 거꾸로 뒤집어 출력하세요.\n",
    "\n",
    "string = \"PYTHON\"\n",
    "reversed_string = string[::-1]\n",
    "print(reversed_string)"
   ]
  },
  {
   "cell_type": "code",
   "execution_count": 19,
   "metadata": {},
   "outputs": [
    {
     "name": "stdout",
     "output_type": "stream",
     "text": [
      "영찬장\n"
     ]
    }
   ],
   "source": [
    "str = \"장찬영\"\n",
    "reversed_str = str[::-1]\n",
    "print(reversed_str)"
   ]
  },
  {
   "cell_type": "code",
   "execution_count": 22,
   "metadata": {},
   "outputs": [
    {
     "name": "stdout",
     "output_type": "stream",
     "text": [
      "01072367744\n"
     ]
    }
   ],
   "source": [
    "##025 문자열 치환\n",
    "#아래의 전화번호에서 하이푼 ('-')을 제거하고 출력하세요.\n",
    "phone_num = \"010-7236-7744\"\n",
    "print(phone_num.replace(\"-\",\"\"))"
   ]
  },
  {
   "cell_type": "code",
   "execution_count": null,
   "metadata": {},
   "outputs": [
    {
     "name": "stdout",
     "output_type": "stream",
     "text": [
      "27너9859\n"
     ]
    }
   ],
   "source": [
    "car_num =\"27너 9859\"\n",
    "print(car_num.replace(\" \",\"\")) #공백제거 "
   ]
  },
  {
   "cell_type": "code",
   "execution_count": null,
   "metadata": {},
   "outputs": [
    {
     "name": "stdout",
     "output_type": "stream",
     "text": [
      "01072367744\n"
     ]
    }
   ],
   "source": [
    "#26\n",
    "phone_num = \"010 7236 7744\"\n",
    "\n",
    "print(phone_num.replace(\" \",\"\"))"
   ]
  },
  {
   "cell_type": "code",
   "execution_count": null,
   "metadata": {},
   "outputs": [
    {
     "name": "stdout",
     "output_type": "stream",
     "text": [
      "k r\n"
     ]
    }
   ],
   "source": [
    "#027 문자열 다루기\n",
    "#url 에 저장된 웹 페이지 주소에서 도메인을 출력하세요.\n",
    "\n",
    "url = \"http://sharebook.kr\"\n",
    "print(url[-2],url[-1])"
   ]
  },
  {
   "cell_type": "code",
   "execution_count": 34,
   "metadata": {},
   "outputs": [
    {
     "name": "stdout",
     "output_type": "stream",
     "text": [
      "kr\n"
     ]
    }
   ],
   "source": [
    "url = \"http://sharebook.kr\"\n",
    "print(url[-2:])"
   ]
  },
  {
   "cell_type": "code",
   "execution_count": 44,
   "metadata": {},
   "outputs": [],
   "source": [
    "#028 문자열은 immutable\n",
    "#아래 코드의 실행 결과를 예상해보세요.\n",
    "\n",
    "#lang = 'python'\n",
    "#lang[0] = 'P'\n",
    "#print(lang)    #Python으로 출력된다(x) \n",
    "\n"
   ]
  },
  {
   "cell_type": "code",
   "execution_count": 48,
   "metadata": {},
   "outputs": [
    {
     "name": "stdout",
     "output_type": "stream",
     "text": [
      "Python\n"
     ]
    }
   ],
   "source": [
    "lang = 'python'\n",
    "\n",
    "print(lang.replace(\"p\",\"P\"))"
   ]
  },
  {
   "cell_type": "code",
   "execution_count": 49,
   "metadata": {},
   "outputs": [
    {
     "name": "stdout",
     "output_type": "stream",
     "text": [
      "Abcdfe2A354A32A\n"
     ]
    }
   ],
   "source": [
    "string = 'abcdfe2a354a32a'\n",
    "print(string.replace(\"a\",\"A\"))"
   ]
  },
  {
   "cell_type": "code",
   "execution_count": null,
   "metadata": {},
   "outputs": [],
   "source": [
    "#30 replace 메서드\n",
    "# 아래 코드의 실행 결과를 예상해보세요.\n",
    "\n",
    "# >> string = 'abcd'\n",
    "# >> string.replace('b', 'B')\n",
    "# >> print(string)    문자열 변환식 aBcd로 변환 "
   ]
  },
  {
   "cell_type": "code",
   "execution_count": null,
   "metadata": {},
   "outputs": [],
   "source": [
    "# 031 문자열 합치기\n",
    "# 아래 코드의 실행 결과를 예상해보세요.\n",
    "\n",
    "# >> a = \"3\"\n",
    "# >> b = \"4\"\n",
    "# >> print(a + b) \"34\""
   ]
  },
  {
   "cell_type": "code",
   "execution_count": 50,
   "metadata": {},
   "outputs": [
    {
     "name": "stdout",
     "output_type": "stream",
     "text": [
      "HiHiHi\n"
     ]
    }
   ],
   "source": [
    "print(\"Hi\" * 3)"
   ]
  },
  {
   "cell_type": "code",
   "execution_count": 52,
   "metadata": {},
   "outputs": [
    {
     "name": "stdout",
     "output_type": "stream",
     "text": [
      "--------------------------------------------------------------------------------\n"
     ]
    }
   ],
   "source": [
    "print(\"-\"*80)"
   ]
  },
  {
   "cell_type": "code",
   "execution_count": 60,
   "metadata": {},
   "outputs": [
    {
     "name": "stdout",
     "output_type": "stream",
     "text": [
      "python java python java python java python java \n"
     ]
    }
   ],
   "source": [
    "# 034 문자열 곱하기\n",
    "# 변수에 다음과 같은 문자열이 바인딩되어 있습니다.\n",
    "\n",
    "t1 = 'python'\n",
    "t2 = 'java'\n",
    "print((t1+\" \"+t2+\" \")*4)"
   ]
  },
  {
   "cell_type": "code",
   "execution_count": 97,
   "metadata": {},
   "outputs": [
    {
     "name": "stdout",
     "output_type": "stream",
     "text": [
      "이름 : 김민수 나이 : 10\n",
      "이름 : 이철희 나이 : 13\n",
      "이름 : 이철희 별명 : 13\n"
     ]
    }
   ],
   "source": [
    "name1 = \"김민수\" \n",
    "age1 = 10\n",
    "name2 = \"이철희\"\n",
    "age2 = 13\n",
    "\n",
    "\n",
    "\n",
    "# 이름: 김민수 나이: 10\n",
    "# 이름: 이철희 나이: 13\n",
    "\n",
    "print(\"이름 : %s 나이 : %d\" % (\"김민수\", 10))\n",
    "print(\"이름 : %s 나이 : %d\" % (\"이철희\", 13))\n",
    "print(\"이름 : %s 별명 : %s\" % (\"이철희\", 13))\n"
   ]
  },
  {
   "cell_type": "code",
   "execution_count": 65,
   "metadata": {},
   "outputs": [
    {
     "name": "stdout",
     "output_type": "stream",
     "text": [
      "이름 : 김서영 별명 : 감자\n"
     ]
    }
   ],
   "source": [
    "name3 = \"김서영\"\n",
    "nickname = \"감자\"\n",
    "\n",
    "print(\"이름 : %s 별명 : %s\" % (\"김서영\", \"감자\"))"
   ]
  },
  {
   "cell_type": "code",
   "execution_count": 74,
   "metadata": {},
   "outputs": [
    {
     "name": "stdout",
     "output_type": "stream",
     "text": [
      "이름 : 김민수 age : 13\n"
     ]
    }
   ],
   "source": [
    "print(f\"이름 : {name1} age : {age2}\")"
   ]
  },
  {
   "cell_type": "code",
   "execution_count": 82,
   "metadata": {},
   "outputs": [
    {
     "name": "stdout",
     "output_type": "stream",
     "text": [
      "이름 : 김민수, 나이 : 10\n"
     ]
    }
   ],
   "source": [
    "print(\"이름 : {}, 나이 : {}\".format(name1, age1))"
   ]
  },
  {
   "cell_type": "code",
   "execution_count": 107,
   "metadata": {},
   "outputs": [
    {
     "name": "stdout",
     "output_type": "stream",
     "text": [
      "이름 : 김서영 별명 : 감자\n",
      "이름 : 김서영 별명 : 감자\n",
      "이름 : 김서영 별명 : 감자 \n"
     ]
    }
   ],
   "source": [
    "name3 : \"김서영\"\n",
    "nickname: \"감자\"\n",
    "print(f\"이름 : {name3} 별명 : {nickname}\")\n",
    "print(\"이름 : {} 별명 : {}\" .format(name3, nickname))\n",
    "print(\"이름 : %s 별명 : %s \" % (\"김서영\", \"감자\"))"
   ]
  },
  {
   "cell_type": "code",
   "execution_count": 131,
   "metadata": {},
   "outputs": [
    {
     "name": "stdout",
     "output_type": "stream",
     "text": [
      "5969782550\n"
     ]
    },
    {
     "data": {
      "text/plain": [
       "int"
      ]
     },
     "execution_count": 131,
     "metadata": {},
     "output_type": "execute_result"
    }
   ],
   "source": [
    "상장주식수 = \"5,969,782,550\"\n",
    "replace_share = 상장주식수.replace(\",\", \"\")\n",
    "num = int(replace_share)   \n",
    "print(num)\n",
    "type(num)"
   ]
  },
  {
   "cell_type": "code",
   "execution_count": 132,
   "metadata": {},
   "outputs": [
    {
     "name": "stdout",
     "output_type": "stream",
     "text": [
      "삼성전자\n"
     ]
    }
   ],
   "source": [
    "data = \"   삼성전자    \"\n",
    "data1 = data.strip()\n",
    "print(data1)"
   ]
  },
  {
   "cell_type": "code",
   "execution_count": 133,
   "metadata": {},
   "outputs": [
    {
     "name": "stdout",
     "output_type": "stream",
     "text": [
      "BTC_KRW\n"
     ]
    }
   ],
   "source": [
    "\n",
    "ticker = \"btc_krw\"\n",
    "upper = ticker.upper()\n",
    "print(upper)"
   ]
  },
  {
   "cell_type": "code",
   "execution_count": 135,
   "metadata": {},
   "outputs": [
    {
     "name": "stdout",
     "output_type": "stream",
     "text": [
      "Bad\n"
     ]
    }
   ],
   "source": [
    "a = 'bad'\n",
    "a = a.capitalize()\n",
    "print(a)"
   ]
  },
  {
   "cell_type": "code",
   "execution_count": 140,
   "metadata": {},
   "outputs": [
    {
     "data": {
      "text/plain": [
       "True"
      ]
     },
     "execution_count": 140,
     "metadata": {},
     "output_type": "execute_result"
    }
   ],
   "source": [
    "file_name = \"보고서.xlsx\"\n",
    "file_name.endswith(\"xlsx\")\n"
   ]
  },
  {
   "cell_type": "code",
   "execution_count": 143,
   "metadata": {},
   "outputs": [
    {
     "data": {
      "text/plain": [
       "True"
      ]
     },
     "execution_count": 143,
     "metadata": {},
     "output_type": "execute_result"
    }
   ],
   "source": [
    "file_name = \"보고서.xlsx\"\n",
    "file_name.endswith((\"xlsx\", \"xls\")) # 둘중 하나로 끝나니 트루 "
   ]
  },
  {
   "cell_type": "code",
   "execution_count": 144,
   "metadata": {},
   "outputs": [
    {
     "data": {
      "text/plain": [
       "True"
      ]
     },
     "execution_count": 144,
     "metadata": {},
     "output_type": "execute_result"
    }
   ],
   "source": [
    "file_name = \"2020_보고서.xlsx\"\n",
    "file_name.startswith((\"2020\"))"
   ]
  },
  {
   "cell_type": "code",
   "execution_count": 145,
   "metadata": {},
   "outputs": [
    {
     "name": "stdout",
     "output_type": "stream",
     "text": [
      "True\n"
     ]
    }
   ],
   "source": [
    "file_name = \"2020_보고서.xlsx\"\n",
    "print(file_name.startswith(\"2020\"))"
   ]
  },
  {
   "cell_type": "code",
   "execution_count": 166,
   "metadata": {},
   "outputs": [
    {
     "data": {
      "text/plain": [
       "['btc', 'krw']"
      ]
     },
     "execution_count": 166,
     "metadata": {},
     "output_type": "execute_result"
    }
   ],
   "source": [
    "ticker = \"btc_krw\"\n",
    "ticker.split(\"_\")\n"
   ]
  },
  {
   "cell_type": "code",
   "execution_count": 153,
   "metadata": {},
   "outputs": [
    {
     "data": {
      "text/plain": [
       "['2020', '05', '01']"
      ]
     },
     "execution_count": 153,
     "metadata": {},
     "output_type": "execute_result"
    }
   ],
   "source": [
    "data = \"2020-05-01\"\n",
    "data.split(\"-\")\n"
   ]
  },
  {
   "cell_type": "code",
   "execution_count": 169,
   "metadata": {},
   "outputs": [
    {
     "data": {
      "text/plain": [
       "'   039490'"
      ]
     },
     "execution_count": 169,
     "metadata": {},
     "output_type": "execute_result"
    }
   ],
   "source": [
    "data = \"   039490     \"\n",
    "data.rstrip()"
   ]
  },
  {
   "cell_type": "code",
   "execution_count": 174,
   "metadata": {},
   "outputs": [
    {
     "name": "stdout",
     "output_type": "stream",
     "text": [
      "['닥터 스트레인지', '스플릿', '럭키', '배트맨']\n"
     ]
    }
   ],
   "source": [
    "movie_rank = [\"닥터 스트레인지\", \"스플릿\", \"럭키\"]\n",
    "movie_rank.append(\"배트맨\")\n",
    "print(movie_rank)\n"
   ]
  },
  {
   "cell_type": "code",
   "execution_count": 179,
   "metadata": {},
   "outputs": [
    {
     "name": "stdout",
     "output_type": "stream",
     "text": [
      "['닥터 스트레인지', '슈퍼맨 ', '슈퍼맨 ', '슈퍼맨 ', '슈퍼맨 ', '슈퍼맨 ', '스플릿', '럭키', '배트맨']\n"
     ]
    }
   ],
   "source": [
    "movie_rank.insert(1, \"슈퍼맨 \")\n",
    "print(movie_rank)"
   ]
  },
  {
   "cell_type": "code",
   "execution_count": 180,
   "metadata": {},
   "outputs": [
    {
     "name": "stdout",
     "output_type": "stream",
     "text": [
      "['닥터 스트레인지', '슈퍼맨 ', '스플릿', '럭키']\n"
     ]
    }
   ],
   "source": [
    "movie_rank = [\"닥터 스트레인지\", \"스플릿\", \"럭키\"]\n",
    "\n",
    "if \"슈퍼맨 \" not in movie_rank:\n",
    "    movie_rank.insert(1, \"슈퍼맨 \")\n",
    "\n",
    "print(movie_rank)"
   ]
  },
  {
   "cell_type": "code",
   "execution_count": 184,
   "metadata": {},
   "outputs": [
    {
     "name": "stdout",
     "output_type": "stream",
     "text": [
      "['닥터 스트레인지', '슈퍼맨 ', '스플릿']\n"
     ]
    }
   ],
   "source": [
    "del movie_rank[3]\n",
    "print(movie_rank)"
   ]
  },
  {
   "cell_type": "code",
   "execution_count": 185,
   "metadata": {},
   "outputs": [
    {
     "name": "stdout",
     "output_type": "stream",
     "text": [
      "['닥터 스트레인지', '슈퍼맨 ', '스플릿', '배트맨']\n"
     ]
    }
   ],
   "source": [
    "movie_rank.append(\"배트맨\")\n",
    "print(movie_rank)"
   ]
  },
  {
   "cell_type": "code",
   "execution_count": 188,
   "metadata": {},
   "outputs": [
    {
     "name": "stdout",
     "output_type": "stream",
     "text": [
      "['닥터 스트레인지', '슈퍼맨 ']\n"
     ]
    }
   ],
   "source": [
    "del movie_rank[2:]\n",
    "print(movie_rank)"
   ]
  },
  {
   "cell_type": "code",
   "execution_count": 194,
   "metadata": {},
   "outputs": [
    {
     "name": "stdout",
     "output_type": "stream",
     "text": [
      "['C', 'C++', 'JAVA', 'Python', 'Go', 'C#']\n"
     ]
    }
   ],
   "source": [
    "lang1 = [\"C\", \"C++\", \"JAVA\"]\n",
    "lang2 = [\"Python\", \"Go\", \"C#\"]\n",
    "\n",
    "lang = lang1 + lang2\n",
    "print(lang)"
   ]
  },
  {
   "cell_type": "code",
   "execution_count": null,
   "metadata": {},
   "outputs": [
    {
     "name": "stdout",
     "output_type": "stream",
     "text": [
      "7\n",
      "max:  7\n"
     ]
    }
   ],
   "source": [
    "nums = [1, 2, 3, 4, 5, 6, 7] \n",
    "\n",
    "print(max(nums))\n",
    "print(\"max: \", max(nums))\n"
   ]
  },
  {
   "cell_type": "code",
   "execution_count": 201,
   "metadata": {},
   "outputs": [
    {
     "name": "stdout",
     "output_type": "stream",
     "text": [
      "1\n",
      "min :  1\n"
     ]
    }
   ],
   "source": [
    "nums = [1, 2, 3, 4, 5, 6, 7]\n",
    "print(min(nums))\n",
    "print(\"min : \", min(nums))"
   ]
  },
  {
   "cell_type": "code",
   "execution_count": 202,
   "metadata": {},
   "outputs": [
    {
     "name": "stdout",
     "output_type": "stream",
     "text": [
      "15\n"
     ]
    }
   ],
   "source": [
    "nums = [1, 2, 3, 4, 5]\n",
    "print(sum(nums))"
   ]
  },
  {
   "cell_type": "code",
   "execution_count": 204,
   "metadata": {},
   "outputs": [
    {
     "name": "stdout",
     "output_type": "stream",
     "text": [
      "2\n",
      "12\n"
     ]
    }
   ],
   "source": [
    "cook = [\"피자\", \"김밥\", \"만두\", \"양념치킨\", \"족발\", \"피자\", \"김치만두\", \"쫄면\", \"소시지\", \"라면\", \"팥빙수\", \"김치전\"]\n",
    "print(cook.count(\"피자\"))\n",
    "print(len(cook))"
   ]
  },
  {
   "cell_type": "code",
   "execution_count": 205,
   "metadata": {},
   "outputs": [
    {
     "name": "stdout",
     "output_type": "stream",
     "text": [
      "3.0\n"
     ]
    }
   ],
   "source": [
    "nums = [1, 2, 3, 4, 5]\n",
    "nums_average = sum(nums) / len(nums)\n",
    "print(nums_average)"
   ]
  },
  {
   "cell_type": "code",
   "execution_count": 206,
   "metadata": {},
   "outputs": [
    {
     "name": "stdout",
     "output_type": "stream",
     "text": [
      "[100, 130, 140, 150, 160, 170]\n"
     ]
    }
   ],
   "source": [
    "price = ['20180728', 100, 130, 140, 150, 160, 170]\n",
    "print(price[1:])"
   ]
  },
  {
   "cell_type": "code",
   "execution_count": 214,
   "metadata": {},
   "outputs": [
    {
     "name": "stdout",
     "output_type": "stream",
     "text": [
      "[1, 3, 5, 7, 9]\n",
      "[1, 4, 7, 10]\n",
      "[3, 5, 7, 9]\n"
     ]
    }
   ],
   "source": [
    "nums = [1, 2, 3, 4, 5, 6, 7, 8, 9, 10]\n",
    "print(nums[0::2])\n",
    "print(nums[::3])\n",
    "print(nums[2::2])"
   ]
  },
  {
   "cell_type": "code",
   "execution_count": 216,
   "metadata": {},
   "outputs": [
    {
     "name": "stdout",
     "output_type": "stream",
     "text": [
      "[2, 4, 6, 8, 10]\n"
     ]
    }
   ],
   "source": [
    "nums = [1, 2, 3, 4, 5, 6, 7, 8, 9, 10]\n",
    "print(nums[1::2])"
   ]
  },
  {
   "cell_type": "code",
   "execution_count": 113,
   "metadata": {},
   "outputs": [
    {
     "ename": "SyntaxError",
     "evalue": "invalid syntax. Maybe you meant '==' or ':=' instead of '='? (705722838.py, line 3)",
     "output_type": "error",
     "traceback": [
      "\u001b[1;36m  Cell \u001b[1;32mIn[113], line 3\u001b[1;36m\u001b[0m\n\u001b[1;33m    if num1 = num2:\u001b[0m\n\u001b[1;37m       ^\u001b[0m\n\u001b[1;31mSyntaxError\u001b[0m\u001b[1;31m:\u001b[0m invalid syntax. Maybe you meant '==' or ':=' instead of '='?\n"
     ]
    }
   ],
   "source": [
    "num1 = 1 \n",
    "num2 = 2 \n",
    "if num1 = num2:\n",
    "    print(\"같다\")\n",
    "else: \n",
    "    print(\"다르다\")"
   ]
  },
  {
   "cell_type": "markdown",
   "metadata": {},
   "source": [
    "튜플"
   ]
  },
  {
   "cell_type": "code",
   "execution_count": 219,
   "metadata": {},
   "outputs": [
    {
     "name": "stdout",
     "output_type": "stream",
     "text": [
      "<class 'tuple'>\n"
     ]
    }
   ],
   "source": [
    "my_variable = ()\n",
    "print(type(my_variable))"
   ]
  },
  {
   "cell_type": "code",
   "execution_count": 220,
   "metadata": {},
   "outputs": [
    {
     "name": "stdout",
     "output_type": "stream",
     "text": [
      "<class 'tuple'>\n"
     ]
    }
   ],
   "source": [
    "movie_rank = (\"스플릿\", \"배트맨\", \"스파이더맨\")\n",
    "print(type(movie_rank))"
   ]
  },
  {
   "cell_type": "code",
   "execution_count": 221,
   "metadata": {},
   "outputs": [
    {
     "name": "stdout",
     "output_type": "stream",
     "text": [
      "<class 'int'>\n"
     ]
    }
   ],
   "source": [
    "num = (1)\n",
    "print(type(num))"
   ]
  },
  {
   "cell_type": "code",
   "execution_count": null,
   "metadata": {},
   "outputs": [],
   "source": [
    "# t = (1, 2, 3)\n",
    "# t[0] = 'a'\n",
    "# Traceback (most recent call last):\n",
    "#   File \"<pyshell#46>\", line 1, in <module>\n",
    "#     t[0] = 'a'\n",
    "# TypeError: 'tuple' object does not support item assignment\n",
    "\n",
    "\n",
    "#튜플은 수정불가능 "
   ]
  },
  {
   "cell_type": "code",
   "execution_count": 222,
   "metadata": {},
   "outputs": [
    {
     "name": "stdout",
     "output_type": "stream",
     "text": [
      "<class 'tuple'>\n"
     ]
    }
   ],
   "source": [
    "t = 1, 2, 3, 4 \n",
    "\n",
    "print(type(t))\n",
    "#튜플은 괄호 없이도 사용가능하다 보통은 직관성을 위해 괄호를 씌운다 "
   ]
  },
  {
   "cell_type": "code",
   "execution_count": 226,
   "metadata": {},
   "outputs": [
    {
     "name": "stdout",
     "output_type": "stream",
     "text": [
      "<class 'list'>\n"
     ]
    }
   ],
   "source": [
    "interest = ('삼성전자', 'LG전자', 'SK Hynix')\n",
    "data = list(interest)\n",
    "\n",
    "print(type(data))"
   ]
  },
  {
   "cell_type": "code",
   "execution_count": 232,
   "metadata": {},
   "outputs": [
    {
     "name": "stdout",
     "output_type": "stream",
     "text": [
      "apple banana cake\n"
     ]
    }
   ],
   "source": [
    "temp = ('apple', 'banana', 'cake')\n",
    "a, b, c = temp\n",
    "print(a, b, c)"
   ]
  },
  {
   "cell_type": "code",
   "execution_count": null,
   "metadata": {},
   "outputs": [
    {
     "name": "stdout",
     "output_type": "stream",
     "text": [
      "(2, 4, 6, 8, 10, 12, 14, 16, 18, 20, 22, 24, 26, 28, 30, 32, 34, 36, 38, 40, 42, 44, 46, 48, 50, 52, 54, 56, 58, 60, 62, 64, 66, 68, 70, 72, 74, 76, 78, 80, 82, 84, 86, 88, 90, 92, 94, 96, 98)\n",
      "(1, 3, 5, 7, 9, 11, 13, 15, 17, 19, 21, 23, 25, 27, 29, 31, 33, 35, 37, 39, 41, 43, 45, 47, 49)\n"
     ]
    }
   ],
   "source": [
    "#1 부터 99까지의 정수 중 짝수만 저장된 튜플을 생성하라.\n",
    "data = tuple(range(2, 100, 2))\n",
    "print(data)\n",
    "data = tuple(range(1, 50, 2)) #시작 수 어디까지 -> n-1 \n",
    "print(data)"
   ]
  },
  {
   "cell_type": "code",
   "execution_count": 239,
   "metadata": {},
   "outputs": [
    {
     "name": "stdout",
     "output_type": "stream",
     "text": [
      "1\n",
      "[2, 3, 4, 5]\n"
     ]
    }
   ],
   "source": [
    "a, b, *c = (0, 1, 2, 3, 4, 5)\n",
    "a = 0 \n",
    "print(b)\n",
    "print(c)"
   ]
  },
  {
   "cell_type": "code",
   "execution_count": 244,
   "metadata": {},
   "outputs": [
    {
     "name": "stdout",
     "output_type": "stream",
     "text": [
      "[8.8, 8.9, 8.7, 9.2, 9.3, 9.7, 9.9, 9.5]\n"
     ]
    }
   ],
   "source": [
    "scores = [8.8, 8.9, 8.7, 9.2, 9.3, 9.7, 9.9, 9.5, 7.8, 9.4]\n",
    "*valid_scores, _, _ = scores\n",
    "print(valid_scores)\n"
   ]
  },
  {
   "cell_type": "code",
   "execution_count": 247,
   "metadata": {},
   "outputs": [
    {
     "name": "stdout",
     "output_type": "stream",
     "text": [
      "[8.7, 9.2, 9.3, 9.7, 9.9, 9.5, 7.8, 9.4]\n"
     ]
    }
   ],
   "source": [
    "scores = [8.8, 8.9, 8.7, 9.2, 9.3, 9.7, 9.9, 9.5, 7.8, 9.4]\n",
    "_, _, *valid_scores = scores\n",
    "print(valid_scores)"
   ]
  },
  {
   "cell_type": "code",
   "execution_count": 248,
   "metadata": {},
   "outputs": [
    {
     "name": "stdout",
     "output_type": "stream",
     "text": [
      "[8.9, 8.7, 9.2, 9.3, 9.7, 9.9, 9.5, 7.8]\n"
     ]
    }
   ],
   "source": [
    "scores = [8.8, 8.9, 8.7, 9.2, 9.3, 9.7, 9.9, 9.5, 7.8, 9.4]\n",
    "_, *valid_scores, _ = scores\n",
    "print(valid_scores)"
   ]
  },
  {
   "cell_type": "code",
   "execution_count": 252,
   "metadata": {},
   "outputs": [
    {
     "name": "stdout",
     "output_type": "stream",
     "text": [
      "{'메로나': 1000, '폴라포': 1200, '빵빠레': 1800}\n",
      "{'메로나': 1500, '폴라포': 1200, '빵빠레': 1800}\n",
      "{'메로나': 1500, '폴라포': 1200, '빵빠레': 1800, '죠스바': 1200, '월드콘': 1500}\n"
     ]
    }
   ],
   "source": [
    "ice = {\"메로나\": 1000, \"폴라포\": 1200, \"빵빠레\": 1800}\n",
    "print(ice)\n",
    "\n",
    "ice = {\"메로나\" :1500, \"폴라포\" : 1200, \"빵빠레\" : 1800}\n",
    "print(ice)\n",
    "\n",
    "ice[\"죠스바\"] = 1200\n",
    "ice[\"월드콘\"] = 1500\n",
    "\n",
    "print(ice)"
   ]
  },
  {
   "cell_type": "code",
   "execution_count": 253,
   "metadata": {},
   "outputs": [
    {
     "name": "stdout",
     "output_type": "stream",
     "text": [
      "{'메로나': 1000, '폴로포': 1200, '빵빠레': 1800, '죠스바': 1200, '월드콘': 1500}\n"
     ]
    }
   ],
   "source": [
    "ice = {'메로나': 1000,\n",
    "       '폴로포': 1200,\n",
    "       '빵빠레': 1800,\n",
    "       '죠스바': 1200,\n",
    "       '월드콘': 1500}\n",
    "ice[\"메로나\"] = 1000\n",
    "print(ice)"
   ]
  },
  {
   "cell_type": "code",
   "execution_count": 254,
   "metadata": {},
   "outputs": [
    {
     "name": "stdout",
     "output_type": "stream",
     "text": [
      "메로나 가격:  1000\n"
     ]
    }
   ],
   "source": [
    "print(\"메로나 가격: \", ice[\"메로나\"])"
   ]
  },
  {
   "cell_type": "code",
   "execution_count": 256,
   "metadata": {},
   "outputs": [
    {
     "name": "stdout",
     "output_type": "stream",
     "text": [
      "월드콘 가격 :  1500\n"
     ]
    }
   ],
   "source": [
    "print((\"월드콘 가격 : \"), ice[\"월드콘\"])"
   ]
  },
  {
   "cell_type": "code",
   "execution_count": 258,
   "metadata": {},
   "outputs": [
    {
     "name": "stdout",
     "output_type": "stream",
     "text": [
      "{'메로나': 1300, '폴로포': 1200, '빵빠레': 1800, '죠스바': 1200, '월드콘': 1500}\n"
     ]
    }
   ],
   "source": [
    "ice[\"메로나\"] = 1300\n",
    "print(ice)"
   ]
  },
  {
   "cell_type": "code",
   "execution_count": 260,
   "metadata": {},
   "outputs": [
    {
     "name": "stdout",
     "output_type": "stream",
     "text": [
      "{'폴로포': 1200, '빵빠레': 1800, '죠스바': 1200, '월드콘': 1500}\n"
     ]
    }
   ],
   "source": [
    "del ice[\"메로나\"]\n",
    "print(ice)"
   ]
  },
  {
   "cell_type": "code",
   "execution_count": 263,
   "metadata": {},
   "outputs": [
    {
     "name": "stdout",
     "output_type": "stream",
     "text": [
      "{'폴라포': 1200, '빵빠레': 1800, '월드콘': 1500, '메로나': 1000, '누가바': 1200}\n"
     ]
    }
   ],
   "source": [
    "icecream = {'폴라포': 1200, '빵빠레': 1800, '월드콘': 1500, '메로나': 1000}\n",
    "icecream['누가바'] = 1200 \n",
    "print(icecream)"
   ]
  },
  {
   "cell_type": "code",
   "execution_count": 265,
   "metadata": {},
   "outputs": [
    {
     "name": "stdout",
     "output_type": "stream",
     "text": [
      "{'메로나': [300, 20], '비비빅': [400, 3], '죠스바': [250, 100]}\n"
     ]
    }
   ],
   "source": [
    " inventory = {'메로나' : [300, 20],  '비비빅' : [400, 3], '죠스바' :[250, 100] }\n",
    "print(inventory)"
   ]
  },
  {
   "cell_type": "code",
   "execution_count": 276,
   "metadata": {},
   "outputs": [
    {
     "name": "stdout",
     "output_type": "stream",
     "text": [
      "메로나가격 : 300 원\n",
      "300 원\n"
     ]
    }
   ],
   "source": [
    "print(\"메로나가격 :\", inventory[\"메로나\"][0], \"원\")\n",
    "print(inventory[\"메로나\"][0], \"원\")"
   ]
  },
  {
   "cell_type": "code",
   "execution_count": 287,
   "metadata": {},
   "outputs": [
    {
     "name": "stdout",
     "output_type": "stream",
     "text": [
      "{'메로나': [300, 20], '비비빅': [400, 3], '죠스바': [250, 100], '월드콘': [500, 7]}\n"
     ]
    }
   ],
   "source": [
    "inventory = {\"메로나\": [300, 20],\n",
    "              \"비비빅\": [400, 3],\n",
    "              \"죠스바\": [250, 100]}\n",
    "inventory[\"월드콘\"] = [500, 7]\n",
    "print(inventory)"
   ]
  },
  {
   "cell_type": "code",
   "execution_count": 299,
   "metadata": {},
   "outputs": [
    {
     "name": "stdout",
     "output_type": "stream",
     "text": [
      "[1200, 1200, 1800, 1500, 1000]\n",
      "6700\n"
     ]
    }
   ],
   "source": [
    "icecream = {'탱크보이': 1200, '폴라포': 1200, '빵빠레': 1800, '월드콘': 1500, '메로나': 1000}\n",
    "price = list(icecream.values()) #value 에 꼭 s 붙일것 \n",
    "print(price)\n",
    "print(sum(price))"
   ]
  },
  {
   "cell_type": "code",
   "execution_count": 296,
   "metadata": {},
   "outputs": [
    {
     "name": "stdout",
     "output_type": "stream",
     "text": [
      "['탱크보이', '폴라포', '빵빠레', '월드콘', '메로나']\n"
     ]
    }
   ],
   "source": [
    "icecream = {'탱크보이': 1200, '폴라포': 1200, '빵빠레': 1800, '월드콘': 1500, '메로나': 1000}\n",
    "keys = list(icecream.keys())\n",
    "print(keys)"
   ]
  },
  {
   "cell_type": "code",
   "execution_count": 318,
   "metadata": {},
   "outputs": [
    {
     "name": "stdout",
     "output_type": "stream",
     "text": [
      "{'탱크보이': 1200, '폴라포': 1200, '빵빠레': 1800, '월드콘': 1500, '메로나': 1000, '설레임': 3000, '팥빙수': 2700, '아맛나': 1000}\n"
     ]
    }
   ],
   "source": [
    "newproduct ={'팥빙수':2700, '아맛나':1000 }\n",
    "icecream.update(newproduct)\n",
    "print(icecream)"
   ]
  },
  {
   "cell_type": "code",
   "execution_count": 320,
   "metadata": {},
   "outputs": [
    {
     "name": "stdout",
     "output_type": "stream",
     "text": [
      "{'탱크보이': 1200, '폴라포': 1200, '빵빠레': 1800, '월드콘': 1500, '메로나': 1000, '설레임': 3000, '팥빙수': 2700, '아맛나': 1000}\n"
     ]
    }
   ],
   "source": [
    "\n",
    "newproduct = {'설레임': 3000}\n",
    "icecream.update(newproduct)\n",
    "\n",
    "print(icecream)"
   ]
  },
  {
   "cell_type": "code",
   "execution_count": 323,
   "metadata": {},
   "outputs": [
    {
     "name": "stdout",
     "output_type": "stream",
     "text": [
      "{'apple': 300, 'pear': 250, 'peach': 400}\n"
     ]
    }
   ],
   "source": [
    "keys = (\"apple\", \"pear\", \"peach\")\n",
    "vals = (300, 250, 400)\n",
    "\n",
    "result = dict(zip(keys, vals))\n",
    "print(result)"
   ]
  },
  {
   "cell_type": "code",
   "execution_count": 329,
   "metadata": {},
   "outputs": [
    {
     "name": "stdout",
     "output_type": "stream",
     "text": [
      "{'09/05': 10500, '09/06': 10300, '09/07': 10100, '09/08': 10800, '09/09': 11000}\n"
     ]
    }
   ],
   "source": [
    "date = ['09/05', '09/06', '09/07', '09/08', '09/09']\n",
    "close_price = [10500, 10300, 10100, 10800, 11000]\n",
    "\n",
    "close_table = dict(zip(date, close_price))\n",
    "print(close_table)"
   ]
  },
  {
   "cell_type": "markdown",
   "metadata": {},
   "source": [
    "bool \n",
    "True, False  "
   ]
  },
  {
   "cell_type": "code",
   "execution_count": 330,
   "metadata": {},
   "outputs": [
    {
     "name": "stdout",
     "output_type": "stream",
     "text": [
      "False\n"
     ]
    }
   ],
   "source": [
    "print(3 == 5)"
   ]
  },
  {
   "cell_type": "code",
   "execution_count": 332,
   "metadata": {},
   "outputs": [
    {
     "name": "stdout",
     "output_type": "stream",
     "text": [
      "True\n",
      "True\n"
     ]
    }
   ],
   "source": [
    "#103 아래 코드의 출력 결과를 예상하라\n",
    "\n",
    "print(3 < 5)\n",
    "\n",
    "#104 아래 코드의 결과를 예상하라.\n",
    "\n",
    "x = 4\n",
    "print(1 < x < 5)"
   ]
  },
  {
   "cell_type": "code",
   "execution_count": null,
   "metadata": {},
   "outputs": [
    {
     "name": "stdout",
     "output_type": "stream",
     "text": [
      "True\n"
     ]
    }
   ],
   "source": [
    "print ((3 == 3) and (4 != 3)) # != 다르다라는 뜻 "
   ]
  },
  {
   "cell_type": "code",
   "execution_count": 334,
   "metadata": {},
   "outputs": [
    {
     "name": "stdout",
     "output_type": "stream",
     "text": [
      "False\n"
     ]
    }
   ],
   "source": [
    "print(3 != 3 )"
   ]
  },
  {
   "cell_type": "code",
   "execution_count": null,
   "metadata": {},
   "outputs": [
    {
     "name": "stdout",
     "output_type": "stream",
     "text": [
      "False\n"
     ]
    }
   ],
   "source": [
    "print(3 >= 4)\n",
    "# print(3 <= 4) 안됨 \n"
   ]
  },
  {
   "cell_type": "code",
   "execution_count": 336,
   "metadata": {},
   "outputs": [],
   "source": [
    "if 4 < 3:\n",
    "    print(\"Hello World\")"
   ]
  },
  {
   "cell_type": "code",
   "execution_count": 337,
   "metadata": {},
   "outputs": [
    {
     "name": "stdout",
     "output_type": "stream",
     "text": [
      "Hello World\n"
     ]
    }
   ],
   "source": [
    "if 4 > 3:\n",
    "    print(\"Hello World\")"
   ]
  },
  {
   "cell_type": "code",
   "execution_count": 338,
   "metadata": {},
   "outputs": [
    {
     "name": "stdout",
     "output_type": "stream",
     "text": [
      "Hi, there.\n"
     ]
    }
   ],
   "source": [
    "if 4 < 3:\n",
    "    print(\"Hello World.\")\n",
    "else:\n",
    "    print(\"Hi, there.\")"
   ]
  },
  {
   "cell_type": "code",
   "execution_count": 341,
   "metadata": {},
   "outputs": [
    {
     "name": "stdout",
     "output_type": "stream",
     "text": [
      "3\n",
      "4\n"
     ]
    }
   ],
   "source": [
    "if False :\n",
    "    print (\"1\")\n",
    "    print (\"2\")\n",
    "else :\n",
    "    print(\"3\")\n",
    "print(\"4\")"
   ]
  },
  {
   "cell_type": "code",
   "execution_count": 342,
   "metadata": {},
   "outputs": [
    {
     "name": "stdout",
     "output_type": "stream",
     "text": [
      "1\n",
      "2\n",
      "4\n"
     ]
    }
   ],
   "source": [
    "if True :\n",
    "    print (\"1\")\n",
    "    print (\"2\")\n",
    "else :\n",
    "    print(\"3\")\n",
    "print(\"4\")"
   ]
  },
  {
   "cell_type": "code",
   "execution_count": 344,
   "metadata": {},
   "outputs": [
    {
     "name": "stdout",
     "output_type": "stream",
     "text": [
      "안녕하세요안녕하세요\n"
     ]
    }
   ],
   "source": [
    "user = input(\"입력:\")\n",
    "print(user * 2)"
   ]
  },
  {
   "cell_type": "code",
   "execution_count": 359,
   "metadata": {},
   "outputs": [
    {
     "name": "stdout",
     "output_type": "stream",
     "text": [
      "ㅋㅋㅋㅋㅋㅋㅋㅋㅋㅋㅋㅋㅋㅋㅋㅋㅋㅋㅋㅋㅋㅋㅋㅋㅋㅋㅋㅋㅋㅋㅋㅋㅋㅋㅋㅋㅋㅋㅋㅋㅋㅋㅋㅋㅋㅋㅋㅋㅋㅋㅋㅋㅋㅋㅋㅋㅋㅋㅋㅋㅋㅋㅋㅋㅋㅋㅋㅋㅋㅋㅋㅋㅋㅋㅋㅋㅋㅋㅋㅋㅋㅋㅋㅋㅋ\n"
     ]
    }
   ],
   "source": [
    "user = input (\"입력:\")\n",
    "print(user*5\n",
    "      )"
   ]
  },
  {
   "cell_type": "code",
   "execution_count": 362,
   "metadata": {},
   "outputs": [
    {
     "name": "stdout",
     "output_type": "stream",
     "text": [
      "30\n"
     ]
    }
   ],
   "source": [
    "num = input(\"입력\")\n",
    "num = int(num)+10  \n",
    "print(num)"
   ]
  },
  {
   "cell_type": "code",
   "execution_count": 370,
   "metadata": {},
   "outputs": [
    {
     "name": "stdout",
     "output_type": "stream",
     "text": [
      "짝수\n"
     ]
    }
   ],
   "source": [
    "user = input(\"\")\n",
    "if int(user)%2 == 0:\n",
    "    print(\"짝수\")\n",
    "\n",
    "else:\n",
    "    print(\"홀수\")"
   ]
  },
  {
   "cell_type": "code",
   "execution_count": 383,
   "metadata": {},
   "outputs": [
    {
     "name": "stdout",
     "output_type": "stream",
     "text": [
      "255\n"
     ]
    }
   ],
   "source": [
    "#사용자로부터 값을 입력받은 후 해당 값에 20을 더한 값을 출력하라. \n",
    "# 단 사용자가 입력한 값과 20을 더한 계산 값이 255를 초과하는 경우 255를 출력해야 한다.\n",
    "\n",
    "user = input(\"숫자를 입력하세요\")\n",
    "if int(user) + 20 > 255:\n",
    "    print(255)\n",
    "else:\n",
    "    print(num)"
   ]
  },
  {
   "cell_type": "code",
   "execution_count": 397,
   "metadata": {},
   "outputs": [
    {
     "name": "stdout",
     "output_type": "stream",
     "text": [
      "200\n"
     ]
    }
   ],
   "source": [
    "# 114.사용자로부터 하나의 값을 입력받은 후 해당 값에 20을 뺀 값을 출력하라. 단 출력 값의 범위는 0~255이다. \n",
    "# 예를 들어 결괏값이 0보다 작은 값이되는 경우 0을 출력하고 255보다 큰 값이 되는 경우 255를 출력해야 한다.\n",
    "user = input(\"숫자를 입력하세요\")\n",
    "num = int(user)-20\n",
    "if int(num)<0:\n",
    "    print(0) \n",
    "elif int(num)> 255:\n",
    "    print(255)\n",
    "elif int(num)> 0:\n",
    "    print(num)"
   ]
  },
  {
   "cell_type": "code",
   "execution_count": null,
   "metadata": {},
   "outputs": [
    {
     "ename": "SyntaxError",
     "evalue": "leading zeros in decimal integer literals are not permitted; use an 0o prefix for octal integers (2219635977.py, line 1)",
     "output_type": "error",
     "traceback": [
      "\u001b[1;36m  Cell \u001b[1;32mIn[398], line 1\u001b[1;36m\u001b[0m\n\u001b[1;33m    time = 02:00\u001b[0m\n\u001b[1;37m           ^\u001b[0m\n\u001b[1;31mSyntaxError\u001b[0m\u001b[1;31m:\u001b[0m leading zeros in decimal integer literals are not permitted; use an 0o prefix for octal integers\n"
     ]
    }
   ],
   "source": [
    "#사용자로부터 입력 받은 시간이 정각인지 판별하라.\n",
    "time = input(\"현재시간 :\")   #정각\n",
    "if time [-2]\n",
    "현재시간:03:10\n",
    "time = 02:00 \n",
    "\n",
    "현재시간:02:00\n",
    "정각 입니다."
   ]
  },
  {
   "cell_type": "code",
   "execution_count": 405,
   "metadata": {},
   "outputs": [
    {
     "name": "stdout",
     "output_type": "stream",
     "text": [
      "정각이 아닙니다.\n"
     ]
    }
   ],
   "source": [
    "time = input(\"현재시간: \")\n",
    "if time[-2:] == \"00\":\n",
    "    print(\"정각 입니다.\")\n",
    "else:\n",
    "    print(\"정각이 아닙니다.\")"
   ]
  },
  {
   "cell_type": "code",
   "execution_count": 410,
   "metadata": {},
   "outputs": [
    {
     "name": "stdout",
     "output_type": "stream",
     "text": [
      "정답입니다\n"
     ]
    }
   ],
   "source": [
    "fruit = [\"사과\", \"포도\", \"홍시\"]\n",
    "user = input(\"좋아하는 과일은? \")\n",
    "if user in fruit:\n",
    "    print(\"정답입니다\")\n",
    "else: \n",
    "    print(\"오답입니다\")"
   ]
  },
  {
   "cell_type": "code",
   "execution_count": 418,
   "metadata": {},
   "outputs": [
    {
     "name": "stdout",
     "output_type": "stream",
     "text": [
      "투자 경고 종목입니다.\n"
     ]
    }
   ],
   "source": [
    "#  118.투자 경고 종목 리스트가 있을 때 사용자로부터 종목명을 입력 받은 후 해당 종목이 투자 경고 종목이라면 '투자 경고 종목입니다'를 \n",
    "#  아니면 \"투자 경고 종목이 아닙니다.\"를 출력하는 프로그램을 작성하라.\n",
    "warn_investment_list = [\"Microsoft\", \"Google\", \"Naver\", \"Kakao\", \"SAMSUNG\", \"LG\"]\n",
    "invstment = input(\"투자 경고 종목:\")\n",
    "\n",
    "if invstment in warn_investment_list:\n",
    "    print(\"투자 경고 종목입니다.\")\n",
    "else: \n",
    "    print(\"투자 경고 종목이 아닙니다.\")"
   ]
  },
  {
   "cell_type": "code",
   "execution_count": 437,
   "metadata": {},
   "outputs": [
    {
     "name": "stdout",
     "output_type": "stream",
     "text": [
      "오답입니다\n"
     ]
    }
   ],
   "source": [
    "#119 아래와 같이 fruit 딕셔너리가 정의되어 있다. \n",
    "# 사용자가 입력한 값이 딕셔너리 키 (key) 값에 \n",
    "# 포함되었다면 \"정답입니다\"를 아닐 경우 \"오답입니다\" 출력하라.\n",
    "fruit = {\"봄\" : \"딸기\", \"여름\" : \"토마토\", \"가을\" : \"사과\"}\n",
    "user = input(\"제가 좋아하는 계절은:\")\n",
    "\n",
    "if user in fruit.keys(): \n",
    "    print(\"정답입니다\")\n",
    "else:\n",
    "    print(\"오답입니다\")"
   ]
  },
  {
   "cell_type": "code",
   "execution_count": null,
   "metadata": {},
   "outputs": [
    {
     "name": "stdout",
     "output_type": "stream",
     "text": [
      "오답입니다\n"
     ]
    }
   ],
   "source": [
    "fruit = {\"봄\" : \"딸기\", \"여름\" : \"토마토\", \"가을\" : \"사과\"}\n",
    "user = input(\"제가 좋아하는 과일은:\")\n",
    "\n",
    "if user in fruit.values(): \n",
    "    print(\"정답입니다\")\n",
    "else:\n",
    "    print(\"오답입니다\")"
   ]
  },
  {
   "cell_type": "code",
   "execution_count": null,
   "metadata": {},
   "outputs": [
    {
     "name": "stdout",
     "output_type": "stream",
     "text": [
      "aa\n"
     ]
    }
   ],
   "source": [
    "user = input(\" \")\n",
    "if user.islower():\n",
    "    print(user.upper())\n",
    "else:\n",
    "    print(user.lower())"
   ]
  },
  {
   "cell_type": "code",
   "execution_count": 451,
   "metadata": {},
   "outputs": [
    {
     "name": "stdout",
     "output_type": "stream",
     "text": [
      "AA\n"
     ]
    }
   ],
   "source": [
    "user = input(\"소문자 혹은 대문자를 입력하세요\")\n",
    "if user.islower():\n",
    "    print(user.upper())\n",
    "\n",
    "else: \n",
    "    print(user.lower())"
   ]
  },
  {
   "cell_type": "code",
   "execution_count": 455,
   "metadata": {},
   "outputs": [
    {
     "name": "stdout",
     "output_type": "stream",
     "text": [
      "grade is A\n"
     ]
    }
   ],
   "source": [
    "score = input(\"score:\")\n",
    "score = int(score)\n",
    "\n",
    "if 81 <= score <= 100:\n",
    "    print(\"grade is A\")\n",
    "if 61 <= score <= 80:\n",
    "    print(\"grade is B\")\n",
    "if 41 <= score <= 60:\n",
    "    print(\"grade is C\") \n",
    "if 21 <= score <= 40:\n",
    "    print(\"grade is D\")\n",
    "if 0 <= score <= 20:\n",
    "    print(\"grade is E\")"
   ]
  },
  {
   "cell_type": "code",
   "execution_count": 478,
   "metadata": {},
   "outputs": [
    {
     "name": "stdout",
     "output_type": "stream",
     "text": [
      "109.60 원\n",
      "109.60000000000001 원\n"
     ]
    }
   ],
   "source": [
    "환율 = {\n",
    "    \"달러\": 1167,\n",
    "    \"엔\": 1.096,\n",
    "    \"유로\": 1268,\n",
    "    \"위안\": 171\n",
    "}\n",
    "\n",
    "user = input(\"입력: \")  # 예: \"100 달러\"\n",
    "num, currency = user.split()\n",
    "print(f\"{float(num) * 환율[currency]:,.2f} 원\")\n",
    "print(float(num) * 환율[currency], \"원\")\n",
    "  # 환율 적용print(float(num) * 환율[currency], \"원\")"
   ]
  },
  {
   "cell_type": "code",
   "execution_count": 479,
   "metadata": {},
   "outputs": [
    {
     "name": "stdout",
     "output_type": "stream",
     "text": [
      "35,010.00원\n",
      "35010.0 원\n"
     ]
    }
   ],
   "source": [
    "환율 = {\n",
    "    \"달러\": 1167,\n",
    "    \"엔\": 1.096,\n",
    "    \"유로\": 1268,\n",
    "    \"위안\": 171\n",
    "}\n",
    "user = input(\"입력 \")\n",
    "\n",
    "num, currency = user.split()\n",
    "print(f\"{float(num)*환율[currency]:,.2f}원\")\n",
    "print(float(num) * 환율[currency], \"원\")"
   ]
  },
  {
   "cell_type": "code",
   "execution_count": 481,
   "metadata": {},
   "outputs": [
    {
     "name": "stdout",
     "output_type": "stream",
     "text": [
      "345\n"
     ]
    }
   ],
   "source": [
    "num1 = input(\"input number1: \")\n",
    "num2 = input(\"input number2: \")\n",
    "num3 = input(\"input number3: \")\n",
    "num1 = int(num1)\n",
    "num2 = int(num2)\n",
    "num3 = int(num3)\n",
    "\n",
    "if num1 >= num2 and num1 >= num3:\n",
    "    print(num1)\n",
    "\n",
    "if num2 >= num1 and num2 >= num3:\n",
    "    print(num2)\n",
    "else:\n",
    "    print(num3)"
   ]
  },
  {
   "cell_type": "code",
   "execution_count": 485,
   "metadata": {},
   "outputs": [
    {
     "name": "stdout",
     "output_type": "stream",
     "text": [
      "당신은 알 수 없음 사용자입니다.\n"
     ]
    }
   ],
   "source": [
    "number = input(\"번호를 입력하세요 \")\n",
    "num = number.split(\"-\")[0]\n",
    "if number == \"011\":\n",
    "    com = \"SKT\"\n",
    "if number == \"016\":\n",
    "    com = \"KT\"\n",
    "if number == \"019\":\n",
    "    com = \"LGU\"\n",
    "else:\n",
    "    com = \"알 수 없음\"\n",
    "\n",
    "print(f\"당신은 {com} 사용자입니다.\")"
   ]
  },
  {
   "cell_type": "code",
   "execution_count": 488,
   "metadata": {},
   "outputs": [
    {
     "name": "stdout",
     "output_type": "stream",
     "text": [
      "도봉구\n"
     ]
    }
   ],
   "source": [
    "post_num = input(\"우편번호:\") #우편번호\n",
    "post_data = post_num[0:3]\n",
    "\n",
    "\n",
    "if post_data in [\"010\", \"011\", \"012\"]:\n",
    "    print(\"강북구\")\n",
    "elif post_data in [\"014\", \"015\", \"016\"]:\n",
    "    print(\"도봉구\")\n",
    "else:\n",
    "    print(\"노원구\")"
   ]
  },
  {
   "cell_type": "code",
   "execution_count": 502,
   "metadata": {},
   "outputs": [
    {
     "name": "stdout",
     "output_type": "stream",
     "text": [
      "남자\n"
     ]
    }
   ],
   "source": [
    "주민번호 = input(\"주민등록번호: \")         # 예: 900101-1234567\n",
    "주민번호 = 주민번호.split(\"-\")[1]        # 뒷자리: \"1234567\"\n",
    "if 주민번호[0] == \"1\" or 주민번호[0] == \"3\":\n",
    "    print(\"남자\")\n",
    "else:\n",
    "    print(\"여자\")"
   ]
  },
  {
   "cell_type": "code",
   "execution_count": 508,
   "metadata": {},
   "outputs": [
    {
     "name": "stdout",
     "output_type": "stream",
     "text": [
      "서울이 아닙니다\n"
     ]
    }
   ],
   "source": [
    "주민번호 = input(\"주민등록번호:\")\n",
    "뒷자리 = 주민번호.split(\"-\")[1]\n",
    "if 0<= int(뒷자리[1:3]) <= 8 :\n",
    "    print(\"서울입니다\")\n",
    "else: \n",
    "    print(\"서울이 아닙니다\")"
   ]
  },
  {
   "cell_type": "code",
   "execution_count": 509,
   "metadata": {},
   "outputs": [
    {
     "name": "stdout",
     "output_type": "stream",
     "text": [
      "사과\n",
      "귤\n",
      "수박\n"
     ]
    }
   ],
   "source": [
    "과일 = [\"사과\", \"귤\", \"수박\"]\n",
    "for 변수 in 과일:\n",
    "    print(변수)"
   ]
  },
  {
   "cell_type": "code",
   "execution_count": 510,
   "metadata": {},
   "outputs": [
    {
     "name": "stdout",
     "output_type": "stream",
     "text": [
      "A\n",
      "B\n",
      "C\n"
     ]
    }
   ],
   "source": [
    "\n",
    "for 변수 in [\"A\", \"B\", \"C\"]:\n",
    "  print(변수)"
   ]
  },
  {
   "cell_type": "code",
   "execution_count": 511,
   "metadata": {},
   "outputs": [
    {
     "name": "stdout",
     "output_type": "stream",
     "text": [
      "A\n",
      "B\n",
      "C\n"
     ]
    }
   ],
   "source": [
    "alphabet = [\"A\", \"B\", \"C\"]\n",
    "for 변수 in alphabet: \n",
    "    print(변수)"
   ]
  },
  {
   "cell_type": "code",
   "execution_count": 512,
   "metadata": {},
   "outputs": [
    {
     "name": "stdout",
     "output_type": "stream",
     "text": [
      "A\n",
      "B\n",
      "C\n"
     ]
    }
   ],
   "source": [
    "변수 = \"A\"\n",
    "print(변수)\n",
    "변수 = \"B\"\n",
    "print(변수)\n",
    "변수 = \"C\"\n",
    "print(변수)"
   ]
  },
  {
   "cell_type": "code",
   "execution_count": 513,
   "metadata": {},
   "outputs": [
    {
     "name": "stdout",
     "output_type": "stream",
     "text": [
      "출력: A\n",
      "출력: B\n",
      "출력: C\n"
     ]
    }
   ],
   "source": [
    "for 변수 in [\"A\", \"B\", \"C\"]:\n",
    "  print(\"출력:\", 변수)"
   ]
  },
  {
   "cell_type": "code",
   "execution_count": 514,
   "metadata": {},
   "outputs": [
    {
     "name": "stdout",
     "output_type": "stream",
     "text": [
      "출력: A\n",
      "출력: B\n",
      "출력: C\n"
     ]
    }
   ],
   "source": [
    "변수 = \"A\"\n",
    "print(\"출력:\", 변수)\n",
    "변수 = \"B\"\n",
    "print(\"출력:\", 변수)\n",
    "변수 = \"C\"\n",
    "print(\"출력:\", 변수)"
   ]
  },
  {
   "cell_type": "code",
   "execution_count": 518,
   "metadata": {},
   "outputs": [
    {
     "name": "stdout",
     "output_type": "stream",
     "text": [
      "변환: a\n",
      "변환: b\n",
      "변환: c\n",
      "변환: a\n",
      "변환: b\n",
      "변환: c\n"
     ]
    }
   ],
   "source": [
    "for 변수 in [\"A\", \"B\", \"C\"]:\n",
    "  b = 변수.lower()\n",
    "  print(\"변환:\", b)\n",
    "변수 = \"A\"\n",
    "b = 변수.lower()\n",
    "print(\"변환:\", b)\n",
    "변수 = \"B\"\n",
    "b = 변수.lower()\n",
    "print(\"변환:\", b)\n",
    "변수 = \"C\"\n",
    "b = 변수.lower()\n",
    "print(\"변환:\", b)\n"
   ]
  },
  {
   "cell_type": "code",
   "execution_count": 526,
   "metadata": {},
   "outputs": [
    {
     "name": "stdout",
     "output_type": "stream",
     "text": [
      "출력: A\n",
      "출력: A\n",
      "출력: B\n",
      "출력: C\n"
     ]
    }
   ],
   "source": [
    "변수 = \"A\"\n",
    "print(\"출력:\",변수)\n",
    "\n",
    "for 변수 in [\"A\", \"B\", \"C\"]:\n",
    "  print(\"출력:\", 변수)"
   ]
  },
  {
   "cell_type": "code",
   "execution_count": 527,
   "metadata": {},
   "outputs": [
    {
     "name": "stdout",
     "output_type": "stream",
     "text": [
      "변환: a\n",
      "변환: b\n",
      "변환: c\n",
      "변환: a\n"
     ]
    }
   ],
   "source": [
    "for 변수 in [\"A\", \"B\", \"C\"]:\n",
    "  b = 변수.lower()\n",
    "  print(\"변환:\", b)\n",
    "\n",
    "변수 =\"A\"\n",
    "b = 변수.lower()\n",
    "print(\"변환:\",b)"
   ]
  },
  {
   "cell_type": "code",
   "execution_count": 533,
   "metadata": {},
   "outputs": [
    {
     "name": "stdout",
     "output_type": "stream",
     "text": [
      "10\n",
      "20\n",
      "30\n",
      "10\n",
      "20\n",
      "30\n"
     ]
    }
   ],
   "source": [
    "\n",
    "변수 = 10\n",
    "print(변수)\n",
    "변수 = 20\n",
    "print(변수)\n",
    "변수 = 30\n",
    "print(변수)\n",
    "\n",
    "#for 문으로 \n",
    "\n",
    "num = [10, 20, 30]\n",
    "for 변수 in num:\n",
    "    print(변수)"
   ]
  },
  {
   "cell_type": "code",
   "execution_count": 538,
   "metadata": {},
   "outputs": [
    {
     "name": "stdout",
     "output_type": "stream",
     "text": [
      "10\n",
      "-------\n",
      "20\n",
      "-------\n",
      "30\n",
      "-------\n",
      "10\n",
      "-------\n",
      "20\n",
      "-------\n",
      "30\n",
      "-------\n"
     ]
    }
   ],
   "source": [
    "print(10)\n",
    "print(\"-------\")\n",
    "print(20)\n",
    "print(\"-------\")\n",
    "print(30)\n",
    "print(\"-------\")\n",
    "for 변수 in [10,\"-------\",20,\"-------\",30,\"-------\"]:\n",
    "    print(변수)"
   ]
  },
  {
   "cell_type": "code",
   "execution_count": null,
   "metadata": {},
   "outputs": [
    {
     "name": "stdout",
     "output_type": "stream",
     "text": [
      "++++\n",
      "10\n",
      "20\n",
      "30\n",
      "++++\n",
      "10\n",
      "20\n",
      "30\n"
     ]
    }
   ],
   "source": [
    "print(\"++++\") #반복되는 코드시에만 변수 사용 \n",
    "print(10)\n",
    "print(20)\n",
    "print(30)\n",
    "\n",
    "print(\"++++\")\n",
    "for 변수 in [10, 20, 30]:\n",
    "  print(변수)\n",
    "  "
   ]
  },
  {
   "cell_type": "code",
   "execution_count": 543,
   "metadata": {},
   "outputs": [
    {
     "name": "stdout",
     "output_type": "stream",
     "text": [
      "-------\n",
      "-------\n",
      "-------\n",
      "-------\n",
      "-------\n",
      "-------\n",
      "-------\n",
      "-------\n",
      "-------\n",
      "-------\n",
      "-------\n",
      "-------\n",
      "-------\n",
      "-------\n",
      "-------\n",
      "-------\n"
     ]
    }
   ],
   "source": [
    "print(\"-------\")\n",
    "print(\"-------\")\n",
    "print(\"-------\")\n",
    "print(\"-------\")\n",
    "\n",
    "for 변수 in [\"-------\",\"-------\",\"-------\",\"-------\"]:\n",
    "    print(변수)\n",
    "\n",
    "for 변수 in [\"가\", \"나\", \"다\", \"라\"]:\n",
    "  print(\"-------\")\n",
    "  \n",
    "  \n",
    "for 변수 in [1, 2, 3, 4]:\n",
    "  print(\"-------\")"
   ]
  },
  {
   "cell_type": "code",
   "execution_count": 552,
   "metadata": {},
   "outputs": [
    {
     "name": "stdout",
     "output_type": "stream",
     "text": [
      "110\n",
      "210\n",
      "310\n",
      "110\n",
      "210\n",
      "310\n"
     ]
    }
   ],
   "source": [
    "변수 = 100\n",
    "print(변수 + 10)\n",
    "변수 = 200\n",
    "print(변수 + 10)\n",
    "변수 = 300\n",
    "print(변수 + 10)\n",
    "list = [100, 200, 300]\n",
    "for 변수 in list:\n",
    "    print(변수+10)"
   ]
  },
  {
   "cell_type": "code",
   "execution_count": 556,
   "metadata": {},
   "outputs": [
    {
     "name": "stdout",
     "output_type": "stream",
     "text": [
      "6\n",
      "4\n",
      "4\n",
      "6\n",
      "4\n",
      "4\n"
     ]
    }
   ],
   "source": [
    "\n",
    "변수 = \"SK하이닉스\"\n",
    "print(len(변수))\n",
    "변수 = \"삼성전자\"\n",
    "print(len(변수))\n",
    "변수 = \"LG전자\"\n",
    "print(len(변수))\n",
    "\n",
    "list  = [\"SK하이닉스\", \"삼성전자\", \"LG전자\"]\n",
    "\n",
    "for 변수 in list:\n",
    "    print(len(변수))"
   ]
  },
  {
   "cell_type": "code",
   "execution_count": 559,
   "metadata": {},
   "outputs": [
    {
     "name": "stdout",
     "output_type": "stream",
     "text": [
      "dog 3\n",
      "cat 3\n",
      "parrot 6\n",
      "dog 3\n",
      "cat 3\n",
      "parrot 6\n"
     ]
    }
   ],
   "source": [
    "# 리스트에는 동물이름이 문자열로 저장돼 있다.\n",
    "\n",
    "# 리스트 = ['dog', 'cat', 'parrot']\n",
    "# 동물 이름과 글자수를 다음과 같이 출력하라.\n",
    "\n",
    "# dog 3\n",
    "# cat 3\n",
    "# parrot 6\n",
    "변수 = 'dog'\n",
    "print(변수,len(변수))\n",
    "변수 = 'cat'\n",
    "print(변수,len(변수))\n",
    "변수 = 'parrot'\n",
    "print(변수,len(변수))\n",
    "\n",
    "\n",
    "list = ['dog', 'cat', 'parrot']\n",
    "for 변수 in list:\n",
    "    print(변수,len(변수))\n",
    "\n"
   ]
  },
  {
   "cell_type": "code",
   "execution_count": 560,
   "metadata": {},
   "outputs": [
    {
     "name": "stdout",
     "output_type": "stream",
     "text": [
      "d\n",
      "c\n",
      "p\n"
     ]
    }
   ],
   "source": [
    "list = ['dog', 'cat', 'parrot']\n",
    "for 변수 in list:\n",
    "    print(변수[0])"
   ]
  },
  {
   "cell_type": "code",
   "execution_count": null,
   "metadata": {},
   "outputs": [
    {
     "name": "stdout",
     "output_type": "stream",
     "text": [
      "3 x 1\n",
      "3 x 2\n",
      "3 x 3\n"
     ]
    }
   ],
   "source": [
    "# 146\n",
    "# 리스트에는 세 개의 숫자가 바인딩돼 있다.\n",
    "\n",
    "# 리스트 = [1, 2, 3]\n",
    "# for문을 사용해서 다음과 같이 출력하라.\n",
    "\n",
    "# 3 x 1\n",
    "# 3 x 2\n",
    "# 3 x 3\n",
    "list = [1, 2, 3]\n",
    "for 변수 in list: \n",
    "    print(\"3 x\",변수)"
   ]
  },
  {
   "cell_type": "code",
   "execution_count": 573,
   "metadata": {},
   "outputs": [
    {
     "name": "stdout",
     "output_type": "stream",
     "text": [
      "3 x 1 = 3\n",
      "3 x 2 = 6\n",
      "3 x 3 = 9\n",
      "3 x 1 = 3\n",
      "3 x 1 = 3\n",
      "3 x 2 = 6\n",
      "3 x 2 = 6\n",
      "3 x 3 = 9\n",
      "3 x 3 = 9\n"
     ]
    }
   ],
   "source": [
    "변수 = 1\n",
    "print(\"3 x\",변수,\"=\",3*변수)\n",
    "변수 = 2\n",
    "print(\"3 x\",변수,\"=\",3*변수)\n",
    "변수 = 3\n",
    "print(\"3 x\",변수,\"=\",3*변수)\n",
    "\n",
    "list = [1, 2, 3]\n",
    "for 변수 in list:\n",
    "    print(\"3 x\",변수,\"=\",3*변수)\n",
    "\n",
    "    print(\"3 x {} = {}\".format(변수, 3 * 변수))"
   ]
  },
  {
   "cell_type": "code",
   "execution_count": 585,
   "metadata": {},
   "outputs": [
    {
     "name": "stdout",
     "output_type": "stream",
     "text": [
      "나\n",
      "다\n",
      "라\n",
      "나\n",
      "다\n",
      "라\n"
     ]
    }
   ],
   "source": [
    "# 148\n",
    "# 리스트에는 네 개의 문자열이 바인딩돼 있다.\n",
    "\n",
    "# 리스트 = [\"가\", \"나\", \"다\", \"라\"]\n",
    "# for문을 사용해서 다음과 같이 출력하라.\n",
    "\n",
    "# 나\n",
    "# 다\n",
    "# 라\n",
    "\n",
    "list = [\"가\", \"나\", \"다\", \"라\"]\n",
    "list = list[1:]\n",
    "for 변수 in list: \n",
    "    print(변수)\n",
    "\n",
    "list = [\"가\", \"나\", \"다\", \"라\"]\n",
    "for 변수 in list[1:]:\n",
    "  print(변수)\n"
   ]
  },
  {
   "cell_type": "code",
   "execution_count": 603,
   "metadata": {},
   "outputs": [
    {
     "name": "stdout",
     "output_type": "stream",
     "text": [
      "가\n",
      "다\n"
     ]
    }
   ],
   "source": [
    "리스트 = [\"가\", \"나\", \"다\", \"라\"]\n",
    "\n",
    "for 변수 in 리스트[: :2]:\n",
    " print(변수)\n",
    "\n"
   ]
  },
  {
   "cell_type": "code",
   "execution_count": 604,
   "metadata": {},
   "outputs": [
    {
     "name": "stdout",
     "output_type": "stream",
     "text": [
      "라\n",
      "다\n",
      "나\n",
      "가\n"
     ]
    }
   ],
   "source": [
    "리스트 = [\"가\", \"나\", \"다\", \"라\"]\n",
    "\n",
    "for 변수 in 리스트[: :-1]:\n",
    " print(변수)"
   ]
  },
  {
   "cell_type": "code",
   "execution_count": 607,
   "metadata": {},
   "outputs": [
    {
     "name": "stdout",
     "output_type": "stream",
     "text": [
      "[10, 9, 8, 7, 6, 5, 4, 3, 2, 1]\n"
     ]
    }
   ],
   "source": [
    "num = [1,2,3,4,5,6,7,8,9,10]\n",
    "print(num[::-1])"
   ]
  },
  {
   "cell_type": "code",
   "execution_count": 608,
   "metadata": {},
   "outputs": [
    {
     "name": "stdout",
     "output_type": "stream",
     "text": [
      "-20\n",
      "-3\n"
     ]
    }
   ],
   "source": [
    "리스트 = [3, -20, -3, 44]\n",
    "for 변수 in 리스트:\n",
    "    if 변수 < 0:\n",
    "        print(변수)"
   ]
  },
  {
   "cell_type": "code",
   "execution_count": 609,
   "metadata": {},
   "outputs": [
    {
     "name": "stdout",
     "output_type": "stream",
     "text": [
      "3\n"
     ]
    }
   ],
   "source": [
    "리스트 = [3, 100, 23, 44]\n",
    "for 변수 in 리스트:\n",
    "    if 변수 % 3 == 0:\n",
    "        print(변수)"
   ]
  },
  {
   "cell_type": "code",
   "execution_count": 610,
   "metadata": {},
   "outputs": [
    {
     "name": "stdout",
     "output_type": "stream",
     "text": [
      "5\n",
      "20\n",
      "45\n"
     ]
    }
   ],
   "source": [
    "리스트 = [5, 20, 44, 45]\n",
    "for 변수 in 리스트:\n",
    "    if 변수 %5 ==0:\n",
    "        print(변수)"
   ]
  },
  {
   "cell_type": "code",
   "execution_count": 611,
   "metadata": {},
   "outputs": [
    {
     "name": "stdout",
     "output_type": "stream",
     "text": [
      "12\n",
      "18\n"
     ]
    }
   ],
   "source": [
    "리스트 = [13, 21, 12, 14, 30, 18]\n",
    "for 변수 in 리스트:\n",
    "    if 변수%3 ==0 and 변수 <=20:\n",
    "        print(변수)"
   ]
  },
  {
   "cell_type": "code",
   "execution_count": 613,
   "metadata": {},
   "outputs": [
    {
     "name": "stdout",
     "output_type": "stream",
     "text": [
      "study\n",
      "python\n",
      "language\n"
     ]
    }
   ],
   "source": [
    "리스트 = [\"I\", \"study\", \"python\", \"language\", \"!\"]\n",
    "for 변수 in 리스트:\n",
    "    if len(변수)>=3: \n",
    "        print(변수)"
   ]
  },
  {
   "cell_type": "code",
   "execution_count": 614,
   "metadata": {},
   "outputs": [
    {
     "name": "stdout",
     "output_type": "stream",
     "text": [
      "A\n",
      "D\n"
     ]
    }
   ],
   "source": [
    "리스트 = [\"A\", \"b\", \"c\", \"D\"]\n",
    "for 변수 in 리스트:\n",
    "    if 변수.isupper():\n",
    "        print(변수)\n"
   ]
  },
  {
   "cell_type": "code",
   "execution_count": 615,
   "metadata": {},
   "outputs": [
    {
     "name": "stdout",
     "output_type": "stream",
     "text": [
      "b\n",
      "c\n"
     ]
    }
   ],
   "source": [
    "리스트 = [\"A\", \"b\", \"c\", \"D\"]\n",
    "for 변수 in 리스트:\n",
    "    if 변수.islower():\n",
    "        print(변수)"
   ]
  },
  {
   "cell_type": "code",
   "execution_count": null,
   "metadata": {},
   "outputs": [
    {
     "name": "stdout",
     "output_type": "stream",
     "text": [
      "A\n",
      "C\n",
      "P\n",
      "Dog\n",
      "Cat\n",
      "Parrot\n",
      "Dog\n",
      "Cat\n",
      "Parrot\n"
     ]
    }
   ],
   "source": [
    "변수 = \"a\"\n",
    "변수 = 변수.upper()\n",
    "print(변수)\n",
    "변수 = \"c\"\n",
    "변수 = 변수.upper()\n",
    "print(변수)\n",
    "변수 = \"p\"\n",
    "변수 = 변수.upper()\n",
    "print(변수)\n",
    "리스트 = ['dog', 'cat', 'parrot']\n",
    "for 변수 in 리스트:\n",
    "    print(변수[0].upper()+변수[1:])\n",
    "for 변수 in 리스트:\n",
    "  첫글자 = 변수[0]              # 1)\n",
    "  대문자 = 첫글자.upper()     # 2)\n",
    "  print(대문자 + 변수[1:])      # 3)\n",
    "\n",
    "  "
   ]
  },
  {
   "cell_type": "code",
   "execution_count": 636,
   "metadata": {},
   "outputs": [
    {
     "name": "stdout",
     "output_type": "stream",
     "text": [
      "hello\n",
      "ex01\n",
      "intro\n"
     ]
    }
   ],
   "source": [
    "리스트 = ['hello.py', 'ex01.py', 'intro.hwp']\n",
    "for 변수 in 리스트:\n",
    "    split = 변수.split(\".\")\n",
    "    print(split[0])"
   ]
  },
  {
   "cell_type": "code",
   "execution_count": 638,
   "metadata": {},
   "outputs": [
    {
     "name": "stdout",
     "output_type": "stream",
     "text": [
      "1163322\n"
     ]
    }
   ],
   "source": [
    "리스트 = [\"933328-1163322\"]\n",
    "for 변수 in 리스트:\n",
    "    split = 변수.split(\"-\")\n",
    "    print(split[1])"
   ]
  },
  {
   "cell_type": "code",
   "execution_count": 642,
   "metadata": {},
   "outputs": [
    {
     "name": "stdout",
     "output_type": "stream",
     "text": [
      "['ab', 'def']\n"
     ]
    }
   ],
   "source": [
    "data = \"abcdef\"\n",
    "new = data.split(\"c\")\n",
    "print(new)"
   ]
  },
  {
   "cell_type": "code",
   "execution_count": 666,
   "metadata": {},
   "outputs": [
    {
     "name": "stdout",
     "output_type": "stream",
     "text": [
      "intra.h\n",
      "intra.c\n",
      "define.h\n",
      "run.py\n",
      "intra.h\n",
      "intra.c\n",
      "define.h\n",
      "[1, 3]\n"
     ]
    }
   ],
   "source": [
    "변수 = ['intra.h']\n",
    "print(변수[-1])\n",
    "변수 = ['intra.c']\n",
    "print(변수[-1])\n",
    "변수 = ['define.h']\n",
    "print(변수[-1])\n",
    "변수 = ['run.py']\n",
    "print(변수[-1])\n",
    "\n",
    "\n",
    "리스트 = ['intra.h', 'intra.c', 'define.h', 'run.py']\n",
    "\n",
    "for 변수 in 리스트:\n",
    "    split = 변수.split(\".\")\n",
    "    if split[1]==\"h\" or  split[1]==\"c\":\n",
    "     print(변수)\n",
    "\n",
    "data = [ 1, 2 ,3]\n",
    "print(data[::2])\n"
   ]
  },
  {
   "cell_type": "code",
   "execution_count": 677,
   "metadata": {},
   "outputs": [
    {
     "name": "stdout",
     "output_type": "stream",
     "text": [
      "0\n",
      "1\n",
      "2\n",
      "3\n",
      "4\n",
      "5\n",
      "6\n",
      "7\n",
      "8\n",
      "9\n",
      "10\n",
      "11\n",
      "12\n",
      "13\n",
      "14\n",
      "15\n",
      "16\n",
      "17\n",
      "18\n",
      "19\n",
      "20\n",
      "21\n",
      "22\n",
      "23\n",
      "24\n",
      "25\n",
      "26\n",
      "27\n",
      "28\n",
      "29\n",
      "30\n",
      "31\n",
      "32\n",
      "33\n",
      "34\n",
      "35\n",
      "36\n",
      "37\n",
      "38\n",
      "39\n",
      "40\n",
      "41\n",
      "42\n",
      "43\n",
      "44\n",
      "45\n",
      "46\n",
      "47\n",
      "48\n",
      "49\n",
      "50\n",
      "51\n",
      "52\n",
      "53\n",
      "54\n",
      "55\n",
      "56\n",
      "57\n",
      "58\n",
      "59\n",
      "60\n",
      "61\n",
      "62\n",
      "63\n",
      "64\n",
      "65\n",
      "66\n",
      "67\n",
      "68\n",
      "69\n",
      "70\n",
      "71\n",
      "72\n",
      "73\n",
      "74\n",
      "75\n",
      "76\n",
      "77\n",
      "78\n",
      "79\n",
      "80\n",
      "81\n",
      "82\n",
      "83\n",
      "84\n",
      "85\n",
      "86\n",
      "87\n",
      "88\n",
      "89\n",
      "90\n",
      "91\n",
      "92\n",
      "93\n",
      "94\n",
      "95\n",
      "96\n",
      "97\n",
      "98\n",
      "99\n",
      "0\n",
      "1\n",
      "2\n",
      "3\n",
      "4\n",
      "5\n",
      "6\n",
      "7\n",
      "8\n",
      "9\n",
      "10\n",
      "11\n",
      "12\n",
      "13\n",
      "14\n",
      "15\n",
      "16\n",
      "17\n",
      "18\n",
      "19\n",
      "20\n",
      "21\n",
      "22\n",
      "23\n",
      "24\n",
      "25\n",
      "26\n",
      "27\n",
      "28\n",
      "29\n",
      "30\n",
      "31\n",
      "32\n",
      "33\n",
      "34\n",
      "35\n",
      "36\n",
      "37\n",
      "38\n",
      "39\n",
      "40\n",
      "41\n",
      "42\n",
      "43\n",
      "44\n",
      "45\n",
      "46\n",
      "47\n",
      "48\n",
      "49\n",
      "50\n",
      "51\n",
      "52\n",
      "53\n",
      "54\n",
      "55\n",
      "56\n",
      "57\n",
      "58\n",
      "59\n",
      "60\n",
      "61\n",
      "62\n",
      "63\n",
      "64\n",
      "65\n",
      "66\n",
      "67\n",
      "68\n",
      "69\n",
      "70\n",
      "71\n",
      "72\n",
      "73\n",
      "74\n",
      "75\n",
      "76\n",
      "77\n",
      "78\n",
      "79\n",
      "80\n",
      "81\n",
      "82\n",
      "83\n",
      "84\n",
      "85\n",
      "86\n",
      "87\n",
      "88\n",
      "89\n",
      "90\n",
      "91\n",
      "92\n",
      "93\n",
      "94\n",
      "95\n",
      "96\n",
      "97\n",
      "98\n",
      "99\n"
     ]
    },
    {
     "data": {
      "text/plain": [
       "int"
      ]
     },
     "execution_count": 677,
     "metadata": {},
     "output_type": "execute_result"
    }
   ],
   "source": [
    "# for문과 range 구문을 사용해서 0~99까지 한 라인에 하나씩 순차적으로 출력하는 프로그램을 작성하라.\n",
    "list = range(100)\n",
    "for 변수 in list:\n",
    "    print(변수)\n",
    "type(변수)\n",
    "\n",
    "list = range(100)\n",
    "for i in list:\n",
    "    print(i)\n",
    "type(i)"
   ]
  },
  {
   "cell_type": "code",
   "execution_count": 681,
   "metadata": {},
   "outputs": [
    {
     "name": "stdout",
     "output_type": "stream",
     "text": [
      "2002\n",
      "2006\n",
      "2010\n",
      "2014\n",
      "2018\n",
      "2022\n",
      "2026\n",
      "2030\n",
      "2034\n",
      "2038\n",
      "2042\n",
      "2046\n",
      "2050\n"
     ]
    }
   ],
   "source": [
    "for i in range(2002, 2051, 4) :\n",
    "    print(i)"
   ]
  },
  {
   "cell_type": "code",
   "execution_count": 701,
   "metadata": {},
   "outputs": [
    {
     "ename": "TypeError",
     "evalue": "'range' object is not callable",
     "output_type": "error",
     "traceback": [
      "\u001b[1;31m---------------------------------------------------------------------------\u001b[0m",
      "\u001b[1;31mTypeError\u001b[0m                                 Traceback (most recent call last)",
      "Cell \u001b[1;32mIn[701], line 1\u001b[0m\n\u001b[1;32m----> 1\u001b[0m i \u001b[38;5;241m=\u001b[39m \u001b[38;5;28;43mlist\u001b[39;49m\u001b[43m(\u001b[49m\u001b[38;5;28;43mrange\u001b[39;49m\u001b[43m(\u001b[49m\u001b[38;5;241;43m30\u001b[39;49m\u001b[43m)\u001b[49m\u001b[43m)\u001b[49m\n\u001b[0;32m      2\u001b[0m \u001b[38;5;28mprint\u001b[39m(\u001b[38;5;28mtype\u001b[39m(i)) \n",
      "\u001b[1;31mTypeError\u001b[0m: 'range' object is not callable"
     ]
    }
   ],
   "source": [
    "i = list(range(30))\n",
    "print(type(i)) "
   ]
  },
  {
   "cell_type": "code",
   "execution_count": 691,
   "metadata": {},
   "outputs": [
    {
     "name": "stdout",
     "output_type": "stream",
     "text": [
      "99\n",
      "98\n",
      "97\n",
      "96\n",
      "95\n",
      "94\n",
      "93\n",
      "92\n",
      "91\n",
      "90\n",
      "89\n",
      "88\n",
      "87\n",
      "86\n",
      "85\n",
      "84\n",
      "83\n",
      "82\n",
      "81\n",
      "80\n",
      "79\n",
      "78\n",
      "77\n",
      "76\n",
      "75\n",
      "74\n",
      "73\n",
      "72\n",
      "71\n",
      "70\n",
      "69\n",
      "68\n",
      "67\n",
      "66\n",
      "65\n",
      "64\n",
      "63\n",
      "62\n",
      "61\n",
      "60\n",
      "59\n",
      "58\n",
      "57\n",
      "56\n",
      "55\n",
      "54\n",
      "53\n",
      "52\n",
      "51\n",
      "50\n",
      "49\n",
      "48\n",
      "47\n",
      "46\n",
      "45\n",
      "44\n",
      "43\n",
      "42\n",
      "41\n",
      "40\n",
      "39\n",
      "38\n",
      "37\n",
      "36\n",
      "35\n",
      "34\n",
      "33\n",
      "32\n",
      "31\n",
      "30\n",
      "29\n",
      "28\n",
      "27\n",
      "26\n",
      "25\n",
      "24\n",
      "23\n",
      "22\n",
      "21\n",
      "20\n",
      "19\n",
      "18\n",
      "17\n",
      "16\n",
      "15\n",
      "14\n",
      "13\n",
      "12\n",
      "11\n",
      "10\n",
      "9\n",
      "8\n",
      "7\n",
      "6\n",
      "5\n",
      "4\n",
      "3\n",
      "2\n",
      "1\n",
      "0\n"
     ]
    }
   ],
   "source": [
    "for i in range(100):\n",
    "    print(99-i)"
   ]
  },
  {
   "cell_type": "code",
   "execution_count": 13,
   "metadata": {},
   "outputs": [],
   "source": [
    "리스트 = (range(0, 100, -1))\n",
    "for 변수 in 리스트: \n",
    "    print(변수)"
   ]
  },
  {
   "cell_type": "code",
   "execution_count": 11,
   "metadata": {},
   "outputs": [
    {
     "name": "stdout",
     "output_type": "stream",
     "text": [
      "0\n",
      "3\n",
      "6\n",
      "9\n",
      "12\n",
      "15\n",
      "18\n",
      "21\n",
      "24\n",
      "27\n",
      "30\n"
     ]
    }
   ],
   "source": [
    "for num in range(0,31,3):\n",
    "    print(num)"
   ]
  },
  {
   "cell_type": "code",
   "execution_count": 18,
   "metadata": {},
   "outputs": [
    {
     "name": "stdout",
     "output_type": "stream",
     "text": [
      "0.0\n",
      "0.1\n",
      "0.2\n",
      "0.3\n",
      "0.4\n",
      "0.5\n",
      "0.6\n",
      "0.7\n",
      "0.8\n",
      "0.9\n"
     ]
    }
   ],
   "source": [
    "for num in range(10):\n",
    "    print(num/10)"
   ]
  },
  {
   "cell_type": "code",
   "execution_count": 24,
   "metadata": {},
   "outputs": [
    {
     "name": "stdout",
     "output_type": "stream",
     "text": [
      "3\n",
      "6\n",
      "9\n",
      "12\n",
      "15\n",
      "18\n",
      "21\n",
      "24\n",
      "27\n",
      "3 x 9 = 27\n",
      "3 x 9 = 27\n",
      "3 x 9 = 27\n",
      "3 x 9 = 27\n",
      "3 x 9 = 27\n",
      "3 x 9 = 27\n",
      "3 x 9 = 27\n",
      "3 x 9 = 27\n",
      "3 x 9 = 27\n"
     ]
    },
    {
     "ename": "NameError",
     "evalue": "name 'fo' is not defined",
     "output_type": "error",
     "traceback": [
      "\u001b[1;31m---------------------------------------------------------------------------\u001b[0m",
      "\u001b[1;31mNameError\u001b[0m                                 Traceback (most recent call last)",
      "Cell \u001b[1;32mIn[24], line 8\u001b[0m\n\u001b[0;32m      5\u001b[0m \u001b[38;5;28;01mfor\u001b[39;00m x \u001b[38;5;129;01min\u001b[39;00m \u001b[38;5;28mrange\u001b[39m(\u001b[38;5;241m1\u001b[39m, \u001b[38;5;241m10\u001b[39m):\n\u001b[0;32m      6\u001b[0m     \u001b[38;5;28mprint\u001b[39m(\u001b[38;5;241m3\u001b[39m,\u001b[38;5;124m\"\u001b[39m\u001b[38;5;124mx\u001b[39m\u001b[38;5;124m\"\u001b[39m,i, \u001b[38;5;124m\"\u001b[39m\u001b[38;5;124m=\u001b[39m\u001b[38;5;124m\"\u001b[39m,\u001b[38;5;241m3\u001b[39m\u001b[38;5;241m*\u001b[39mi)\n\u001b[1;32m----> 8\u001b[0m \u001b[43mfo\u001b[49m\n",
      "\u001b[1;31mNameError\u001b[0m: name 'fo' is not defined"
     ]
    }
   ],
   "source": [
    "# 구구단 3단을 출력하라.\n",
    "for num in range(3, 28,3):\n",
    "    print(num)\n",
    "\n",
    "for x in range(1, 10):\n",
    "    print(3,\"x\",i, \"=\",3*i)\n",
    "\n",
    "fo"
   ]
  },
  {
   "cell_type": "code",
   "execution_count": 34,
   "metadata": {},
   "outputs": [
    {
     "name": "stdout",
     "output_type": "stream",
     "text": [
      "합 : 55\n",
      "55\n"
     ]
    }
   ],
   "source": [
    "hab = 0\n",
    "for i in range(1, 11):\n",
    "    hab += i\n",
    "print (\"합 :\", hab)\n",
    "\n",
    "print(sum(range(1, 11)))"
   ]
  },
  {
   "cell_type": "code",
   "execution_count": 35,
   "metadata": {},
   "outputs": [
    {
     "name": "stdout",
     "output_type": "stream",
     "text": [
      "홀수의 합: 25\n"
     ]
    }
   ],
   "source": [
    "# 1~10까지의 숫자 중 모든 홀수의 합을 출력하는 프로그램을 for 문을 사용하여 작성하라.\n",
    "hab = 0 \n",
    "for i in range(1,11,2):\n",
    "    hab += i\n",
    "print(\"홀수의 합:\", hab)"
   ]
  },
  {
   "cell_type": "code",
   "execution_count": 39,
   "metadata": {},
   "outputs": [
    {
     "name": "stdout",
     "output_type": "stream",
     "text": [
      "곱셈: 3628800\n"
     ]
    }
   ],
   "source": [
    "result = 1\n",
    "for i in range(1,11):\n",
    "    result *= i  \n",
    "print(\"곱셈:\", result)"
   ]
  },
  {
   "cell_type": "code",
   "execution_count": null,
   "metadata": {},
   "outputs": [
    {
     "ename": "TypeError",
     "evalue": "'list' object is not callable",
     "output_type": "error",
     "traceback": [
      "\u001b[1;31m---------------------------------------------------------------------------\u001b[0m",
      "\u001b[1;31mTypeError\u001b[0m                                 Traceback (most recent call last)",
      "Cell \u001b[1;32mIn[44], line 4\u001b[0m\n\u001b[0;32m      1\u001b[0m price_list \u001b[38;5;241m=\u001b[39m [\u001b[38;5;241m32100\u001b[39m, \u001b[38;5;241m32150\u001b[39m, \u001b[38;5;241m32000\u001b[39m, \u001b[38;5;241m32500\u001b[39m]\n\u001b[0;32m      3\u001b[0m \u001b[38;5;28;01mfor\u001b[39;00m i \u001b[38;5;129;01min\u001b[39;00m \u001b[38;5;28mrange\u001b[39m(\u001b[38;5;241m4\u001b[39m):\n\u001b[1;32m----> 4\u001b[0m     \u001b[38;5;28mprint\u001b[39m(\u001b[43mprice_list\u001b[49m\u001b[43m(\u001b[49m\u001b[43mi\u001b[49m\u001b[43m)\u001b[49m)\n",
      "\u001b[1;31mTypeError\u001b[0m: 'list' object is not callable"
     ]
    }
   ],
   "source": [
    "price_list = [32100, 32150, 32000, 32500]\n",
    "\n",
    "for i in range(4):\n",
    "    print(price_list(i))"
   ]
  },
  {
   "cell_type": "code",
   "execution_count": 46,
   "metadata": {},
   "outputs": [
    {
     "name": "stdout",
     "output_type": "stream",
     "text": [
      "[['101호', '102호'], ['201호', '202호'], ['301호', '302호']]\n"
     ]
    }
   ],
   "source": [
    "apart = [ [\"101호\", \"102호\"], [\"201호\", \"202호\"], [\"301호\", \"302호\"] ]\n",
    "print(apart)"
   ]
  },
  {
   "cell_type": "code",
   "execution_count": null,
   "metadata": {},
   "outputs": [
    {
     "name": "stdout",
     "output_type": "stream",
     "text": [
      "[['#헬스', '#단백질'], ['#닭가슴살', '#다이어트', '#단백질'], ['#요요', '#헬스', '#다이어트'], ['#닭가슴살', '#단백질']]\n",
      "['#헬스', '#단백질', '#닭가슴살', '#다이어트', '#단백질', '#요요', '#헬스', '#다이어트', '#닭가슴살', '#단백질']\n"
     ]
    }
   ],
   "source": [
    "#* append / extend 차이 알기\n",
    "#인스타그램 태그 수집기 \n",
    "#post1 : #헬스, #단백질\n",
    "#post2 : #닭가슴살, #다이어트, #단백질\n",
    "#post3 : #요요, #헬스, #다이어트\n",
    "#post4 : #닭가슴살, #단백질\n",
    "\n",
    "#문제 1. 인스타그램 포스트별로 데이터를 수집하고 싶다\n",
    "#문제 2. 모든 해시태그들을 tags라는 변수에 담고 싶다\n",
    "#문제 3. 해시태그 카테고리가 몇 개인지 알고 싶다\n",
    "\n",
    "post1 = [\"#헬스\", \"#단백질\"]\n",
    "post2 = [\"#닭가슴살\", \"#다이어트\", \"#단백질\"]\n",
    "post3 = [\"#요요\", \"#헬스\", \"#다이어트\"]\n",
    "post4 = [\"#닭가슴살\", \"#단백질\"]\n",
    "posts = [post1, post2, post3, post4]\n",
    "\n",
    "tags = []\n",
    "for post in posts:\n",
    "    tags.append(post)\n",
    "\n",
    "print(tags)\n",
    "\n",
    "tags = []\n",
    "for post in posts:\n",
    "    tags.extend(post)\n",
    "\n",
    "print(tags)\n",
    "\n"
   ]
  },
  {
   "cell_type": "code",
   "execution_count": 48,
   "metadata": {},
   "outputs": [
    {
     "name": "stdout",
     "output_type": "stream",
     "text": [
      "20230331\n"
     ]
    }
   ],
   "source": [
    "a = \"20230331rainyday\"\n",
    "print(a[:8])"
   ]
  },
  {
   "cell_type": "code",
   "execution_count": 51,
   "metadata": {},
   "outputs": [
    {
     "name": "stdout",
     "output_type": "stream",
     "text": [
      "I 3 newyork\n"
     ]
    }
   ],
   "source": [
    "a = \"I %s newyork\" %3 \n",
    "print(a)"
   ]
  },
  {
   "cell_type": "code",
   "execution_count": 59,
   "metadata": {},
   "outputs": [
    {
     "data": {
      "text/plain": [
       "[5, 3, 1]"
      ]
     },
     "execution_count": 59,
     "metadata": {},
     "output_type": "execute_result"
    }
   ],
   "source": [
    "a = [1, 2, 3, 4, 5]\n",
    "a[::-2]\n"
   ]
  },
  {
   "cell_type": "code",
   "execution_count": null,
   "metadata": {},
   "outputs": [
    {
     "name": "stdout",
     "output_type": "stream",
     "text": [
      "나는  햄버거 를 먹는다.\n"
     ]
    }
   ],
   "source": [
    "food = \"햄버거\"\n",
    "\n",
    "a = f'나는 { food } 를 먹는다.'\n",
    "print(a)"
   ]
  },
  {
   "cell_type": "code",
   "execution_count": 75,
   "metadata": {},
   "outputs": [
    {
     "name": "stdout",
     "output_type": "stream",
     "text": [
      "[1, 3, 4, 6]\n"
     ]
    }
   ],
   "source": [
    "a = [ 1, 4, 3, 6] \n",
    "\n",
    "a.sort()\n",
    "print(a)"
   ]
  },
  {
   "cell_type": "code",
   "execution_count": 73,
   "metadata": {},
   "outputs": [
    {
     "data": {
      "text/plain": [
       "'나는 부자가 될거야 '"
      ]
     },
     "execution_count": 73,
     "metadata": {},
     "output_type": "execute_result"
    }
   ],
   "source": [
    "a = \"나는 거지가 될거야 \"\n",
    "\n",
    "a.replace(\"거지가\", \"부자가\")\n"
   ]
  },
  {
   "cell_type": "code",
   "execution_count": null,
   "metadata": {},
   "outputs": [
    {
     "name": "stdout",
     "output_type": "stream",
     "text": [
      "[2, 3, 4, 100, 5, 60]\n"
     ]
    }
   ],
   "source": [
    "a = [2, 3, 4, 5, 60]\n",
    "\n",
    "a.insert(3,100)\n",
    "print(a)\n",
    "\n",
    "[2, 3, 4, 100, 5, 60]"
   ]
  },
  {
   "cell_type": "code",
   "execution_count": 54,
   "metadata": {},
   "outputs": [
    {
     "data": {
      "text/plain": [
       "[1, 3, 5]"
      ]
     },
     "execution_count": 54,
     "metadata": {},
     "output_type": "execute_result"
    }
   ],
   "source": [
    "a[::2]"
   ]
  },
  {
   "cell_type": "code",
   "execution_count": 131,
   "metadata": {},
   "outputs": [
    {
     "name": "stdout",
     "output_type": "stream",
     "text": [
      "{'#헬스', '#다이어트', '#요요', '#단백질', '#닭가슴살'}\n"
     ]
    }
   ],
   "source": [
    "result =set(tags)\n",
    "print(result)"
   ]
  }
 ],
 "metadata": {
  "colab": {
   "provenance": []
  },
  "kernelspec": {
   "display_name": "potenup",
   "language": "python",
   "name": "python3"
  },
  "language_info": {
   "codemirror_mode": {
    "name": "ipython",
    "version": 3
   },
   "file_extension": ".py",
   "mimetype": "text/x-python",
   "name": "python",
   "nbconvert_exporter": "python",
   "pygments_lexer": "ipython3",
   "version": "3.10.18"
  }
 },
 "nbformat": 4,
 "nbformat_minor": 0
}
