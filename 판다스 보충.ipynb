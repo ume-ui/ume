{
 "cells": [
  {
   "cell_type": "markdown",
   "id": "d2d876e7",
   "metadata": {},
   "source": [
    "## 판다스 "
   ]
  },
  {
   "cell_type": "markdown",
   "id": "212fad36",
   "metadata": {},
   "source": [
    "## 1)생성 및 조회"
   ]
  },
  {
   "cell_type": "code",
   "execution_count": 20,
   "id": "1a66a341",
   "metadata": {},
   "outputs": [],
   "source": [
    "import pandas as pd # 판다스 실행"
   ]
  },
  {
   "cell_type": "markdown",
   "id": "961c98f4",
   "metadata": {},
   "source": [
    "(1)데이터만 생성 "
   ]
  },
  {
   "cell_type": "code",
   "execution_count": 21,
   "id": "68f48ce8",
   "metadata": {},
   "outputs": [
    {
     "ename": "SyntaxError",
     "evalue": "invalid syntax. Perhaps you forgot a comma? (662420622.py, line 8)",
     "output_type": "error",
     "traceback": [
      "\u001b[1;36m  Cell \u001b[1;32mIn[21], line 8\u001b[1;36m\u001b[0m\n\u001b[1;33m    print(\"=\"50)\u001b[0m\n\u001b[1;37m          ^\u001b[0m\n\u001b[1;31mSyntaxError\u001b[0m\u001b[1;31m:\u001b[0m invalid syntax. Perhaps you forgot a comma?\n"
     ]
    }
   ],
   "source": [
    "#나이 데이터를 시리즈로 생성 \n",
    "age_list = [24, 31, 26]\n",
    "data1 = pd.Series(data = [10, 20, 30])\n",
    "data2 = pd.Series(data = [1, 2, 3])\n",
    "\n",
    "\n",
    "print(data1 + data2)\n",
    "print(\"=\"50)\n",
    "print(data1 - data2)\n",
    "print(\"=\"50)\n",
    "print(data1 * data2)\n",
    "print(\"=\"50)\n",
    "print(data1 / data2)\n",
    "print(\"=\"50)\n",
    "print(data1 // data2)"
   ]
  },
  {
   "cell_type": "code",
   "execution_count": null,
   "id": "6821ddb1",
   "metadata": {},
   "outputs": [
    {
     "ename": "NameError",
     "evalue": "name 'age_series' is not defined",
     "output_type": "error",
     "traceback": [
      "\u001b[1;31m---------------------------------------------------------------------------\u001b[0m",
      "\u001b[1;31mNameError\u001b[0m                                 Traceback (most recent call last)",
      "Cell \u001b[1;32mIn[12], line 1\u001b[0m\n\u001b[1;32m----> 1\u001b[0m \u001b[43mage_series\u001b[49m\u001b[38;5;241m.\u001b[39mdtype\n",
      "\u001b[1;31mNameError\u001b[0m: name 'age_series' is not defined"
     ]
    }
   ],
   "source": [
    "age_series.dtype"
   ]
  },
  {
   "cell_type": "code",
   "execution_count": null,
   "id": "0cbc8129",
   "metadata": {},
   "outputs": [
    {
     "ename": "NameError",
     "evalue": "name 'age_series' is not defined",
     "output_type": "error",
     "traceback": [
      "\u001b[1;31m---------------------------------------------------------------------------\u001b[0m",
      "\u001b[1;31mNameError\u001b[0m                                 Traceback (most recent call last)",
      "Cell \u001b[1;32mIn[13], line 1\u001b[0m\n\u001b[1;32m----> 1\u001b[0m \u001b[43mage_series\u001b[49m\u001b[38;5;241m.\u001b[39mindex \u001b[38;5;241m=\u001b[39m [\u001b[38;5;124m\"\u001b[39m\u001b[38;5;124m김영철\u001b[39m\u001b[38;5;124m\"\u001b[39m, \u001b[38;5;124m\"\u001b[39m\u001b[38;5;124m송윤지\u001b[39m\u001b[38;5;124m\"\u001b[39m,\u001b[38;5;124m\"\u001b[39m\u001b[38;5;124m임수현\u001b[39m\u001b[38;5;124m\"\u001b[39m]\n\u001b[0;32m      2\u001b[0m age_series\n",
      "\u001b[1;31mNameError\u001b[0m: name 'age_series' is not defined"
     ]
    }
   ],
   "source": [
    "age_series.index = [\"김영철\", \"송윤지\",\"임수현\"]\n",
    "age_series"
   ]
  },
  {
   "cell_type": "code",
   "execution_count": null,
   "id": "afe4f4a7",
   "metadata": {},
   "outputs": [
    {
     "ename": "SyntaxError",
     "evalue": "invalid syntax. Perhaps you forgot a comma? (1260635150.py, line 2)",
     "output_type": "error",
     "traceback": [
      "\u001b[1;36m  Cell \u001b[1;32mIn[14], line 2\u001b[1;36m\u001b[0m\n\u001b[1;33m    data = age list\u001b[0m\n\u001b[1;37m           ^\u001b[0m\n\u001b[1;31mSyntaxError\u001b[0m\u001b[1;31m:\u001b[0m invalid syntax. Perhaps you forgot a comma?\n"
     ]
    }
   ],
   "source": [
    "age_series2 = pd.Series(\n",
    "    data = age list \n",
    ")"
   ]
  },
  {
   "cell_type": "markdown",
   "id": "8d70ac41",
   "metadata": {},
   "source": [
    "## 2)연산"
   ]
  },
  {
   "cell_type": "code",
   "execution_count": null,
   "id": "07c21dc8",
   "metadata": {},
   "outputs": [
    {
     "data": {
      "text/plain": [
       "0       10\n",
       "1      400\n",
       "2    27000\n",
       "dtype: int64"
      ]
     },
     "execution_count": 15,
     "metadata": {},
     "output_type": "execute_result"
    }
   ],
   "source": [
    "data1 = pd.Series(data=[10, 20, 30])\n",
    "data2 = pd.Series(data=[1, 2, 3])\n",
    "\n",
    "data1**data2"
   ]
  },
  {
   "cell_type": "code",
   "execution_count": null,
   "id": "c4ecb1a5",
   "metadata": {},
   "outputs": [],
   "source": [
    "#같은 위치는 곧 인덱스다 "
   ]
  },
  {
   "cell_type": "markdown",
   "id": "a581c77a",
   "metadata": {},
   "source": [
    "(1) 결측치 발생"
   ]
  },
  {
   "cell_type": "code",
   "execution_count": null,
   "id": "a239e213",
   "metadata": {},
   "outputs": [
    {
     "data": {
      "text/plain": [
       "0    1.0\n",
       "1    NaN\n",
       "dtype: float64"
      ]
     },
     "execution_count": 9,
     "metadata": {},
     "output_type": "execute_result"
    }
   ],
   "source": [
    "import pandas as pd \n",
    "import numpy as np\n",
    "\n",
    "myseries = pd.Series([1, np.nan])\n",
    "myseries"
   ]
  },
  {
   "cell_type": "code",
   "execution_count": null,
   "id": "74b86206",
   "metadata": {},
   "outputs": [
    {
     "data": {
      "text/plain": [
       "0    11.0\n",
       "1    22.0\n",
       "2    33.0\n",
       "3     NaN\n",
       "dtype: float64"
      ]
     },
     "execution_count": 10,
     "metadata": {},
     "output_type": "execute_result"
    }
   ],
   "source": [
    "data1 = pd.Series(data=[10, 20, 30])\n",
    "data2 = pd.Series(data=[1, 2, 3, 4])\n",
    "\n",
    "data1 + data2"
   ]
  },
  {
   "cell_type": "code",
   "execution_count": null,
   "id": "c9d3d905",
   "metadata": {},
   "outputs": [
    {
     "data": {
      "text/plain": [
       "0    10\n",
       "1    20\n",
       "2    30\n",
       "dtype: int64"
      ]
     },
     "execution_count": 11,
     "metadata": {},
     "output_type": "execute_result"
    }
   ],
   "source": [
    "data1 "
   ]
  },
  {
   "cell_type": "code",
   "execution_count": null,
   "id": "c0373c50",
   "metadata": {},
   "outputs": [
    {
     "data": {
      "text/plain": [
       "0    1\n",
       "1    2\n",
       "2    3\n",
       "3    4\n",
       "dtype: int64"
      ]
     },
     "execution_count": 12,
     "metadata": {},
     "output_type": "execute_result"
    }
   ],
   "source": [
    "data2 #data2에는 인덱스 3이 있지만 데이터 1에는 없음 여기서 발생하는게 결측치"
   ]
  },
  {
   "cell_type": "code",
   "execution_count": null,
   "id": "4904c492",
   "metadata": {},
   "outputs": [],
   "source": [
    "# 예제\n",
    "\n",
    "# 데이터가 10, 20, 30인 시리즈 생성, 인덱스는 부산, 울산, 대구으로 설정\n",
    "# 데이터가 1, 2, 3, 4인 시리즈 생성, 인덱스는 광주, 부산, 울산, 대구으로 설정\n",
    "# 데이터의 덧셈"
   ]
  },
  {
   "cell_type": "code",
   "execution_count": null,
   "id": "59733d5f",
   "metadata": {},
   "outputs": [
    {
     "data": {
      "text/plain": [
       "광주     NaN\n",
       "대구    34.0\n",
       "부산    12.0\n",
       "울산    23.0\n",
       "dtype: float64"
      ]
     },
     "execution_count": 13,
     "metadata": {},
     "output_type": "execute_result"
    }
   ],
   "source": [
    "data1 = pd.Series(\n",
    "    data=[10, 20, 30],\n",
    "    index=[\"부산\", \"울산\", \"대구\"]\n",
    ")\n",
    "data2 = pd.Series(\n",
    "    data=[1, 2, 3, 4],\n",
    "    index=[\"광주\", \"부산\", \"울산\", \"대구\"]\n",
    ")\n",
    "\n",
    "data3 = data1 + data2\n",
    "data3"
   ]
  },
  {
   "cell_type": "code",
   "execution_count": null,
   "id": "6508c1ec",
   "metadata": {},
   "outputs": [
    {
     "data": {
      "text/plain": [
       "광주    999.0\n",
       "대구     34.0\n",
       "부산     12.0\n",
       "울산     23.0\n",
       "dtype: float64"
      ]
     },
     "execution_count": 14,
     "metadata": {},
     "output_type": "execute_result"
    }
   ],
   "source": [
    "data3.fillna(999)"
   ]
  },
  {
   "cell_type": "code",
   "execution_count": null,
   "id": "78d1ea25",
   "metadata": {},
   "outputs": [
    {
     "data": {
      "text/plain": [
       "광주     NaN\n",
       "대구    34.0\n",
       "부산    12.0\n",
       "울산    23.0\n",
       "dtype: float64"
      ]
     },
     "execution_count": 16,
     "metadata": {},
     "output_type": "execute_result"
    }
   ],
   "source": [
    "data3"
   ]
  },
  {
   "cell_type": "code",
   "execution_count": null,
   "id": "f63524ba",
   "metadata": {},
   "outputs": [
    {
     "data": {
      "text/plain": [
       "대구    34.0\n",
       "부산    12.0\n",
       "울산    23.0\n",
       "dtype: float64"
      ]
     },
     "execution_count": 17,
     "metadata": {},
     "output_type": "execute_result"
    }
   ],
   "source": [
    "data3.dropna()"
   ]
  },
  {
   "cell_type": "markdown",
   "id": "e036d61b",
   "metadata": {},
   "source": [
    "## 4) 통계"
   ]
  },
  {
   "cell_type": "code",
   "execution_count": null,
   "id": "954dd1cb",
   "metadata": {},
   "outputs": [],
   "source": [
    "# 예제. 문자 데이터\n",
    "\n",
    "# ['HR', 'Engineering', 'HR', 'Engineering', 'HR', 'Marketing', 'Engineering', 'Marketing', 'HR']\n",
    "data = pd.Series(\n",
    "    data = ['HR', 'Engineering', 'HR', 'Engineering', 'HR', 'Marketing', 'Engineering', 'Marketing', 'HR']\n",
    ")"
   ]
  },
  {
   "cell_type": "code",
   "execution_count": null,
   "id": "9fe38663",
   "metadata": {},
   "outputs": [
    {
     "data": {
      "text/plain": [
       "count      9\n",
       "unique     3\n",
       "top       HR\n",
       "freq       4\n",
       "dtype: object"
      ]
     },
     "execution_count": 25,
     "metadata": {},
     "output_type": "execute_result"
    }
   ],
   "source": [
    "data.describe() #freq 는 최빈값 수 "
   ]
  },
  {
   "cell_type": "code",
   "execution_count": null,
   "id": "6259fc32",
   "metadata": {},
   "outputs": [],
   "source": [
    "data = pd.Series(\n",
    "    data=[10, 20, 30],\n",
    "    index=[\"부산\", \"울산\", \"대구\"]\n",
    ")"
   ]
  },
  {
   "cell_type": "code",
   "execution_count": null,
   "id": "e0273c1f",
   "metadata": {},
   "outputs": [],
   "source": [
    "data = pd.Series(\n",
    "    data =[\"복숭아\", \"사과\", \"딸기\"],\n",
    "    index = [\"부산\", \"서울\", \"울산\"] ##특산품\n",
    ")\n"
   ]
  },
  {
   "cell_type": "code",
   "execution_count": null,
   "id": "2c61522e",
   "metadata": {},
   "outputs": [
    {
     "ename": "NameError",
     "evalue": "name 'data' is not defined",
     "output_type": "error",
     "traceback": [
      "\u001b[1;31m---------------------------------------------------------------------------\u001b[0m",
      "\u001b[1;31mNameError\u001b[0m                                 Traceback (most recent call last)",
      "Cell \u001b[1;32mIn[2], line 1\u001b[0m\n\u001b[1;32m----> 1\u001b[0m \u001b[38;5;28mprint\u001b[39m(\u001b[43mdata\u001b[49m\u001b[38;5;241m.\u001b[39msum())\n\u001b[0;32m      2\u001b[0m \u001b[38;5;28mprint\u001b[39m(data\u001b[38;5;241m.\u001b[39mmin())\n\u001b[0;32m      3\u001b[0m \u001b[38;5;28mprint\u001b[39m(data\u001b[38;5;241m.\u001b[39mmax())\n",
      "\u001b[1;31mNameError\u001b[0m: name 'data' is not defined"
     ]
    }
   ],
   "source": [
    "print(data.sum())\n",
    "print(data.min())\n",
    "print(data.max())\n",
    "print(data.mean())\n",
    "print(data.var()) #분산(데이터 - 평균)^2 / 전체 데이터 개수 \n",
    "print(data.std())  #표준편차 루트(분산)"
   ]
  },
  {
   "cell_type": "code",
   "execution_count": null,
   "id": "c18a97a7",
   "metadata": {},
   "outputs": [
    {
     "data": {
      "text/html": [
       "<div>\n",
       "<style scoped>\n",
       "    .dataframe tbody tr th:only-of-type {\n",
       "        vertical-align: middle;\n",
       "    }\n",
       "\n",
       "    .dataframe tbody tr th {\n",
       "        vertical-align: top;\n",
       "    }\n",
       "\n",
       "    .dataframe thead th {\n",
       "        text-align: right;\n",
       "    }\n",
       "</style>\n",
       "<table border=\"1\" class=\"dataframe\">\n",
       "  <thead>\n",
       "    <tr style=\"text-align: right;\">\n",
       "      <th></th>\n",
       "      <th>이름</th>\n",
       "      <th>성별</th>\n",
       "      <th>나이</th>\n",
       "      <th>키</th>\n",
       "    </tr>\n",
       "  </thead>\n",
       "  <tbody>\n",
       "    <tr>\n",
       "      <th>0</th>\n",
       "      <td>김영철</td>\n",
       "      <td>M</td>\n",
       "      <td>24</td>\n",
       "      <td>179.4</td>\n",
       "    </tr>\n",
       "    <tr>\n",
       "      <th>1</th>\n",
       "      <td>송윤지</td>\n",
       "      <td>F</td>\n",
       "      <td>31</td>\n",
       "      <td>161.0</td>\n",
       "    </tr>\n",
       "    <tr>\n",
       "      <th>2</th>\n",
       "      <td>임수현</td>\n",
       "      <td>F</td>\n",
       "      <td>26</td>\n",
       "      <td>174.0</td>\n",
       "    </tr>\n",
       "  </tbody>\n",
       "</table>\n",
       "</div>"
      ],
      "text/plain": [
       "    이름 성별  나이      키\n",
       "0  김영철  M  24  179.4\n",
       "1  송윤지  F  31  161.0\n",
       "2  임수현  F  26  174.0"
      ]
     },
     "execution_count": 32,
     "metadata": {},
     "output_type": "execute_result"
    }
   ],
   "source": [
    "## 2차원 리스트 \n",
    "data_list = [\n",
    "    [\"김영철\", \"M\", 24, 179.4],\n",
    "    [\"송윤지\", \"F\", 31, 161.0],\n",
    "    [\"임수현\", \"F\", 26, 174]\n",
    "]\n",
    "data = pd.DataFrame(data_list)\n",
    "data\n",
    "\n",
    "data.columns= [\"이름\",\"성별\",\"나이\",\"키\"] #각 열의 타이틀 작성 \n",
    "data"
   ]
  },
  {
   "cell_type": "code",
   "execution_count": null,
   "id": "aa0d7b2d",
   "metadata": {},
   "outputs": [
    {
     "data": {
      "text/html": [
       "<div>\n",
       "<style scoped>\n",
       "    .dataframe tbody tr th:only-of-type {\n",
       "        vertical-align: middle;\n",
       "    }\n",
       "\n",
       "    .dataframe tbody tr th {\n",
       "        vertical-align: top;\n",
       "    }\n",
       "\n",
       "    .dataframe thead th {\n",
       "        text-align: right;\n",
       "    }\n",
       "</style>\n",
       "<table border=\"1\" class=\"dataframe\">\n",
       "  <thead>\n",
       "    <tr style=\"text-align: right;\">\n",
       "      <th></th>\n",
       "      <th>이름</th>\n",
       "      <th>성별</th>\n",
       "      <th>나이</th>\n",
       "      <th>키</th>\n",
       "    </tr>\n",
       "  </thead>\n",
       "  <tbody>\n",
       "    <tr>\n",
       "      <th>0</th>\n",
       "      <td>김영철</td>\n",
       "      <td>M</td>\n",
       "      <td>24</td>\n",
       "      <td>179.4</td>\n",
       "    </tr>\n",
       "    <tr>\n",
       "      <th>1</th>\n",
       "      <td>송윤지</td>\n",
       "      <td>F</td>\n",
       "      <td>31</td>\n",
       "      <td>161.0</td>\n",
       "    </tr>\n",
       "    <tr>\n",
       "      <th>2</th>\n",
       "      <td>임수현</td>\n",
       "      <td>F</td>\n",
       "      <td>26</td>\n",
       "      <td>174.0</td>\n",
       "    </tr>\n",
       "  </tbody>\n",
       "</table>\n",
       "</div>"
      ],
      "text/plain": [
       "    이름 성별  나이      키\n",
       "0  김영철  M  24  179.4\n",
       "1  송윤지  F  31  161.0\n",
       "2  임수현  F  26  174.0"
      ]
     },
     "execution_count": 35,
     "metadata": {},
     "output_type": "execute_result"
    }
   ],
   "source": [
    "# 열에 대한 딕셔너리 \n",
    "data_dict = {\n",
    "    \"이름\": [\"김영철\", \"송윤지\", \"임수현\"],\n",
    "    \"성별\": [\"M\", \"F\", \"F\"],\n",
    "    \"나이\": [24, 31, 26],\n",
    "    \"키\": [179.4, 161.0, 174.0]\n",
    "}\n",
    "data = pd.DataFrame(data_dict)\n",
    "data"
   ]
  },
  {
   "cell_type": "code",
   "execution_count": null,
   "id": "b90ba111",
   "metadata": {},
   "outputs": [
    {
     "data": {
      "text/html": [
       "<div>\n",
       "<style scoped>\n",
       "    .dataframe tbody tr th:only-of-type {\n",
       "        vertical-align: middle;\n",
       "    }\n",
       "\n",
       "    .dataframe tbody tr th {\n",
       "        vertical-align: top;\n",
       "    }\n",
       "\n",
       "    .dataframe thead th {\n",
       "        text-align: right;\n",
       "    }\n",
       "</style>\n",
       "<table border=\"1\" class=\"dataframe\">\n",
       "  <thead>\n",
       "    <tr style=\"text-align: right;\">\n",
       "      <th></th>\n",
       "      <th>이름</th>\n",
       "      <th>성별</th>\n",
       "      <th>나이</th>\n",
       "      <th>키</th>\n",
       "    </tr>\n",
       "  </thead>\n",
       "  <tbody>\n",
       "    <tr>\n",
       "      <th>0</th>\n",
       "      <td>김영철</td>\n",
       "      <td>M</td>\n",
       "      <td>24</td>\n",
       "      <td>179.4</td>\n",
       "    </tr>\n",
       "    <tr>\n",
       "      <th>1</th>\n",
       "      <td>송윤지</td>\n",
       "      <td>F</td>\n",
       "      <td>31</td>\n",
       "      <td>161.0</td>\n",
       "    </tr>\n",
       "    <tr>\n",
       "      <th>2</th>\n",
       "      <td>임수현</td>\n",
       "      <td>F</td>\n",
       "      <td>26</td>\n",
       "      <td>174.0</td>\n",
       "    </tr>\n",
       "  </tbody>\n",
       "</table>\n",
       "</div>"
      ],
      "text/plain": [
       "    이름 성별  나이      키\n",
       "0  김영철  M  24  179.4\n",
       "1  송윤지  F  31  161.0\n",
       "2  임수현  F  26  174.0"
      ]
     },
     "execution_count": 36,
     "metadata": {},
     "output_type": "execute_result"
    }
   ],
   "source": [
    "data_list = [\n",
    "    {\"이름\": \"김영철\", \"성별\": \"M\", \"나이\": 24, \"키\": 179.4},\n",
    "    {\"이름\": \"송윤지\", \"성별\": \"F\", \"나이\": 31, \"키\": 161.0},\n",
    "    {\"이름\": \"임수현\", \"성별\": \"F\", \"나이\": 26, \"키\": 174},\n",
    "]\n",
    "data = pd.DataFrame(data_list)\n",
    "data"
   ]
  },
  {
   "cell_type": "code",
   "execution_count": 26,
   "id": "8c425d72",
   "metadata": {},
   "outputs": [
    {
     "data": {
      "text/html": [
       "<div>\n",
       "<style scoped>\n",
       "    .dataframe tbody tr th:only-of-type {\n",
       "        vertical-align: middle;\n",
       "    }\n",
       "\n",
       "    .dataframe tbody tr th {\n",
       "        vertical-align: top;\n",
       "    }\n",
       "\n",
       "    .dataframe thead th {\n",
       "        text-align: right;\n",
       "    }\n",
       "</style>\n",
       "<table border=\"1\" class=\"dataframe\">\n",
       "  <thead>\n",
       "    <tr style=\"text-align: right;\">\n",
       "      <th></th>\n",
       "      <th>이름</th>\n",
       "      <th>나이</th>\n",
       "      <th>성별</th>\n",
       "      <th>지역</th>\n",
       "      <th>전공</th>\n",
       "      <th>키(cm)</th>\n",
       "      <th>몸무게(kg)</th>\n",
       "      <th>운동횟수</th>\n",
       "      <th>음주 여부</th>\n",
       "      <th>출석률(%)</th>\n",
       "    </tr>\n",
       "  </thead>\n",
       "  <tbody>\n",
       "    <tr>\n",
       "      <th>0</th>\n",
       "      <td>민지</td>\n",
       "      <td>24</td>\n",
       "      <td>F</td>\n",
       "      <td>서울</td>\n",
       "      <td>심리학</td>\n",
       "      <td>163</td>\n",
       "      <td>54</td>\n",
       "      <td>3</td>\n",
       "      <td>아니오</td>\n",
       "      <td>96.5</td>\n",
       "    </tr>\n",
       "    <tr>\n",
       "      <th>1</th>\n",
       "      <td>지훈</td>\n",
       "      <td>27</td>\n",
       "      <td>M</td>\n",
       "      <td>부산</td>\n",
       "      <td>컴퓨터공학</td>\n",
       "      <td>175</td>\n",
       "      <td>68</td>\n",
       "      <td>1</td>\n",
       "      <td>예</td>\n",
       "      <td>89.2</td>\n",
       "    </tr>\n",
       "    <tr>\n",
       "      <th>2</th>\n",
       "      <td>유진</td>\n",
       "      <td>22</td>\n",
       "      <td>F</td>\n",
       "      <td>대전</td>\n",
       "      <td>디자인</td>\n",
       "      <td>160</td>\n",
       "      <td>48</td>\n",
       "      <td>4</td>\n",
       "      <td>아니오</td>\n",
       "      <td>98.7</td>\n",
       "    </tr>\n",
       "    <tr>\n",
       "      <th>3</th>\n",
       "      <td>수아</td>\n",
       "      <td>26</td>\n",
       "      <td>F</td>\n",
       "      <td>광주</td>\n",
       "      <td>경영학</td>\n",
       "      <td>167</td>\n",
       "      <td>56</td>\n",
       "      <td>2</td>\n",
       "      <td>예</td>\n",
       "      <td>92.0</td>\n",
       "    </tr>\n",
       "    <tr>\n",
       "      <th>4</th>\n",
       "      <td>현우</td>\n",
       "      <td>25</td>\n",
       "      <td>M</td>\n",
       "      <td>광주</td>\n",
       "      <td>통계학</td>\n",
       "      <td>178</td>\n",
       "      <td>73</td>\n",
       "      <td>5</td>\n",
       "      <td>예</td>\n",
       "      <td>94.8</td>\n",
       "    </tr>\n",
       "  </tbody>\n",
       "</table>\n",
       "</div>"
      ],
      "text/plain": [
       "   이름  나이 성별  지역     전공  키(cm)  몸무게(kg)  운동횟수 음주 여부  출석률(%)\n",
       "0  민지  24  F  서울    심리학    163       54     3   아니오    96.5\n",
       "1  지훈  27  M  부산  컴퓨터공학    175       68     1     예    89.2\n",
       "2  유진  22  F  대전    디자인    160       48     4   아니오    98.7\n",
       "3  수아  26  F  광주    경영학    167       56     2     예    92.0\n",
       "4  현우  25  M  광주    통계학    178       73     5     예    94.8"
      ]
     },
     "execution_count": 26,
     "metadata": {},
     "output_type": "execute_result"
    }
   ],
   "source": [
    "data_list = [\n",
    "  {\n",
    "    \"이름\": \"민지\",\n",
    "    \"나이\": 24,\n",
    "    \"성별\": \"F\",\n",
    "    \"지역\": \"서울\",\n",
    "    \"전공\": \"심리학\",\n",
    "    \"키(cm)\": 163,\n",
    "    \"몸무게(kg)\": 54,\n",
    "    \"운동횟수\": 3,\n",
    "    \"음주 여부\": \"아니오\",\n",
    "    \"출석률(%)\": 96.5\n",
    "  },\n",
    "  {\n",
    "    \"이름\": \"지훈\",\n",
    "    \"나이\": 27,\n",
    "    \"성별\": \"M\",\n",
    "    \"지역\": \"부산\",\n",
    "    \"전공\": \"컴퓨터공학\",\n",
    "    \"키(cm)\": 175,\n",
    "    \"몸무게(kg)\": 68,\n",
    "    \"운동횟수\": 1,\n",
    "    \"음주 여부\": \"예\",\n",
    "    \"출석률(%)\": 89.2\n",
    "  },\n",
    "  {\n",
    "    \"이름\": \"유진\",\n",
    "    \"나이\": 22,\n",
    "    \"성별\": \"F\",\n",
    "    \"지역\": \"대전\",\n",
    "    \"전공\": \"디자인\",\n",
    "    \"키(cm)\": 160,\n",
    "    \"몸무게(kg)\": 48,\n",
    "    \"운동횟수\": 4,\n",
    "    \"음주 여부\": \"아니오\",\n",
    "    \"출석률(%)\": 98.7\n",
    "  },\n",
    "  {\n",
    "    \"이름\": \"수아\",\n",
    "    \"나이\": 26,\n",
    "    \"성별\": \"F\",\n",
    "    \"지역\": \"광주\",\n",
    "    \"전공\": \"경영학\",\n",
    "    \"키(cm)\": 167,\n",
    "    \"몸무게(kg)\": 56,\n",
    "    \"운동횟수\": 2,\n",
    "    \"음주 여부\": \"예\",\n",
    "    \"출석률(%)\": 92.0\n",
    "  },\n",
    "  {\n",
    "    \"이름\": \"현우\",\n",
    "    \"나이\": 25,\n",
    "    \"성별\": \"M\",\n",
    "    \"지역\": \"광주\",\n",
    "    \"전공\": \"통계학\",\n",
    "    \"키(cm)\": 178,\n",
    "    \"몸무게(kg)\": 73,\n",
    "    \"운동횟수\": 5,\n",
    "    \"음주 여부\": \"예\",\n",
    "    \"출석률(%)\": 94.8\n",
    "  }\n",
    "]\n",
    "\n",
    "data = pd.DataFrame(data_list)\n",
    "data\n",
    "\n"
   ]
  },
  {
   "cell_type": "code",
   "execution_count": 27,
   "id": "2c563b4a",
   "metadata": {},
   "outputs": [],
   "source": [
    "# 이름을 인덱스로 설정해주세요 set_index() data2에 저장\n",
    "# data2에서 인덱스를 열로 바꿔주세요\n",
    "# data에서 이름, 전공 열을 조회해주세요\n",
    "# data2에서 수아 학생의 데이터를 조회해주세요\n",
    "# data2에서 지훈, 현우 학생의 데이터를 조회해주세요\n",
    "# data2에서 유진 학생의 음주 여부를 조회해주세요\n",
    "# data2에서 민지 학생의 키, 몸무게를 조회해주세요\n",
    "# data에서 성별이 F인 데이터만 조회해주세요\n",
    "# data에서 키가 170미만이고 출석률이 90% 이상인 데이터를 조회해주세요\n",
    "# data에서 나이가 25미만이거나 지역이 부산인 데이터를 조회해주세요\n",
    "# data에서 출석률을 기준으로 내림차순 정렬해주세요 "
   ]
  },
  {
   "cell_type": "code",
   "execution_count": 28,
   "id": "0a2941b1",
   "metadata": {},
   "outputs": [
    {
     "data": {
      "text/html": [
       "<div>\n",
       "<style scoped>\n",
       "    .dataframe tbody tr th:only-of-type {\n",
       "        vertical-align: middle;\n",
       "    }\n",
       "\n",
       "    .dataframe tbody tr th {\n",
       "        vertical-align: top;\n",
       "    }\n",
       "\n",
       "    .dataframe thead th {\n",
       "        text-align: right;\n",
       "    }\n",
       "</style>\n",
       "<table border=\"1\" class=\"dataframe\">\n",
       "  <thead>\n",
       "    <tr style=\"text-align: right;\">\n",
       "      <th></th>\n",
       "      <th>나이</th>\n",
       "      <th>성별</th>\n",
       "      <th>지역</th>\n",
       "      <th>전공</th>\n",
       "      <th>키(cm)</th>\n",
       "      <th>몸무게(kg)</th>\n",
       "      <th>운동횟수</th>\n",
       "      <th>음주 여부</th>\n",
       "      <th>출석률(%)</th>\n",
       "    </tr>\n",
       "    <tr>\n",
       "      <th>이름</th>\n",
       "      <th></th>\n",
       "      <th></th>\n",
       "      <th></th>\n",
       "      <th></th>\n",
       "      <th></th>\n",
       "      <th></th>\n",
       "      <th></th>\n",
       "      <th></th>\n",
       "      <th></th>\n",
       "    </tr>\n",
       "  </thead>\n",
       "  <tbody>\n",
       "    <tr>\n",
       "      <th>민지</th>\n",
       "      <td>24</td>\n",
       "      <td>F</td>\n",
       "      <td>서울</td>\n",
       "      <td>심리학</td>\n",
       "      <td>163</td>\n",
       "      <td>54</td>\n",
       "      <td>3</td>\n",
       "      <td>아니오</td>\n",
       "      <td>96.5</td>\n",
       "    </tr>\n",
       "    <tr>\n",
       "      <th>지훈</th>\n",
       "      <td>27</td>\n",
       "      <td>M</td>\n",
       "      <td>부산</td>\n",
       "      <td>컴퓨터공학</td>\n",
       "      <td>175</td>\n",
       "      <td>68</td>\n",
       "      <td>1</td>\n",
       "      <td>예</td>\n",
       "      <td>89.2</td>\n",
       "    </tr>\n",
       "    <tr>\n",
       "      <th>유진</th>\n",
       "      <td>22</td>\n",
       "      <td>F</td>\n",
       "      <td>대전</td>\n",
       "      <td>디자인</td>\n",
       "      <td>160</td>\n",
       "      <td>48</td>\n",
       "      <td>4</td>\n",
       "      <td>아니오</td>\n",
       "      <td>98.7</td>\n",
       "    </tr>\n",
       "    <tr>\n",
       "      <th>수아</th>\n",
       "      <td>26</td>\n",
       "      <td>F</td>\n",
       "      <td>광주</td>\n",
       "      <td>경영학</td>\n",
       "      <td>167</td>\n",
       "      <td>56</td>\n",
       "      <td>2</td>\n",
       "      <td>예</td>\n",
       "      <td>92.0</td>\n",
       "    </tr>\n",
       "    <tr>\n",
       "      <th>현우</th>\n",
       "      <td>25</td>\n",
       "      <td>M</td>\n",
       "      <td>광주</td>\n",
       "      <td>통계학</td>\n",
       "      <td>178</td>\n",
       "      <td>73</td>\n",
       "      <td>5</td>\n",
       "      <td>예</td>\n",
       "      <td>94.8</td>\n",
       "    </tr>\n",
       "  </tbody>\n",
       "</table>\n",
       "</div>"
      ],
      "text/plain": [
       "    나이 성별  지역     전공  키(cm)  몸무게(kg)  운동횟수 음주 여부  출석률(%)\n",
       "이름                                                      \n",
       "민지  24  F  서울    심리학    163       54     3   아니오    96.5\n",
       "지훈  27  M  부산  컴퓨터공학    175       68     1     예    89.2\n",
       "유진  22  F  대전    디자인    160       48     4   아니오    98.7\n",
       "수아  26  F  광주    경영학    167       56     2     예    92.0\n",
       "현우  25  M  광주    통계학    178       73     5     예    94.8"
      ]
     },
     "execution_count": 28,
     "metadata": {},
     "output_type": "execute_result"
    }
   ],
   "source": [
    "# 이름을 인덱스로 설정해주세요 set_index() data2에 저장\n",
    "data2 = data.set_index(\"이름\")\n",
    "data2"
   ]
  },
  {
   "cell_type": "code",
   "execution_count": 29,
   "id": "b0a62009",
   "metadata": {},
   "outputs": [
    {
     "data": {
      "text/html": [
       "<div>\n",
       "<style scoped>\n",
       "    .dataframe tbody tr th:only-of-type {\n",
       "        vertical-align: middle;\n",
       "    }\n",
       "\n",
       "    .dataframe tbody tr th {\n",
       "        vertical-align: top;\n",
       "    }\n",
       "\n",
       "    .dataframe thead th {\n",
       "        text-align: right;\n",
       "    }\n",
       "</style>\n",
       "<table border=\"1\" class=\"dataframe\">\n",
       "  <thead>\n",
       "    <tr style=\"text-align: right;\">\n",
       "      <th></th>\n",
       "      <th>이름</th>\n",
       "      <th>나이</th>\n",
       "      <th>성별</th>\n",
       "      <th>지역</th>\n",
       "      <th>전공</th>\n",
       "      <th>키(cm)</th>\n",
       "      <th>몸무게(kg)</th>\n",
       "      <th>운동횟수</th>\n",
       "      <th>음주 여부</th>\n",
       "      <th>출석률(%)</th>\n",
       "    </tr>\n",
       "  </thead>\n",
       "  <tbody>\n",
       "    <tr>\n",
       "      <th>0</th>\n",
       "      <td>민지</td>\n",
       "      <td>24</td>\n",
       "      <td>F</td>\n",
       "      <td>서울</td>\n",
       "      <td>심리학</td>\n",
       "      <td>163</td>\n",
       "      <td>54</td>\n",
       "      <td>3</td>\n",
       "      <td>아니오</td>\n",
       "      <td>96.5</td>\n",
       "    </tr>\n",
       "    <tr>\n",
       "      <th>1</th>\n",
       "      <td>지훈</td>\n",
       "      <td>27</td>\n",
       "      <td>M</td>\n",
       "      <td>부산</td>\n",
       "      <td>컴퓨터공학</td>\n",
       "      <td>175</td>\n",
       "      <td>68</td>\n",
       "      <td>1</td>\n",
       "      <td>예</td>\n",
       "      <td>89.2</td>\n",
       "    </tr>\n",
       "    <tr>\n",
       "      <th>2</th>\n",
       "      <td>유진</td>\n",
       "      <td>22</td>\n",
       "      <td>F</td>\n",
       "      <td>대전</td>\n",
       "      <td>디자인</td>\n",
       "      <td>160</td>\n",
       "      <td>48</td>\n",
       "      <td>4</td>\n",
       "      <td>아니오</td>\n",
       "      <td>98.7</td>\n",
       "    </tr>\n",
       "    <tr>\n",
       "      <th>3</th>\n",
       "      <td>수아</td>\n",
       "      <td>26</td>\n",
       "      <td>F</td>\n",
       "      <td>광주</td>\n",
       "      <td>경영학</td>\n",
       "      <td>167</td>\n",
       "      <td>56</td>\n",
       "      <td>2</td>\n",
       "      <td>예</td>\n",
       "      <td>92.0</td>\n",
       "    </tr>\n",
       "    <tr>\n",
       "      <th>4</th>\n",
       "      <td>현우</td>\n",
       "      <td>25</td>\n",
       "      <td>M</td>\n",
       "      <td>광주</td>\n",
       "      <td>통계학</td>\n",
       "      <td>178</td>\n",
       "      <td>73</td>\n",
       "      <td>5</td>\n",
       "      <td>예</td>\n",
       "      <td>94.8</td>\n",
       "    </tr>\n",
       "  </tbody>\n",
       "</table>\n",
       "</div>"
      ],
      "text/plain": [
       "   이름  나이 성별  지역     전공  키(cm)  몸무게(kg)  운동횟수 음주 여부  출석률(%)\n",
       "0  민지  24  F  서울    심리학    163       54     3   아니오    96.5\n",
       "1  지훈  27  M  부산  컴퓨터공학    175       68     1     예    89.2\n",
       "2  유진  22  F  대전    디자인    160       48     4   아니오    98.7\n",
       "3  수아  26  F  광주    경영학    167       56     2     예    92.0\n",
       "4  현우  25  M  광주    통계학    178       73     5     예    94.8"
      ]
     },
     "execution_count": 29,
     "metadata": {},
     "output_type": "execute_result"
    }
   ],
   "source": [
    "data2.reset_index()"
   ]
  },
  {
   "cell_type": "code",
   "execution_count": 30,
   "id": "da6b09f6",
   "metadata": {},
   "outputs": [
    {
     "data": {
      "text/html": [
       "<div>\n",
       "<style scoped>\n",
       "    .dataframe tbody tr th:only-of-type {\n",
       "        vertical-align: middle;\n",
       "    }\n",
       "\n",
       "    .dataframe tbody tr th {\n",
       "        vertical-align: top;\n",
       "    }\n",
       "\n",
       "    .dataframe thead th {\n",
       "        text-align: right;\n",
       "    }\n",
       "</style>\n",
       "<table border=\"1\" class=\"dataframe\">\n",
       "  <thead>\n",
       "    <tr style=\"text-align: right;\">\n",
       "      <th></th>\n",
       "      <th>이름</th>\n",
       "      <th>전공</th>\n",
       "    </tr>\n",
       "  </thead>\n",
       "  <tbody>\n",
       "    <tr>\n",
       "      <th>0</th>\n",
       "      <td>민지</td>\n",
       "      <td>심리학</td>\n",
       "    </tr>\n",
       "    <tr>\n",
       "      <th>1</th>\n",
       "      <td>지훈</td>\n",
       "      <td>컴퓨터공학</td>\n",
       "    </tr>\n",
       "    <tr>\n",
       "      <th>2</th>\n",
       "      <td>유진</td>\n",
       "      <td>디자인</td>\n",
       "    </tr>\n",
       "    <tr>\n",
       "      <th>3</th>\n",
       "      <td>수아</td>\n",
       "      <td>경영학</td>\n",
       "    </tr>\n",
       "    <tr>\n",
       "      <th>4</th>\n",
       "      <td>현우</td>\n",
       "      <td>통계학</td>\n",
       "    </tr>\n",
       "  </tbody>\n",
       "</table>\n",
       "</div>"
      ],
      "text/plain": [
       "   이름     전공\n",
       "0  민지    심리학\n",
       "1  지훈  컴퓨터공학\n",
       "2  유진    디자인\n",
       "3  수아    경영학\n",
       "4  현우    통계학"
      ]
     },
     "execution_count": 30,
     "metadata": {},
     "output_type": "execute_result"
    }
   ],
   "source": [
    "# data에서 이름, 전공 열을 조회해주세요\n",
    "data[[\"이름\", \"전공\"]]"
   ]
  },
  {
   "cell_type": "code",
   "execution_count": 31,
   "id": "70676464",
   "metadata": {},
   "outputs": [
    {
     "data": {
      "text/plain": [
       "나이           26\n",
       "성별            F\n",
       "지역           광주\n",
       "전공          경영학\n",
       "키(cm)       167\n",
       "몸무게(kg)      56\n",
       "운동횟수          2\n",
       "음주 여부         예\n",
       "출석률(%)     92.0\n",
       "Name: 수아, dtype: object"
      ]
     },
     "execution_count": 31,
     "metadata": {},
     "output_type": "execute_result"
    }
   ],
   "source": [
    "# data2에서 수아 학생의 데이터를 조회해주세요\n",
    "data2.loc[\"수아\",:] # 이때 loc는 행열"
   ]
  },
  {
   "cell_type": "code",
   "execution_count": 32,
   "id": "19914794",
   "metadata": {},
   "outputs": [
    {
     "data": {
      "text/plain": [
       "나이           26\n",
       "성별            F\n",
       "지역           광주\n",
       "전공          경영학\n",
       "키(cm)       167\n",
       "몸무게(kg)      56\n",
       "운동횟수          2\n",
       "음주 여부         예\n",
       "출석률(%)     92.0\n",
       "Name: 수아, dtype: object"
      ]
     },
     "execution_count": 32,
     "metadata": {},
     "output_type": "execute_result"
    }
   ],
   "source": [
    "data2.loc[\"수아\",:]"
   ]
  },
  {
   "cell_type": "code",
   "execution_count": 33,
   "id": "6b0d649c",
   "metadata": {},
   "outputs": [
    {
     "data": {
      "text/html": [
       "<div>\n",
       "<style scoped>\n",
       "    .dataframe tbody tr th:only-of-type {\n",
       "        vertical-align: middle;\n",
       "    }\n",
       "\n",
       "    .dataframe tbody tr th {\n",
       "        vertical-align: top;\n",
       "    }\n",
       "\n",
       "    .dataframe thead th {\n",
       "        text-align: right;\n",
       "    }\n",
       "</style>\n",
       "<table border=\"1\" class=\"dataframe\">\n",
       "  <thead>\n",
       "    <tr style=\"text-align: right;\">\n",
       "      <th></th>\n",
       "      <th>나이</th>\n",
       "      <th>성별</th>\n",
       "      <th>지역</th>\n",
       "      <th>전공</th>\n",
       "      <th>키(cm)</th>\n",
       "      <th>몸무게(kg)</th>\n",
       "      <th>운동횟수</th>\n",
       "      <th>음주 여부</th>\n",
       "      <th>출석률(%)</th>\n",
       "    </tr>\n",
       "    <tr>\n",
       "      <th>이름</th>\n",
       "      <th></th>\n",
       "      <th></th>\n",
       "      <th></th>\n",
       "      <th></th>\n",
       "      <th></th>\n",
       "      <th></th>\n",
       "      <th></th>\n",
       "      <th></th>\n",
       "      <th></th>\n",
       "    </tr>\n",
       "  </thead>\n",
       "  <tbody>\n",
       "    <tr>\n",
       "      <th>수아</th>\n",
       "      <td>26</td>\n",
       "      <td>F</td>\n",
       "      <td>광주</td>\n",
       "      <td>경영학</td>\n",
       "      <td>167</td>\n",
       "      <td>56</td>\n",
       "      <td>2</td>\n",
       "      <td>예</td>\n",
       "      <td>92.0</td>\n",
       "    </tr>\n",
       "    <tr>\n",
       "      <th>지훈</th>\n",
       "      <td>27</td>\n",
       "      <td>M</td>\n",
       "      <td>부산</td>\n",
       "      <td>컴퓨터공학</td>\n",
       "      <td>175</td>\n",
       "      <td>68</td>\n",
       "      <td>1</td>\n",
       "      <td>예</td>\n",
       "      <td>89.2</td>\n",
       "    </tr>\n",
       "  </tbody>\n",
       "</table>\n",
       "</div>"
      ],
      "text/plain": [
       "    나이 성별  지역     전공  키(cm)  몸무게(kg)  운동횟수 음주 여부  출석률(%)\n",
       "이름                                                      \n",
       "수아  26  F  광주    경영학    167       56     2     예    92.0\n",
       "지훈  27  M  부산  컴퓨터공학    175       68     1     예    89.2"
      ]
     },
     "execution_count": 33,
     "metadata": {},
     "output_type": "execute_result"
    }
   ],
   "source": [
    "data2.loc[[\"수아\",\"지훈\"],:]"
   ]
  },
  {
   "cell_type": "code",
   "execution_count": 34,
   "id": "f0994645",
   "metadata": {},
   "outputs": [
    {
     "data": {
      "text/plain": [
       "'아니오'"
      ]
     },
     "execution_count": 34,
     "metadata": {},
     "output_type": "execute_result"
    }
   ],
   "source": [
    "data.iloc[2, -2]"
   ]
  },
  {
   "cell_type": "code",
   "execution_count": 37,
   "id": "bcf322db",
   "metadata": {},
   "outputs": [
    {
     "data": {
      "text/html": [
       "<div>\n",
       "<style scoped>\n",
       "    .dataframe tbody tr th:only-of-type {\n",
       "        vertical-align: middle;\n",
       "    }\n",
       "\n",
       "    .dataframe tbody tr th {\n",
       "        vertical-align: top;\n",
       "    }\n",
       "\n",
       "    .dataframe thead th {\n",
       "        text-align: right;\n",
       "    }\n",
       "</style>\n",
       "<table border=\"1\" class=\"dataframe\">\n",
       "  <thead>\n",
       "    <tr style=\"text-align: right;\">\n",
       "      <th></th>\n",
       "      <th>나이</th>\n",
       "      <th>성별</th>\n",
       "      <th>지역</th>\n",
       "      <th>전공</th>\n",
       "      <th>키(cm)</th>\n",
       "      <th>몸무게(kg)</th>\n",
       "      <th>운동횟수</th>\n",
       "      <th>음주 여부</th>\n",
       "      <th>출석률(%)</th>\n",
       "    </tr>\n",
       "    <tr>\n",
       "      <th>이름</th>\n",
       "      <th></th>\n",
       "      <th></th>\n",
       "      <th></th>\n",
       "      <th></th>\n",
       "      <th></th>\n",
       "      <th></th>\n",
       "      <th></th>\n",
       "      <th></th>\n",
       "      <th></th>\n",
       "    </tr>\n",
       "  </thead>\n",
       "  <tbody>\n",
       "    <tr>\n",
       "      <th>민지</th>\n",
       "      <td>24</td>\n",
       "      <td>F</td>\n",
       "      <td>서울</td>\n",
       "      <td>심리학</td>\n",
       "      <td>163</td>\n",
       "      <td>54</td>\n",
       "      <td>3</td>\n",
       "      <td>아니오</td>\n",
       "      <td>96.5</td>\n",
       "    </tr>\n",
       "    <tr>\n",
       "      <th>지훈</th>\n",
       "      <td>27</td>\n",
       "      <td>M</td>\n",
       "      <td>부산</td>\n",
       "      <td>컴퓨터공학</td>\n",
       "      <td>175</td>\n",
       "      <td>68</td>\n",
       "      <td>1</td>\n",
       "      <td>예</td>\n",
       "      <td>89.2</td>\n",
       "    </tr>\n",
       "    <tr>\n",
       "      <th>유진</th>\n",
       "      <td>22</td>\n",
       "      <td>F</td>\n",
       "      <td>대전</td>\n",
       "      <td>디자인</td>\n",
       "      <td>160</td>\n",
       "      <td>48</td>\n",
       "      <td>4</td>\n",
       "      <td>아니오</td>\n",
       "      <td>98.7</td>\n",
       "    </tr>\n",
       "    <tr>\n",
       "      <th>수아</th>\n",
       "      <td>26</td>\n",
       "      <td>F</td>\n",
       "      <td>광주</td>\n",
       "      <td>경영학</td>\n",
       "      <td>167</td>\n",
       "      <td>56</td>\n",
       "      <td>2</td>\n",
       "      <td>예</td>\n",
       "      <td>92.0</td>\n",
       "    </tr>\n",
       "    <tr>\n",
       "      <th>현우</th>\n",
       "      <td>25</td>\n",
       "      <td>M</td>\n",
       "      <td>광주</td>\n",
       "      <td>통계학</td>\n",
       "      <td>178</td>\n",
       "      <td>73</td>\n",
       "      <td>5</td>\n",
       "      <td>예</td>\n",
       "      <td>94.8</td>\n",
       "    </tr>\n",
       "  </tbody>\n",
       "</table>\n",
       "</div>"
      ],
      "text/plain": [
       "    나이 성별  지역     전공  키(cm)  몸무게(kg)  운동횟수 음주 여부  출석률(%)\n",
       "이름                                                      \n",
       "민지  24  F  서울    심리학    163       54     3   아니오    96.5\n",
       "지훈  27  M  부산  컴퓨터공학    175       68     1     예    89.2\n",
       "유진  22  F  대전    디자인    160       48     4   아니오    98.7\n",
       "수아  26  F  광주    경영학    167       56     2     예    92.0\n",
       "현우  25  M  광주    통계학    178       73     5     예    94.8"
      ]
     },
     "execution_count": 37,
     "metadata": {},
     "output_type": "execute_result"
    }
   ],
   "source": [
    "data2"
   ]
  },
  {
   "cell_type": "code",
   "execution_count": 36,
   "id": "bb395990",
   "metadata": {},
   "outputs": [
    {
     "data": {
      "text/plain": [
       "키(cm)      163\n",
       "몸무게(kg)     54\n",
       "Name: 민지, dtype: object"
      ]
     },
     "execution_count": 36,
     "metadata": {},
     "output_type": "execute_result"
    }
   ],
   "source": [
    "data2.loc[\"민지\",[\"키(cm)\", \"몸무게(kg)\"]]"
   ]
  },
  {
   "cell_type": "code",
   "execution_count": null,
   "id": "134821cf",
   "metadata": {},
   "outputs": [
    {
     "data": {
      "text/plain": [
       "키(cm)      163\n",
       "몸무게(kg)     54\n",
       "Name: 민지, dtype: object"
      ]
     },
     "execution_count": 81,
     "metadata": {},
     "output_type": "execute_result"
    }
   ],
   "source": [
    "data2.iloc[0, 4:6]"
   ]
  },
  {
   "cell_type": "code",
   "execution_count": null,
   "id": "67b9362f",
   "metadata": {},
   "outputs": [],
   "source": [
    "# data에서 성별이 F인 데이터만 조회해주세요\n",
    "data.loc[data[\"성별\"]== \"F\",:]\n",
    "# data에서 키가 170미만이고 출석률이 90% 이상인 데이터를 조회해주세요\n",
    "# data에서 나이가 25미만이거나 지역이 부산인 데이터를 조회해주세요\n",
    "# data에서 출석률을 기준으로 내림차순 정렬해주세요 "
   ]
  },
  {
   "cell_type": "code",
   "execution_count": 39,
   "id": "8adf0eb1",
   "metadata": {},
   "outputs": [
    {
     "name": "stdout",
     "output_type": "stream",
     "text": [
      "Error 401 {\"errorMessage\":\"NID AUTH Result Invalid (1000) : Authentication failed. (인증에 실패했습니다.)\",\"errorCode\":\"024\"}\n"
     ]
    }
   ],
   "source": [
    "import requests\n",
    "import json\n",
    "import urllib.parse\n",
    "\n",
    "client_id = \"YOUR_CLIENT_ID\"\n",
    "client_secret = \"YOUR_CLIENT_SECRET\"\n",
    "\n",
    "url = \"https://openapi.naver.com/v1/search/news.json\"\n",
    "headers = {\n",
    "    \"X-Naver-Client-Id\": client_id,\n",
    "    \"X-Naver-Client-Secret\": client_secret\n",
    "}\n",
    "\n",
    "params = {\n",
    "    \"query\": \"서울 공실률\",\n",
    "    \"display\": 20,        # 최대 100\n",
    "    \"start\": 1,\n",
    "    \"sort\": \"date\"        # 최신순\n",
    "}\n",
    "\n",
    "resp = requests.get(url, headers=headers, params=params)\n",
    "if resp.status_code == 200:\n",
    "    data = resp.json().get(\"items\", [])\n",
    "    # 기사 제목, 링크, 요약, 언론사, 날짜 출력\n",
    "    for i, item in enumerate(data, 1):\n",
    "        print(f\"{i}. {item['title']}\\n   {item['link']}\\n   {item['description']}\\n   {item['pubDate']}\\n\")\n",
    "else:\n",
    "    print(\"Error\", resp.status_code, resp.text)"
   ]
  },
  {
   "cell_type": "code",
   "execution_count": null,
   "id": "ece82011",
   "metadata": {},
   "outputs": [],
   "source": [
    "import os\n",
    "import sys\n",
    "import urllib.request\n",
    "client_id = \"DBdbM_wKpuKti7InRNQV\"\n",
    "client_secret = \"x2ieUYnR8D\"\n",
    "encText = urllib.parse.quote(\"공실\")\n",
    "url = \"https://openapi.naver.com/v1/search/news?query=\" + encText # JSON 결과\n",
    "# url = \"https://openapi.naver.com/v1/search/news.xml?query=\" + encText # XML 결과\n",
    "request = urllib.request.Request(url)\n",
    "request.add_header(\"X-Naver-Client-Id\",client_id)\n",
    "request.add_header(\"X-Naver-Client-Secret\",client_secret)\n",
    "response = urllib.request.urlopen(request)\n",
    "rescode = response.getcode()\n",
    "if(rescode==200):\n",
    "    response_body = response.read()\n",
    "    print(response_body.decode('utf-8'))\n",
    "else:\n",
    "    print(\"Error Code:\" + rescode)"
   ]
  }
 ],
 "metadata": {
  "kernelspec": {
   "display_name": "potenup",
   "language": "python",
   "name": "python3"
  },
  "language_info": {
   "codemirror_mode": {
    "name": "ipython",
    "version": 3
   },
   "file_extension": ".py",
   "mimetype": "text/x-python",
   "name": "python",
   "nbconvert_exporter": "python",
   "pygments_lexer": "ipython3",
   "version": "3.10.18"
  }
 },
 "nbformat": 4,
 "nbformat_minor": 5
}
