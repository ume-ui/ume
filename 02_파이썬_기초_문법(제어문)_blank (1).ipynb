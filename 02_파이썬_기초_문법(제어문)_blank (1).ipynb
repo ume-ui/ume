{
 "cells": [
  {
   "cell_type": "markdown",
   "metadata": {},
   "source": [
    "# 제어문"
   ]
  },
  {
   "cell_type": "markdown",
   "metadata": {},
   "source": [
    "# 1. 조건문"
   ]
  },
  {
   "cell_type": "markdown",
   "metadata": {},
   "source": [
    "## 1) 연산자"
   ]
  },
  {
   "cell_type": "markdown",
   "metadata": {},
   "source": [
    "문제. 나이가 10세 이상이고, 키가 120cm 이상일 때만 놀이기구 탑승\n",
    "\n",
    "* 탑승 가능하면 \"통과\" 아니면 \"탑승 불가\"라고 출력하기"
   ]
  },
  {
   "cell_type": "code",
   "execution_count": null,
   "metadata": {},
   "outputs": [],
   "source": [
    "#조건1:10세 이상 \n",
    "#조건2 : 키가 120 이상\n",
    "age = 14\n",
    "height = 119\n",
    "if age >= 10 & height >= 120:\n",
    "    print(\"통과\")\n",
    "else:\n",
    "    print(\"탑승불가\")     \n",
    "\n"
   ]
  },
  {
   "cell_type": "markdown",
   "metadata": {},
   "source": [
    "문제. 10만원 이상 구매하거나 \"Gold\" 등급이면 10% 할인\n",
    "\n",
    "* 할인이 가능하면 \"10% 할인 가능\" 아니면 \"10% 할인 불가\" 출력"
   ]
  },
  {
   "cell_type": "code",
   "execution_count": null,
   "metadata": {},
   "outputs": [],
   "source": [
    "price = 80_000\n",
    "level = \"Gold\"\n",
    "if price >= 100_000 or level == \"Gold\":\n",
    "    print(\"10% 할인\")\n",
    "else: \n",
    "    print(\"10% 할인 불가\")"
   ]
  },
  {
   "cell_type": "code",
   "execution_count": null,
   "metadata": {},
   "outputs": [],
   "source": [
    "# 지갑 안에 운전면허증(license)이 있다면 통과이고 없으면 벌금이다. \n",
    "# 만약 벌금을 납부하게 되면 지갑에 카드(credit card)가 있으면 카드 결제이고 아니면 현금 납부이다. \n",
    "\n",
    "# 벌금을 납부하게 된다면 \"벌금 대상자\"을 출력하고 아니면 \"통과\"를 출력한다\n",
    "# 그리고 벌금을 납부하게 된다면 \"카드납부\" 아니면 \"현금납부\"를 출력한다.\n",
    "# 이 사람은 어떻게 해야 하는가?\n",
    "wallet = [\"credit card\", \"trash\"]"
   ]
  },
  {
   "cell_type": "code",
   "execution_count": null,
   "metadata": {},
   "outputs": [],
   "source": [
    "if license\"in\" wallet:\n",
    "    print(\"통과\")\n",
    "else: \n",
    "    print(\"벌금 대상자\")\n",
    "#만약 벌금을 납부하게 되면 지갑에 카드(creditcard)가 있으면 카드 결제이고 아니면 현금 납부이다 \n",
    "    if creditcard \"in\" wallet:\n",
    "        print(\"카드납부\")\n",
    "    else:\n",
    "        print(\"현금납부\")\n"
   ]
  },
  {
   "cell_type": "code",
   "execution_count": null,
   "metadata": {},
   "outputs": [],
   "source": []
  },
  {
   "cell_type": "markdown",
   "metadata": {},
   "source": [
    "## 2) 활용"
   ]
  },
  {
   "cell_type": "markdown",
   "metadata": {},
   "source": [
    "## 4) 예제"
   ]
  },
  {
   "cell_type": "markdown",
   "metadata": {},
   "source": [
    "문제 1. 온도가 15도에서 25도 사이인지 확인하는 예시:"
   ]
  },
  {
   "cell_type": "code",
   "execution_count": null,
   "metadata": {},
   "outputs": [],
   "source": [
    "temperature = 20\n",
    "if 15 <= temperature <= 25:\n",
    "    print(\"적절한 온도입니다.\")\n",
    "else:\n",
    "    print(\"온도가 적절하지 않습니다.\")"
   ]
  },
  {
   "cell_type": "code",
   "execution_count": null,
   "metadata": {},
   "outputs": [],
   "source": [
    "temperature = 20\n",
    "if 15 <= temperature and temperature <= 25:\n",
    "    print(\"적절한 온도입니다.\")\n",
    "else:\n",
    "    print(\"온도가 적절하지 않습니다.\")"
   ]
  },
  {
   "cell_type": "markdown",
   "metadata": {},
   "source": [
    "문제 2. 학생의 성적에 따른 장학금 여부 결정\n",
    "\n",
    "* GPA가 4.0 이상이면 100% 장학금을 받습니다.\n",
    "* GPA가 3.5 이상이면 50% 장학금을 받습니다.\n",
    "* GPA가 3.0 이상이면 30% 장학금을 받습니다.\n",
    "* 그 외에는 장학금을 받을 수 없습니다."
   ]
  },
  {
   "cell_type": "code",
   "execution_count": null,
   "metadata": {},
   "outputs": [],
   "source": [
    "GPA = 5\n",
    "if GPA >= 4.0:\n",
    "    print(\"100% 장학금\")\n",
    "elif GPA >= 3.5:\n",
    "    print(\"50% 장학금\")\n",
    "elif GPA >= 3.0:\n",
    "    print(\"50% 장학금\")\n",
    "if GPA < 3.0:\n",
    "    print(\"비대상\")"
   ]
  },
  {
   "cell_type": "code",
   "execution_count": null,
   "metadata": {},
   "outputs": [],
   "source": [
    "GPA >= 4.0 "
   ]
  },
  {
   "cell_type": "markdown",
   "metadata": {},
   "source": [
    "문제 3. 특정 단어가 문장에서 없는지 확인\n",
    "\n",
    "* search_word가 text에 포함되지 않으면 해당 단어가 문장에 없다는 메시지를 출력합니다."
   ]
  },
  {
   "cell_type": "code",
   "execution_count": null,
   "metadata": {},
   "outputs": [],
   "source": [
    "text = \"데이터 분석은 흥미롭고 중요한 분야입니다.\"\n",
    "search_word = \"AI\"\n",
    "\n",
    "if search_word in text: \n",
    "    print(\" 포함됩니다 \")\n",
    "else: \n",
    "    print(\"포함되지 않습니다\")\n",
    "\n",
    "if search_word not in text: \n",
    "    print(\"포함되지 않는데요\")\n",
    "else:\n",
    "    print(\"포함되는데요\")"
   ]
  },
  {
   "cell_type": "markdown",
   "metadata": {},
   "source": [
    "# 2. 반복문"
   ]
  },
  {
   "cell_type": "markdown",
   "metadata": {},
   "source": [
    "## 1) While 문"
   ]
  },
  {
   "cell_type": "markdown",
   "metadata": {},
   "source": [
    "<img src='https://www.dropbox.com/scl/fi/r0815e20gb2hv6a599i00/_-while.png?rlkey=dexzbwy3xu4phnzvo65cb6hbq&st=ykavuhx3&dl=1' width=30%>"
   ]
  },
  {
   "cell_type": "markdown",
   "metadata": {},
   "source": [
    "### (1) 표현"
   ]
  },
  {
   "cell_type": "code",
   "execution_count": null,
   "metadata": {},
   "outputs": [],
   "source": []
  },
  {
   "cell_type": "code",
   "execution_count": null,
   "metadata": {},
   "outputs": [],
   "source": []
  },
  {
   "cell_type": "markdown",
   "metadata": {},
   "source": [
    "# 작동 흐름 \n",
    "count = 0 -> 조건식 count < 3 True -> print(0)|count = 1 \n",
    "count = 1 -> 조건식 count < 3 True -> print(1)|count = 2\n",
    "count = 2 -> 조건식 count < 3 True -> print(2)|count = 3\n",
    "count = 3 -> 조건식 count < 3 False\n"
   ]
  },
  {
   "cell_type": "markdown",
   "metadata": {},
   "source": [
    "### (2) break"
   ]
  },
  {
   "cell_type": "code",
   "execution_count": null,
   "metadata": {},
   "outputs": [],
   "source": [
    "count = 0\n",
    "while count < 3: #조건식 :\n",
    "    print(count)#실행코드\n",
    "    count += 1\n",
    "\n",
    "    if count > 3:\n",
    "            break\n",
    "    \n",
    "\n",
    "    \n"
   ]
  },
  {
   "cell_type": "code",
   "execution_count": 1,
   "metadata": {},
   "outputs": [
    {
     "name": "stdout",
     "output_type": "stream",
     "text": [
      "0\n",
      "1\n",
      "2\n"
     ]
    }
   ],
   "source": [
    "count = 0 \n",
    "while count < 3:\n",
    "    print(count)\n",
    "    count += 1\n",
    "\n",
    "    if count > 3:\n",
    "            break\n"
   ]
  },
  {
   "cell_type": "code",
   "execution_count": 3,
   "metadata": {},
   "outputs": [
    {
     "name": "stdout",
     "output_type": "stream",
     "text": [
      "<class 'list'>\n"
     ]
    }
   ],
   "source": [
    "data = list(range(30))\n",
    "print(type(data)) \n"
   ]
  },
  {
   "cell_type": "code",
   "execution_count": null,
   "metadata": {},
   "outputs": [],
   "source": [
    "count = 0 \n",
    "while True < 3: #트루는 원래 정수형으로  1의 값을 가진다 그래서 이 조건식에서는 무한 루프를 돌아갈 수 있다 \n",
    "    print(count)\n",
    "    count += 1 \n",
    "\n",
    "    if count > 3:\n",
    "              break"
   ]
  },
  {
   "cell_type": "markdown",
   "metadata": {},
   "source": [
    "### (2) continue"
   ]
  },
  {
   "cell_type": "code",
   "execution_count": null,
   "metadata": {},
   "outputs": [],
   "source": [
    "# 작동 흐름\n",
    "# count = 0 -> 조건식 count < 3 True -> print(0) -> count = 1\n",
    "# count = 1 -> 조건식 count < 3 True -> print(1) -> count = 2\n",
    "# count = 2 -> 조건식 count < 3 True -> print(2) -> count = 3\n",
    "# count = 3 -> 조건식 count < 3 False"
   ]
  },
  {
   "cell_type": "code",
   "execution_count": null,
   "metadata": {},
   "outputs": [],
   "source": [
    "count = 0 \n",
    "while True < 3: \n",
    "    print(count)\n",
    "    count += 1\n",
    "\n",
    "    if count > 3: \n",
    "        break"
   ]
  },
  {
   "cell_type": "code",
   "execution_count": null,
   "metadata": {},
   "outputs": [],
   "source": []
  },
  {
   "cell_type": "code",
   "execution_count": null,
   "metadata": {},
   "outputs": [],
   "source": []
  },
  {
   "cell_type": "markdown",
   "metadata": {},
   "source": [
    "## 2) For 문"
   ]
  },
  {
   "cell_type": "markdown",
   "metadata": {},
   "source": [
    "<img src='https://www.dropbox.com/scl/fi/eezsh68wobwm87rhh7209/_-for.png?rlkey=w1mhrm40cg413ajdajix0bb9m&st=ptyurj6a&dl=1' width='30%'>"
   ]
  },
  {
   "cell_type": "markdown",
   "metadata": {},
   "source": [
    "### (1) 표현"
   ]
  },
  {
   "cell_type": "markdown",
   "metadata": {},
   "source": [
    "### (2) 관련 주요 함수"
   ]
  },
  {
   "cell_type": "code",
   "execution_count": null,
   "metadata": {},
   "outputs": [],
   "source": [
    "#range(n): 0부터 n-1까지 1씩 증가하는 연속적인 범위를 생성해줌 \n",
    "#range()를 이용해서 다음 출력이 나오도록 코딩해주세요 \n",
    "#출력결과 \n",
    "num_list - [1,2,3,4]\n",
    "for "
   ]
  },
  {
   "cell_type": "code",
   "execution_count": null,
   "metadata": {},
   "outputs": [],
   "source": [
    "for i in range(5):\n",
    "    print(i+1)"
   ]
  },
  {
   "cell_type": "code",
   "execution_count": null,
   "metadata": {},
   "outputs": [],
   "source": [
    "for i in range(1, 6):\n",
    "    print(i)"
   ]
  },
  {
   "cell_type": "code",
   "execution_count": null,
   "metadata": {},
   "outputs": [],
   "source": [
    "students = [\"홍길동\", \"김철수\", \"한유리\", \"정성우\"]\n",
    "for student in students:\n",
    "    print(student)"
   ]
  },
  {
   "cell_type": "code",
   "execution_count": null,
   "metadata": {},
   "outputs": [],
   "source": [
    "# 위치 이름 \n",
    "count = len(students)\n",
    "#print(count)\n",
    "\n",
    "for i in range(count): \n",
    "    print(i, students[i])"
   ]
  },
  {
   "cell_type": "code",
   "execution_count": null,
   "metadata": {},
   "outputs": [],
   "source": [
    "for i, student in enumerate(students):\n",
    "    print(i, student)\n",
    "  "
   ]
  },
  {
   "cell_type": "code",
   "execution_count": null,
   "metadata": {},
   "outputs": [],
   "source": [
    "fruits = ['apple', 'banana', 'cherry']\n",
    "for fruit in fruits:\n",
    "    print(fruit)"
   ]
  },
  {
   "cell_type": "markdown",
   "metadata": {},
   "source": [
    "### (3) break/continue"
   ]
  },
  {
   "cell_type": "markdown",
   "metadata": {},
   "source": [
    "#### break"
   ]
  },
  {
   "cell_type": "code",
   "execution_count": null,
   "metadata": {},
   "outputs": [],
   "source": [
    "#1부터 10까지 숫자 중에서 7이 나오면 반복문 중지 \n",
    "#num = range[10]\n",
    "\n",
    "#print(num)  \n",
    "\n",
    "count = 0\n",
    "while True < : #조건식 :\n",
    "   #실행코드\n",
    "    count += 1\n",
    "    print(count)\n",
    "    if count < 7:\n",
    "        break\n",
    "    "
   ]
  },
  {
   "cell_type": "code",
   "execution_count": null,
   "metadata": {},
   "outputs": [],
   "source": [
    "for i in range(1, 11)\n",
    "    if i == 5: \n",
    "        print(\"건너뛰기\")\n",
    "        "
   ]
  },
  {
   "cell_type": "code",
   "execution_count": null,
   "metadata": {},
   "outputs": [],
   "source": [
    "#1부터 10까지 숫자 중에서 5만빼고 출력 "
   ]
  },
  {
   "cell_type": "markdown",
   "metadata": {},
   "source": [
    "#### continue"
   ]
  },
  {
   "cell_type": "markdown",
   "metadata": {},
   "source": [
    "### (4) 활용"
   ]
  },
  {
   "cell_type": "markdown",
   "metadata": {},
   "source": [
    "## 3) 예제"
   ]
  },
  {
   "cell_type": "markdown",
   "metadata": {},
   "source": [
    "예제1. 학생 성적 딕셔너리\n",
    "\n",
    "반복문을 사용해서 \"홍길동님의 성적은 85점입니다\" 형태로 출력하세요.\n",
    "\n",
    "```\n",
    "grades = {\n",
    "    \"John\": 85,\n",
    "    \"Emily\": 92,\n",
    "    \"Tom\": 78,\n",
    "    \"Lucy\": 88\n",
    "}\n",
    "```"
   ]
  },
  {
   "cell_type": "code",
   "execution_count": 8,
   "metadata": {},
   "outputs": [
    {
     "name": "stdout",
     "output_type": "stream",
     "text": [
      "John님의 성적은 85점입니다.\n",
      "Emily님의 성적은 92점입니다.\n",
      "Tom님의 성적은 78점입니다.\n",
      "Lucy님의 성적은 88점입니다.\n",
      "홍길동님의 성적은 85점입니다.\n"
     ]
    }
   ],
   "source": [
    "grades = {\n",
    "    \"John\": 85,\n",
    "    \"Emily\": 92,\n",
    "    \"Tom\": 78,\n",
    "    \"Lucy\": 88\n",
    "}\n",
    "grades[\"홍길동\"] = 85\n",
    "\n",
    "for name,score in grades.items():\n",
    "    print(f\"{name}님의 성적은 {score}점입니다.\")"
   ]
  },
  {
   "cell_type": "code",
   "execution_count": null,
   "metadata": {},
   "outputs": [],
   "source": []
  },
  {
   "cell_type": "code",
   "execution_count": null,
   "metadata": {},
   "outputs": [],
   "source": [
    "count = 0\n",
    "while count < 3: #조건식 :\n",
    "    print(count)#실행코드\n",
    "    count += 1\n",
    "\n",
    "    if count > 3:\n",
    "            break\n",
    "    \n",
    "    print(count)"
   ]
  },
  {
   "cell_type": "code",
   "execution_count": null,
   "metadata": {},
   "outputs": [],
   "source": [
    "# 미션\n",
    "#score_data = {\"홍길동\": 68, \"최수연\": 44, \"김철수\": 90}\n",
    "\n",
    "## 출력 결과\n",
    "score_data = {\"홍길동\": 68, \"최수연\": 44, \"김철수\": 90}\n",
    "for name in score_data.keys():\n",
    "    print(name)\n",
    "for name in score_data:\n",
    "    print(name)\n",
    "\n",
    "\n",
    "## 출력 결과\n",
    "for score in score_data.values():\n",
    "    print(score)\n",
    "\n",
    "for score in score_data.values():\n",
    "    print(score)\n",
    "\n",
    "#68\n",
    "#44\n",
    "#90\n",
    "\n",
    "## 출력 결과\n",
    "\n",
    "for name, score in score_data.items():\n",
    "    print(f\"{name} {score}점\")\n",
    "#홍길동 68점\n",
    "#최수연 44점\n",
    "#김철수 90점"
   ]
  },
  {
   "cell_type": "markdown",
   "metadata": {},
   "source": [
    "예제2. 센서 온도 데이터\n",
    "\n",
    "30도 이상인 데이터만 출력하세요\n",
    "\n",
    "```\n",
    "temperature_data = [22.5, 35.2, 28.4, 40.1, 25.3]\n",
    "```"
   ]
  },
  {
   "cell_type": "code",
   "execution_count": null,
   "metadata": {},
   "outputs": [],
   "source": [
    "temperature_data = [22.5, 35.2, 28.4, 40.1, 25.3]\n",
    "for temp in "
   ]
  },
  {
   "cell_type": "markdown",
   "metadata": {},
   "source": [
    "예제 3. 고객 주문 데이터\n",
    "\n",
    "반복문을 사용해서 총 매출을 계산하세요.\n",
    "\n",
    "```\n",
    "orders = [\n",
    "    {\"customer\": \"Kim\", \"amount\": 120000},\n",
    "    {\"customer\": \"Lee\", \"amount\": 85000},\n",
    "    {\"customer\": \"Park\", \"amount\": 99000},\n",
    "]\n",
    "```"
   ]
  },
  {
   "cell_type": "markdown",
   "metadata": {},
   "source": [
    "예제 4. 리뷰 데이터\n",
    "\n",
    "짜장면이 언급된 데이터만 출력하세요\n",
    "\n",
    "```\n",
    "reviews = [\n",
    "    \"맛있어요! 짜장면 최고예요!\",\n",
    "    \"배달이 느렸지만 짬뽕은 맛있었어요.\",\n",
    "    \"탕수육은 별로였지만 전체적으로 만족!\",\n",
    "    \"짜장면이 너무 짰어요.\",\n",
    "]\n",
    "```"
   ]
  },
  {
   "cell_type": "markdown",
   "metadata": {},
   "source": [
    "## 4) List Comprehension"
   ]
  },
  {
   "cell_type": "code",
   "execution_count": null,
   "metadata": {},
   "outputs": [],
   "source": [
    "#1~10까지의 숫자리스트를 만들고 싶다. \n",
    "num_list = [ i for i in range(1, 11)]\n",
    "print(num_list)"
   ]
  },
  {
   "cell_type": "code",
   "execution_count": null,
   "metadata": {},
   "outputs": [],
   "source": [
    "#1~10까지의 숫자의 제곱 리스트를 만들고 싶다.\n",
    "num_list = [ i**2 for i in range(1, 11)]\n",
    "print(num_list)"
   ]
  },
  {
   "cell_type": "code",
   "execution_count": null,
   "metadata": {},
   "outputs": [],
   "source": [
    "#1~10까지의 짝수 리스트를 만들고 싶다.\n",
    "num_list = [ i for i in range(1, 11) if i % 2 == 0]\n",
    "print(num_list)"
   ]
  },
  {
   "cell_type": "code",
   "execution_count": null,
   "metadata": {},
   "outputs": [],
   "source": [
    "num_list = [if i %2 ==0 else \"홀수\" for i in range(1,11)]\n",
    "print(num_list)"
   ]
  }
 ],
 "metadata": {
  "kernelspec": {
   "display_name": "potenup",
   "language": "python",
   "name": "python3"
  },
  "language_info": {
   "codemirror_mode": {
    "name": "ipython",
    "version": 3
   },
   "file_extension": ".py",
   "mimetype": "text/x-python",
   "name": "python",
   "nbconvert_exporter": "python",
   "pygments_lexer": "ipython3",
   "version": "3.10.18"
  }
 },
 "nbformat": 4,
 "nbformat_minor": 2
}
