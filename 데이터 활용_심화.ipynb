{
 "cells": [
  {
   "cell_type": "markdown",
   "id": "dc474e70",
   "metadata": {},
   "source": [
    "## 자연어 처리 "
   ]
  },
  {
   "cell_type": "markdown",
   "id": "5edc2ac6",
   "metadata": {},
   "source": [
    "##  1. 토크나이징 "
   ]
  },
  {
   "cell_type": "code",
   "execution_count": 1,
   "id": "43d160d1",
   "metadata": {},
   "outputs": [
    {
     "name": "stdout",
     "output_type": "stream",
     "text": [
      "['네, 안녕하세요.', '반갑습니다.']\n"
     ]
    }
   ],
   "source": [
    "#테스트 코드\n",
    "from konlpy.tag import Kkma \n",
    "from konlpy.utils import pprint \n",
    "\n",
    "kkma = Kkma()\n",
    "pprint(kkma.sentences(u'네, 안녕하세요. 반갑습니다.'))\n"
   ]
  },
  {
   "cell_type": "code",
   "execution_count": 2,
   "id": "0916f6ab",
   "metadata": {},
   "outputs": [
    {
     "name": "stdout",
     "output_type": "stream",
     "text": [
      "('분명', 'Noun')\n",
      "('배달', 'Noun')\n",
      "('이', 'Josa')\n",
      "('완료', 'Noun')\n",
      "('되었는데', 'Verb')\n",
      "('나', 'Noun')\n",
      "('는', 'Josa')\n",
      "('받지', 'Verb')\n",
      "('않았어', 'Verb')\n"
     ]
    }
   ],
   "source": [
    "from konlpy.tag import Okt # Okt \n",
    "okt  = Okt()\n",
    "\n",
    "text = \"분명 배달이 완료되었는데 나는 받지 않았어\"\n",
    "result = okt.pos(text)\n",
    "\n",
    "for res in result:\n",
    "    print(res)"
   ]
  },
  {
   "cell_type": "code",
   "execution_count": 3,
   "id": "2c917462",
   "metadata": {},
   "outputs": [
    {
     "name": "stdout",
     "output_type": "stream",
     "text": [
      "('분명', 'MAG')\n",
      "('배달', 'NNG')\n",
      "('이', 'JKS')\n",
      "('완료', 'NNG')\n",
      "('되', 'XSV')\n",
      "('었', 'EPT')\n",
      "('는데', 'ECD')\n",
      "('나', 'NP')\n",
      "('는', 'JX')\n",
      "('받', 'VV')\n",
      "('지', 'ECD')\n",
      "('않', 'VXV')\n",
      "('았', 'EPT')\n",
      "('어', 'EFN')\n"
     ]
    }
   ],
   "source": [
    "from konlpy.tag import Okt # Okt \n",
    "kkma  = Kkma()\n",
    "\n",
    "text = \"분명 배달이 완료되었는데 나는 받지 않았어\"\n",
    "result = kkma.pos(text)\n",
    "\n",
    "for res in result:\n",
    "    print(res)"
   ]
  },
  {
   "cell_type": "code",
   "execution_count": 4,
   "id": "7fd003a7",
   "metadata": {},
   "outputs": [
    {
     "name": "stdout",
     "output_type": "stream",
     "text": [
      "[('분명', 'Noun'), ('배달', 'Noun'), ('이', 'Josa'), ('완료', 'Noun'), ('되었는데', 'Verb'), ('나', 'Noun'), ('는', 'Josa'), ('받지', 'Verb'), ('않았어', 'Verb')]\n",
      "['분명', '배달', '이', '완료', '되었는데', '나', '는', '받지', '않았어']\n",
      "['분명', '배달', '완료', '나']\n"
     ]
    }
   ],
   "source": [
    "from konlpy.tag import Okt # Okt \n",
    "okt  = Okt()\n",
    "\n",
    "text = \"분명 배달이 완료되었는데 나는 받지 않았어\"\n",
    "result1 = okt.pos(text) # morphs, nouns \n",
    "result2 = okt.morphs(text) # morphs, nouns \n",
    "result3 = okt.nouns(text) # morphs, nouns \n",
    "\n",
    "\n",
    "print(result1)\n",
    "print(result2)\n",
    "print(result3)"
   ]
  },
  {
   "cell_type": "code",
   "execution_count": 5,
   "id": "90f524ee",
   "metadata": {},
   "outputs": [
    {
     "name": "stdout",
     "output_type": "stream",
     "text": [
      "분명\n",
      "배달\n",
      "완료\n",
      "나\n"
     ]
    }
   ],
   "source": [
    "from konlpy.tag import Okt # Okt \n",
    "okt  = Okt()\n",
    "\n",
    "text = \"분명 배달이 완료되었는데 나는 받지 않았어\"\n",
    "result = okt.nouns(text) #명사\n",
    "\n",
    "for res in result:\n",
    "    print(res)"
   ]
  },
  {
   "cell_type": "code",
   "execution_count": 6,
   "id": "0d0f9bc4",
   "metadata": {},
   "outputs": [
    {
     "name": "stdout",
     "output_type": "stream",
     "text": [
      "[('나', 'Noun'), ('는', 'Josa'), ('밥', 'Noun'), ('을', 'Josa'), ('먹었엌', 'Noun'), ('ㅋㅋㅋ', 'KoreanParticle')]\n",
      "[('나', 'Noun'), ('는', 'Josa'), ('밥', 'Noun'), ('을', 'Josa'), ('먹었어', 'Verb'), ('ㅋㅋㅋ', 'KoreanParticle')]\n",
      "[('나', 'Noun'), ('는', 'Josa'), ('밥', 'Noun'), ('을', 'Josa'), ('먹다', 'Verb')]\n"
     ]
    }
   ],
   "source": [
    "text1 = \"나는 밥을 먹었엌ㅋㅋㅋ\"\n",
    "text2 = \"나는 밥을 먹는다\"\n",
    "\n",
    "result1 = okt.pos(text1)\n",
    "result2 = okt.pos(text1, norm = True)\n",
    "result3 = okt.pos(text2, stem = True )\n",
    "\n",
    "print(result1)\n",
    "print(result2)\n",
    "print(result3)\n"
   ]
  },
  {
   "cell_type": "code",
   "execution_count": 7,
   "id": "ce6a429b",
   "metadata": {},
   "outputs": [
    {
     "data": {
      "text/html": [
       "<div>\n",
       "<style scoped>\n",
       "    .dataframe tbody tr th:only-of-type {\n",
       "        vertical-align: middle;\n",
       "    }\n",
       "\n",
       "    .dataframe tbody tr th {\n",
       "        vertical-align: top;\n",
       "    }\n",
       "\n",
       "    .dataframe thead th {\n",
       "        text-align: right;\n",
       "    }\n",
       "</style>\n",
       "<table border=\"1\" class=\"dataframe\">\n",
       "  <thead>\n",
       "    <tr style=\"text-align: right;\">\n",
       "      <th></th>\n",
       "      <th>댓글</th>\n",
       "    </tr>\n",
       "  </thead>\n",
       "  <tbody>\n",
       "    <tr>\n",
       "      <th>0</th>\n",
       "      <td>80분 걸린다길래 주문취소 하려고 주문내역에 들어가면 계속 최신 정보를 불러오지 못...</td>\n",
       "    </tr>\n",
       "    <tr>\n",
       "      <th>1</th>\n",
       "      <td>음식 하나 시키는데 우리나라 앱들은 1) 국내 번호 필요함. 번호 인증 필수 2) ...</td>\n",
       "    </tr>\n",
       "    <tr>\n",
       "      <th>2</th>\n",
       "      <td>왜이렇게 업데이트 할때마다 사용하기 점점 불편하게 바뀌는지? 클릭한번 더 해야되고 ...</td>\n",
       "    </tr>\n",
       "    <tr>\n",
       "      <th>3</th>\n",
       "      <td>배달의 민족앱자체는 만족하나, 식사후 맛 리뷰 평점 자체는 클린하게 이뤄지진 못하는...</td>\n",
       "    </tr>\n",
       "    <tr>\n",
       "      <th>4</th>\n",
       "      <td>장바구니가 너무 불편합니다. 비마트에서 여러가지를 담고 스크롤 올리고 내릴때 살짝 ...</td>\n",
       "    </tr>\n",
       "  </tbody>\n",
       "</table>\n",
       "</div>"
      ],
      "text/plain": [
       "                                                  댓글\n",
       "0  80분 걸린다길래 주문취소 하려고 주문내역에 들어가면 계속 최신 정보를 불러오지 못...\n",
       "1  음식 하나 시키는데 우리나라 앱들은 1) 국내 번호 필요함. 번호 인증 필수 2) ...\n",
       "2  왜이렇게 업데이트 할때마다 사용하기 점점 불편하게 바뀌는지? 클릭한번 더 해야되고 ...\n",
       "3  배달의 민족앱자체는 만족하나, 식사후 맛 리뷰 평점 자체는 클린하게 이뤄지진 못하는...\n",
       "4  장바구니가 너무 불편합니다. 비마트에서 여러가지를 담고 스크롤 올리고 내릴때 살짝 ..."
      ]
     },
     "execution_count": 7,
     "metadata": {},
     "output_type": "execute_result"
    }
   ],
   "source": [
    "import pandas as pd\n",
    "\n",
    "data = pd.read_csv(\"../chan/배달의민족댓글.csv\", index_col = 0) \n",
    "data.head()"
   ]
  },
  {
   "cell_type": "code",
   "execution_count": 8,
   "id": "fe41d102",
   "metadata": {},
   "outputs": [
    {
     "data": {
      "text/html": [
       "<div>\n",
       "<style scoped>\n",
       "    .dataframe tbody tr th:only-of-type {\n",
       "        vertical-align: middle;\n",
       "    }\n",
       "\n",
       "    .dataframe tbody tr th {\n",
       "        vertical-align: top;\n",
       "    }\n",
       "\n",
       "    .dataframe thead th {\n",
       "        text-align: right;\n",
       "    }\n",
       "</style>\n",
       "<table border=\"1\" class=\"dataframe\">\n",
       "  <thead>\n",
       "    <tr style=\"text-align: right;\">\n",
       "      <th></th>\n",
       "      <th>댓글</th>\n",
       "    </tr>\n",
       "  </thead>\n",
       "  <tbody>\n",
       "    <tr>\n",
       "      <th>0</th>\n",
       "      <td>배달의 민족앱자체는 만족하나, 식사후 맛 리뷰 평점 자체는 클린하게 이뤄지진 못하는...</td>\n",
       "    </tr>\n",
       "    <tr>\n",
       "      <th>1</th>\n",
       "      <td>장바구니가 너무 불편합니다. 비마트에서 여러가지를 담고 스크롤 올리고 내릴때 살짝 ...</td>\n",
       "    </tr>\n",
       "    <tr>\n",
       "      <th>2</th>\n",
       "      <td>B마트 이용중인데 언제부턴가 전체선택 버튼이 비활성화되어있습니다. 장바구니에 있는것...</td>\n",
       "    </tr>\n",
       "    <tr>\n",
       "      <th>3</th>\n",
       "      <td>수저포크x 버튼 기본으로 활성화 되어있는거 환경 보호한다고 해놓은거 압니다. 그런데...</td>\n",
       "    </tr>\n",
       "    <tr>\n",
       "      <th>4</th>\n",
       "      <td>개선이되고 업데이트가 된다는건 불편했던 사항들을 반영하는것 아닌가요? 오히려 더 불...</td>\n",
       "    </tr>\n",
       "  </tbody>\n",
       "</table>\n",
       "</div>"
      ],
      "text/plain": [
       "                                                  댓글\n",
       "0  배달의 민족앱자체는 만족하나, 식사후 맛 리뷰 평점 자체는 클린하게 이뤄지진 못하는...\n",
       "1  장바구니가 너무 불편합니다. 비마트에서 여러가지를 담고 스크롤 올리고 내릴때 살짝 ...\n",
       "2  B마트 이용중인데 언제부턴가 전체선택 버튼이 비활성화되어있습니다. 장바구니에 있는것...\n",
       "3  수저포크x 버튼 기본으로 활성화 되어있는거 환경 보호한다고 해놓은거 압니다. 그런데...\n",
       "4  개선이되고 업데이트가 된다는건 불편했던 사항들을 반영하는것 아닌가요? 오히려 더 불..."
      ]
     },
     "execution_count": 8,
     "metadata": {},
     "output_type": "execute_result"
    }
   ],
   "source": [
    "data1 = data.iloc[3:,:].reset_index(drop = True)\n",
    "data1.head()"
   ]
  },
  {
   "cell_type": "code",
   "execution_count": 9,
   "id": "1bcabcdf",
   "metadata": {},
   "outputs": [],
   "source": [
    "# 2. 결측치 제거 "
   ]
  },
  {
   "cell_type": "code",
   "execution_count": 10,
   "id": "144fbde9",
   "metadata": {},
   "outputs": [
    {
     "data": {
      "text/plain": [
       "<bound method NDFrame.head of                                                     댓글\n",
       "0    80분 걸린다길래 주문취소 하려고 주문내역에 들어가면 계속 최신 정보를 불러오지 못...\n",
       "1    음식 하나 시키는데 우리나라 앱들은 1) 국내 번호 필요함. 번호 인증 필수 2) ...\n",
       "2    왜이렇게 업데이트 할때마다 사용하기 점점 불편하게 바뀌는지? 클릭한번 더 해야되고 ...\n",
       "3    배달의 민족앱자체는 만족하나, 식사후 맛 리뷰 평점 자체는 클린하게 이뤄지진 못하는...\n",
       "4    장바구니가 너무 불편합니다. 비마트에서 여러가지를 담고 스크롤 올리고 내릴때 살짝 ...\n",
       "..                                                 ...\n",
       "455  우선 배달업체 광고가 너무 많습니다. 두번째는 주문직전 주소바꾸기 안되는게 매우매우...\n",
       "456  배민 쭉 써왔고 쓴소리 하나 하려합니다. 중간다리 플랫폼으로서 식당/유저 사이 중재...\n",
       "457  업데이트된거 디자인 너무 불편해요. 배민1 부분에서 음식점 둘러보는데 빨리 한거번에...\n",
       "458  첫주문도 아닌데 첫주문 할인받으로 광고 계속오고 친구초대 하려하니까 주문내역이 없다...\n",
       "459  메뉴 잘못와서 문의하는데 채팅 답변하는데만 20분 걸림 메뉴 다시받는데 1시간 걸림...\n",
       "\n",
       "[460 rows x 1 columns]>"
      ]
     },
     "execution_count": 10,
     "metadata": {},
     "output_type": "execute_result"
    }
   ],
   "source": [
    "data2 = data.dropna().reset_index(drop=True)\n",
    "data2.head"
   ]
  },
  {
   "cell_type": "code",
   "execution_count": 11,
   "id": "7426340b",
   "metadata": {},
   "outputs": [],
   "source": [
    "data1.to_csv(\"../chan/배달의민족댓글.csv\")"
   ]
  },
  {
   "cell_type": "code",
   "execution_count": 12,
   "id": "f93396fe",
   "metadata": {},
   "outputs": [
    {
     "data": {
      "text/html": [
       "<div>\n",
       "<style scoped>\n",
       "    .dataframe tbody tr th:only-of-type {\n",
       "        vertical-align: middle;\n",
       "    }\n",
       "\n",
       "    .dataframe tbody tr th {\n",
       "        vertical-align: top;\n",
       "    }\n",
       "\n",
       "    .dataframe thead th {\n",
       "        text-align: right;\n",
       "    }\n",
       "</style>\n",
       "<table border=\"1\" class=\"dataframe\">\n",
       "  <thead>\n",
       "    <tr style=\"text-align: right;\">\n",
       "      <th></th>\n",
       "      <th>댓글</th>\n",
       "    </tr>\n",
       "  </thead>\n",
       "  <tbody>\n",
       "    <tr>\n",
       "      <th>0</th>\n",
       "      <td>배달의 민족앱자체는 만족하나, 식사후 맛 리뷰 평점 자체는 클린하게 이뤄지진 못하는...</td>\n",
       "    </tr>\n",
       "    <tr>\n",
       "      <th>1</th>\n",
       "      <td>장바구니가 너무 불편합니다. 비마트에서 여러가지를 담고 스크롤 올리고 내릴때 살짝 ...</td>\n",
       "    </tr>\n",
       "    <tr>\n",
       "      <th>2</th>\n",
       "      <td>B마트 이용중인데 언제부턴가 전체선택 버튼이 비활성화되어있습니다. 장바구니에 있는것...</td>\n",
       "    </tr>\n",
       "    <tr>\n",
       "      <th>3</th>\n",
       "      <td>수저포크x 버튼 기본으로 활성화 되어있는거 환경 보호한다고 해놓은거 압니다. 그런데...</td>\n",
       "    </tr>\n",
       "    <tr>\n",
       "      <th>4</th>\n",
       "      <td>개선이되고 업데이트가 된다는건 불편했던 사항들을 반영하는것 아닌가요? 오히려 더 불...</td>\n",
       "    </tr>\n",
       "    <tr>\n",
       "      <th>...</th>\n",
       "      <td>...</td>\n",
       "    </tr>\n",
       "    <tr>\n",
       "      <th>452</th>\n",
       "      <td>우선 배달업체 광고가 너무 많습니다. 두번째는 주문직전 주소바꾸기 안되는게 매우매우...</td>\n",
       "    </tr>\n",
       "    <tr>\n",
       "      <th>453</th>\n",
       "      <td>배민 쭉 써왔고 쓴소리 하나 하려합니다. 중간다리 플랫폼으로서 식당/유저 사이 중재...</td>\n",
       "    </tr>\n",
       "    <tr>\n",
       "      <th>454</th>\n",
       "      <td>업데이트된거 디자인 너무 불편해요. 배민1 부분에서 음식점 둘러보는데 빨리 한거번에...</td>\n",
       "    </tr>\n",
       "    <tr>\n",
       "      <th>455</th>\n",
       "      <td>첫주문도 아닌데 첫주문 할인받으로 광고 계속오고 친구초대 하려하니까 주문내역이 없다...</td>\n",
       "    </tr>\n",
       "    <tr>\n",
       "      <th>456</th>\n",
       "      <td>메뉴 잘못와서 문의하는데 채팅 답변하는데만 20분 걸림 메뉴 다시받는데 1시간 걸림...</td>\n",
       "    </tr>\n",
       "  </tbody>\n",
       "</table>\n",
       "<p>457 rows × 1 columns</p>\n",
       "</div>"
      ],
      "text/plain": [
       "                                                    댓글\n",
       "0    배달의 민족앱자체는 만족하나, 식사후 맛 리뷰 평점 자체는 클린하게 이뤄지진 못하는...\n",
       "1    장바구니가 너무 불편합니다. 비마트에서 여러가지를 담고 스크롤 올리고 내릴때 살짝 ...\n",
       "2    B마트 이용중인데 언제부턴가 전체선택 버튼이 비활성화되어있습니다. 장바구니에 있는것...\n",
       "3    수저포크x 버튼 기본으로 활성화 되어있는거 환경 보호한다고 해놓은거 압니다. 그런데...\n",
       "4    개선이되고 업데이트가 된다는건 불편했던 사항들을 반영하는것 아닌가요? 오히려 더 불...\n",
       "..                                                 ...\n",
       "452  우선 배달업체 광고가 너무 많습니다. 두번째는 주문직전 주소바꾸기 안되는게 매우매우...\n",
       "453  배민 쭉 써왔고 쓴소리 하나 하려합니다. 중간다리 플랫폼으로서 식당/유저 사이 중재...\n",
       "454  업데이트된거 디자인 너무 불편해요. 배민1 부분에서 음식점 둘러보는데 빨리 한거번에...\n",
       "455  첫주문도 아닌데 첫주문 할인받으로 광고 계속오고 친구초대 하려하니까 주문내역이 없다...\n",
       "456  메뉴 잘못와서 문의하는데 채팅 답변하는데만 20분 걸림 메뉴 다시받는데 1시간 걸림...\n",
       "\n",
       "[457 rows x 1 columns]"
      ]
     },
     "execution_count": 12,
     "metadata": {},
     "output_type": "execute_result"
    }
   ],
   "source": [
    "data = pd.read_csv(\"../chan/배달의민족댓글.csv\",index_col=0)\n",
    "data"
   ]
  },
  {
   "cell_type": "code",
   "execution_count": 13,
   "id": "ab65691c",
   "metadata": {},
   "outputs": [
    {
     "name": "stdout",
     "output_type": "stream",
     "text": [
      "배달의 민족앱자체는 만족하나, 식사후 맛 리뷰 평점 자체는 클린하게 이뤄지진 못하는것 같습니다.. 식당입장, 그러니까 업주 입장에서는 높은 별점으로 인한 주문건수를 기대하려 하겠지만, 주문자 입장에서는 맛이 없는 식당들도 대체적으로 4.8점이 넘어 정확한 맛집 탐색이 어렵다는 점에서 앱자체에 대한 평점은 3점으로 남겨 놓습니다.. 즐거운 식사를 항상 추구하고 기대하나 평점에 속아 그러지 못해 이를 애석하게 생각하고 있습니다! 수고하시는 어플리케이션 개발자 여러분들 좋은 아이디어로 참신한 방법을 구안해 내시길 바라며 이만 줄입니다.!\n"
     ]
    }
   ],
   "source": [
    "#첫번째 댓글 가져오기 \n",
    "review_one = data[\"댓글\"][0]\n",
    "print(review_one)"
   ]
  },
  {
   "cell_type": "code",
   "execution_count": 14,
   "id": "a7dffef9",
   "metadata": {},
   "outputs": [
    {
     "name": "stdout",
     "output_type": "stream",
     "text": [
      "[('배달', 'Noun'), ('의', 'Josa'), ('민족', 'Noun'), ('앱', 'Noun'), ('자체', 'Noun'), ('는', 'Josa'), ('만족하나', 'Adjective'), (',', 'Punctuation'), ('식사', 'Noun'), ('후', 'Noun'), ('맛', 'Noun'), ('리뷰', 'Noun'), ('평점', 'Noun'), ('자체', 'Noun'), ('는', 'Josa'), ('클린', 'Noun'), ('하게', 'Verb'), ('이뤄지진', 'Verb'), ('못', 'VerbPrefix'), ('하는것', 'Verb'), ('같습니다', 'Adjective'), ('..', 'Punctuation'), ('식당', 'Noun'), ('입장', 'Noun'), (',', 'Punctuation'), ('그러니까', 'Adverb'), ('업주', 'Noun'), ('입장', 'Noun'), ('에서는', 'Josa'), ('높은', 'Adjective'), ('별', 'Modifier'), ('점', 'Noun'), ('으로', 'Josa'), ('인한', 'Adjective'), ('주', 'Modifier'), ('문건', 'Noun'), ('수', 'Noun'), ('를', 'Josa'), ('기대하려', 'Adjective'), ('하겠지만', 'Verb'), (',', 'Punctuation'), ('주문', 'Noun'), ('자', 'Suffix'), ('입장', 'Noun'), ('에서는', 'Josa'), ('맛', 'Noun'), ('이', 'Josa'), ('없는', 'Adjective'), ('식당', 'Noun'), ('들', 'Suffix'), ('도', 'Josa'), ('대', 'Modifier'), ('체적', 'Noun'), ('으로', 'Josa'), ('4.8', 'Number'), ('점', 'Noun'), ('이', 'Josa'), ('넘어', 'Verb'), ('정확한', 'Adjective'), ('맛집', 'Noun'), ('탐색', 'Noun'), ('이', 'Josa'), ('어렵다는', 'Adjective'), ('점', 'Noun'), ('에서', 'Josa'), ('앱', 'Noun'), ('자체', 'Noun'), ('에', 'Josa'), ('대한', 'Noun'), ('평점', 'Noun'), ('은', 'Josa'), ('3', 'Number'), ('점', 'Noun'), ('으로', 'Josa'), ('남겨', 'Verb'), ('놓습니다', 'Verb'), ('..', 'Punctuation'), ('즐거운', 'Adjective'), ('식사', 'Noun'), ('를', 'Josa'), ('항상', 'Noun'), ('추구', 'Noun'), ('하고', 'Josa'), ('기대하나', 'Adjective'), ('평점', 'Noun'), ('에', 'Josa'), ('속', 'Noun'), ('아', 'Josa'), ('그러지', 'Adjective'), ('못', 'VerbPrefix'), ('해', 'Verb'), ('이를', 'Verb'), ('애석하게', 'Adjective'), ('생각', 'Noun'), ('하고', 'Josa'), ('있습니다', 'Adjective'), ('!', 'Punctuation'), ('수고', 'Noun'), ('하시는', 'Verb'), ('어플리케이션', 'Noun'), ('개발자', 'Noun'), ('여러분', 'Noun'), ('들', 'Suffix'), ('좋은', 'Adjective'), ('아이디어', 'Noun'), ('로', 'Josa'), ('참신한', 'Adjective'), ('방법', 'Noun'), ('을', 'Josa'), ('구', 'Modifier'), ('안해', 'Noun'), ('내시길', 'Verb'), ('바라며', 'Verb'), ('이만', 'Adverb'), ('줄입니다', 'Verb'), ('.!', 'Punctuation')]\n"
     ]
    }
   ],
   "source": [
    "from konlpy.tag import Okt # Okt \n",
    "okt  = Okt()\n",
    "\n",
    "result = okt.pos(review_one)\n",
    "print(result)"
   ]
  },
  {
   "cell_type": "code",
   "execution_count": 15,
   "id": "ccdd3e23",
   "metadata": {},
   "outputs": [
    {
     "name": "stdout",
     "output_type": "stream",
     "text": [
      "배달의 민족앱자체는 만족하나, 식사후 맛 리뷰 평점 자체는 클린하게 이뤄지진 못하는것 같습니다.. 식당입장, 그러니까 업주 입장에서는 높은 별점으로 인한 주문건수를 기대하려 하겠지만, 주문자 입장에서는 맛이 없는 식당들도 대체적으로 4.8점이 넘어 정확한 맛집 탐색이 어렵다는 점에서 앱자체에 대한 평점은 3점으로 남겨 놓습니다.. 즐거운 식사를 항상 추구하고 기대하나 평점에 속아 그러지 못해 이를 애석하게 생각하고 있습니다! 수고하시는 어플리케이션 개발자 여러분들 좋은 아이디어로 참신한 방법을 구안해 내시길 바라며 이만 줄입니다.!\n",
      "형태소 분석기 결과:n\n",
      "\t[('배달', 'Noun'), ('의', 'Josa'), ('민족', 'Noun'), ('앱', 'Noun'), ('자체', 'Noun'), ('는', 'Josa'), ('만족하나', 'Adjective'), (',', 'Punctuation'), ('식사', 'Noun'), ('후', 'Noun'), ('맛', 'Noun'), ('리뷰', 'Noun'), ('평점', 'Noun'), ('자체', 'Noun'), ('는', 'Josa'), ('클린', 'Noun'), ('하게', 'Verb'), ('이뤄지진', 'Verb'), ('못', 'VerbPrefix'), ('하는것', 'Verb'), ('같습니다', 'Adjective'), ('..', 'Punctuation'), ('식당', 'Noun'), ('입장', 'Noun'), (',', 'Punctuation'), ('그러니까', 'Adverb'), ('업주', 'Noun'), ('입장', 'Noun'), ('에서는', 'Josa'), ('높은', 'Adjective'), ('별', 'Modifier'), ('점', 'Noun'), ('으로', 'Josa'), ('인한', 'Adjective'), ('주', 'Modifier'), ('문건', 'Noun'), ('수', 'Noun'), ('를', 'Josa'), ('기대하려', 'Adjective'), ('하겠지만', 'Verb'), (',', 'Punctuation'), ('주문', 'Noun'), ('자', 'Suffix'), ('입장', 'Noun'), ('에서는', 'Josa'), ('맛', 'Noun'), ('이', 'Josa'), ('없는', 'Adjective'), ('식당', 'Noun'), ('들', 'Suffix'), ('도', 'Josa'), ('대', 'Modifier'), ('체적', 'Noun'), ('으로', 'Josa'), ('4.8', 'Number'), ('점', 'Noun'), ('이', 'Josa'), ('넘어', 'Verb'), ('정확한', 'Adjective'), ('맛집', 'Noun'), ('탐색', 'Noun'), ('이', 'Josa'), ('어렵다는', 'Adjective'), ('점', 'Noun'), ('에서', 'Josa'), ('앱', 'Noun'), ('자체', 'Noun'), ('에', 'Josa'), ('대한', 'Noun'), ('평점', 'Noun'), ('은', 'Josa'), ('3', 'Number'), ('점', 'Noun'), ('으로', 'Josa'), ('남겨', 'Verb'), ('놓습니다', 'Verb'), ('..', 'Punctuation'), ('즐거운', 'Adjective'), ('식사', 'Noun'), ('를', 'Josa'), ('항상', 'Noun'), ('추구', 'Noun'), ('하고', 'Josa'), ('기대하나', 'Adjective'), ('평점', 'Noun'), ('에', 'Josa'), ('속', 'Noun'), ('아', 'Josa'), ('그러지', 'Adjective'), ('못', 'VerbPrefix'), ('해', 'Verb'), ('이를', 'Verb'), ('애석하게', 'Adjective'), ('생각', 'Noun'), ('하고', 'Josa'), ('있습니다', 'Adjective'), ('!', 'Punctuation'), ('수고', 'Noun'), ('하시는', 'Verb'), ('어플리케이션', 'Noun'), ('개발자', 'Noun'), ('여러분', 'Noun'), ('들', 'Suffix'), ('좋은', 'Adjective'), ('아이디어', 'Noun'), ('로', 'Josa'), ('참신한', 'Adjective'), ('방법', 'Noun'), ('을', 'Josa'), ('구', 'Modifier'), ('안해', 'Noun'), ('내시길', 'Verb'), ('바라며', 'Verb'), ('이만', 'Adverb'), ('줄입니다', 'Verb'), ('.!', 'Punctuation')]\n",
      "장바구니가 너무 불편합니다. 비마트에서 여러가지를 담고 스크롤 올리고 내릴때 살짝 대각선으로 움직이면 배달포장 대용량특가등 좌우로 넘어가 버리고 비마트 항목으로 다시 넘어오면 체크해둔 상태가 아닌 리로딩 되어 맨위로 올라가고 전체선택이 됩니다. 너무 예민해서 살짝만 직선에서 벗어나도 옆 항목으로 가는데 쓸때마다 짜증나더라고요. 위에 배달포장 비마트 대용량특가...등 항목을 눌러서 선택해도 될듯한데 화면을 옆으로 넘길 필요까진 없는듯합니다. 거의 매일 배민 어플 사용하면서 느낀점입니다.\n",
      "형태소 분석기 결과:n\n",
      "\t[('장바구니', 'Noun'), ('가', 'Josa'), ('너무', 'Adverb'), ('불편합니다', 'Adjective'), ('.', 'Punctuation'), ('비', 'Noun'), ('마트', 'Noun'), ('에서', 'Josa'), ('여러가지', 'Noun'), ('를', 'Josa'), ('담고', 'Verb'), ('스', 'Noun'), ('크롤', 'Noun'), ('올리고', 'Verb'), ('내릴', 'Verb'), ('때', 'Noun'), ('살짝', 'Noun'), ('대각선', 'Noun'), ('으로', 'Josa'), ('움직이면', 'Verb'), ('배달', 'Noun'), ('포장', 'Noun'), ('대', 'Modifier'), ('용량', 'Noun'), ('특', 'Noun'), ('가', 'Josa'), ('등', 'Noun'), ('좌우', 'Noun'), ('로', 'Josa'), ('넘어가', 'Verb'), ('버리고', 'Verb'), ('비', 'Noun'), ('마트', 'Noun'), ('항목', 'Noun'), ('으로', 'Josa'), ('다시', 'Noun'), ('넘어오면', 'Verb'), ('체크', 'Noun'), ('해', 'Verb'), ('둔', 'Verb'), ('상태', 'Noun'), ('가', 'Josa'), ('아닌', 'Adjective'), ('리', 'Noun'), ('로딩', 'Noun'), ('되어', 'Verb'), ('맨', 'Modifier'), ('위로', 'Noun'), ('올라가고', 'Verb'), ('전체', 'Noun'), ('선택', 'Noun'), ('이', 'Josa'), ('됩니다', 'Verb'), ('.', 'Punctuation'), ('너무', 'Adverb'), ('예민해서', 'Adjective'), ('살짝', 'Noun'), ('만', 'Josa'), ('직선', 'Noun'), ('에서', 'Josa'), ('벗어나도', 'Verb'), ('옆', 'Noun'), ('항목', 'Noun'), ('으로', 'Josa'), ('가는데', 'Verb'), ('쓸', 'Verb'), ('때', 'Noun'), ('마다', 'Josa'), ('짜증나더라고요', 'Adjective'), ('.', 'Punctuation'), ('위', 'Noun'), ('에', 'Josa'), ('배달', 'Noun'), ('포장', 'Noun'), ('비', 'Noun'), ('마트', 'Noun'), ('대', 'Modifier'), ('용량', 'Noun'), ('특', 'Noun'), ('가', 'Josa'), ('...', 'Punctuation'), ('등', 'Noun'), ('항목', 'Noun'), ('을', 'Josa'), ('눌러서', 'Verb'), ('선택', 'Noun'), ('해도', 'Verb'), ('될듯', 'Verb'), ('한', 'Determiner'), ('데', 'Noun'), ('화면', 'Noun'), ('을', 'Josa'), ('옆', 'Noun'), ('으로', 'Josa'), ('넘길', 'Verb'), ('필요', 'Noun'), ('까진', 'Josa'), ('없는듯', 'Adjective'), ('합니다', 'Verb'), ('.', 'Punctuation'), ('거의', 'Noun'), ('매일', 'Noun'), ('배민', 'Noun'), ('어플', 'Noun'), ('사용', 'Noun'), ('하면서', 'Verb'), ('느낀', 'Verb'), ('점', 'Noun'), ('입니다', 'Adjective'), ('.', 'Punctuation')]\n",
      "B마트 이용중인데 언제부턴가 전체선택 버튼이 비활성화되어있습니다. 장바구니에 있는것 중에 원하는걸 구매하려면 체크박스를 해제하면서 스크롤을 내려야하고 화면을 꾹 눌렀다 떼거나 터치를 잘못하면 페이지가 새로고침되고 선택한게 초기화됩니다. 결제 넘어가기전에 선택제품이 뭔지 한번 더 볼 수 있으면 좋겠어요.\n",
      "형태소 분석기 결과:n\n",
      "\t[('B', 'Alpha'), ('마트', 'Noun'), ('이용', 'Noun'), ('중', 'Suffix'), ('인데', 'Josa'), ('언제', 'Noun'), ('부턴', 'Josa'), ('가', 'Verb'), ('전체', 'Noun'), ('선택', 'Noun'), ('버튼', 'Noun'), ('이', 'Josa'), ('비', 'Noun'), ('활성화', 'Noun'), ('되어있습니다', 'Verb'), ('.', 'Punctuation'), ('장바구니', 'Noun'), ('에', 'Josa'), ('있는것', 'Adjective'), ('중', 'Noun'), ('에', 'Josa'), ('원하는걸', 'Adjective'), ('구매', 'Noun'), ('하려면', 'Verb'), ('체크박스', 'Noun'), ('를', 'Josa'), ('해제', 'Noun'), ('하면서', 'Verb'), ('스크롤', 'Noun'), ('을', 'Josa'), ('내려야하고', 'Verb'), ('화면', 'Noun'), ('을', 'Josa'), ('꾹', 'Noun'), ('눌렀다', 'Verb'), ('떼거나', 'Verb'), ('터치', 'Noun'), ('를', 'Josa'), ('잘못', 'Noun'), ('하면', 'Verb'), ('페이지', 'Noun'), ('가', 'Josa'), ('새로고침', 'Noun'), ('되고', 'Verb'), ('선택', 'Noun'), ('한', 'Determiner'), ('게', 'Noun'), ('초기', 'Noun'), ('화', 'Suffix'), ('됩니다', 'Verb'), ('.', 'Punctuation'), ('결제', 'Noun'), ('넘어가기전에', 'Verb'), ('선택', 'Noun'), ('제품', 'Noun'), ('이', 'Josa'), ('뭔', 'Modifier'), ('지', 'Modifier'), ('한번', 'Noun'), ('더', 'Noun'), ('볼', 'Noun'), ('수', 'Noun'), ('있으면', 'Adjective'), ('좋겠어요', 'Adjective'), ('.', 'Punctuation')]\n",
      "수저포크x 버튼 기본으로 활성화 되어있는거 환경 보호한다고 해놓은거 압니다. 그런데 그거랑 별개로 사용자가 기본설정을 바꿀 수 있게 해줘야지 결제창 껏다가 다시 열면 또 체크되어있어서 조금만 까먹으면 수저없이 밥먹기 일수입니다. 기능을 삭제하는게 아니라 디폴트 설정을 바꿀 수 있게 옵션에 추가해주세요. 저는 직장에서 점심 먹을때 맨손으로 먹기 싫습니다. 이렇게 주문 실수때 젓가락 안받아봤자 결국 먹을 방법이 없어 편의점에서 하나 가져오게 만들 뿐 환경에는 도움이 안됩니다.\n",
      "형태소 분석기 결과:n\n",
      "\t[('수저', 'Noun'), ('포크', 'Noun'), ('x', 'Alpha'), ('버튼', 'Noun'), ('기본', 'Noun'), ('으로', 'Josa'), ('활성화', 'Noun'), ('되어있는거', 'Verb'), ('환경', 'Noun'), ('보호', 'Noun'), ('한다고', 'Verb'), ('해놓은', 'Verb'), ('거', 'Noun'), ('압니', 'Noun'), ('다', 'Josa'), ('.', 'Punctuation'), ('그런데', 'Conjunction'), ('그거', 'Noun'), ('랑', 'Josa'), ('별개', 'Noun'), ('로', 'Josa'), ('사용자', 'Noun'), ('가', 'Josa'), ('기', 'Modifier'), ('본', 'Modifier'), ('설정', 'Noun'), ('을', 'Josa'), ('바꿀', 'Verb'), ('수', 'Noun'), ('있게', 'Adjective'), ('해줘야지', 'Verb'), ('결제', 'Noun'), ('창', 'Noun'), ('껏', 'Noun'), ('다가', 'Noun'), ('다시', 'Noun'), ('열면', 'Verb'), ('또', 'Noun'), ('체크', 'Noun'), ('되어있어서', 'Verb'), ('조금', 'Noun'), ('만', 'Josa'), ('까먹으면', 'Verb'), ('수저', 'Noun'), ('없이', 'Adverb'), ('밥', 'Noun'), ('먹기', 'Noun'), ('일수', 'Noun'), ('입니다', 'Adjective'), ('.', 'Punctuation'), ('기능', 'Noun'), ('을', 'Josa'), ('삭제', 'Noun'), ('하는게', 'Verb'), ('아니라', 'Adjective'), ('디폴트', 'Noun'), ('설정', 'Noun'), ('을', 'Josa'), ('바꿀', 'Verb'), ('수', 'Noun'), ('있게', 'Adjective'), ('옵션', 'Noun'), ('에', 'Josa'), ('추가', 'Noun'), ('해주세요', 'Verb'), ('.', 'Punctuation'), ('저', 'Noun'), ('는', 'Josa'), ('직장', 'Noun'), ('에서', 'Josa'), ('점심', 'Noun'), ('먹을', 'Verb'), ('때', 'Noun'), ('맨손', 'Noun'), ('으로', 'Josa'), ('먹기', 'Noun'), ('싫습니다', 'Adjective'), ('.', 'Punctuation'), ('이렇게', 'Adverb'), ('주문', 'Noun'), ('실수', 'Noun'), ('때', 'Noun'), ('젓가락', 'Noun'), ('안', 'VerbPrefix'), ('받아', 'Verb'), ('봤자', 'Verb'), ('결국', 'Adverb'), ('먹을', 'Verb'), ('방법', 'Noun'), ('이', 'Josa'), ('없어', 'Adjective'), ('편의점', 'Noun'), ('에서', 'Josa'), ('하나', 'Noun'), ('가져오게', 'Verb'), ('만들', 'Verb'), ('뿐', 'Noun'), ('환경', 'Noun'), ('에는', 'Josa'), ('도움', 'Noun'), ('이', 'Josa'), ('안됩니다', 'Adjective'), ('.', 'Punctuation')]\n",
      "개선이되고 업데이트가 된다는건 불편했던 사항들을 반영하는것 아닌가요? 오히려 더 불편해서 보기가 싫을정도입니다 너무 불편하고 더 조잡스러워 보여요 ; 안보이는 식당은 일일히 검색해서 찾아야하고 찾아야 나오고 그전 버전이 훨씬 편합니다ㅡㅡ\n",
      "형태소 분석기 결과:n\n",
      "\t[('개선', 'Noun'), ('이', 'Josa'), ('되고', 'Verb'), ('업데이트', 'Noun'), ('가', 'Josa'), ('된다는건', 'Verb'), ('불편했던', 'Adjective'), ('사항', 'Noun'), ('들', 'Suffix'), ('을', 'Josa'), ('반영', 'Noun'), ('하는것', 'Verb'), ('아닌가요', 'Adjective'), ('?', 'Punctuation'), ('오히려', 'Noun'), ('더', 'Noun'), ('불편해서', 'Adjective'), ('보기', 'Noun'), ('가', 'Josa'), ('싫을', 'Adjective'), ('정도', 'Noun'), ('입니다', 'Adjective'), ('너무', 'Adverb'), ('불편하고', 'Adjective'), ('더', 'Noun'), ('조잡', 'Noun'), ('스러워', 'Adjective'), ('보여요', 'Verb'), (';', 'Punctuation'), ('안', 'VerbPrefix'), ('보이는', 'Verb'), ('식당', 'Noun'), ('은', 'Josa'), ('일일', 'Noun'), ('히', 'Adverb'), ('검색', 'Noun'), ('해서', 'Verb'), ('찾아야하고', 'Verb'), ('찾아야', 'Verb'), ('나오고', 'Verb'), ('그', 'Determiner'), ('전', 'Noun'), ('버전', 'Noun'), ('이', 'Josa'), ('훨씬', 'Adverb'), ('편합니다', 'Adjective'), ('ㅡㅡ', 'KoreanParticle')]\n"
     ]
    }
   ],
   "source": [
    "#처음부터 다섯개의 댓글 가져오기 \n",
    "review_five = data[\"댓글\"][:5]\n",
    "for review in review_five.tolist():\n",
    "    print(review)\n",
    "    #print(review)\n",
    "    result = okt.pos(review)\n",
    "    print(f\"형태소 분석기 결과:n\\n\\t{result}\")"
   ]
  },
  {
   "cell_type": "code",
   "execution_count": 16,
   "id": "0450ff9b",
   "metadata": {},
   "outputs": [
    {
     "name": "stdout",
     "output_type": "stream",
     "text": [
      "0번째 Noun 형태소 분석기 결과:\n",
      "\t['배달', '민족', '앱', '자체', '식사', '후', '맛', '리뷰', '평점', '자체', '클린', '식당', '입장', '업주', '입장', '점', '문건', '수', '주문', '입장', '맛', '식당', '체적', '점', '맛집', '탐색', '점', '앱', '자체', '대한', '평점', '점', '식사', '항상', '추구', '평점', '속', '생각', '수고', '어플리케이션', '개발자', '여러분', '아이디어', '방법', '안해']\n",
      "1번째 Noun 형태소 분석기 결과:\n",
      "\t['장바구니', '비', '마트', '여러가지', '스', '크롤', '때', '살짝', '대각선', '배달', '포장', '용량', '특', '등', '좌우', '비', '마트', '항목', '다시', '체크', '상태', '리', '로딩', '위로', '전체', '선택', '살짝', '직선', '옆', '항목', '때', '위', '배달', '포장', '비', '마트', '용량', '특', '등', '항목', '선택', '데', '화면', '옆', '필요', '거의', '매일', '배민', '어플', '사용', '점']\n",
      "2번째 Noun 형태소 분석기 결과:\n",
      "\t['마트', '이용', '언제', '전체', '선택', '버튼', '비', '활성화', '장바구니', '중', '구매', '체크박스', '해제', '스크롤', '화면', '꾹', '터치', '잘못', '페이지', '새로고침', '선택', '게', '초기', '결제', '선택', '제품', '한번', '더', '볼', '수']\n",
      "3번째 Noun 형태소 분석기 결과:\n",
      "\t['수저', '포크', '버튼', '기본', '활성화', '환경', '보호', '거', '압니', '그거', '별개', '사용자', '설정', '수', '결제', '창', '껏', '다가', '다시', '또', '체크', '조금', '수저', '밥', '먹기', '일수', '기능', '삭제', '디폴트', '설정', '수', '옵션', '추가', '저', '직장', '점심', '때', '맨손', '먹기', '주문', '실수', '때', '젓가락', '방법', '편의점', '하나', '뿐', '환경', '도움']\n",
      "4번째 Noun 형태소 분석기 결과:\n",
      "\t['개선', '업데이트', '사항', '반영', '오히려', '더', '보기', '정도', '더', '조잡', '식당', '일일', '검색', '전', '버전']\n"
     ]
    }
   ],
   "source": [
    "# 처음부터 다섯개의 댓글 가져오기\n",
    "review_five = data[\"댓글\"][:5]\n",
    "\n",
    "for i, review in enumerate(review_five.tolist()):\n",
    "    result = okt.pos(review)\n",
    "    # print(result)\n",
    "    temp_list = []\n",
    "    for word, pos in result:\n",
    "        if pos == \"Noun\":\n",
    "            temp_list.append(word)\n",
    "            # print(word, pos)\n",
    "    print(f\"{i}번째 Noun 형태소 분석기 결과:\\n\\t{temp_list}\")\n",
    "    \n",
    "    # print(f\"{i}번째 형태소 분석기 결과:\\n\\t{result}\")\n",
    "    \n",
    "\n",
    "   "
   ]
  },
  {
   "cell_type": "code",
   "execution_count": 17,
   "id": "056e3d4c",
   "metadata": {},
   "outputs": [
    {
     "name": "stdout",
     "output_type": "stream",
     "text": [
      "오늘  너무    hello HELLO 010-7894-5798 기분좋아  \n"
     ]
    }
   ],
   "source": [
    "text = \"오늘!!!!! ㅇㅇ 너무 ㅓ ㅣ ㅗ hello HELLO 010-7894-5798 기분좋아 ^^ ㅎㅇㅎㅇ\"\n",
    "import re \n",
    "new_text = re.sub(\"[^0-9a-zA-Z가-힣- ]\",\"\", text) # 값을 찾아냄  ^ -> ^다음 문장을 제외하고 제거 -, 공백도 가능\n",
    "print(new_text)\n",
    "\n",
    "\n",
    "#전처리 과정에 쓰인다. "
   ]
  },
  {
   "cell_type": "code",
   "execution_count": 18,
   "id": "a57f6a19",
   "metadata": {},
   "outputs": [],
   "source": [
    "#워드 클라우드 \n",
    "#목표 : 데이터의 모든 댓글에 대한 Noun 품사를 가진 단어들을 word_list 담는 것 \n",
    "#조건1 : 전처리 과정 ((특수문자, 자음, 모음 없애기))\n",
    "#조건2 : 불용어(stopwords) 은는이가 "
   ]
  },
  {
   "cell_type": "code",
   "execution_count": 21,
   "id": "f9e026fb",
   "metadata": {},
   "outputs": [
    {
     "name": "stdout",
     "output_type": "stream",
     "text": [
      "4번째 리뷰 :(0, '배달의 민족앱자체는 만족하나, 식사후 맛 리뷰 평점 자체는 클린하게 이뤄지진 못하는것 같습니다.. 식당입장, 그러니까 업주 입장에서는 높은 별점으로 인한 주문건수를 기대하려 하겠지만, 주문자 입장에서는 맛이 없는 식당들도 대체적으로 4.8점이 넘어 정확한 맛집 탐색이 어렵다는 점에서 앱자체에 대한 평점은 3점으로 남겨 놓습니다.. 즐거운 식사를 항상 추구하고 기대하나 평점에 속아 그러지 못해 이를 애석하게 생각하고 있습니다! 수고하시는 어플리케이션 개발자 여러분들 좋은 아이디어로 참신한 방법을 구안해 내시길 바라며 이만 줄입니다.!')\n"
     ]
    },
    {
     "ename": "error",
     "evalue": "bad character range a-Z at position 5",
     "output_type": "error",
     "traceback": [
      "\u001b[1;31m---------------------------------------------------------------------------\u001b[0m",
      "\u001b[1;31merror\u001b[0m                                     Traceback (most recent call last)",
      "Cell \u001b[1;32mIn[21], line 7\u001b[0m\n\u001b[0;32m      5\u001b[0m \u001b[38;5;28mprint\u001b[39m(\u001b[38;5;124mf\u001b[39m\u001b[38;5;124m\"\u001b[39m\u001b[38;5;132;01m{\u001b[39;00mi\u001b[38;5;132;01m}\u001b[39;00m\u001b[38;5;124m번째 리뷰 :\u001b[39m\u001b[38;5;132;01m{\u001b[39;00mreview\u001b[38;5;132;01m}\u001b[39;00m\u001b[38;5;124m\"\u001b[39m) \n\u001b[0;32m      6\u001b[0m \u001b[38;5;66;03m#조건 1 정규표현식을 이용한 전처리 \u001b[39;00m\n\u001b[1;32m----> 7\u001b[0m new_review \u001b[38;5;241m=\u001b[39m \u001b[43mre\u001b[49m\u001b[38;5;241;43m.\u001b[39;49m\u001b[43msub\u001b[49m\u001b[43m(\u001b[49m\u001b[38;5;124;43m\"\u001b[39;49m\u001b[38;5;124;43m[^0-9a-Z가-힣\u001b[39;49m\u001b[38;5;124;43m\\\u001b[39;49m\u001b[38;5;124;43ms]\u001b[39;49m\u001b[38;5;124;43m\"\u001b[39;49m\u001b[43m,\u001b[49m\u001b[38;5;124;43m\"\u001b[39;49m\u001b[38;5;124;43m\"\u001b[39;49m\u001b[43m,\u001b[49m\u001b[43mreview\u001b[49m\u001b[43m)\u001b[49m\n\u001b[0;32m      8\u001b[0m \u001b[38;5;66;03m#형태소 분석기\u001b[39;00m\n\u001b[0;32m      9\u001b[0m result \u001b[38;5;241m=\u001b[39m okt\u001b[38;5;241m.\u001b[39mnouns(new_review)\n",
      "File \u001b[1;32m~\\AppData\\Roaming\\uv\\python\\cpython-3.10.18-windows-x86_64-none\\lib\\re.py:209\u001b[0m, in \u001b[0;36msub\u001b[1;34m(pattern, repl, string, count, flags)\u001b[0m\n\u001b[0;32m    202\u001b[0m \u001b[38;5;28;01mdef\u001b[39;00m\u001b[38;5;250m \u001b[39m\u001b[38;5;21msub\u001b[39m(pattern, repl, string, count\u001b[38;5;241m=\u001b[39m\u001b[38;5;241m0\u001b[39m, flags\u001b[38;5;241m=\u001b[39m\u001b[38;5;241m0\u001b[39m):\n\u001b[0;32m    203\u001b[0m \u001b[38;5;250m    \u001b[39m\u001b[38;5;124;03m\"\"\"Return the string obtained by replacing the leftmost\u001b[39;00m\n\u001b[0;32m    204\u001b[0m \u001b[38;5;124;03m    non-overlapping occurrences of the pattern in string by the\u001b[39;00m\n\u001b[0;32m    205\u001b[0m \u001b[38;5;124;03m    replacement repl.  repl can be either a string or a callable;\u001b[39;00m\n\u001b[0;32m    206\u001b[0m \u001b[38;5;124;03m    if a string, backslash escapes in it are processed.  If it is\u001b[39;00m\n\u001b[0;32m    207\u001b[0m \u001b[38;5;124;03m    a callable, it's passed the Match object and must return\u001b[39;00m\n\u001b[0;32m    208\u001b[0m \u001b[38;5;124;03m    a replacement string to be used.\"\"\"\u001b[39;00m\n\u001b[1;32m--> 209\u001b[0m     \u001b[38;5;28;01mreturn\u001b[39;00m \u001b[43m_compile\u001b[49m\u001b[43m(\u001b[49m\u001b[43mpattern\u001b[49m\u001b[43m,\u001b[49m\u001b[43m \u001b[49m\u001b[43mflags\u001b[49m\u001b[43m)\u001b[49m\u001b[38;5;241m.\u001b[39msub(repl, string, count)\n",
      "File \u001b[1;32m~\\AppData\\Roaming\\uv\\python\\cpython-3.10.18-windows-x86_64-none\\lib\\re.py:303\u001b[0m, in \u001b[0;36m_compile\u001b[1;34m(pattern, flags)\u001b[0m\n\u001b[0;32m    301\u001b[0m \u001b[38;5;28;01mif\u001b[39;00m \u001b[38;5;129;01mnot\u001b[39;00m sre_compile\u001b[38;5;241m.\u001b[39misstring(pattern):\n\u001b[0;32m    302\u001b[0m     \u001b[38;5;28;01mraise\u001b[39;00m \u001b[38;5;167;01mTypeError\u001b[39;00m(\u001b[38;5;124m\"\u001b[39m\u001b[38;5;124mfirst argument must be string or compiled pattern\u001b[39m\u001b[38;5;124m\"\u001b[39m)\n\u001b[1;32m--> 303\u001b[0m p \u001b[38;5;241m=\u001b[39m \u001b[43msre_compile\u001b[49m\u001b[38;5;241;43m.\u001b[39;49m\u001b[43mcompile\u001b[49m\u001b[43m(\u001b[49m\u001b[43mpattern\u001b[49m\u001b[43m,\u001b[49m\u001b[43m \u001b[49m\u001b[43mflags\u001b[49m\u001b[43m)\u001b[49m\n\u001b[0;32m    304\u001b[0m \u001b[38;5;28;01mif\u001b[39;00m \u001b[38;5;129;01mnot\u001b[39;00m (flags \u001b[38;5;241m&\u001b[39m DEBUG):\n\u001b[0;32m    305\u001b[0m     \u001b[38;5;28;01mif\u001b[39;00m \u001b[38;5;28mlen\u001b[39m(_cache) \u001b[38;5;241m>\u001b[39m\u001b[38;5;241m=\u001b[39m _MAXCACHE:\n\u001b[0;32m    306\u001b[0m         \u001b[38;5;66;03m# Drop the oldest item\u001b[39;00m\n",
      "File \u001b[1;32m~\\AppData\\Roaming\\uv\\python\\cpython-3.10.18-windows-x86_64-none\\lib\\sre_compile.py:788\u001b[0m, in \u001b[0;36mcompile\u001b[1;34m(p, flags)\u001b[0m\n\u001b[0;32m    786\u001b[0m \u001b[38;5;28;01mif\u001b[39;00m isstring(p):\n\u001b[0;32m    787\u001b[0m     pattern \u001b[38;5;241m=\u001b[39m p\n\u001b[1;32m--> 788\u001b[0m     p \u001b[38;5;241m=\u001b[39m \u001b[43msre_parse\u001b[49m\u001b[38;5;241;43m.\u001b[39;49m\u001b[43mparse\u001b[49m\u001b[43m(\u001b[49m\u001b[43mp\u001b[49m\u001b[43m,\u001b[49m\u001b[43m \u001b[49m\u001b[43mflags\u001b[49m\u001b[43m)\u001b[49m\n\u001b[0;32m    789\u001b[0m \u001b[38;5;28;01melse\u001b[39;00m:\n\u001b[0;32m    790\u001b[0m     pattern \u001b[38;5;241m=\u001b[39m \u001b[38;5;28;01mNone\u001b[39;00m\n",
      "File \u001b[1;32m~\\AppData\\Roaming\\uv\\python\\cpython-3.10.18-windows-x86_64-none\\lib\\sre_parse.py:955\u001b[0m, in \u001b[0;36mparse\u001b[1;34m(str, flags, state)\u001b[0m\n\u001b[0;32m    952\u001b[0m state\u001b[38;5;241m.\u001b[39mstr \u001b[38;5;241m=\u001b[39m \u001b[38;5;28mstr\u001b[39m\n\u001b[0;32m    954\u001b[0m \u001b[38;5;28;01mtry\u001b[39;00m:\n\u001b[1;32m--> 955\u001b[0m     p \u001b[38;5;241m=\u001b[39m \u001b[43m_parse_sub\u001b[49m\u001b[43m(\u001b[49m\u001b[43msource\u001b[49m\u001b[43m,\u001b[49m\u001b[43m \u001b[49m\u001b[43mstate\u001b[49m\u001b[43m,\u001b[49m\u001b[43m \u001b[49m\u001b[43mflags\u001b[49m\u001b[43m \u001b[49m\u001b[38;5;241;43m&\u001b[39;49m\u001b[43m \u001b[49m\u001b[43mSRE_FLAG_VERBOSE\u001b[49m\u001b[43m,\u001b[49m\u001b[43m \u001b[49m\u001b[38;5;241;43m0\u001b[39;49m\u001b[43m)\u001b[49m\n\u001b[0;32m    956\u001b[0m \u001b[38;5;28;01mexcept\u001b[39;00m Verbose:\n\u001b[0;32m    957\u001b[0m     \u001b[38;5;66;03m# the VERBOSE flag was switched on inside the pattern.  to be\u001b[39;00m\n\u001b[0;32m    958\u001b[0m     \u001b[38;5;66;03m# on the safe side, we'll parse the whole thing again...\u001b[39;00m\n\u001b[0;32m    959\u001b[0m     state \u001b[38;5;241m=\u001b[39m State()\n",
      "File \u001b[1;32m~\\AppData\\Roaming\\uv\\python\\cpython-3.10.18-windows-x86_64-none\\lib\\sre_parse.py:444\u001b[0m, in \u001b[0;36m_parse_sub\u001b[1;34m(source, state, verbose, nested)\u001b[0m\n\u001b[0;32m    442\u001b[0m start \u001b[38;5;241m=\u001b[39m source\u001b[38;5;241m.\u001b[39mtell()\n\u001b[0;32m    443\u001b[0m \u001b[38;5;28;01mwhile\u001b[39;00m \u001b[38;5;28;01mTrue\u001b[39;00m:\n\u001b[1;32m--> 444\u001b[0m     itemsappend(\u001b[43m_parse\u001b[49m\u001b[43m(\u001b[49m\u001b[43msource\u001b[49m\u001b[43m,\u001b[49m\u001b[43m \u001b[49m\u001b[43mstate\u001b[49m\u001b[43m,\u001b[49m\u001b[43m \u001b[49m\u001b[43mverbose\u001b[49m\u001b[43m,\u001b[49m\u001b[43m \u001b[49m\u001b[43mnested\u001b[49m\u001b[43m \u001b[49m\u001b[38;5;241;43m+\u001b[39;49m\u001b[43m \u001b[49m\u001b[38;5;241;43m1\u001b[39;49m\u001b[43m,\u001b[49m\n\u001b[0;32m    445\u001b[0m \u001b[43m                       \u001b[49m\u001b[38;5;129;43;01mnot\u001b[39;49;00m\u001b[43m \u001b[49m\u001b[43mnested\u001b[49m\u001b[43m \u001b[49m\u001b[38;5;129;43;01mand\u001b[39;49;00m\u001b[43m \u001b[49m\u001b[38;5;129;43;01mnot\u001b[39;49;00m\u001b[43m \u001b[49m\u001b[43mitems\u001b[49m\u001b[43m)\u001b[49m)\n\u001b[0;32m    446\u001b[0m     \u001b[38;5;28;01mif\u001b[39;00m \u001b[38;5;129;01mnot\u001b[39;00m sourcematch(\u001b[38;5;124m\"\u001b[39m\u001b[38;5;124m|\u001b[39m\u001b[38;5;124m\"\u001b[39m):\n\u001b[0;32m    447\u001b[0m         \u001b[38;5;28;01mbreak\u001b[39;00m\n",
      "File \u001b[1;32m~\\AppData\\Roaming\\uv\\python\\cpython-3.10.18-windows-x86_64-none\\lib\\sre_parse.py:599\u001b[0m, in \u001b[0;36m_parse\u001b[1;34m(source, state, verbose, nested, first)\u001b[0m\n\u001b[0;32m    597\u001b[0m     \u001b[38;5;28;01mif\u001b[39;00m hi \u001b[38;5;241m<\u001b[39m lo:\n\u001b[0;32m    598\u001b[0m         msg \u001b[38;5;241m=\u001b[39m \u001b[38;5;124m\"\u001b[39m\u001b[38;5;124mbad character range \u001b[39m\u001b[38;5;132;01m%s\u001b[39;00m\u001b[38;5;124m-\u001b[39m\u001b[38;5;132;01m%s\u001b[39;00m\u001b[38;5;124m\"\u001b[39m \u001b[38;5;241m%\u001b[39m (this, that)\n\u001b[1;32m--> 599\u001b[0m         \u001b[38;5;28;01mraise\u001b[39;00m source\u001b[38;5;241m.\u001b[39merror(msg, \u001b[38;5;28mlen\u001b[39m(this) \u001b[38;5;241m+\u001b[39m \u001b[38;5;241m1\u001b[39m \u001b[38;5;241m+\u001b[39m \u001b[38;5;28mlen\u001b[39m(that))\n\u001b[0;32m    600\u001b[0m     setappend((RANGE, (lo, hi)))\n\u001b[0;32m    601\u001b[0m \u001b[38;5;28;01melse\u001b[39;00m:\n",
      "\u001b[1;31merror\u001b[0m: bad character range a-Z at position 5"
     ]
    }
   ],
   "source": [
    "word_list =[]\n",
    "stopwords = [\"배민\", \"민족\"]\n",
    "\n",
    "for review in enumerate(data[\"댓글\"].tolist()):\n",
    "    print(f\"{i}번째 리뷰 :{review}\") \n",
    "    #조건 1 정규표현식을 이용한 전처리 \n",
    "    new_review = re.sub(\"[^0-9a-Z가-힣\\s]\",\"\",review)\n",
    "    #형태소 분석기\n",
    "    result = okt.nouns(new_review)\n",
    "    print(new_review)"
   ]
  },
  {
   "cell_type": "code",
   "execution_count": 42,
   "id": "744ffb48",
   "metadata": {},
   "outputs": [
    {
     "name": "stdout",
     "output_type": "stream",
     "text": [
      "0번째 리뷰: ['배달', '민족', '앱', '자체', '식사', '후', '맛', '리뷰', '평점', '자체', '클린', '식당', '입장', '업주', '입장', '점', '문건', '수', '주문', '입장', '맛', '식당', '체적', '점', '맛집', '탐색', '점', '앱', '자체', '대한', '평점', '점', '식사', '항상', '추구', '평점', '속', '생각', '수고', '어플리케이션', '개발자', '여러분', '아이디어', '방법', '안해']\n",
      "1번째 리뷰: ['장바구니', '비', '마트', '여러가지', '스', '크롤', '때', '살짝', '대각선', '배달', '포장', '용량', '특', '등', '좌우', '비', '마트', '항목', '다시', '체크', '상태', '리', '로딩', '위로', '전체', '선택', '살짝', '직선', '옆', '항목', '때', '위', '배달', '포장', '비', '마트', '용량', '특', '등', '항목', '선택', '데', '화면', '옆', '필요', '거의', '매일', '배민', '어플', '사용', '점']\n",
      "2번째 리뷰: ['마트', '이용', '언제', '전체', '선택', '버튼', '비', '활성화', '장바구니', '중', '구매', '체크박스', '해제', '스크롤', '화면', '꾹', '터치', '잘못', '페이지', '새로고침', '선택', '게', '초기', '결제', '선택', '제품', '한번', '더', '볼', '수']\n",
      "3번째 리뷰: ['수저', '포크', '버튼', '기본', '활성화', '환경', '보호', '거', '압니', '그거', '별개', '사용자', '설정', '수', '결제', '창', '껏', '다가', '다시', '또', '체크', '조금', '수저', '밥', '먹기', '일수', '기능', '삭제', '디폴트', '설정', '수', '옵션', '추가', '저', '직장', '점심', '때', '맨손', '먹기', '주문', '실수', '때', '젓가락', '방법', '편의점', '하나', '뿐', '환경', '도움']\n",
      "4번째 리뷰: ['개선', '업데이트', '사항', '반영', '오히려', '더', '보기', '정도', '더', '조잡', '식당', '일일', '검색', '전', '버전']\n",
      "5번째 리뷰: ['사용자', '볼', '수', '배달', '가게', '대한', '메모', '기능', '언제', '몇번', '기능', '가게', '배달', '자주', '조금', '시간', '가게', '음식', '맛', '재', '주문', '내', '여기', '기억', '안나']\n",
      "6번째 리뷰: ['저', '알뜰', '집', '배달', '이용', '가게', '검색', '시', '가게', '배달', '선택', '뭔가', '언제', '어플', '용이', '배민', '제일', '이용', '고객', '선택', '알뜰', '집', '배달', '유도', '사용', '알뜰', '음식', '다식', '집', '배달', '부담']\n",
      "7번째 리뷰: ['실시간', '채팅', '상담', '해결', '것', '결제', '수단', '변경', '요청', '출발', '변경', '본인', '답변', '확인', '확인', '가게', '출발', '함', '나', '문의', '량', '답변', '말', '반복', '함', '출발', '재', '주문', '라이더', '재', '처리', '기능', '봄', '처리', '직접', '해결', '가게', '번호']\n",
      "8번째 리뷰: ['점', '하나', '움', '배차', '관리', '못', '업주', '고객', '제대로', '보상', '채팅', '화로', '상담', '연결', '안', '왜', '등급', '의미', '래지', '처음', '거', '감수', '계속', '사용', '도저히', '저주', '안', '해도', '듯']\n",
      "9번째 리뷰: ['찜', '기능', '폴더', '분류', '수', '기능', '배달', '팁', '가게', '가게', '식사', '목적', '후식', '목적', '가게', '찜', '사용', '수가', '구분', '게']\n",
      "10번째 리뷰: ['왜', '배달', '자체', '배달', '요', '이제', '알뜰', '집', '배달', '가요', '일반', '배달', '가요', '홈', '화면', '직접', '설정', '수', '기능', '것', '예', '치킨', '검색', '후', '찜', '순', '중간', '찜', '갯수', '가게', '뭔가', '찜', '순이', '찜', '순이', '광고', '비', '해도']\n",
      "11번째 리뷰: ['편의점', '갑자기', '기타', '사유', '주문', '취소', '평소', '워낙', '매장', '이', '무슨', '일이', '전화', '그', '매장', '편의점', '고객', '센터', '연결', '심지어', '주말', '고객', '센터', '계속', '곧', '나가야', '이제', '다른', '걸', '수도', '수도', '재고', '수도', '거', '이해', '평소', '대응', '매장', '화', '안', '다만', '취소', '때', '왜', '사유', '말', '편의점', '게', '때', '부분', '취소', '요', '점도', '개선', '래야', '서로']\n",
      "12번째 리뷰: ['저', '배민', '이용', '늘', '생각', '가게', '차단', '수', '기능', '생기', '단골', '식당', '휴일', '때', '식당', '주문', '적', '기억', '피', '한참', '시간', '지나', '깜박', '실수', '주문', '자주', '것', '식당', '차단', '기능', '찜', '반대', '기능', '것', '좀']\n",
      "13번째 리뷰: ['위아래', '스', '크롤', '계속', '잘못', '인식', '옆', '예', '마트', '물건', '위', '로', '계속', '포장', '쪽', '이동', '매우', '시티', '브', '앱', '개선']\n",
      "14번째 리뷰: ['개', '진짜', '개열', '디폴트', '수저', '포크', '결제', '방법', '변경', '오류로', '다시', '결제', '수저', '포크', '아주', '체크', '결제', '창', '내', '다시', '시도', '도', '거', '진짜', '후기', '배민', '좀']\n",
      "15번째 리뷰: ['집', '배달', '뒤', '집', '도착', '주문', '도착', '커녕', '배차', '안', '식', '속', '게', '번', '예상', '시간', '똑바로', '집', '배달', '시스템', '자체', '듯', '주문', '후', '도착', '정시', '점점']\n",
      "16번째 리뷰: ['기존', '혜택', '왜', '브랜드', '쿠폰', '사용', '이해', '그것', '공지', '브랜드', '자체', '쿠폰', '겨우', '천원', '더', '할인', '누가', '혜택', '생기', '한번', '적', '정도', '정말', '배민', '사용', '사용', '마음', '싹', '원래', '최소', '주문', '금액', '이상', '주문', '사용', '지금', '최소', '금액', '브랜드', '일주일', '개', '혜택', '쿠폰', '메뉴', '정해', '굳이', '배민', '혜택', '사용', '필요', '어플', '진짜', '가면', '갈수록', '좀']\n",
      "17번째 리뷰: ['전화', '해결', '계속', '배민', '스토어', '리뷰', '개', '자', '이상', '사진', '첨부', '체크', '표시', '정립', '안', '전화', '문의', '상담사', '뭐', '문제', '본인', '잘못', '정립', '안', '함', '거', '가이드라인', '왜', '지난번', '다른', '상품', '리뷰', '주', '이상', '정립', '안', '정립', '이번', '해결']\n",
      "18번째 리뷰: ['배민', '거의', '매일', '해먹', '여러가지', '메뉴', '가게', '군데', '주문', '때', '하루', '번', '이용', '때', '항상', '제일', '등급', '천생연분', '천생연분', '혜택', '쿠폰', '장', '쿠폰', '장', '최소', '주문', '금액', '수', '때', '혜택', '생각', '부터', '배민', '다른', '배달', '플로', '생각', '적', '배달', '비', '인상', '등', '여러가지', '이슈', '계속', '이용', '이번', '처음', '진짜', '다른', '배달', '플로', '생각', '혜택', '쿠폰', '브랜드', '쿠폰', '제', '배민', '자주', '이용', '수', '혜택', '단', '하나', '게', '가요', '여러', '이용자', '폭', '혜택', '주기', '위', '라지', '이건', '이용자', '그', '누구', '생각', '쿠폰', '배민', '지정', '브랜드', '음식', '주문', '하란', '거', '더', '이제', '배민', '이용', '진심']\n",
      "19번째 리뷰: ['사용', '무슨', '음식', '주문', '이벤트', '이벤트', '대로', '배달', '배달', '포장', '포장', '지도', '지도', '대로', '좀', '만듭시', '개발자', '내부', '적도', '뭐', '요기', '요가', '훨']\n",
      "20번째 리뷰: ['배달', '거지', '도저히', '수', '상태', '환불', '요청', '음식물', '수거', '지시', '환불', '요청', '및', '수거', '지시', '위', '채팅', '문의', '응대', '음식점', '배달', '기사', '둘', '하나', '잘못', '제', '환불', '왜', '제', '시간', '소모', '감정', '소모', '채팅', '상담', '전화', '상담', '무슨', '때', '수거', '지시', '배차', '이중', '전달', '두번째', '기사', '때', '음식', '거주', '입장', '문밖', '은', '갑자기', '이유', '셈', '얼마나', '당황', '양', '처음', '끝', '사용자', '경험', '연속']\n",
      "21번째 리뷰: ['쿠폰', '상', '시로', '뿌리', '가끔', '이벤트', '쿠폰', '포장', '방문', '약', '더', '배달', '수', '것', '한가지', '점', '거의', '모든', '가게', '최소', '금액', '가까이', '혼자', '주문', '부담', '인분', '기능', '음식점', '항상', '인분', '기능', '포함', '항상', '포장', '방문', '이용', '것']\n",
      "22번째 리뷰: ['다른', '거', '메뉴', '장바구느', '기능', '중', '장바구니', '저장', '기능', '요', '빵집', '빵', '종류', '하나', '하나', '장바구니', '다른', '빵집', '번', '빵', '다시', '때문', '장바구니', '메뉴', '장기', '능이', '전', '메뉴', '그대로', '수']\n",
      "23번째 리뷰: ['업데이트', '사람', '위치', '방식', '주문', '인터페이스', '자꾸', '기능', '추가', '오지', '거', '클릭', '위치', '막', '개', '요기', '요로', '옴', '사람']\n",
      "24번째 리뷰: ['응대', '수준', '문의량', '이유', '접수', '정시', '도착', '취소', '전화', '채팅', '상황', '발생', '때', '대처', '러시', '배민', '수준', '점점', '앞', '이용', '생각']\n",
      "25번째 리뷰: ['점', '점', '이유', '것', '배', '진짜', '때', '스트레스', '점', '면', '보통', '개선', '생각', '왜', '계속', '그대로', '거나', '점점', '더', '뭐', '어플', '덕분', '돈', '진짜', '점', '점주', '기도', '이유', '점', '것', '들보', '여러가지']\n",
      "26번째 리뷰: ['장바구니', '왜', '자꾸', '접근', '이유', '이', '가게', '문제', '다른', '가게', '주문', '해도', '형상', '계속', '일어나서', '저녁', '계속', '뭐', '접근']\n",
      "27번째 리뷰: ['배달', '민족', '앱', '유저', '혹시', '특정', '식당', '대해', '볼', '수', '메모', '기능', '삽입', '수', '식당', '감자', '튀김', '안', '주니', '꼭', '추가', '주문', '식당', '냉면', '육수', '양', '편이', '하나', '더', '식', '요', '리뷰', '사장', '부담', '것', '세부', '사항', '예전', '옵션', '생각', '안', '꼭', '좀', '몇몇', '식당', '때', '아차']\n",
      "28번째 리뷰: ['분명', '앱', '가게', '포장', '주문', '번', '배달', '주문', '할인', '뭐', '구조', '혜택', '거', '하나', '하나', '작용', '감사', '객관', '전체', '구조', '여론']\n",
      "29번째 리뷰: ['최악', '어플', '배', '민원', '배달', '지연', '취소', '취소', '고객', '센터', '연결', '필요', '고객', '센터', '연결', '절대', '그냥', '고객', '환불', '무작정', '함', '주문', '가게', '환불', '고객', '직접', '고객', '센터', '배달', '제', '포장', '마냥', '직접', '할인', '쿠폰', '절대', '사용']\n",
      "30번째 리뷰: ['최근', '배달', '안', '발생', '스트레스', '배민', '원', '알뜰', '배달', '도', '가끔', '발생', '특정', '시스템', '배민', '자체', '문제', '배달', '일', '대비', '메뉴얼', '보상', '동안', '가게', '취소', '쿠팡', '츠', '상황', '이면', '다른', '앱', '놨두', '굳이', '배민', '이유', '식사', '게', '때론', '시간', '때', '대처', '방법', '일', '배민', '마음', '팍']\n",
      "31번째 리뷰: ['난', '이', '앱', '배달', '은근', '수수료', '더', '료', '더', '배민', '배달', '유도', '뭔가', '이벤트', '것', '실속', '프로모션', '혜택', '등등', '다른', '앱', '곳', '수', '사용']\n",
      "32번째 리뷰: ['집', '배달', '알뜰', '배달', '뒤', '지점', '가게', '배달', '집알뜰', '개', '검색', '가게', '둘러보기', '사용', '알뜰', '배달', '이름', '알뜰', '기사', '배정', '것', '기피', '배달', '짐', '관리', '것', '못', '상황']\n",
      "33번째 리뷰: ['배달', '플로', '아주', '다만', '한가지', '개선', '부분', '배민', '알림', '어플', '자체', '확인', '배달', '시작', '알림', '확인', '난', '후', '다시', '알림', '확인', '배달', '시작', '시간', '때', '길이']\n",
      "34번째 리뷰: ['리뷰', '때', '사진', '바로', '찍', '수', '기능', '거', '그', '기능', '배달', '점', '평가', '다시', '또', '사진', '사진', '기능', '무소', '용이', '버그', '개발자']\n",
      "35번째 리뷰: ['배달', '기본', '배달', '지연', '기본', '상담사', '연결', '강제', '종료', '연결', '불가', '배달', '앱', '대비', '가격', '도', '서비스', '참고', '주', '앱', '삭제']\n",
      "36번째 리뷰: ['거리', '가게', '거리', '표시', '주문', '음식', '거리', '표시', '아예', '표시', '제', '지도', '앱', '검색', '편이', '더', '것']\n",
      "37번째 리뷰: ['마트', '전체', '선택', '버튼', '아예', '장바구니', '일단', '그때', '그때', '배송비', '양', '보고', '조절', '주문', '전체', '선택', '버튼', '비', '활성화', '구매', '생각', '건가', '오히려', '빼기', '다른', '어플', '주문']\n",
      "38번째 리뷰: ['배', '민원', '주문', '배차', '시간', '취소', '요청', '하니', '가게', '먼저', '요청', '승낙', '취소', '반응', '상담', '연결', '고객', '센터', '연락', '가게', '취소', '요청', '내', '다시', '요청', '자기', '수락', '다시', '어플', '취소', '요청', '요청', '번', '함', '이', '때', '저녁', '상황', '가게', '사장', '퇴근', '가게', '취소', '청하면', '자기', '보상', '못', '자기', '음식', '값', '계좌', '이체', '사장', '직접', '배달', '함', '짜장', '탕수육', '시간', '반', '기다림', '고객', '센터', '가게', '운영', '왜', '배민', '말', '수', '년', '동안', '이제', '임']\n",
      "39번째 리뷰: ['주문', '음식', '배달', '라이더', '계속', '지연', '가게', '전화', '연결', '채팅', '상담사', '연결', '요청', '함', '래서', '갑자기', '무', '응답', '상태', '지속', '상담', '종료', '배달', '라이더', '부족', '상담', '서비스', '예전', '못', '것']\n",
      "40번째 리뷰: ['배달', '라이더', '가게', '장님', '취소', '수', '배달', '라이더', '배달', '예상', '시간', '실제', '배달', '시간', '가게', '사장', '가게', '고객', '센터', '고객', '센터', '연락', '배달', '후', '음식', '가게', '사장', '잘못', '배달', '민족', '점', '점', '여러', '방송', '매체', '때', '가게', '사장', '수수료', '가게', '장님', '만', '배달', '한번', '해', '기분']\n",
      "41번째 리뷰: ['발전', '검색', '해도', '카테고리', '음식점', '다른', '가게', '나오니', '검색', '때', '아주', '왜', '분식', '야식', '패스트푸드', '한식', '분류', '이해', '진짜', '뭐', '점점', '배달', '음식', '먹기', '답변', '요', '뭣같', '운영', '갈수록', '서비스', '시스템']\n",
      "42번째 리뷰: ['배민', '업데이트', '그냥', '검색', '알고리즘', '샐러드', '샐러드', '검색', '롯데리아', '콘', '샐러드', '제일', '위', '과연', '사용자', '방향', '검색', '생각', '검색', '찾기']\n",
      "43번째 리뷰: ['점도', '정도', '상담', '연결', '동안', '번', '상담', '명인', '일', '정도', '배달', '연결', '전화', '일', '왜', '배달', '비도', '서비스', '가치', '주변', '상담', '연결', '일', '똑바로', '점도']\n",
      "44번째 리뷰: ['현장', '결제', '인터넷', '검색', '검색', '업데이트', '전', '기준', '배달', '마트', '배민', '스토어', '정렬', '메뉴', '배달', '메뉴', '현장', '결제', '활성화', '지금', '업데이트', '이후', '도대체', '경로', '현장', '결제', '씨름', '포기', '업데이트', '후', '배민', '디폴트', '현장', '결제', '도대체', '하나요', '법카', '사람', '분명', '조속', '조치', '희망']\n",
      "45번째 리뷰: ['며칠', '배민', '결제', '카드', '사', '어플', '결제', '화면', '몇번', '을해', '겨우', '결제', '년', '한번', '요즘', '왜', '수정', '좀']\n",
      "46번째 리뷰: ['배달', '애초', '주문', '문구', '해', '옆', '동네', '빵', '몇개', '시간', '콜센터', '툭하면', '전화', '량', '연결', '뭐', '배달', '늦', '때', '문제', '고치', '좀', '꼭', '취소', '콜센터', '전화', '배차', '뭐', '진짜']\n",
      "47번째 리뷰: ['비', '마트', '배달', '할인', '쿠폰', '다운', '결제', '쿠폰', '적용', '이건', '뭐', '다른', '쿠폰', '물품', '맛', '영', '고추장', '재', '불고기', '쿠폰', '뿌리', '비', '마트', '열', '단골', '정', '한번', '때', '달', '번은', '비', '마트', '배달', '할인', '쿠폰', '다른', '할인', '마트', '더', '바이바이']\n",
      "48번째 리뷰: ['최악', '배달', '플랫폼', '번', '번은', '배달', '지연', '기존', '시간', '일상', '지연', '사과', '보상', '전혀', '쓰레기', '그', '자체', '곧', '다른', '어플']\n",
      "49번째 리뷰: ['배빈', '음식', '고객', '센터', '연락', '타이밍', '이용', '매점', '우리', '음식', '우리', '문제', '배차', '못', '뿐', '고객', '센터', '전화', '치킨', '고객', '센터', '취소', '하라', '하니', '점', '점도', '상황', '바', '배달', '금액', '별로', '바이', '시절']\n",
      "50번째 리뷰: ['계정', '로그인', '메일', '앱', '알람', '고객', '센터', '문의', '말', '반복', '말', '처음', '계정', '계속', '말', '나중', '내', '로그인', '연결', '수단', '가지', '비밀번호', '방법', '왜', '고객', '센터', '연락', '처음', '계정', '메일', '로그인', '수단', '메일', '그거', '확인', '방법', '것', '개인정보', '노출', '그냥', '탈퇴']\n",
      "51번째 리뷰: ['몇', '달', '전', '배민', '유저', '다른', '건', '요', '다른', '식당', '음식', '기능', '하나', '하나', '구매', '조금', '이', '점', '해결', '해주시', '것']\n",
      "52번째 리뷰: ['집', '배달', '배차', '집', '배달', '선택', '이유', '배달', '어서', '라이더', '배차', '배달', '료', '지불', '반', '기다림', '경우', '한지', '이제', '보상', '처리', '안함', '고객', '센터', '채팅', '앱', '문의', '문의', '량', '전화', '막상', '거기', '문의', '량', '다시', '대기', '전화', '종료']\n",
      "53번째 리뷰: ['어플', '덕분', '손', '음식', '이용', '몇몇', '가게', '점', '주님', '태도', '상관', '배달', '민족', '회사', '가운데', '컴', '플레인', '현상', '것', '기능', '하나', '추가', '바람', '리뷰', '이용', '가게', '가게', '차단', '기능', '검색', '검색', '결과', '노출', '기능', '바람']\n",
      "54번째 리뷰: ['장점', '음식', '주문', '때', '주문', '맛집', '한눈', '보기', '랙', '프레임', '쿠폰', '여러가지', '할인', '단점', '주문', '때', '음식', '배송', '때', '장점', '진짜', '단점', '아주', '가끔', '단점', '번', '별', '개']\n",
      "55번째 리뷰: ['군데', '배송', '제한', '배달', '라이더', '서비스', '하나', '파서', '혼동', '안주', '평점', '때', '스페이스', '텍스트', '튀어', '터치', '드', '래그', '슬라이드', '자신', '안썻으', '앱', '서비스', '불만', '가지', '앱', '평가', '진짜', '오늘', '배달', '왜', '플랫폼', '다시', '한번', '상기']\n",
      "56번째 리뷰: ['생각', '맛집', '때', '입맛', '때', '가족', '정말', '듯', '신세계', '발견', '듯', '부들', '배달', '개념', '전', '이제야', '알', '때', '말', '재미', '맛', '갠', '맘', '드네', '다만', '보이지', '위생', '살짝', '걱정']\n",
      "57번째 리뷰: ['습', '찜', '목록', '편집', '때', '번', '선택', '찜', '해제', '기능']\n",
      "58번째 리뷰: ['음식점', '전체', '보기', '전체', '보기', '무슨', '일', '목록', '일', '전체', '보기', '무조건', '가장', '제일', '먼저', '기능', '이', '년', '전체', '보기', '거', '가차', '이해']\n",
      "59번째 리뷰: ['결제', '의미', '삭제', '소액', '결제', '카드', '현금', '사용', '편', '소리', '소문', '갑자기']\n",
      "60번째 리뷰: ['모든', '건', '지불', '금액', '다소', '편의', '보장', '정도', '수긍', '편이', '집', '배달', '일반', '배달', '배달', '팁', '등', '별', '불호', '그간', '고객', '센터', '문의', '항상', '처리', '다만', '가지', '건의', '어플', '처음', '위치', '선택', '로그인', '비회', '주문', '선택', '화면', '등', '업데이트', '요', '비', '마트', '일반', '배달', '자주', '이용', '나름', '어플', '삭제', '재', '설치', '반복', '그때', '일일이', '위치', '설정', '내', '계정', '주소', '별거', '단계', '제', '정말', '자주', '삭제', '간', '사용']\n",
      "61번째 리뷰: ['현관', '번호', '칸', '건가', '지난주', '해도', '아무', '문제', '방금', '군데', '전화', '비번', '난리', '확인', '비밀번호', '란', '이용', '수']\n",
      "62번째 리뷰: ['카드', '직접', '결제', '배민', '페이', '등록', '또', '하라', '길', '약관', '좀', '줄', '내용', '고작', '줄', '칸', '보라', '버튼', '약관', '좀', '보이', '좀', '헛', '짓거리', '약관', '그냥', '사람']\n",
      "63번째 리뷰: ['안', '보고', '사업', '홍보', '초점', '를', '사용자', '강요', '함', '애초', '폐쇄적', '제한', '만', '제공', '안', '어플', '관', '줌', '점점', '축소', '사업', '홍보', '대체', '짓', '반복', '이번', '업데이트', '지경', '임', '사용자', '경험', '말', '신경', '안', '놈', '어플', '내', '굳이', '왜', '해', '삭제']\n",
      "64번째 리뷰: ['실시간', '채팅', '상담', '버튼', '가시', '지도', '이', '상담', '버튼', '알', '사람', '실수', '계속', '우상', '위치', '이유', '아래쪽', '주문', '정보', '옆', '상담']\n",
      "65번째 리뷰: ['상담사', '연결', '진짜', '유선', '연결', '고사하고', '채팅', '상담', '배달', '음식', '전화번호', '배달', '도착', '시간', '계속', '취소', '못', '화가', '원래', '이용', '생일', '선물', '쿠폰', '김', '앱']\n",
      "66번째 리뷰: ['그냥', '절대', '사용', '어플', '걸', '왜', '사용', '이유', '알', '수가', '다른', '어플', '그냥', '주문', '한번', '반', '기본', '이번', '고객', '센터', '전화', '것', '적', '배민', '쓰시', '어플', '다른', '어플']\n",
      "67번째 리뷰: ['배민앱', '재', '설치', '경우', '초기', '화면', '입력', '하단', '아이디', '로그', '옵션', '입력', '뒤', '로그인', '다시', '방법', '제', '앱재', '설치', '후', '입력', '바로', '아이디', '입력', '방법']\n",
      "68번째 리뷰: ['최근', '배달', '비정상', '배송', '지연', '방치', '고객', '센터', '문의', '상태', '인터넷', '연결', '안', '문의', '접수', '이용']\n",
      "69번째 리뷰: ['앱', '첫', '페이지', '알뜰', '집', '배달', '버튼', '반', '둘', '옆', '포장', '버튼', '상식', '배달', '옆', '포장', '생각', '부분', '앱', '업데이트', '더', '퇴화', '느낌', '가요', '지금', '쓰기', '앞', '얼마나', '더']\n",
      "70번째 리뷰: ['배달', '앱', '중', '이', '정도', '배달', '시간', '안', '앱', '최악', '배달', '앱', '수', '리뷰', '보시', '분', '다른', '어플', '사용', '도움', '리뷰']\n",
      "71번째 리뷰: ['그냥', '점점', '일부', '업데이트', '리뷰', '내', '업체', '문제', '조치', '연락', '그냥', '배', '방식', '어차피', '니', '마인드']\n",
      "72번째 리뷰: ['배달', '목록', '곳', '차단', '것', '업데이트', '좀', '목록']\n",
      "73번째 리뷰: ['주문', '취소', '긴급', '배차', '요청', '경우', '어디', '배달', '주문', '취소', '최대한', '배달', '좀', '최초', '배달', '정시', '취소', '그', '사이', '배달', '이기만', '달리', '취소', '어처구니', '경우']\n",
      "74번째 리뷰: ['로딩', '속도', '왜', '서버', '문제', '번', '자주', '로딩', '그냥', '앱']\n",
      "75번째 리뷰: ['일회용품', '설정', '반대', '제', '체크', '거지', '기본', '는걸', '저번', '모텔', '음식', '수저', '젓가락', '안', '음식', '제대로']\n",
      "76번째 리뷰: ['건의', '사항', '주문', '수로', '때', '기간', '설정', '수', '그', '기간', '최대', '전체', '것']\n",
      "77번째 리뷰: ['배달', '완료', '바로', '리뷰', '달', '수', '버튼', '분명', '배달', '완료', '리뷰', '버튼', '잠깐', '깜빡', '경우', '장님', '약속', '저', '수']\n",
      "78번째 리뷰: ['업데이트', '이전', '원래', '배민', '버튼', '더', '바', '원래', '배달', '뭐', '설명', '무조건', '배민', '주문', '그냥', '업뎃', '이전']\n",
      "79번째 리뷰: ['날씨', '고객', '센터', '연락', '두절', '취소', '채팅', '유선', '연락', '배', '민원', '취소', '어려움', '가게', '배', '민원', '가게', '컨트롤', '함', '배차', '지연', '연락', '어쩌']\n",
      "80번째 리뷰: ['배달', '비', '알뜰', '배달', '다지', '동네', '순회', '좀', '식당', '음식', '불어', '수', '업주', '손해', '것', '알뜰', '배달', '한번', '배달', '수', '집의', '수', '제한']\n",
      "81번째 리뷰: ['무난', '배달', '플로', '가지', '게', '찜', '활용', '자신', '식당', '볼', '수', '회피', '별로', '곳', '표시', '볼', '수']\n",
      "82번째 리뷰: ['의미', '어플', '시작', '스타트업', '이제', '본질', '가게', '배달', '검색', '배달', '줫나', '수수료', '떼', '구조만', '거지갘']\n",
      "83번째 리뷰: ['자꾸', '관심', '배민', '스토어', '광고', '배달', '스토어', '쪽', '쿠폰', '광고', '최대', '할인', '금액', '꼼수', '포장', '주문', '근거', '리순', '나열', '순간', '사용자', '편의', '성은', '자꾸', '어플', '당장', '체제', '바로']\n",
      "84번째 리뷰: ['처음', '예상', '시간', '계속', '배달', '지연', '보상', '거', '다른', '배달', '서비스', '번']\n",
      "85번째 리뷰: ['배달', '문제', '스트레스', '거', '이제', '케바케', '나', '상담', '일', '연속', '번', '다른', '앱', '마음']\n",
      "86번째 리뷰: ['이벤트', '및', '마케팅', '알림', '모두', '알림', '발송', '이번', '등급', '확인', '알림', '관련', '고객', '센터', '통화', '앱', '답', '개선', '진짜']\n",
      "87번째 리뷰: ['고객', '센터', '실시간', '채팅', '정작', '대응', '배달', '얼마나', '진행', '서비스', '제대로', '이해', '업체', '라면', '고객', '센터', '식', '운영', '듯', '제', '작성', '리뷰', '백업', '앞', '안', '수고']\n",
      "88번째 리뷰: ['배달', '어플', '유저', '날', '실수', '다른', '주소', '주문', '잘못', '고객', '센터', '주소지', '변경', '변경', '화면', '그대로', '주소지', '그대로', '혹시', '가게', '이야기', '문의', '전달', '조금', '제', '배달', '주소', '집', '가게']\n",
      "89번째 리뷰: ['맘', '가게', '폴더', '별로', '정리', '기능', '또', '돈', '난리']\n",
      "90번째 리뷰: ['주문', '한지', '기사', '안', '업소', '돈', '더', '시스템', '유지', '던데', '덕분', '요', '며칠', '거의', '간반', '밥', '소비자', '배달', '기사', '손해', '더', '기업', '이윤', '회사', '어플', '이제', '삭제', '수수료', '계속', '돈', '버세']\n",
      "91번째 리뷰: ['배민', '앱', '역', '검색', '리뷰', '검색', '매번', '리뷰', '적도', '불편', '역도', '검색', '내', '작성', '리뷰', '검색']\n",
      "92번째 리뷰: ['주문', '결번', '실시간', '채팅', '문의', '네', '왜', '전화번호', '제공', '결', '번전', '확인']\n",
      "93번째 리뷰: ['얼마', '전', '기사', '배정', '지연', '걸', '리뷰', '그', '뒤', '배달', '거리', '기존', '곳', '왜', '갑자기', '배달', '불만', '거리', '면', '다인', '가요']\n",
      "94번째 리뷰: ['화면', '가게', '구조', '자기', '즐', '입맛', '가게', '노출', '보고', '움', '느낌']\n",
      "95번째 리뷰: ['배달', '시간', '적', '한번', '개', '알뜰', '배달', '왜', '임', '배달', '배정', '음식', '조리', '채', '기요', '항상', '시간', '내', '오거', '더', '옴', '진짜', '배달', '품질', '업계', '중', '최악']\n",
      "96번째 리뷰: ['배민', '배달', '시스템', '집', '배달', '자시', '시간', '소요', '비정상', '시간', '배달', '고객', '사례', '둘', '꽤', '게']\n",
      "97번째 리뷰: ['오픈', '시간', '배달', '지역', '이면', '검색', '때', '오픈', '오픈', '준비']\n",
      "98번째 리뷰: ['카드', '결제', '가게', '카드', '등록', '본인', '명의']\n",
      "99번째 리뷰: ['포장', '시간', '변경', '포장', '미리', '주문', '기본', '기요']\n",
      "100번째 리뷰: ['배달', '기사', '배', '민원', '주문', '대서', '결제', '결제', '배달', '정시', '무한정', '계속', '고객', '센터', '폭주', '채팅', '전화', '번', '을해', '겨우', '연결', '긴급', '배차', '요청', '해', '배달', '정시', '끝', '반', '배차', '취소', '사람', '장사', '기사', '배', '민원']\n",
      "101번째 리뷰: ['주문', '란', '음식', '메뉴', '주문', '가끔', '제대로', '주문', '뒤', '확인', '때']\n",
      "102번째 리뷰: ['배민', '리뉴얼', '배달', '집', '스', '크롤', '때', '뭔가', '턱턱', '느낌', '듭니', '정정']\n",
      "103번째 리뷰: ['업뎃후', '왜', '혜택', '바', '저', '지방러', '가게', '집', '주문', '배민', '것', '저', '지방러', '혜택', '마찬가지', '이제', '메뉴', '참고', '전화', '주문', '이용', '전', '그냥', '할인', '쿠폰', '전부', '적용', '생일', '쿠폰', '편의점', '제한', '편의점', '이용', '저', '사람', '무', '쓸모', '바', '그냥', '전화', '주문', '배민', '안녕']\n",
      "104번째 리뷰: ['주문', '천생연분', '이번', '업데이트', '별로', '롤백', '인터페이스', '기존', '못', '가게', '별로', '라이더', '메시지', '지정', '누가', '합', '사장', '저장', '결제', '수단', '왜', '초기', '영', '별로', '롤백', '앱', '임']\n",
      "105번째 리뷰: ['배민', '음식', '행성', '랜덤', '뽑기', '임', '무슨', '메뉴', '모름', '상황', '메뉴', '사진', '딸기', '포함', '메뉴', '구성', '설명', '제철', '과일', '특성', '변동', '수', '주문', '시', '포함', '구성', '딸기', '겨울', '제철', '일임', '제철', '과일', '딸기', '누락', '채', '메뉴', '수령', '함', '나', '주장', '위', '상황', '따라서', '딸기', '포함', '것', '마치', '음식', '성품', '행성', '랜덤', '뽑기', '것', '바', '생각', '함', '메뉴', '수정', '대해', '요청', '배민', '스토어', '메뉴', '대해', '별도', '제제', '답변', '함', '배민', '제제', '스토어', '이미지', '외', '젠더', '이슈', '단어', '기재', '제재', '제', '정책', '메뉴', '등록', '답변', '함']\n",
      "106번째 리뷰: ['집', '배달', '배차', '관리', '해결', '후', '다시', '번', '배달', '때', '기본', '이상', '상소', '시간', '서비스', '식이', '면서', '배달', '팁', '기만']\n",
      "107번째 리뷰: ['점', '이유', '리뷰', '삭제', '후', '재작성', '안', '어플', '내', '사진', '확인', '안', '리뷰', '것', '기간', '계속', '배민', '로', '기본', '설정', '위치', '것', '매번', '위치', '재', '설정', '여러', '설정', '추가', '앱', '전보', '더', '다른', '배달', '어플', '이벤트']\n",
      "108번째 리뷰: ['주소', '폰', '집', '배달', '또', '다른', '폰', '일반', '배달', '이', '말']\n",
      "109번째 리뷰: ['앱', '장바구니', '가게', '것', '담', '수', '게', '론', '거', '진짜', '장바구니', '개념', '당장', '주문', '수', '설정']\n",
      "110번째 리뷰: ['배달', '항상', '옴', '배달', '개대', '충', '배달', '리뷰', '벌써', '배달', '더', '배달', '비값', '이건', '대체', '경우', '도저히', '이해']\n",
      "111번째 리뷰: ['처음', '배달', '요즘', '번', '연속', '기본', '소요', '배달', '시간', '화가', '심지어', '계속', '문제', '발생', '상담사', '전화', '현재', '배달', '취소', '계속', '지연', '상황', '계속']\n",
      "112번째 리뷰: ['검색', '창', '검색', '왜', '집', '배달', '알뜰', '배달', '가게', '메뉴', '일반', '배민', '배민', '이', '조금', '달라', '배민', '배민', '검색', '일반', '배민', '카테고리', '검색', '창', '일일', '스크롤', '가게', '제', '요']\n",
      "113번째 리뷰: ['배민', '은', '입점', '매장', '배달', '완료', '사진', '꼭', '알림', '창', '볼', '수', '배민', '배달', '비', '최소', '주문', '금액', '음식', '가격', '경우', '결제', '방식']\n",
      "114번째 리뷰: ['메뉴', '기능', '좀', '다시', '분식집', '메뉴', '개수', '가지']\n",
      "115번째 리뷰: ['대목', '집', '배달', '배달', '주문', '가게', '집', '배달', '취소', '배민', '직접', '채팅', '상담', '전화', '연결', '배달', '기사', '가게', '문', '전화', '옴', '배달', '완료', '배달', '다시', '채팅', '상담', '대꾸', '환불', '그냥', '운영', '쓰레기', '임', '고객', '의견', '컴', '플레인', '접수', '창구', '생각', '여기', '적']\n",
      "116번째 리뷰: ['수저', '포크', '안', '기본', '가끔', '수저', '포크', '안', '젓가락', '안', '때', '열', '십년', '음식', '수저', '포크', '건', '생각', '메뉴', '물', '결제', '수저', '포크', '걸', '때', '사항', '칸', '보이지', '일단', '빈칸', '체크', '무의식', '경우', '앞', '벨', '등', '요청', '사항', '적', '때', '더', '더욱', '환경', '캠페인', '이해', '설정', '체크', '주지', '칸', '빈칸', '수저', '포크', '체크', '사항', '결제', '칸', '창', '하나', '주문', '사항', '다음', '결제', '창', '등', '앱', '이용자', '수정']\n",
      "117번째 리뷰: ['배민', '기능', '도대체', '왜', '연말', '때', '제', '시간', '온', '적', '시간', '연장', '나중', '번', '알림', '정작', '음식', '시간', '보장', '거', '기능', '포기', '주문', '취소', '수', '하든']\n",
      "118번째 리뷰: ['진짜', '고객', '센터', '응대', '오늘', '일', '폭로', '이미지', '생각', '진짜', '교육', '다시', '진행', '듯', '두', '번', '다시', '이용', '안함', '진짜']\n",
      "119번째 리뷰: ['각종', '할인', '프로모션', '배민', '주문', '시', '할인', '적용', '가게', '배민', '자체', '배달', '문제', '가게', '사장', '자율', '제재', '가요', '할인', '광고', '대부분', '가게', '할인', '용이', '이건', '허위', '광고', '배민', '공식', '답변', '뒤']\n",
      "120번째 리뷰: ['알림', '톡', '왜', '임', '채널', '추가', '톡', '채널', '추가', '왜', '혹시', '앱', '확인', '알림', '개인정보', '제공', '등', '미동', '의구', '배달', '때', '왜', '게', '혹시', '외부', '사', '상황', '삭제', '진짜', '점', '말', '겨자', '먹기', '생각', '레전드', '운영']\n",
      "121번째 리뷰: ['매장', '매장', '상단', '노출', '배달', '배차', '고객', '센터', '직원', '좀', '대응', '바람', '땅', '사서', '건물', '생각', '쪽', '신경']\n",
      "122번째 리뷰: ['맘', '안', '점점', '더', '짐', '사람', '만', '혜택', '거', '차별', '별로', '임', '난', '게', '사용', '때', '쿠폰', '랜덤', '지급', '기존', '등급', '별', '쿠폰', '팩', '월', '금액', '얼', '데', '천원', '이천원', '쿠폰', '장', '장주', '것', '최소', '주문', '개킹']\n",
      "123번째 리뷰: ['배달', '도대체', '시간', '치킨', '마리', '배달', '기사', '배정', '지도', '배달', '정시', '취소', '환불', '요청', '정시', '비']\n",
      "124번째 리뷰: ['집', '배달', '개구리', '주문', '당시', '계속', '도착', '정시', '가게', '배차', '문제', '배차', '거', '배차', '경우', '수', '최대', '시간', '첨']\n",
      "125번째 리뷰: ['화가', '그냥', '삭재', '고객', '상담', '점', '시스템', '사장', '마음대로', '이면', '그냥', '사용', '뭐']\n",
      "126번째 리뷰: ['게', '배달', '별로', '요가']\n",
      "127번째 리뷰: ['배민', '주문', '함', '배달', '시간', '자꾸', '배달', '완료', '거의', '정도', '것', '채팅', '상담', '함', '가게', '직접', '상담사', '연결', '하라', '데', '문의', '상담사', '연결', '수', '가게', '취소', '문의', '가게', '조리', '완료', '상태', '이기', '때문', '취소', '불가', '사실', '음식', '주문', '조리', '완료', '배차', '이상', '음식', '방치', '상태', '함', '배민', '은', '가게', '음식', '조리', '서비스', '시간', '고객', '전화', '가게', '사장', '무슨', '죄임', '상담사', '전화', '연결', '대기', '취소', '집', '배달', '랍시고', '배달', '료', '배차', '취소', '연락']\n",
      "128번째 리뷰: ['달', '이상', '사용', '경험', '배민', '소비자', '가게', '사이', '역할', '트러블', '때', '해결', '능력', '결제', '진행', '이후', '배민', '중개', '방관', '처음', '수', '가끔', '문제', '대한', '솔루션', '수수료', '꼬박꼬박', '뭘', '신뢰', '어려움']\n",
      "129번째 리뷰: ['배달', '주문', '사장', '오해', '상황', '어플', '업데이트', '배달', '추가', '시간', '시스템', '생기']\n",
      "130번째 리뷰: ['배달', '예전', '부분', '페이지', '공사', '비', '효율', '보기', '다시', '좀']\n",
      "131번째 리뷰: ['역', '텍스트', '복사', '가계부', '어플', '때', '일일이', '입력']\n",
      "132번째 리뷰: ['라이더', '배차', '문제', '배달', '계속', '지연', '소비자', '안내', '하나', '시간', '계속', '가게', '전화', '조리', '완료', '음식', '네', '그냥']\n",
      "133번째 리뷰: ['배민', '자주', '이용', '사람', '이제', '쿠팡', '츠', '조금', '더', '집', '배달', '료', '집', '배달', '편이', '가게', '사정', '배정', '시간', '문제', '걸', '취소', '또', '취소', '고객', '센터', '만족도', '최하', '그냥', '배달', '료', '내가면', '음식', '개돼지', '취급', '오히려', '예전', '가게', '배달', '시절', '정도', '그동안', '애용', '이제', '더', '이상은', '사용', '느낌', '앱']\n",
      "134번째 리뷰: ['배달', '집', '배달', '따뜩하', '음식', '집', '배달', '기본', '대기', '배달', '식', '운영', '고려']\n",
      "135번째 리뷰: ['일반', '배달', '배민', '주문', '불구', '예상', '배달', '시간', '라이더', '배차', '아예', '배달', '취소', '고객', '센터', '불가능', '채팅', '상담', '불가능']\n",
      "136번째 리뷰: ['집배', '달이', '집', '배달', '집', '배달', '곳', '정시', '집', '배달', '더', '걸']\n",
      "137번째 리뷰: ['왜', '갑자기', '어플', '퀄리티', '바', '다운', '도오', '사보', '로딩', '방문', '찾기', '왜', '일반', '집', '배달', '주문']\n",
      "138번째 리뷰: ['배달', '지연', '물건', '던지기', '취소', '전화', '취소', '화창', '대답', '무', '응답', '물건', '식품', '돈', '결제', '니', '책임', '거']\n",
      "139번째 리뷰: ['배달', '위치', '표시', '생각', '배송', '출발', '군데', '생각', '배달', '어플', '배달', '상태', '생각']\n",
      "140번째 리뷰: ['체크', '항목', '제대로', '젓가락', '집', '배달', '예상', '배', '고객', '센터', '문의', '답', '전화', '상담', '대기', '전화']\n",
      "141번째 리뷰: ['계정', '갑자기', '로그아웃', '다시', '가입', '정보', '일치', '로그인', '계정']\n",
      "142번째 리뷰: ['업데이트', '집', '배달', '알뜰', '배달', '등', '배민', '직접', '배달', '메뉴', '기본', '배달', '찾기', '메뉴', '이름', '가게', '배달', '식', '눈', '설정']\n",
      "143번째 리뷰: ['최악', '배민', '결제', '유도', '더', '취소', '상담', '연결', '식사', '시간', '이용', '권장', '쿠팡', '츠']\n",
      "144번째 리뷰: ['설', '연휴', '배민', '라이더', '휴무', '관련', '사항', '앱', '메인', '고지', '배달', '불가', '지역', '이유', '배달', '취소', '이해', '가지', '앱', '관리', '일부', '점포', '한해', '단편', '설', '연휴', '중', '일부', '날짜', '배민', '라이더', '휴무', '함', '이용자', '입장', '다른', '매장', '쉬', '이해', '수도', '사항', '이', '점', '참고', '공지', '사항', '등', '고지']\n",
      "145번째 리뷰: ['리뷰', '때', '사진', '첨부', '첨부', '갤러리', '어플', '다시']\n",
      "146번째 리뷰: ['제', '핸드폰', '가게', '준비', '다른사람', '핸드폰', '배달', '이건', '뭐', '오류', '개', '이', '가요', '새로고침', '해도', '진짜', '거', '뭐']\n",
      "147번째 리뷰: ['주문', '접수', '가게', '사정', '주문', '취소', '때', '앱', '반영', '제품', '다시', '주문', '접수', '된거', '제', '취소', '못', '매장', '취소', '앱', '계속', '진행', '중이']\n",
      "148번째 리뷰: ['아래', '위로', '스크롤할때', '살짝', '대각선', '자꾸', '배달', '포장', '옆', '탭이동', '블편해']\n",
      "149번째 리뷰: ['배송', '문제', '발생', '대처', '다만', '건의', '하나', '배', '민원', '배송', '기사', '배정', '지역', '경우', '배', '민원', '건의']\n",
      "150번째 리뷰: ['일단', '배달', '자체', '림', '집', '근처', '도보', '긴급', '배차', '답']\n",
      "151번째 리뷰: ['어플', '갑자기', '갤럭시', '광고', '사진', '켜', '계속', '멈뭐있어', '앱']\n",
      "152번째 리뷰: ['배달', '수', '판단', '운영', '중단', '순서', '가까이', '셀프', '취소', '십분', '연결', '이']\n",
      "153번째 리뷰: ['배달', '주문', '돈처', '배달', '심지어', '가게', '취소', '연락', '배민', '매크로', '답변', '돌림']\n",
      "154번째 리뷰: ['집', '배달', '돈', '더', '더', '배달', '취소', '해도', '상담', '문의', '연결', '배달', '시작', '장난', '진짜', '절대']\n",
      "155번째 리뷰: ['음식점', '정렬', '때', '배달', '팁', '기준', '정렬', '무료', '이', '선택', '고객', '기만', '무료', '사람', '무료', '배달', '팁', '곳도', '배달', '팁', '무료', '항목', '포함', '막상', '이상', '주문', '시', '무료', '그', '이하', '식이', '대부분', '배달', '팁', '무료', '탭', '진짜', '무료', '곳', '음식점', '본인', '가게', '노출', '더', '악용', '생각', '피', '노출', '경쟁', '밀리', '진짜', '배달', '팁', '무료', '음식점', '고객', '배달', '팁', '더', '걷기', '위해', '배달', '팁', '무료', '음식점', '배척', '시스템', '일부러', '식', '유도', '생각', '그냥', '악질', '다시', '그냥', '배달', '팁', '기준', '정렬', '자체', '배달', '팁', '가게', '배달', '팁', '무료', '모든', '항목', '포함', '정렬', '의미']\n",
      "156번째 리뷰: ['고객', '센터', '연결', '모바일', '연결', '배달', '주문', '예상', '시간', '그', '대한', '사과', '개선', '전화', '왜', '배민', '때', '썻는미', '번은', '점', '이하', '전혀', '시켯습니', '배달', '음식', '상태', '맛', '리뷰', '점', '배달', '저서', '거', '핑계', '내', '리뷰', '이제', '그', '배달', '점', '점', '리뷰', '왜', '그동안', '배민']\n",
      "157번째 리뷰: ['배달', '지연', '및', '상담사', '연결', '지연', '배달', '예상', '시간', '최대', '배달', '출발', '상담사', '연결']\n",
      "158번째 리뷰: ['왜', '검색', '창', '메뉴', '가게', '배달', '집', '알뜰', '뭐', '것', '쓰기']\n",
      "159번째 리뷰: ['배차', '배달', '정시', '시간', '배달', '예정', '시간', '이면', '추가', '더', '알뜰', '배달', '삼각형', '다른', '집', '삥', '음식', '배달', '때']\n",
      "160번째 리뷰: ['집', '배달', '뭐', '정도', '착시', '밀리', '안내', '오지', '최소한', '안내', '돈', '배민', '은', '이용', '시스템', '문제']\n",
      "161번째 리뷰: ['앱', '스', '크롤', '때', '랙걸려', '제대로', '왜']\n",
      "162번째 리뷰: ['찜', '일일이', '하나', '하나', '수정', '일괄', '편집', '문', '집도', '기도', '일일이']\n",
      "163번째 리뷰: ['진짜', '안전', '빵', '막', '운영', '진짜', '배달', '매칭', '제대로', '배민', '운영', '센터', '항상', '옴', '집', '배달', '진짜', '왜', '항상', '장님', '쓰레기', '어플', '진짜', '불구', '수', '앱', '열']\n",
      "164번째 리뷰: ['결제', '장바구니', '창', '화면', '뭐', '건가', '삭제', '다시', '설치', '그대로', '방법', '주문', '하든', '말']\n",
      "165번째 리뷰: ['이', '어플', '완전', '사기', '말', '입맛', '안', '식', '작성', '업주', '신고', '저', '무슨', '허위', '작성', '사실', '관계', '달', '블라인드', '처리', '걸', '신고', '취소', '요청', '직접', '요', '그게', '리뷰', '식', '리뷰', '어쩐지', '점', '개', '리가', '무슨', '전화', '본인', '전화', '업무', '다른', '관계자', '번호', '달라', '본인']\n",
      "166번째 리뷰: ['집', '배달', '지연', '고객', '센터', '계속', '전화', '연결', '눈', '배달', '문제', '미리', '문전', '배달', '정보', '시간', '반영', '제', '소요', '시간', '평소', '정도', '저', '배달', '배민', '아침', '눈', '반영', '알', '수', '부분', '생각', '반영', '기술', '부분', '라면', '서비스', '제', '직접', '픽업', '수라도', '뒤', '통보', '생각']\n",
      "167번째 리뷰: ['혼자', '음식', '수', '도움', '어플', '기적', '시간', '예측', '시스템', '점점', '혜택', '음식', '배달', '비', '배달', '비', '택시', '타고', '내', '더', '그냥', '배송', '음식', '더', '돈', '낭비']\n",
      "168번째 리뷰: ['요즘', '배달', '매번', '지연', '배달', '기사', '배정', '개선', '집', '배달', '돈', '더', '배달', '수', '집', '배달', '배송비', '차감', '안내', '문자', '배달', '어쩌', '는걸']\n",
      "169번째 리뷰: ['배달', '직접', '적', '번', '늘', '비대', '설정', '해', '가끔', '그', '설정', '자꾸', '직접', '요로', '문', '앞', '줄', '문', '때', '내', '설정', '저장', '설정', '초기', '요소', '좀', '점검']\n",
      "170번째 리뷰: ['가게', '위치', '지도', '위치', '확인', '수', '개선', '위치', '확인', '메뉴', '후', '알', '경우', '꽤', '지도', '확인', '기능', '진짜', '추가', '해']\n",
      "171번째 리뷰: ['기본', '화면', '배민', '이', '예전', '분리', '배민', '메뉴', '탭해', '배민', '진행', '지금', '메인', '화면', '음식', '장르', '선택', '자동', '배민', '진행', '시간', '메인', '메뉴', '제발', '좀', '잘못', '것', '때문', '메뉴', '지금', '배달', '스트레스']\n",
      "172번째 리뷰: ['이', '어플', '사용', '한지', '이용', '사용', '만듭니', '이제', '이용', '차라리', '직접', '전화', '주문', '배달', '배달', '완료', '건', '직접', '일', '배달', '사람', '결정', '부분', '서버', '오류', '문제', '소비자', '판매', '자가', '결정', '결코', '배민', '문제', '식', '항상', '를', '유지', '배민', '카드', '배민', '어플', '수', '더', '어플', '회사', '서비스', '측면', '오류', '줄', '귀', '방법', '기간', '이용', '고객', '생각', '때문', '제', '리뷰', '다른', '고객', '복사', '붙여넣기', '답글', '라면', '정말', '배민', '인생']\n",
      "173번째 리뷰: ['배민', '이', '도입', '꽤', '시스템', '체계', '문제', '집', '겹', '음식', '다시', '배민', '문제', '그냥', '배달', '진짜', '또', '월', '음식', '쿠폰', '쿠폰', '진짜', '음식', '더']\n",
      "174번째 리뷰: ['기능', '추가', '제안', '음식', '값', '결제', '카드', '배민', '페이', '결제', '저', '직장인', '예', '회사', '중', '식비', '지원', '경우', '주문', '금액', '초과', '주문', '만약', '분할', '결제', '법인', '카드', '등', '계산', '나머지', '미리', '충전', '배민', '페이', '결제', '것', '배민', '입장', '량', '증가', '수', '것']\n",
      "175번째 리뷰: ['업데이트', '오류', '심해', '사장', '포장', '완료', '저', '주문', '준비', '보이', '리뷰', '쓰기', '저장', '저장', '버튼', '번', '눌린것', '팝업', '번', '무엇', '리뷰', '작성', '앞', '글', '추가', '다시', '자꾸', '수정', '칸', '이동']\n",
      "176번째 리뷰: ['장수', '동일', '매장', '반복', '계속', '함', '이벤트', '전체', '해도', '눌', '리지', '여개', '페이지', '하나', '하나', '자영', '업자', '수수료', '개', '배달', '점점', '앱', '개발', '나머지', '배달', '대행', '입점', '매장', '하라', '식', '운영', '방침']\n",
      "177번째 리뷰: ['항상', '찜', '가게', '주소', '별로', '기능', '주소', '주소', '찜', '가게', '주소', '주소', '찜', '가게', '표시', '곳', '곳', '몇개', '월', '거주지', '입장', '찜', '곳', '이용', '가게', '주소', '별로', '찾기', '만약', '주소', '별로', '분리', '다른', '주소', '잘못', '주문', '일도', '줄', '조심', '스레', '예상']\n",
      "178번째 리뷰: ['배달', '주문', '팁', '알뜰', '주문', '배달', '팁', '거절', '음식', '주문', '한지', '거의', '취소', '고객', '센터', '전화', '옴', '전', '사장', '때', '업체', '수수료', '달', '업체', '측은', '더', '이상', '배달', '수수료', '지급', '가면', '갈수록', '배민', '라이더', '팁', '로시', '켜', '바', '외식', '거나', '혼자']\n",
      "179번째 리뷰: ['배달', '민족', '몇번', '최근', '기사', '배달', '의적', '배차', '마지막', '번만', '더', '보고', '상황', '이면', '타', '배달', '업체', '번', '정도', '기회']\n",
      "180번째 리뷰: ['어플', '화면', '번잡', '가독성', '다른', '어플', '비교', '앱', '버그', '제발', '비', '마트', '화면', '좀', '자동', '요즘', '배민', '배달', '시간', '내', '적', '단', '한번', '한번', '최소', '시간', '기본', '시간', '기다림', '시간', '쿠폰', '간반', '거도', '미리', '고지', '계속', '라이더', '말', '반복', '번', '배달', '계속', '라이더', '시스템', '다른', '해결', '책']\n",
      "181번째 리뷰: ['배달', '현황', '시스템', '좀', '실시간', '것', '안', '도착', '시간', '오거', '때', '직접', '결재', '사람', '문', '앞', '벨소리', '못', '라이더', '가게', '전화', '불평', '좀']\n",
      "182번째 리뷰: ['배달', '비', '생각', '책정', '기준', '가게', '소비자', '부담', '로', '가게', '최소', '포장', '픽업', '좀', '거리', '거리', '부지역', '적정', '거리', '금액', '책정', '가게', '건', '배달', '비용', '소비자', '직접', '확인', '체크', '추가', '경우', '때', '가게', '공지', '소비자', '몫', '곳', '매번', '확인', '움', '발생', '한번', '배달', '비용', '확인', '매장', '주문', '전화', '추가', '배달', '비용', '할증', '합', '배', '내야', '통화', '취소', '함', '메뉴', '이', '다른', '요소', '얼마나', '일인', '임', '배달', '시간', '저런', '사례', '취소', '경우', '등등', '문제']\n",
      "183번째 리뷰: ['배달', '업계', '위', '등록', '가게', '장점', '쿠팡잇츠', '가격', '배달', '료', '소비자', '점점', '점', '돈', '쿠팡', '소비자', '품목', '최고', '요']\n",
      "184번째 리뷰: ['업데이트', '배민', '먼저', '뒤', '가기', '몇번', '배달', '광고', '배너', '때', '광고', '처음', '가장']\n",
      "185번째 리뷰: ['고객', '지원', '센터', '집', '배달', '도착', '고객', '센터', '전화', '앱', '할인', '쿠폰', '주네', '조건', '부', '쿠폰', '사용', '요새', '배달', '비', '기본', '하루', '식사', '제대로', '못', '기분', '조금', '돈', '더', '더라도', '젠', '다른', '어플', '사용']\n",
      "186번째 리뷰: ['찜', '가게', '최대', '개', '개', '기존', '가게', '삭제', '건', '듯', '개', '가장', '처음', '가게', '목록', '추가', '가게', '다시', '목록']\n",
      "187번째 리뷰: ['진짜', '점', '개', '매기', '어플', '처음', '알뜰', '배달', '제도', '도입', '사람', '그냥', '당장', '쇼', '배달', '취소', '집', '배달', '노력', '지금', '아주', '빡', '도', '진짜', '밥']\n",
      "188번째 리뷰: ['단연', '코', '배달', '플랫폼', '중', '최악', '배민', '절대', '배민', '라이', '를', '배민', '쪽', '배차', '시스템', '가게', '조리', '배차', '안', '가게', '고객', '무조건', '가게', '책임', '손', '모든', '피해', '고객', '예전', '정해진', '시간', '내', '배달', '지연', '천원', '쿠폰', '보상', '생색', '문제', '자주', '발생', '시스템', '몰래', '바로', '도착', '예정', '시간', '몰래', '슬금슬금', '뒤', '어쨋', '예정', '시간', '내', '도착', '책임', '식', '고객', '센터', '먹통', '연결', '기본', '배민', '천원', '할인', '낚', '어차피', '돈', '시간', '수', '다른', '서비스', '이용', '소비자', '시기', '어플', '문제', '서비스', '시스템', '개선', '방법', '배달', '앱', '중', '평가', '최악', '것', '이유']\n",
      "189번째 리뷰: ['장바구니', '음식', '삭제', '범위', '내', '식당', '삭제', '버튼', '배달', '과정', '더', '이상', '배달', '식당', '계속', '폰', '식당', '삭제', '기능', '듯']\n",
      "190번째 리뷰: ['역', '가입', '부모님', '폰', '할인', '쿠폰', '사용', '발급', '친구', '초대', '코드', '등록', '프로모션', '대상', '사람', '차별', '정말', '실망']\n",
      "191번째 리뷰: ['다른', '앱', '곳', '더', '때', '여']\n",
      "192번째 리뷰: ['배민', '배달', '비', '더', '돈', '돈대', '더', '배달', '뭐', '돈', '더', '이해', '불가', '특정', '거리', '이상', '이면', '자전거', '도보', '못', '제발', '집', '배달', '배민', '이면', '말', '그대로', '바로', '왜', '데', '이해', '안']\n",
      "193번째 리뷰: ['라이더', '계속', '주문', '취소', '몇번', '그냥', '쿠팡', '수고']\n",
      "194번째 리뷰: ['집배', '달이', '이득', '뭐', '이득', '진짜', '라이더', '몇', '번', '사용', '돈', '더', '시간', '더', '말']\n",
      "195번째 리뷰: ['라이더', '접수', '일단', '도착', '예정', '시간', '끝', '취소', '해도', '상담량', '이유', '문의', '연결', '안', '이', '뭐', '하자', '거', '덕분', '시간', '치킨', '이', '어플', '안']\n",
      "196번째 리뷰: ['가게', '대한', '개인', '평가', '기록', '해당', '가게', '클릭', '이전', '가해', '메모', '확인', '기능', '리뷰', '시간', '거르', '고자', '가게', '주문', '돈', '얼마', '성의', '이정', '기능', '추가', '글', '쓰기', '전']\n",
      "197번째 리뷰: ['배민', '집', '배달', '자꾸', '거', '생각', '의지', '거', '이', '몇번', '이제', '주', '배달', '앱', '때', '거']\n",
      "198번째 리뷰: ['피크', '타임', '배', '민원', '집', '배달', '예상', '배달', '시간', '실제', '배달', '시간', '차이', '주문', '전', '다른', '앱', '대비', '도착', '예상', '시간', '표기', '실제', '배달', '배', '정도', '시간', '다른', '배달', '앱', '시간', '주문', '때', '예상', '시간', '도착', '것', '대비']\n",
      "199번째 리뷰: ['광고알림', '순간', '멋대로', '왜', '설정', '광고', '푸시', '거임']\n",
      "200번째 리뷰: ['배달', '시간', '지연', '그', '이유', '좀', '고객', '도', '이유', '모른체', '한참', '지연', '고객', '센터', '연락', '짜증']\n",
      "201번째 리뷰: ['주문', '배달', '직접', '감', '라이더', '배민', '배차', '때문', '가게', '수', '함', '배민', '진짜', '쓰레기']\n",
      "202번째 리뷰: ['매달', '문건', '대한', '쿠폰', '지급', '광고', '레츠고', '좀', '진짜']\n",
      "203번째 리뷰: ['쿠폰', '장난', '질', '쿠폰', '선착순', '사용', '못', '누구', '아이디어', '입', '선착순', '다운로드', '쿠폰', '이', '방식', '처음', '창의', '화가', '앱', '쓰기', '쿠폰', '배달', '음식', '때', '혼자', '때', '여럿', '모', '시간', '음식', '서일', '때', '식이', '선착순', '할인', '때문', '음식', '먼저', '일단', '사람', '동안', '배달', '포장', '메리트']\n",
      "204번째 리뷰: ['배달', '지연', '심해', '집배', '달도', '배달', '기사', '특정', '시간대', '기사']\n",
      "205번째 리뷰: ['진짜', '집', '배달', '배달', '비', '장난', '계속', '가게', '전화', '배달', '기사', '지정도', '말', '집배', '달이', '왜', '배달', '왜', '겁', '이해', '집', '배달', '사용']\n",
      "206번째 리뷰: ['최악', '요', '고객', '센터', '운영', '가요', '자주', '연락', '연결', '강제', '연락', '종료', '정도', '고객', '이해해', '수준', '것']\n",
      "207번째 리뷰: ['왜', '포장', '주문', '카드', '현금', '결제', '때']\n",
      "208번째 리뷰: ['업데이트', '사용', '게', '거', '자꾸', '뭘', '시도', '본인', '사용', '못', '하나요']\n",
      "209번째 리뷰: ['잘못', '주문', '젓가락', '달라', '연결', '이', '몇번', '그냥', '젓가락', '기본', '설정', '손가락', '번']\n",
      "210번째 리뷰: ['배달', '시간', '거짓말', '표기', '배', '답변', '더', '나은', '서비스', '보답', '언제', '보답', '받을런', '다해', '집', '배달', '주문', '도착', '치킨', '다시', '기분']\n",
      "211번째 리뷰: ['업데이트', '란건', '불편', '사항', '버그', '더', '사용', '위', '거', '업데이트', '저번', '메뉴', '더', '심지어', '배달', '현황', '위치', '파악', '배달', '어디', '언제', '지도', '업데이트', '기도', '굳이', '내', '어플', '사용', '생각', '드네', '업데이트', '전', '정말', '다음', '업데이트', '사용']\n",
      "212번째 리뷰: ['업데이트', '왜', '전', '주변', '가게', '하나', '결제', '그냥', '기오']\n",
      "213번째 리뷰: ['업뎃', '때', '거', '참고', '속사', '젠', '삭제']\n",
      "214번째 리뷰: ['서비스', '꽝', '시스템', '꽝', '혼자', '변경', '이제', '때']\n",
      "215번째 리뷰: ['순', '주문', '순', '설정', '가게', '가게', '왜', '자꾸', '다시', '순', '위치', '젤', '위로']\n",
      "216번째 리뷰: ['업데이트', '이후', '매장', '이상', '찜', '매장']\n",
      "217번째 리뷰: ['배민앱', '삭제', '휴대폰', '개', '각각', '어플', '주소', '입력', '배달', '팁', '달라', '부당', '사유', '차액', '환불', '요청', '처음', '위치', '팁', '차이', '날수', '동일', '주소', '입력', '위치', '두번째', '시간', '차이', '배달', '팁', '동일시', '캡처', '재송부함', '등', '변명', '세번', '프로그램', '오류', '주소지', '도', '위', '경도', '배달', '팁', '배달', '팁', '화면', '설정', '캡쳐', '달라', '메', '일로', '송부드리', '위', '경도', '변명', '등장', '배달', '위', '경도', '시기']\n",
      "218번째 리뷰: ['주문', '해도', '계속', '본인', '인증', '하래', '계속', '주뮨', '이번', '업데이트', '때문', '못', '사용']\n",
      "219번째 리뷰: ['배달', '집', '배달', '면서']\n",
      "220번째 리뷰: ['어플', '업데이트', '음식', '별로', '리뷰', '예전', '탭별', '상세', '메뉴', '보이', '안보', '설정', '굳이', '메뉴', '안봣는데', '업데이트', '그', '기능', '삭제', '현재', '모든', '메뉴', '아주', '개불', '단점', '그', '기능', '다시', '제발', '꼭', '개선', '제발', '추가', '건의', '사항', '상점', '과도', '깃발', '때메', '중복', '배민', '업체', '돈', '건', '알', '과도', '깃발', '소비자', '입장', '상점', '건대', '각탭별', '하나', '갯수', '제한']\n",
      "221번째 리뷰: ['시스템', '최악', '배달', '시간', '정해진', '시간', '계속', '진짜', '삭제', '고객', '아주', '호구']\n",
      "222번째 리뷰: ['배달', '팁', '왜', '배달', '팁', '기만', '해', '장난', '하나', '명시', '하라', '기분', '개', '거의', '모든', '매장', '배달', '팁', '질', '배민', '개', '설정', '을해', '리하', '검색', '어둠', '평점', '게속', '문의', '뭐해', '어디']\n",
      "223번째 리뷰: ['화면', '기본', '배민', '설정', '고객', '눈', '안보', '이', '배민', '주문', '지도', '모름', '문제', '배민', '배달', '가게', '생각', '분명', '영업', '배달', '매장', '도', '불구', '앱', '배민', '기본', '가게', '배달', '불가', '개불', '짐', '가게', '직접', '배달', '앱', '소비자', '본인', '지역', '위치', '설정', '시', '그', '가게', '목록', '차라리', '예전', '왜', '걸', '고집', '이해', '안감', '아마', '이', '암암리', '수익', '더', '좀', '더', '조사', '공정위', '진정', '볼', '생각']\n",
      "224번째 리뷰: ['등급', '쿠폰', '집알뜰', '배달', '집알뜰', '배달', '배송', '시간', '처음', '시간', '연장', '시간', '공지', '이외', '문제', '그냥', '포기']\n",
      "225번째 리뷰: ['매번', '금', '매달', '이번', '잘못', '배달', '가게', '전화', '수']\n",
      "226번째 리뷰: ['카카오', '택시', '배달', '기사', '오토바이', '픽업', '시', '이동', '경로', '위치', '배달', '본인', '편의', '왜정', '작', '피해', '이용자', '감당', '회사']\n",
      "227번째 리뷰: ['상담', '연결', '기사', '배달', '시간', '시간', '반']\n",
      "228번째 리뷰: ['음식', '곳', '배달', '전화', '채팅', '연결']\n",
      "229번째 리뷰: ['찜', '반대', '별로', '가게', '표시', '수', '기능', '다른', '사용자', '가게', '알', '수', '비공개', '기록', '용', '가게', '선택', '시', '것']\n",
      "230번째 리뷰: ['알뜰', '배달', '이유', '좀', '멋대로', '배달', '뭐']\n",
      "231번째 리뷰: ['새로고침', '때', '메뉴', '추천', '왜', '메뉴', '고민', '시간', '단축', '개', '뎅']\n",
      "232번째 리뷰: ['젠', '운영', '아예', '배달', '배차', '취소', '려고', '챗봇', '상담사', '연결', '고객', '센터', '전화', '통화량', '그냥', '전화', '헛', '웃음', '가게', '주문', '취소', '주문', '자도', '주문', '취소', '옵션', '취소', '옵션', '상담사', '연결', '쯥', '참고', '저', '오후', '주문', '지금', '시간', '오후', '전화', '연결', '이번', '건', '꼭', '환불', '이제', '배달', '민족', '경험', '소통', '앱', '사용', '시간', '낭비', '에너지', '낭비', '다시', '한번', '고객', '소통', '기본', '기본', '기본', '회사', '정말', '최악']\n",
      "233번째 리뷰: ['업데이트', '불만', '기존', '버전', '배민', '주문', '시', '지도', '이용', '주문', '매장', '선택', '수', '저', '집', '근처', '음식점', '별로', '관계', '주로', '자전거', '타고', '거리', '상가', '매장', '주문', '업데이트', '이후', '지도', '이용', '주문', '대신', '집', '주변', '음식점', '리스트', '주문', '기존', '배민', '지도', '이용', '주문', '방식', '음식점', '카테고리', '별로', '분류', '못', '점', '보완', '필요', '보완', '기존', '지도', '방식', '저', '경우', '업데이트', '이후', '더', '기존', '방식', '단점', '메', '시도', '기존', '방식', '장점', '아예', '업데이트', '의미', '가장', '나은', '해결', '책', '지도', '방식', '리스트', '방식', '둘', '이용', '방법', '어플', '고려', '기존', '지도', '방식', '사용', '필터', '링', '이용자', '종류', '음식', '볼', '수', '편이']\n",
      "234번째 리뷰: ['배달', '한참', '뒤', '취소', '고객', '대책', '보상', '나', '배', '행정', '년', '가장', '기본', '부분', '전혀', '개선', '여지']\n",
      "235번째 리뷰: ['배달', '민족', '주문', '시', '리뷰', '자주', '참고', '편입', '니', '한가지', '건의', '사항', '최신', '점순', '뿐', '제', '주문', '자하', '메뉴', '그', '메뉴', '리뷰', '확인', '수', '기능', '것', '메뉴', '검색', '기능', '리뷰', '특정', '메뉴', '검색', '기능', '주문', '수가', '메뉴', '리뷰', '보기', '위해', '드', '래그', '시간', '소요', '비', '효율', '발생', '긍정', '검토', '주심', '것']\n",
      "236번째 리뷰: ['사용', '편의', '배달', '수수료', '진짜', '여기', '체제', '무슨', '배짱']\n",
      "237번째 리뷰: ['배달', '취소', '좀', '어플', '내', '해', '가게', '배민', '처리', '하라', '니', '전화', '왜', '돈', '기분', '상', '배달', '시간', '명시', '뒤', '계속', '화거', '데', '사용']\n",
      "238번째 리뷰: ['주말', '채팅', '상담', '고객', '센터', '전화', '어쩌', '거', '사람', '더', '취소', '영업', '점', '수', '장난', '하나', '전화', '취소', '못', '한참', '배', '민원', '배차', '반도', '취소', '왜', '수', '연결', '어쩌', '답변', '성의', '분명', '채팅', '과연', '이메일', '바로', '취소']\n",
      "239번째 리뷰: ['배민', '주문', '취소', '가게', '상담', '센터', '말', '상담', '센터', '전화', '그', '사이', '배달', '결론', '취소', '환불', '밥', '그냥', '가게', '합의', '취소', '수', '버튼', '하나', '걸', '회사', '여지', '껏', '걸', '문제', '음식', '수준', '엇다']\n",
      "240번째 리뷰: ['만', '배달', '음식', '조금', '배달']\n",
      "241번째 리뷰: ['업뎃', '짐', '가독성', '가게', '리스트', '짐']\n",
      "242번째 리뷰: ['배달', '주소지', '기재', '문', '앞', '달라', '전화', '재', '배송', '거나', '취소', '내', '요기', '요나', '쿠팡', '츠', '한번', '발생', '일', '배민', '정책', '배달', '주문', '때', '전화', '상황', '부담', '수', '타', '배달', '어플', '사용', '걸', '권장', '전화', '이유', '법적', '근거', '갈취', '수', '모두', '유의', '공익', '목적', '제', '경험', '공유', '지금', '배달', '민족', '천', '만원', '기분', '보지', '맙시']\n",
      "243번째 리뷰: ['최악', '최악', '진짜', '최악', '무슨', '서비스', '상담', '연결', '전화번호', '입력', '채팅', '코멘트', '적', '수도', '가게', '가게', '주인', '도', '권한', '뻿어', '것', '수', '가게', '주인', '배달', '라이더', '주문', '고객', '모두', '서비스', '공함', '배민', '거', '대체', '왜', '상담', '대폭', '아무', '때', '전화', '라이더', '배차', '등', '서비스', '개선', '니', '쿠팡', '츠', '금방']\n",
      "244번째 리뷰: ['개도', '알뜰', '배달', '배송', '집', '배달', '도착', '예상', '시간', '계속', '배달', '수수료', '라이더', '확보']\n",
      "245번째 리뷰: ['알뜰', '배달', '일반', '배달', '몇', '더', '진짜', '거의', '배달', '안', '중', '그냥', '쓰레기', '옵션', '요', '걸', '바', '배달', '주문', '뭣', '알뜰', '배달', '사용', '하나요']\n",
      "246번째 리뷰: ['오', '계속', '주소', '입력', '인터넷', '계속', '연결', '불', '안정']\n",
      "247번째 리뷰: ['앱', '실행', '후', '정보', '수정', '프로필', '카메라', '선택', '시', '사진', '및', '동영상', '선택', '시', '버튼', '비', '활성화', '현상', '메일', '전달', '회신', '글', '수정', '및', '계획', '공유']\n",
      "248번째 리뷰: ['서비스', '배차', '계속', '시전', '최대', '배달', '시간', '다음', '개', '배민', '거밖테', '더', '할인', '쿠폰', '주', '실상', '서비스', '개선', '의지', '도', '쿠팡']\n",
      "249번째 리뷰: ['환경설정', '이벤트', '혜택', '알림', '마케팅', '정보', '수신', '동의', '계속', '광고', '푸시', '알림']\n",
      "250번째 리뷰: ['배달', '거의', '배차', '지연', '취소', '말', '좀', '얘기', '예전', '지연', '쿠폰', '주더', '젠', '뭐', '지연']\n",
      "251번째 리뷰: ['오늘', '갑자기', '메뉴', '장바구니', '란', '화면', '삭제', '후', '재', '설치', '로그인', '또', '화면', '거', '조치', '좀', '취', '갤럭시', '노트']\n",
      "252번째 리뷰: ['배달', '민족', '자주', '사용', '이용자', '거리', '음식점', '집', '배달', '배달', '팁', '배달', '속도', '집', '배달', '안', '것']\n",
      "253번째 리뷰: ['말', '내용', '걱정', '말', '장애인', '운영', '음식점', '앱', '다가', '표시', '이유', '마음', '약간', '것', '저', '문의사항', '줄', '짓', '항상', '걱정']\n",
      "254번째 리뷰: ['어플', '배달', '현황', '확인', '일시', '오류', '다시', '시도', '만', '해결', '고객', '센터', '연결', '채팅', '연결', '통정', '갈기', '연결', '다시', '취소', '뭣같', '고객', '센터', '운영']\n",
      "255번째 리뷰: ['기상', '악화', '가까이', '지연', '예상', '라이더', '수급', '상황', '이면', '배달', '타', '배달', '어플', '배달', '배민', '혹시', '안', '거', '성능', '개선', '지금', '연결', '고객', '센터', '전화', '통째', '와중', '리뷰', '달라', '팝업', '왜', '약', '것', '오늘', '부로', '배민']\n",
      "256번째 리뷰: ['자기', '역', '스스로', '정리', '폴더', '음식', '별로', '역', '스스로', '점수', '별로', '피자', '때', '이전', '피자', '집', '어딘', '경우']\n",
      "257번째 리뷰: ['배민', '앱', '이용', '고객', '센터', '연락', '연락', '제대로', '대처', '다른', '앱', '사용', '는걸', '추천', '돈', '벌', '상담사', '고객', '센터', '연락', '하나']\n",
      "258번째 리뷰: ['곳', '왜', '거리', '곳', '매번', '때', '거리', '순', '배달', '비', '쿠폰', '뭐', '지정', '가게', '사용', '가능', '내', '그냥', '가게', '전번', '확', '인용', '사용', '외', '앱']\n",
      "259번째 리뷰: ['새로고침', '때', '메뉴', '종류', '전', '데', '도움', '업데이트', '이후', '젠', '리프', '레시', '문구']\n",
      "260번째 리뷰: ['장바구니', '화면', '오류', '다른', '것', '먹통', '캐시', '데이터', '재', '접속', '해도', '먹통', '와이파이', '인터넷', '재', '설정', '해도', '오류', '어플', '재', '설치', '로그인', '오류']\n",
      "261번째 리뷰: ['라이더', '중이', '시간', '장난', '하나', '알뜰', '배달', '집', '배달']\n",
      "262번째 리뷰: ['배달', '오토바이', '중', '오토바이', '운전', '사람', '테', '일', '배달', '사람', '개도', '국민', '이미지', '런', '요']\n",
      "263번째 리뷰: ['기능', '좀', '더', '전']\n",
      "264번째 리뷰: ['업뎃', '해', '문', '가게', '하나', '도안', '요기', '요로']\n",
      "265번째 리뷰: ['배민', '배달', '배달', '비', '더', '배달', '이상', '왜', '시킴', '번']\n",
      "266번째 리뷰: ['가면', '갈수록', '별로', '수수료']\n",
      "267번째 리뷰: ['점점', '업데이트', '내용', '사용자', '편의']\n",
      "268번째 리뷰: ['진짜', '업데이트', '뭣같', '영업', '무슨', '휴무', '오류', '답']\n",
      "269번째 리뷰: ['배달', '온', '뭐', '시긴', '관리', '시스템', '전용', '배달', '배치', '음식', '주지', '쓰레기']\n",
      "270번째 리뷰: ['다른', '점도', '그냥', '배달', '취소', '오늘', '그냥', '다른', '앱']\n",
      "271번째 리뷰: ['시간', '배달', '고객', '센터', '계속', '연결', '겨우', '고객', '센터', '전화', '음식', '시간', '고객', '센터', '응대', '정말', '성의', '정말', '배', '라식', '운영', '별', '개도', '주기']\n",
      "272번째 리뷰: ['수저', '포크', '기본', '로', '진짜', '개', '오늘', '건', '손', '지경']\n",
      "273번째 리뷰: ['상담사', '배달', '기사', '분', '가계', '픽업', '연락', '주문', '취소', '고객', '센터', '연락', '해도', '기본', '고객', '센터', '연락', '배달', '주소', '변경', '또', '고객', '센터', '연락', '기본', '배달', '완료', '이제', '이용']\n",
      "274번째 리뷰: ['상담사', '연결', '바로', '통화', '종료', '서비스', '상태', '최악', '요']\n",
      "275번째 리뷰: ['배달', '배차', '이해', '가능', '시간', '제일', '바로', '배달', '집배', '달이', '최대', '때', '새로고침', '그대로', '기다림', '해결', '방안', '보상', '이건', '배민', '시스템', '문제', '가게', '피해', '환불', '말', '이제', '습', '답변', '부족', '내', '질문', '건', '존안', '시간', '문자', '알림', '쓱', '몰래', '가게', '손님', '피해', '감', '이제']\n",
      "276번째 리뷰: ['라이더', '요즘', '음식', '시간', '뒤']\n",
      "277번째 리뷰: ['앱', '업데이트', '후', '불편', '주문', '시', '기본', '저장', '요청', '사항', '초기', '원래', '정보', '저장', '알', '주문', '함', '저장', '요청', '사항', '앞', '에두', '문자', '달라', '개', '앞', '에두', '벨', '요로', '바', '새벽', '시간', '개', '마리', '난리', '내', '장사항', '알', '확인', '안', '잘못', '지금껏', '한번', '경우', '생각', '지도', '개']\n",
      "278번째 리뷰: ['가면', '갈수록', '점점', '퇴화', '앱', '점', '곱창', '거']\n",
      "279번째 리뷰: ['배달', '사고', '겁', '나남', '오늘', '연속', '번', '배달', '곳', '감', '욕', '점도', '도대체', '시스템', '곳', '감']\n",
      "280번째 리뷰: ['배달', '예상', '시간', '비', '배달', '가게', '전화', '배차', '고객', '센터', '전화', '도대체', '시스템', '관리', '진짜', '쿠팡잇츠', '수고']\n",
      "281번째 리뷰: ['지금', '갑자기', '배달', '버그', '수정']\n",
      "282번째 리뷰: ['지금', '왜', '계속', '운영', '시간', '다시', '달라', '말', '가게', '하나', '공지']\n",
      "283번째 리뷰: ['장바구니', '상하', '플릭킹', '자꾸', '좌우', '탭이동', '말', '왜', '척', '터치', '인터', '랙션', '조정', '아래', '분', '리뷰', '무슨', '말', '식', '답변', '복', '무슨', '말', '나', '개발', '담당', '부서', '원문', '그대로', '전달', '중간', '커트', '인터', '랙션', '작동', '탭', '이동', '다시', '선택', '항목', '리셋', '마트', '자주', '사람', '제발', '개선', '좀', '해']\n",
      "284번째 리뷰: ['배민', '가맹', '점', '울트라', '콜', '배민', '배', '민원', '이용', '안', '시', '가맹', '점', '구가', '이번', '표기', '일반', '가게', '휴무', '줄', '알', '전화', '장사', '여부', '고객', '이', '문구', '가게', '배달', '주문', '가능', '울트라', '콜로', '주문', '가능', '의도', '문구', '변경', '요청']\n",
      "285번째 리뷰: ['주문', '누가', '개발', '겁']\n",
      "286번째 리뷰: ['이번', '꼼수', '로', '거리', '추가', '금', '때문', '어', '찌', '사용', '거리', '추가', '금', '거기', '또', '추가', '지역별', '추가', '금', '업주', '추가', '이', '뭔가', '그동안', '이용자', '썻던', '할인', '쿠폰', '걸', '만회', '가요', '보나마나', '배달', '료', '자신', '수수료', '요', '걸', '요', '외각', '지역', '추가', '금', '추가', '금은', '말', '뜻', '이해', '뭐', '이용', '사람', '이용', '하하', '이용', '일']\n",
      "287번째 리뷰: ['길', '건너', '배달', '말', '날씨', '이건', '개선', '좀', '가게', '장님', '곳', '타렵니']\n",
      "288번째 리뷰: ['대체', '고객', '센터', '언제', '하나요', '배달', '문제', '고객', '센터', '상담', '연결', '해결', '건', '고객', '센터', '통화량', '상담', '그냥', '고객', '센터', '운영', '식', '운영']\n",
      "289번째 리뷰: ['배달', '배달', '라이더', '거지', '말', '처리', '속도']\n",
      "290번째 리뷰: ['쿠폰', '계속', '너프', '젠', '배민', '이용', '혜택', '수준']\n",
      "291번째 리뷰: ['배민', '최근', '문수', '및', '리뷰', '숫자', '리뷰', '경우', '최대', '로만', '맛집', '확인', '클릭', '번', '정도', '더', '문수', '최소', '단위', '변경', '리뷰', '단위', '이용자', '바로', '알', '수']\n",
      "292번째 리뷰: ['보완', '삶', '질', '배', '거', '점', '메뉴', '해당', '리뷰', '메뉴', '볼', '수', '리뷰', '메뉴', '연결', '메뉴', '대한', '리뷰', '사람', '계속', '스', '크롤', '시간', '혹시', '기능', '제', '거', '라면', '습']\n",
      "293번째 리뷰: ['이번', '메인', '화면', '구조', '것', '이전', '제', '음식', '목록', '한번', '이후', '스크롤', '음식', '목록', '어디', '점', '가게', '대표', '메뉴', '이미지', '방식', '더', '구미', '점', '이전', '구조', '정보', '접근성', '측면', '더']\n",
      "294번째 리뷰: ['주소', '입력', '열', '수동', '입력', '리뷰', '피드백', '제일', '주소지', '등록', '정말', '근처', '다른', '상징', '건물', '대신', '설정', '제', '직접', '기사', '요청', '사항', '보고', '다행', '배달', '앱', '집', '점', '주소지', '입력', '배달', '앱', '사용', '이유', '개발자', '기분', '상하']\n",
      "295번째 리뷰: ['이', '어플', '가장', '문제점', '매장', '지도', '확인', '유무', '확률', '점', '지도', '시각', '확인', '선택', '매장', '주문', '메뉴', '배달', '포장', '분리', '때', '포장', '선택', '확인', '수', '다시', '말', '해당', '매장', '주문', '메뉴', '배달', '포장', '구분', '주문', '결제', '전', '지도', '확인', '방법', '기적', '를', '가지', '말', '거기', '문제', '메인', '메뉴', '포장탭', '선택', '가게', '검색', '무조건', '지도', '확인', '수', '게', '덕분', '포장', '주문', '때', '이름', '다른', '매장', '잘못', '발생', '다른', '배달', '어플', '기요', '지도', '확인', '수', '왜', '이', '어플', '지도', '확인', '확률', '제로']\n",
      "296번째 리뷰: ['배달', '주문', '어려움', '자주', '애용']\n",
      "297번째 리뷰: ['옛날', '혜택', '별', '쿠폰', '기존', '배달', '적용', '순간', '집', '곳', '집', '자체', '가게', '그냥', '옛날', '주문', '쿠폰', '적용', '이용', '증거', '등급', '그', '혜택', '범위', '쿠폰', '굳이', '이용', '알뜰', '배달', '사용', '기존', '모든', '쿠폰', '가능', '기존', '쿠폰', '최준', '금액', '조건', '점점', '더', '젠', '알뜰', '알뜰', '사람', '쿠폰', '땅', '셈', '등급', '혜택', '점점', '더', '점점', '더', '아이러니']\n",
      "298번째 리뷰: ['화면', '누구', '생각', '앱', '사용', '수수료', '게', '더', '건가', '도대체', '검색', '칸', '클릭', '검색', '창', '누구', '아이디', '가요', '검색', '창', '그냥', '바로가기', '버튼', '민원', '앱', '거', '직관']\n",
      "299번째 리뷰: ['배달', '음식', '개인', '취향', '입맛', '때문', '때론', '맛', '접', '개념', '사장', '곳', '곳', '곳', '단골', '집', '음식', '대한민국', '배달', '민족', '음식점', '점', '리뷰', '음식']\n",
      "300번째 리뷰: ['메뉴', '다만', '메뉴', '가격', '편리', '무색', '최소', '금액', '배달', '팁', '단점', '메뉴', '하나', '해도', '최소', '금액', '만원', '이면', '만', '인분', '거기', '다가', '배달', '팁', '차라리', '배달', '팁', '더', '인', '배달', '인분', '이상', '배달', '하든', '이해', '시스템']\n",
      "301번째 리뷰: ['어플', '못하겟', '그냥', '전화', '듯', '배달', '비', '뭐', '배민', '그냥', '아날로그', '전화', '개', '진짬']\n",
      "302번째 리뷰: ['배달', '가게', '연락', '영업', '종료', '배민', '고객', '센터', '밤', '연결', '전혀', '음식', '못', '아침', '배민', '고객', '센터', '상담', '말귀', '배민', '이', '함', '가게', '연락', '함', '가게', '나', '배달', '대행', '업체', '연락', '함비', '대면', '요청', '내', '왜', '배달', '업체', '여기저기', '통화', '함', '배달', '업체', '가게', '배달', '거지', '봄', '사과', '왜', '사과', '겨우', '배달', '기사', '다른', '호실', '호실', '음식', '음식', '문자', '완료', '안해', '그', '사단', '남', '배민', '것', '안함', '음식', '값', '배민', '수수료', '포함', '배민', '음식', '값', '수수료', '배민', '이', '것', '퉤']\n",
      "303번째 리뷰: ['내', '주문', '과거', '목록', '검색', '기능', '분명', '이', '가게', '기억', '뭘', '찾기', '메뉴', '검색', '예', '곱창', '치면', '과거', '곱창', '목록', '가게', '리뷰', '창', '리뷰', '보기']\n",
      "304번째 리뷰: ['배민', '어플', '이용', '중', '배달', '기사', '배달', '기사', '평가', '음식점', '피해', '경우', '종종', '음식점', '점', '순', '그냥', '경우', '배민', '배달', '기사', '평가', '요청', '사항', '저장', '음식점', '저장', '기능', '곳', '저장', '해도', '다시', '경우']\n",
      "305번째 리뷰: ['집', '배달', '왜', '배달', '기사', '매칭', '가게', '음식', '만', '배달', '민족', '취소', '가게', '수', '부분', '고객', '센터', '채팅', '상담', '민원', '폭주', '연락', '집', '배달', '주문', '소비자', '더', '상황', '상황', '대한', '안내', '하나', '집', '배달', '서비스', '왜', '건가', '고객', '센터', '연락', '주문', '취소']\n",
      "306번째 리뷰: ['배달', '앱', '중', '배민', '제일', '몇', '년', '사용', '꽤', '점', '가게', '메뉴', '리스트', '설명', '보통', '메뉴', '구성', '적', '메뉴', '선택', '설명', '경우', '리스트', '글', '안보', '이면', '내용', '알', '수', '점', '사진', '메뉴', '구성', '눈', '볼', '수', '메뉴', '탕', '조리', '시', '사진', '경우', '성품', '전부', '경우', '사리', '점', '때문', '지난', '몇', '년', '격', '주변', '지인', '공감', '개선']\n",
      "307번째 리뷰: ['몇', '년', '어플', '사용', '유저', '어플', '꽤', '사용', '조금', '배달', '자주', '가게', '찜', '찜', '가게', '제', '가게', '찾기', '조금', '가게', '찾기', '위', '스크롤', '내', '찜', '가게', '내', '검색', '기능', '카테고리', '분류', '볼', '수', '기능', '추가', '사용', '조금', '더', '것', '찜', '가게', '선택', '번', '개', '해제', '수', '기능', '찜', '가게', '중', '일부', '폐업', '등', '이유', '주문', '목록', '자동', '삭제', '번', '찜', '해제', '때', '자꾸', '목록', '맨', '위로', '바람', '여간', '목록', '페이지', '고정', '선택', '삭제', '수', '기능', '것']\n",
      "308번째 리뷰: ['맛집', '동네', '검색', '메뉴', '종류', '선택', '장애', '위', '글', '잘못', '전달', '된거', '추가', '작성', '우리동네', '맛집', '검색', '상호', '검색', '상호', '검색', '우리', '동네', '무슨', '맛집', '알때', '말', '검색어', '위치', '기반', '주변', '등록', '맛집', '중', '선택', '수', '기능', '얘기']\n",
      "309번째 리뷰: ['배달', '음식', '주문', '뒤', '결제', '창', '것', '재', '설치', '해도', '오류', '점검', '좀']\n",
      "310번째 리뷰: ['정렬', '기능', '개편', '위해', '삭제', '버전', '스토어', '이', '말', '소린', '가요', '기능', '먼저', '그것', '테스트', '대체', '사용자', '보고', '그냥', '막무가내', '데이트', '누가', '그게', '그냥', '사람', '간', '보고', '정렬', '진짜', '개편', '위해', '거', '그것', '동네', '구멍', '가게', '못', '프로세스', '수준', '모로', '우형', '댕청함']\n",
      "311번째 리뷰: ['메인', '카테고리', '진입', '텅', '몇', '검색', '업체', '수가', '카테고리', '진입', '배달', '매장', '뭔가', '범위', '설정', '듯', '느낌', '이', '문제', '앱', '내', '문의', '통해', '번', '문의', '최신', '버전', '업뎃하', '말', '답변', '여기']\n",
      "312번째 리뷰: ['메뉴', '이름', '검색', '안', '가게', '상호', '검색', '수', '한식', '세부', '카테고리', '게', '인터페이스', '분', '배민', '라이더', '스', '서비스', '오픈', '이후', '밑스크롤', '무언가']\n",
      "313번째 리뷰: ['애용', '배민', '매장', '계속', '추가', '음식', '정말', '메뉴', '사진', '추천', '메뉴', '메뉴', '선택', '사진', '모두', '메뉴', '선택', '더', '가게', '운영', '시간', '실제', '운영', '시간', '곳', '몇몇', '가게', '배', '송료', '현금', '곳', '현금', '땐', '주문', '수', '어플', '사용', '항상', '환경', '개선', '위', '사항', '개선', '정말', '더', '수고']\n",
      "314번째 리뷰: ['배달', '팁', '장기', '때', '이벤트', '혜택', '한번', '지난번', '반찬', '집', '배달', '시', '배달', '팁', '배달', '후', '요청', '당황', '보고', '주문', '제', '잘못', '배달', '팁', '결제', '상품', '구매', '후', '별도', '배달', '팁', '요청', '부분', '좀', '눈', '개선', '주문', '시', '착오', '면', '찬가', '등', '웰빙', '등', '더', '업로드']\n",
      "315번째 리뷰: ['메뉴', '별', '리뷰', '조회', '결정', '어차피', '나', '거', '사람', '것', '선', '적', '그', '과정', '스크롤링', '매우', '특정', '메뉴', '대해', '단순', '기호', '매장', '기재', '재료', '알레르기', '등', '리뷰', '주로', '필요', '고객', '해당', '기능', '더', '경험', '것']\n",
      "316번째 리뷰: ['최근', '배민', '갤럭시', '쪽', '업데이트', '문제', '밑', '다른', '리뷰', '저', '현상', '계', '신분', '노트', '사용', '로그', '인시', '일시', '연결', '메시지', '출력', '후', '로그인', '불능', '어플', '동시', '인트', '화면', '무한', '로딩', '가게', '터치', '장바구니', '메뉴', '주문', '버튼', '터치', '시', '로그인', '때', '문제', '발생', '설치', '삭제', '후', '재', '설치', '문제', '반복', '태블릿', '갤탭', '테스트', '시', '정상', '작동', '함', '원인', '최근', '일주일', '동안', '계속']\n",
      "317번째 리뷰: ['배달', '앱', '정말', '매장', '보기', '분류', '등', '자주', '애용', '사용', '가지', '기능', '추가', '생각', '가게', '매장', '이름', '검색', '메뉴', '이름', '검색', '거', '며칠', '전', '음식', '메뉴', '이름', '매장', '이름', '포기', '경험']\n",
      "318번째 리뷰: ['정말', '결제', '페이지', '결제', '쿠폰', '사용', '설정', '초기', '경우', '자주', '결제', '해당', '화면', '요청', '사항', '쿠폰', '설정', '역', '처음', '생각', '주문', '생각', '식', '매우', '기분']\n",
      "319번째 리뷰: ['어플', '구성', '좀', '메뉴', '전체', '사진', '전단지', '처럼', '리뷰', '사진', '주문', '또한', '주문', '고객', '리뷰', '작성', '시', '자동', '주문', '메뉴', '표시', '래야', '메뉴', '사진', '참고', '것']\n",
      "320번째 리뷰: ['포장', '선택', '시', '기존', '지도', '보', '가게', '목록', '봐뀐점', '포장', '주문', '특성', '내', '주문', '위치', '가게', '얼마나', '멀리', '식', '가야', '지도', '직접', '눈', '보고', '결정', '점도', '이건', '일일이', '목록', '가게', '보고', '지도', '길', '기존', '지도', '목록', '가지', '것', '가지', '선택']\n",
      "321번째 리뷰: ['배달', '앱', '중', '제일', '운영', '것', '자주', '가지', '점', '리뷰', '달', '채', '모바일', '작업', '배너', '작업', '창', '식', '앱', '광고', '제', '입장', '작업', '지장', '수', '애초', '리뷰', '사장', '개선', '점', '점', '기재', '항상', '것', '수', '것', '때문', '리뷰', '요청', '메시지', '화면', '점유', '메시지', '카톡', '휴대폰', '메시지', '상단', '알림', '변경', '앱', '화면', '점유', '작업', '가끔']\n",
      "322번째 리뷰: ['년', '전', '다른', '배달', '앱', '배달', '민족', '계속', '점', '찜', '가게', '개', '거', '그', '전', '찜', '가게', '찜', '가게', '또', '리뷰', '보고', '메뉴', '주문', '그', '메뉴', '주문', '적', '몇', '번', '이건', '아마', '다른', '앱', '기능', '리뷰', '주문', '메뉴', '자동', '기능', '정말', '배달', '민족', '정말', '습']\n",
      "323번째 리뷰: ['브랜드', '기본', '나열', '왜', '곳', '이해', '거리', '순이', '가장', '기본', '설정', '저장', '나열', '순', '변경', '매번', '리셋', '일일', '확인', '못', '배달', '뉴', '다른', '동네', '가게', '주문', '바람', '추가', '배달', '비', '계산', '게', '몇번', '일부러', '앱', '개발', '겁', '사용자', '리스트', '설정', '저장', '기능', '좀', '추가']\n",
      "324번째 리뷰: ['배달', '팁', '순', '정렬', '때', '대부분', '가게', '배달', '팁', '시작', '막상', '배달', '팁', '정보', '이상', '배달', '팁', '실질', '지불', '가게', '이', '자체', '불만', '가게', '배달', '팁', '순위', '정렬', '최상', '단', '것', '문제', '실질', '배달', '팁', '가게', '썸네일', '상', '찾기', '아래', '계속', '스크롤', '수', '주문', '가격', '배달', '팁', '책정', '것', '요새', '가게', '상단', '노출', '수', '편법', '것', '이로', '소비자', '실제', '배달', '팁', '제공', '판매', '자도', '매우', '손해', '시스템', '가게', '평균', '배달', '팁', '표기', '최대', '배달', '팁', '표기', '방향', '앱', '수정']\n",
      "325번째 리뷰: ['사용', '한가지', '제안', '드릴', '음식점', '중', '배달', '비', '배달', '비', '음식점', '옵션', '선택', '분류', '수', '지금', '창', '배달', '비', '유무', '눈', '띠', '표시', '업주', '옆', '옵션', '분류', '주문', '순', '순', '거', '여기', '배달', '비', '순', '옵션', '추가']\n",
      "326번째 리뷰: ['지도', '앱', '다른', '어플', '위치', '서비스', '정상', '작동', '이', '어플', '제', '핸드폰', '위치', '서비스', '이용', '수가', '혹시', '지웟다', '다시', '깔아봣더', '아예', '검색', '자체', '사용', '수가', '처음', '위치', '서비스', '갑자기', '왜', '거', '참고', '사용', '기종은', '엣지']\n",
      "327번째 리뷰: ['단순', '배달', '앱', '줄', '도대체', '무슨', '개인정보', '수상', '쩍', '캐시', '메모리', '라운드', '기적', '캐시', '메모리', '정리', '거', '계속', '재', '기동', '프로그램', '시작', '개인정보', '강탈', '의심', '앱', '비작', '동시', '라운드', '캐시', '메모리', '수정']\n",
      "328번째 리뷰: ['비회', '주문', '로', '결제', '결제', '완료', '처음', '번', '반복', '결제', '확인', '차', '매장', '결제', '배민', '전화', '하니', '결제', '배민', '쪽', '실수', '결제', '현장', '결제', '아주', '아주', '왜', '결제', '과정', '외국', '호텔', '예약', '결제']\n",
      "329번째 리뷰: ['어플', '다만', '검색', '시', '오류', '홈', '화면', '처음', '검색', '시', '문제', '검색', '후', '창', '뒤', '가기', '재', '검색', '시', '입력', '오류', '예', '번', '입력', '번', '입력', '를', '입력', '입력', '때', '홈', '화면', '문제']\n",
      "330번째 리뷰: ['쿠팡', '츠', '노골', '라이더', '동시', '건', '배달', '모습', '광고', '로', '비판', '개선', '사항', '진행', '모습', '배달', '시스템', '개선', '사용자', '가게', '주인', '입장', '상태', '픽업', '현황', '정돈', '이', '픽업', '상태', '변화', '라이더', '배달', '시작', '버튼', '배달', '가게', '민원', '전화', '사용자', '사용자', '형태', '해당', '기능', '관련', '개선']\n",
      "331번째 리뷰: ['화면', '별로', '웹디자인', '진짜', '쇼핑', '라이브', '중요도', '화면', '에두', '막상', '주문', '는걸', '버튼', '일이', '다른', '배달', '앱', '정도', '검색', '검색', '한번', '또', '검색', '뭐', '왜', '기능', '추가']\n",
      "332번째 리뷰: ['한창', '장바구니', '메뉴', '중', '영업', '시간', '종료', '경우', '영업', '마감', '시간', '임박', '점', '강조', '현재', '가게', '정보', '굳이', '그', '게', '확인', '장바구니', '주문', '때', '제', '영업', '시간', '적', '번', '배달', '앱', '영업', '식당', '위생', '면', '미디어', '이슈', '여러', '번', '위생', '면', '식당', '인지', '세스코', '버스', '조리', '과정', '대한', '위생', '면', '검증', '필터', '링', '얼마나', '전', '재료', '부분', '더', '주문', '식당', '리뷰', '볼때', '자본', '리뷰', '다시', '개선', '메뉴', '맛', '조절', '옵션', '주문', '등', '다시', '위', '면', '개선', '등록', '식당', '수가', '때문', '이용']\n",
      "333번째 리뷰: ['메뉴', '선택', '란', '해당', '메뉴', '주문', '사람', '리뷰', '볼', '수', '기능', '주문', '전', '특정', '메뉴', '대한', '리뷰', '보고', '직접', '리뷰', '란', '스', '크롤', '찾기', '다른', '배달', '앱', '요요', '예전', '기능', '배민', '배달', '팁', '순', '정렬', '시스템', '개선', '배달', '팁', '곳', '그', '기능', '사용', '배달', '팁', '가게', '가게', '더', '먼저', '이상', '주문', '시', '그', '이하', '가게', '짜증', '안', '날', '수가', '그냥', '최소', '배달', '팁', '순', '정렬', '것', '직접', '배달', '팁', '범위', '설정', '식', '개선', '것']\n",
      "334번째 리뷰: ['검색', '화면', '전체', '배달', '포장', '탭', '중', '배달', '탭', '스', '크롤', '볼', '때', '아래', '스', '크롤', '자꾸만', '왼쪽', '오른쪽', '전체', '탭', '포장', '탭', '정말', '검색', '후', '배달', '탭', '포장', '탭', '마트', '탭', '뭐', '하나', '선택', '좌우', '건', '안', '가끔', '것', '스', '크롤', '번', '때', '왼쪽', '전체', '탭', '가게']\n",
      "335번째 리뷰: ['메뉴', '설명', '짤려', '고객', '센터', '문의', '와이파이', '때문', '것', '답변', '해결', '의지', '와이파이', '하', '작동', '오류', '앱', '는걸', '인정', '말', '설사', '데이터', '환경문제', '해도', '통신', '에러', '처리', '제대로', '답변', '정말']\n",
      "336번째 리뷰: ['정말', '앱', '단지', '점', '라면', '메뉴', '선택', '후', '결제', '창', '이전', '화면', '메뉴', '별로', '세부', '추가', '사항', '수정', '수', '기능', '추가', '즉', '예', '베스킨라빈스', '파인트', '가지', '맛', '로', '뒤', '결제', '누르기', '이전', '화면', '파인트', '로', '수정', '수', '다시', '메뉴', '삭제', '세부', '사항', '것', '꼭', '반영']\n",
      "337번째 리뷰: ['배민', '인', '건의', '가지', '역', '검색', '기능', '추가', '예전', '주문', '가게', '메뉴', '기억', '안나', '배민', '워낙', '한참', '스', '크롤', '저', '충성', '고객', '위해', '제발', '추가', '특정', '메뉴', '선택', '리뷰', '보기', '기능', '요즘', '리뷰', '다른', '고객', '무슨', '메뉴', '메뉴', '선택', '해당', '리뷰', '볼', '수', '기능', '생기', '더', '것']\n",
      "338번째 리뷰: ['이번', '인터페이스', '업데이트', '보기', '좀', '메뉴', '커서', '한눈', '레이아웃', '좀', '싸구려', '전단지', '느낌', '드네', '이전', '레이아웃', '걸', '수도', '예전', '디자인', '더', '배민', '고급', '진', '느낌']\n",
      "339번째 리뷰: ['옛날', '주문', '취소', '답장', '마음', '이번', '어플', '자체', '오류', '내', '내', '돈', '피자', '왜', '결제', '창', '화면', '점심때', '일어나서', '참고', '네트워크', '연결', '말', '알림', '데이터', '도', '보고', '휴대폰', '다시', '시작', '와이파이', '재부팅', '혹시', '업데이트', '확인']\n",
      "340번째 리뷰: ['요즘', '배달', '팁', '보이', '설정', '가게', '실제', '주문', '배달', '료', '더', '설정', '가게', '배달', '팁', '순', '정렬', '상단', '노출', '배달', '팁', '순', '정렬', '의미', '것', '배달', '팁', '가게', '피해', '것', '소비자', '저']\n",
      "341번째 리뷰: ['다른', '사용자', '리뷰', '작성', '시', '사진', '사진', '장수', '사진', '핸드폰', '자체', '갤러리', '사용', '클라우드', '드라이브', '사용', '설정', '권한', '확인', '앱', '다시', '닉네임', '때문', '사진', '등록', '제', '닉네임', '저기', '것', '중', '해당', '것', '하나', '한글', '특수문자', '공백', '자음', '모음', '입력', '앱', '자체', '문제']\n",
      "342번째 리뷰: ['옆', '부분', '상단', '이벤트', '배너', '슬라이드', '배달탭', '포장탭', '부분', '점', '변경', '부분', '부분', '부분', '업데이트', '사용자', '고려', '것', '또', '이전', '앱', '버벅되네', '과유', '불급', '배달', '사용', '앱', '만큼', '원래', '목적']\n",
      "343번째 리뷰: ['혹시', '역', '검색', '기능', '수', '꼭', '그때', '그', '집', '스크롤', '건', '찾기', '개선', '정말', '것', '주문', '기능', '사용', '것', '늘', '앱', '위해', '업데이트']\n",
      "344번째 리뷰: ['식당', '몇', '건', '것', '상호', '식당', '이름', '개', '것', '이', '가지', '문제점', '때문', '가뜩이나', '보기', '식당', '목록', '그', '숫자', '몇', '더', '더', '더욱', '보기', '개선', '방안', '최신', '등록', '순', '보기', '기능', '무조건', '무조건', '상호', '당', '건', '등록', '사용자', '위', '신규', '등록', '업체', '위', '위', '두', '사항', '실현', '것', '선택', '필수', '사항', '임']\n",
      "345번째 리뷰: ['업데이트', '후', '배민', '앱', '이름', '배달', '민족', '무슨', '쇼핑', '라이브', '마트', '상한', '걸', '도', '배달', '노력', '정말', '초심', '그때', '다시', '사용', '예정', '요기', '요로', '시각', '불편', '시간', '업데이트', '개발자', '사용자', '사용', '어플', '개발', '더', '노력']\n",
      "346번째 리뷰: ['다음', '앱', '문제', '팝업', '공지', '고객', '문전', '공지', '사항', '확인', '평소', '주문', '결제', '앱', '문제', '압', '주문', '역', '문제해결', '전', '주문', '어차피', '앱', '주문', '결제', '해도', '주문', '왜', '결제', '해', '신건', '주문', '기능', '업주', '설정', '돈', '가요', '저번', '이벤', '땐', '문제', '이번', '왜']\n",
      "347번째 리뷰: ['인터페이스', '구려', '할인', '이벤트', '안보', '찜', '목록', '것', '몇', '번', '잠깐', '다른', '거', '그거', '몇', '번', '클릭', '그냥', '직관', '지도', '더', '것', '거', '더', '직관', '배민', '옛날', '번쩍', '배달', '쿠폰', '건', '건가', '거', '찾기', '밑', '건가', '전체', '정보', '전달', '용감', '왜', '거', '생각', '현재', '선', '그냥', '구리', '생각', '듭니']\n",
      "348번째 리뷰: ['어플', '사용자', '편의', '업데이트', '좀', '홈', '화면', '하단', '검색', '시스템', '구색', '용이', '정말', '쓰레기', '어플', '검색', '시', '상점', '내', '메뉴', '검색', '정도', '바라지', '그냥', '내', '입력', '키', '워드', '검색', '결과', '좀', '그게', '리뷰', '뭘', '메뉴', '좀', '알', '수', '걸', '왜', '메뉴', '뭘', '참고', '뭐', '사진', '보고', '땡입', '또', '배달', '예상', '시간', '도입', '업계', '위', '배짱', '것', '배민', '캐릭터', '문방구', '굿즈', '팔지', '어플', '편의', '좀', '메뉴', '카테고리', '좀', '진짜', '어플', '쓰레기']\n",
      "349번째 리뷰: ['아이디', '찾기', '휴대폰', '인증', '다시', '로그인', '로그인', '버튼', '그냥', '로그인', '창', '연결', '아이디', '로그인', '몇번', '시도', '하니', '아이디', '일부', '화면', '연결', '입력', '시', '오타', '제', '이메일', '주소', '아이디', '비밀번호', '로그인', '정보', '번', '해도', '로그인', '시도', '카운팅', '제대로', '계정', '정보', '일치', '일정', '횟수', '로그인', '시도', '보통', '휴대폰', '메일', '등', '계정', '정보', '로그인', '시도', '알림', '계정', '로그인', '정보', '자체', '탈퇴', '수', '장치', '건가', '아이디', '자체', '탈퇴', '후', '재', '가입', '앱', '내의', '고객', '센터', '관련', '카테고리', '휴대폰', '번호', '발급', '비회', '주문']\n",
      "350번째 리뷰: ['최근', '기능', '업데이트', '이후', '전면', '메뉴', '한번', '볼', '수', '것', '기능', '건', '비즈니스', '업주', '별', '점', '강요', '및', '서비스', '제공', '부분', '정도', '검열', '마트', '경우', '셀렉', '션', '확장', '주력', '보이', '본래', '컨셉', '밀', '키트', '주력', '마진', '구조', '개선', '위해', '도', '고민', '필요', '타겟', '거', '비즈니스', '고유', '방향', '유지', '마케팅', '객', '구색', '코로나', '때문', '어려움', '바캉스', '휴가', '관련', '편의', '제품', '구비', '듯', '체온계', '방수', '팩', '물총', '썬크림', '셀카', '봉', '등등']\n",
      "351번째 리뷰: ['다른', '사람', '본인', '메뉴', '메모장', '예', '중국집', '짜장', '이집', '짜장면', '좀', '걸', '메모', '수', '나중', '때', '그', '메뉴', '아래', '내', '메모', '항상', '보이', '음식점', '곳', '메뉴', '나', '표시']\n",
      "352번째 리뷰: ['비회', '사용', '가입', '네이버', '아이디', '로그인', '시도', '팝업', '순식간', '떳다', '무슨', '오류', '인지도', '순간', '캡쳐', '이메일', '정보', '제공', '동의', '로그인', '다시', '선택', '수', '계속', '로그인', '어쩌', '가입', '절차', '대한', '안내', '듯']\n",
      "353번째 리뷰: ['정말', '최악', '앱', '수수료', '제대로', '관리', '배달', '기사', '매우', '실수', '대체', '몇개', '음식', '한번', '배달', '기본', '배달', '시간', '가게', '문제', '점주', '배달', '기사', '전화', '전달', '적', '번', '피크', '시간', '고객', '가게', '점주', '배달', '기사', '블랙리스트', '제도', '무조건', '개선', '때', '쿠팡', '츠', '사용']\n",
      "354번째 리뷰: ['사용', '개인', '메인', '화면', '검색', '아이콘', '바로', '아쉬움', '처음', '검색', '기능', '알', '생각', '앱', '메인', '화면', '아래', '상단', '우측', '돋보기', '버츤', '하나', '것', '생각']\n",
      "355번째 리뷰: ['분과', '현상', '처음', '검색', '고객', '센터', '안내', '삭제', '후', '다시', '설치', '로그인', '다시', '삭제', '후', '재', '설치', '하니', '이번', '아예', '배민', '로고', '화면', '사용', '폰', '갤럭시', '애플리케이션', '메뉴', '캐시', '삭제', '데이터', '삭제', '폰', '켜', '보기', '상태']\n",
      "356번째 리뷰: ['처음', '사용', '관련', '쿠폰', '다운로드', '할인', '우리', '동네', '첫', '포장', '모두', '클릭', '첫', '주문', '시', '사용', '결제', '화면', '쿠폰', '배', '그냥', '주문', '답변', '내용', '전달', '것', '답변', '질문', '내용', '다소', '차이', '듯', '주문', '전', '쿠폰', '다운로드', '여러', '차례', '시도', '다운로드', '포기', '그냥', '주문', '의미', '확인', '첫', '주문', '쿠폰', '사용', '전', '것']\n",
      "357번째 리뷰: ['아이콘', '텍스트', '좀', '세', '쯤', '이상', '사용자', '포기', '거구', '점점', '가게', '목록', '울트라', '콜', '뭐', '번잡', '가게', '또', '등록', '가게', '메뉴', '끝', '메뉴', '설명', '사진', '글', '전체', '것', '것', '점점', '필터', '기능', '부재', '배달', '비', '필터', '가격', '필터', '메뉴', '리뷰', '수', '메뉴', '알러지', '메뉴', '식품', '가게', '숨기', '수가', '난', '알러지', '사장', '말', '알러지', '식성', '칸', '또한', '알러지', '식성', '개별', '조리', '가게', '표시', '체인점', '전화', '저번', '덜', '달', '부탁', '그냥']\n",
      "358번째 리뷰: ['배달', '민족', '어플', '요청', '사항', '가지', '건의', '사항', '각', '배달', '가게', '요청', '사항', '저장', '것', '부과', '욕심', '부분', '이구', '각', '가게', '개인', '메모', '수', '추가', '것', '찜', '기능', '구별', '가게', '여러', '메뉴', '저장', '거나', '필기', '어플', '바로', '이용', '수', '각', '가게', '개인', '메모', '기능', '추가']\n",
      "359번째 리뷰: ['평소', '배민', '앱', '이용', '한가지', '배달', '서비스', '관련', '개선', '앞', '에두', '전화', '문자', '요청', '시', '절반', '정도', '벨', '그냥', '요청', '선택', '크게', '의미', '앱', '쿠팡', '츠', '시', '배달', '요청', '사항', '비대', '서비스', '배려', '택지', '세분', '초인종', '여부', '대부분', '요청', '대로', '정석', '주시', '기사', '개인', '문자', '앱', '통해', '사진', '수', '개인', '전화', '문자', '앞', '수령', '선호', '해당', '선택', '직접', '문자', '달라', '요청', '그닥', '요청', '사항', '선택', '전화', '문자', '요청', '실제', '요청', '기사', '반영']\n",
      "360번째 리뷰: ['거리', '버튼', '시골', '정말', '주위', '가게', '멀리', '서도', '배달', '비', '지역', '거리', '순', '보이', '슈퍼', '파워', '광고', '란', '가게', '군데', '막', '새로고침', '등', '의리', '참고', '이번', '쏜다', '이벤트', '보고', '그냥', '탈퇴', '이벤트', '때문', '제', '동네', '진짜', '쓰기', '이번', '기회', '다른', '어플', '사용', '더', '쓰기']\n",
      "361번째 리뷰: ['최근', '업데이트', '안드로이드', '사양', '정도', '배민', '어플', '실행', '시', '업데이트', '하라', '업데이트', '업데이트', '진행', '열기', '열기', '업데이트', '무한', '반복', '삭제', '재', '설치', '환경설정', '등', '증상', '요', '다른', '증상', '글', '이번', '업데이트', '관련', '파일', '확인', '참고', '사양', '폰', '핸드폰', '사양', '문제', '이번', '업데이트']\n",
      "362번째 리뷰: ['변경', '인터페이스', '업데이트', '더', '것', '예전', '페이지', '더', '것', '자주', '배달', '주문', '등급', '상향', '것', '눈', '메뉴', '소비자', '업주', '것', '생각', '슈퍼', '리스트', '업체', '맛', '것', '입찰', '광고', '비', '사실', '알', '주문', '고객', '입장', '신뢰', '수', '점', '실속', '진심', '리뷰', '답변', '사장', '매장', '주문', '돈', '경쟁', '광고', '능력', '소비자', '허위', '광고', '보고', '주문', '배민', '업체', '등록', '오픈', '시점', '날짜', '기입', '고객', '문수', '보고', '판단', '주문', '데', '혼돈', '안', '리뷰', '참고', '주문', '수', '것']\n",
      "363번째 리뷰: ['배달', '앱', '때', '점', '어필', '수저', '포크', '기본', '설정', '로', '좀', '주문', '때', '깜빡', '때', '때', '때', '대부분', '용기', '배달', '자체', '친환경', '무슨', '환경', '척입', '배달', '자체', '사용자', '설정', '로', '사람', '로', '환경설정', '옵션', '고정', '그것', '체크', '체크', '표기', '배달', '위치', '찜', '목록', '예', '회사', '집', '자체', '정보', '찜', '목록', '더']\n",
      "364번째 리뷰: ['첫', '앱', '결제', '문제점', '첫', '결제', '에러', '거의', '문제점', '생년', '월', '때문', '로', '개', '숫자', '그것', '때문', '하니', '난', '몇번', '결제', '수단', '바로', '뭐', '일지', '여하튼', '사용', '것', '결제', '수단', '여러가지', '런', '지금']\n",
      "365번째 리뷰: ['이전', '가게', '확인', '좀', '더', '주문', '역', '안', '검색', '가게', '페이지', '주문', '횟수', '등', '표시', '소리', '단순', '취향', '문제', '경우', '더러', '리뷰', '경우', '리뷰', '검색', '기능', '좀', '것']\n",
      "366번째 리뷰: ['앱', '가치', '가게', '위치', '지도', '앱', '삭제']\n",
      "367번째 리뷰: ['화면', '별로', '자주', '사용', '기능', '화면', '클릭', '횟수', '영', '화면', '굳이', '왜', '이전', '크게', '상자', '속', '상자', '속', '상자', '속', '상자', '홍보', '뭔가', '더', '문제', '기대', '이하']\n",
      "368번째 리뷰: ['요', '요', '경쟁', '어플', '사용', '부분', '메뉴', '음식', '클릭', '바로', '다른사람', '리뷰', '모양', '음식', '양', '맛등', '평가', '바로', '배달', '민족', '이용', '메뉴', '대한', '리뷰', '하나', '주문', '시간', '하나', '의견', '개선', '사람', '하나', '고민', '시간', '더', '주문', '배민', '어플', '더', '이미지', '생각']\n",
      "369번째 리뷰: ['배달', '민족', '항상', '휴대폰', '두', '개', '이상', '계정', '사용', '때', '첫', '구매', '혜택', '안', '엄마', '핸드폰', '사용', '제', '대신', '주문', '경우', '좀', '하하', '주문', '예상', '때', '수취', '완료', '버튼', '리뷰', '적', '수', '기능']\n",
      "370번째 리뷰: ['가게', '특정', '메뉴', '클릭', '메뉴', '리뷰', '볼', '수', '기능', '를', '떡볶이', '집', '로', '떡볶이', '메뉴', '클릭', '그', '메뉴', '리뷰', '볼', '수', '기능', '가끔', '옛날', '내', '가게', '무슨', '메뉴', '경우', '역', '계속', '찾기', '때', '검색', '수', '기능']\n",
      "371번째 리뷰: ['전반', '주문', '기능', '가게', '인지', '업체', '사용', '수', '예약', '주문', '때', '바로', '배달', '당황', '주문', '요청', '사항', '주문', '쪽', '이해', '주문', '잘못', '거', '얘기', '더', '바로', '배달', '서로', '상황', '설명', '업체', '측', '이해도', '못', '가게', '사용', '수', '허용', '주문', '탓', '서로', '감정', '상']\n",
      "372번째 리뷰: ['처음', '출시', '년', '초기', '구성', '보임', '랭킹', '추천', '지역', '가도', '배달', '거기', '거기', '느낌', '맛집', '찾기', '가게', '특성', '볼', '수', '장치', '기본', '느낌']\n",
      "373번째 리뷰: ['메모리', '부족', '어플', '저장', '위치', '외', '메모리', '이번', '업데이트', '앱', '작동', '안', '업데이트', '이상', '작동', '경우', '이번', '작동', '안', '경우', '위', '문제', '원인', '불편', '사항', '확인', '말', '무슨', '뜻', '핸드폰', '기본', '메모리', '용량', '꽉', '차서', '어플', '외', '메모리', '이동', '어플', '아예', '불편', '사항', '확인']\n",
      "374번째 리뷰: ['비', '마트', '장바구니', '그', '체크', '표시', '사각형', '로딩', '로딩', '속도', '좀', '장바구니', '상품', '체크', '표시', '끈', '꼭', '다시', '선택', '그것', '체크', '표시', '글', '로딩', '화면', '좀']\n",
      "375번째 리뷰: ['수정', '메뉴', '구경이', '쪽', '하나', '오직', '결제', '과정', '데이터', '와이파이', '폰', '옆', '동네', '하든', '제생', '겻습', '계산', '화면', '로딩', '너', '도저히', '요즘', '문제', '스크린샷', '리뷰']\n",
      "376번째 리뷰: ['앱', '정말', '한가지', '건의', '요', '배달', '팁', '순서', '때', '먼저', '최소', '가격', '기준', '것', '실제', '배달', '때', '단체', '주문', '제외', '곤', '최대', '가격', '최대', '가격', '배달', '팁', '지불', '경우', '대부분', '배달', '팁', '고려', '주문', '사람', '저', '포함', '적진', '것', '입장', '이', '기능', '처음', '땐', '실제', '쓸모', '무방', '배달', '팁', '최대', '가격', '기준', '배달', '팁', '순', '정렬', '기능', '수', '리뷰', '볼', '때', '메뉴', '설정', '볼', '수', '필터', '링', '기능', '것', '글']\n",
      "377번째 리뷰: ['메뉴', '별로', '리뷰', '볼', '수', '기능', '내', '메뉴', '바로', '확인', '리뷰', '창', '제', '리뷰', '볼', '수', '기억', '안나', '경우', '리뷰', '작성', '확인', '버튼', '이', '전', '개선', '것', '또', '사진', '첨부', '클릭', '다시', '확인', '버튼', '리뷰', '때', '벨벳', '사용자']\n",
      "378번째 리뷰: ['주문', '메뉴', '주문', '리뷰', '알', '수', '음식', '메뉴', '선택', '도움', '요기', '배달', '앱', '주문', '무엇', '주문', '양', '맛', '어땟는', '구체', '모양', '체크', '옵션', '다른', '주문', '참고', '메뉴', '선택', '때', '도움', '저', '늘', '배민', '이용', '옵션', '추가', '배민', '사용자']\n",
      "379번째 리뷰: ['메인', '카테고리', '플라스틱', '용기', '사용', '매장', '비건', '식단', '포함', '매장', '조회', '수', '카테고리', '생기', '플라스틱', '포장재', '이용', '매장', '일일', '찾기', '제로', '웨', '이스트', '채식', '지향', '이용자', '고려', '음식점', '입장', '전략', '노출', '기회', '수', '것']\n",
      "380번째 리뷰: ['가시', '오히려', '전이', '더', '만', '배민', '어플', '정신', '뭘', '맘', '치킨', '때', '세상', '왜', '옛날', '쿠폰', '북', '더', '집', '배달', '나발', '내', '돈', '내', '음식', '신경', '왜', '직관']\n",
      "381번째 리뷰: ['배달', '시간', '왜', '기재', '배달', '주문', '고', '채팅', '상담', '얘기', '상담', '접수', '왜', '전화', '연결', '달', '사이', '지금', '배달', '지연', '몇번', '나', '배달', '감당', '시간', '이용', '하란', '도저히']\n",
      "382번째 리뷰: ['만', '배달', '주문', '매번', '연착', '상담', '연결', '이번', '배달', '마지막', '배민', '손', '절하']\n",
      "383번째 리뷰: ['전', '결제', '수단', '결제', '방식', '전', '카드', '결제', '현금', '결제', '결제', '방식']\n",
      "384번째 리뷰: ['배달', '지연', '때', '연결', '우천', '시나', '배달', '몰리', '배달', '날', '고객', '센터', '연결', '배달', '취소', '하든', '고객', '센터', '인원', '몇번', '더', '이상', '이용']\n",
      "385번째 리뷰: ['채팅', '전화', '상담', '동시', '클라스', '좀', '점점', '업그레이드']\n",
      "386번째 리뷰: ['개발자', '항상', '배달', '민족', '이용', '다만', '점', '가지', '첫째', '교환', '때', '늘', '전화', '교환', '바코드', '번호', '주문', '배달', '민족', '주문', '때', '교환', '바코드', '번호', '입력', '앱', '교환', '결제', '기능', '둘째', '전화', '주문', '결제', '완료', '건', '한해', '만', '누적', '주문', '횟수', '해', '불편', '사항', '다음', '업데이트', '때', '이', '가지']\n",
      "387번째 리뷰: ['배민', '앱', '찜', '기능', '찜', '매장', '관해', '메뉴', '입', '메뉴', '내', '메모', '수', '기능', '추가', '입', '음식', '한참', '뒤', '다시', '배달', '경우', '종종']\n",
      "388번째 리뷰: ['배달', '민족', '최악', '앱', '초기', '사용', '사용자', '경험', '려고', '이익', '창', '우선', '앱', '보통', '하나', '앱', '이유', '만큼', '발전', '보이', '소비', '이유', '배달', '민족', '전혀', '배민', '마트', '등', '돈', '궁리', '메뉴', '생', '월', '정도', '자주', '이용', '것', '이용', '이용', '가게', '이', '앱', '때문', '욕', '게', '웃기', '초기', '마케팅', '리뷰', '영역', '대한', '발전', '이미지', '가게', '찾기', '배달', '수수료', '등', '발전', '건', '단', '하나', '회사', '리뷰', '사진', '때', '기능', '텍스트', '입력', '시', '선택', '안', '구식', '말', '업뎃', '요청', '적도', '겨우', '걸', '요청', '하나', '이', '정도', '온갖', '메뉴', '기업', '기본', '자세', '기본']\n",
      "389번째 리뷰: ['눈', '처리', '주지', '그냥', '지연', '수', '다인', '주문', '가계도', '손님', '범', '전화', '채팅', '봇']\n",
      "390번째 리뷰: ['배달', '기', '계속', '지연', '음식', '상태', '최악']\n",
      "391번째 리뷰: ['인터페이스', '업체', '수로', '올킬', '여러', '배달', '어플', '배민', '손', '하나', '점', '메뉴', '부분', '요', '메뉴', '탭', '슬라이드', '오른쪽', '분류', '란', '조금', '더', '유지', '것', '그', '외', '모두', '만족']\n",
      "392번째 리뷰: ['배', '민원', '항상', '전', '적도', '거의', '뿐', '오지', '상담사', '다린', '번', '가게', '사장', '잘못', '것', '항상', '때', '언제', '배차', '지연', '만하']\n",
      "393번째 리뷰: ['배달', '예상', '시간', '배민', '고객', '센터', '전화', '서비스', '하나', '더', '판다', '이득', '정말', '어이']\n",
      "394번째 리뷰: ['배달', '지연', '알뜰', '배달', '표시', '시간', '의미', '무슨', '음식', '완성', '시간', '도착', '음식', '다식', '맛', '이용', '가게', '배달', '민족', '이용', '다른', '배달', '앱', '이용', '가게', '평점', '이용']\n",
      "395번째 리뷰: ['배달', '음식점', '매번', '이', '앱', '이용', '메뉴', '배달', '결재', '이용', '평점', '선택', '도움', '다만', '배달', '음식', '수', '일회용', '플라스틱', '용기', '끼', '환경오염', '범', '것', '양심']\n",
      "396번째 리뷰: ['회원', '주문', '설치', '페이', '북', '회원', '가입', '후', '카드', '등록', '비밀번호', '후', '결제', '카드', '등록', '후', '결제', '해당', '카드', '결제', '요청', '시', '선택', '카드', '뇌절', '결제', '기요', '카드', '등록', '후', '결제', '결제', '차이', '배달', '집', '기요', '어플', '사용', '구매', '시간', '게', '어차피', '배달', '음식', '할인', '목록']\n",
      "397번째 리뷰: ['수요일', '찜', '가게', '주문', '역', '악', '왜', '가요', '주소', '우리', '집', '별칭', '집', '주소', '업데이트', '그대로', '쿠팡', '츠']\n",
      "398번째 리뷰: ['한번', '먹통', '배달', '포장', '변경', '환불', '그냥', '수', '덕분', '저녁', '반']\n",
      "399번째 리뷰: ['배달', '민족', '대한민국', '최고', '배달', '앱', '것', '뜻', '깊이', '인정', '타', '회사', '배달', '앱', '확연', '차이', '최고', '배달', '앱', '업소', '카테고리', '야식', '업', '소가', '개', '이상', '중복', '경우', '카테고리', '광고', '허용', '범위', '제한', '카테고리', '광고', '개수', '제한', '도배', '것', '위해', '최소한', '카테고리', '광고', '개수', '제한', '것', '요청', '글', '감사', '감사', '인사', '지금', '코로나', '걸', '최고', '앱', '항상', '수고', '응원']\n",
      "400번째 리뷰: ['실수', '결제', '때', '바로', '앱', '취소', '수', '글', '결제', '후', '바로', '취소', '취소', '메뉴', '전화', '번호', '입력', '하래', '번호', '내', '입력', '자꾸', '고함', '주문', '취소', '포기']\n",
      "401번째 리뷰: ['사이드', '메뉴', '누락', '번', '다른', '메뉴', '가격', '해도', '살', '다른', '메뉴', '뼈', '기분', '매우', '표기', '가요']\n",
      "402번째 리뷰: ['가맹', '점', '나오니', '정신', '매장', '찾기', '쿠폰', '찾기', '매장', '찾기', '취소', '경우', '요즘', '앱', '배달', '앱', '기술', '편의', '기본', '사용', '이유', '국내', '배달', '앱', '사용', '이제', '외국', '기업', '주문', '편의', '주문', '취소', '보상', '등', '개선', '꼭']\n",
      "403번째 리뷰: ['배달', '음식', '조치', '말']\n",
      "404번째 리뷰: ['역시', '우리', '배달', '민족', '사용', '습', '가지', '기능', '추가', '더욱', '용', '역', '검색', '기능', '과거', '곳', '키', '워드', '검색', '기능', '일일이', '점', '배달', '별도', '자주', '사람', '데이터', '일이']\n",
      "405번째 리뷰: ['배달', '민족', '선물', '바탕', '삭제', '후', '재', '설치', '캐시', '및', '데이터', '삭제', '청소', '플로', '휴대폰', '청소', '해도', '결과', '마찬가지', '왜', '답변']\n",
      "406번째 리뷰: ['난', '줄곧', '배민', '배달', '앱', '쿠폰', '남발', '나', '이즘', '이기진', '남발', '쿠폰', '맛', '적', '매일', '계속', '할인', '자동', '적용', '먀번', '나', '누가', '처음', '편의', '광고', '낚시', '나하', '천생연분', '등급', '쿠폰', '또', '왜', '더하기', '쿠폰', '주지']\n",
      "407번째 리뷰: ['배민', '채팅', '상담', '팀', '상담', '봇', '개발', '진', '거', '상담량', '상담', '진행', '수', '주문', '완료', '후', '해당', '채팅', '방', '연결', '연결', '배달', '시간', '무관', '완료', '후', '보통', '때', '팝업', '채팅', '실패', '얼마', '안지', '바로', '무', '응답', '종결', '처리', '개발', '더', '채팅', '전담', '인원', '더', '요']\n",
      "408번째 리뷰: ['배달', '앱', '사용', '걱', '대부분', '배달', '사용', '것', '배달', '민족', '포장', '사용', '치자', '몇몇', '상품', '처음', '포장', '체크', '멋', '주문', '주문', '나중', '알', '가야', '처음', '배달', '체크']\n",
      "409번째 리뷰: ['배민', '배달', '기능', '로', '주문', '때', '수수료', '공안', '가게', '다이렉트', '전화']\n",
      "410번째 리뷰: ['사용', '배', '민원', '상점', '리', '스팅', '방식', '한번', '개보', '사진', '커서', '배달', '시간', '배달', '팁', '글씨', '눈', '안', '대부분', '사진', '오히려', '실망', '전', '방식', '것', '메뉴', '별', '리뷰', '보기', '기능']\n",
      "411번째 리뷰: ['주문', '즉시', '가게', '접수', '접수', '즉시', '수정', '불가', '고객', '센터', '문의', '량', '증가', '수정', '반영', '개선']\n",
      "412번째 리뷰: ['배민앱', '오늘', '처음', '사용', '신규', '쿠폰', '혜택', '덕분', '배달', '관심', '장소', '찜', '기능', '맘', '다만', '다른', '리뷰', '참고', '때', '그', '메뉴', '표시', '해', '사진', '보구', '선', '메뉴', '앞', '이용']\n",
      "413번째 리뷰: ['수저', '포크', '체크', '쫌', '깜빡', '체크', '손가락', '사람', '주지', '마', '클릭', '바']\n",
      "414번째 리뷰: ['진짜', '이', '그', '어플', '지인', '병문안', '음식', '집', '배달', '배달', '비', '가까이', '음식', '배송', '점심', '게', '저녁', '가게', '전화', '음식', '진작', '배민', '때', '배달', '적도', '때', '배달', '배달', '비도', '곱빼기', '고객', '센터', '전화', '가게', '그냥', '가게', '직접', '배달', '주문', '이', '어플', '번']\n",
      "415번째 리뷰: ['찜', '매장', '구분', '좀', '대체', '언제', '이면', '개선', '요', '독점', '해이', '건가', '앱', '결제', '관련', '부분', '정말', '별로', '앱', '구성', '정말', '배민', '페이', '사용', '절차', '것', '찜', '매장', '한식', '양식', '중식', '카페', '업종', '별로', '구분', '좀', '순', '찜', '매장', '개도', '이름', '전부', '매번', '찾기', '재', '검색', '거나', '주문', '목록']\n",
      "416번째 리뷰: ['라이더', '배정', '알림', '음식', '준비', '시간', '라이더', '음식', '준비', '모니터', '보고', '하니', '음성']\n",
      "417번째 리뷰: ['배달', '상담', '안', '주문', '한지', '업체', '전화', '고객', '센터', '전화', '안', '배민', '업체', '매우', '배달']\n",
      "418번째 리뷰: ['검색', '결과', '화면', '슬라이드', '다른', '카테고리', '기능', '민감', '도', '배달', '카테고리', '화면', '아래', '중', '포장', '갑자기', '자주', '다른', '앱', '정도', '영향', '개선']\n",
      "419번째 리뷰: ['나', '검색', '타자', '칠', '때', '예시', '와플', '타자', '검색', '창', '오', '안', '다른', '글자', '것', '이용', '매번', '메모장', '거', '거기', '다가', '내', '검색', '검색어', '복사', '붙여넣기', '검색', '키', '보드', '문제', '것', '배민', '업데이트', '오류', '생기', '업데이트', '몇번', '더', '거', '사람', '나', '배달', '때', '매번', '다른', '앱', '글자', '복']\n",
      "420번째 리뷰: ['집', '배달', '해도', '상담', '연결', '항상', '예상', '시간', '생각', '주문', '쓰레기', '어플']\n",
      "421번째 리뷰: ['정말', '회원', '입창', '회원', '가입', '전부', '로그인', '창', '보시', '답장']\n",
      "422번째 리뷰: ['배달', '장바구니', '상태', '오류', '결제', '안', '상태', '지속', '옆', '여친', '시도', '계속', '이', '상태', '구', '어플', '다시', '안', '배달', '음식', '집중', '시간', '과부', '건가', '시간대', '어플', '운용']\n",
      "423번째 리뷰: ['배민', '자체', '한번', '집', '슬로건', '진행', '는걸', '알', '일반', '배달', '시간', '차이', '거의', '때', '예상', '시간', '훌쩍', '시간', '배달', '오지', '문의', '배달', '기사', '매칭', '음식', '배달', '지연', '음식', '적', '번', '왜', '추가', '요금', '내면', '배민', '번', '일이', '수', '생각', '자주', '문제', '일어나서', '더', '이상', '사용', '정도']\n",
      "424번째 리뷰: ['음식', '배달', '것', '매장', '식사', '가격', '천원', '브랜드', '할인', '이벤트', '적용', '어차피', '차비', '그게', '그거', '생각', '이용', '최소', '금액', '배달', '비', '거', '확인', '후', '방금', '삭제', '그간', '이용', '이제', '가격', '인분', '주문', '배달', '비', '혼밥', '사람', '끼', '앱', '자체', '그동안', '사용', '다만', '이제', '제', '앱', '요', '나중', '동거', '거나', '결혼', '면', '다시']\n",
      "425번째 리뷰: ['음식점', '리스트', '중', '수수료', '가장', '오픈', '리스트', '기존', '랜덤', '개', '최상', '단', '젠', '제한', '오픈', '리스트', '가입', '가게', '점주', '수수료', '오지', '꼼수', '짐', '점주', '위', '척', '고객', '위', '척', '기만', '짐', '점주', '고객', '쿠폰', '오픈', '리스트', '가입자', '줄', '수', '함', '오픈', '리스트', '아래', '고객', '쿠폰', '제공', '못', '이건', '강제', '횡포']\n",
      "426번째 리뷰: ['톡', '상담사', '최악', '기본', '의사소통', '직업', '상담사', '소통', '문제', '아이러니', '동문서답', '가게', '사장', '내용', '전달', '내용', '나', '계속', '자동', '종료', '함', '혹시', '상담', '건', '수로', '보너스', '가요', '일', '리뷰']\n",
      "427번째 리뷰: ['구글', '앱', '자동', '업데이트', '모두', '이', '앱', '항상', '자체', '업데이트', '가요', '구글', '앱', '업데이트', '대기', '목록', '배민앱', '스스로', '사용자', '허가', '그냥', '설치', '자동', '업데이트', '겁', '만약', '자동', '업데이트', '업데이트', '영역', '사용자', '권한', '제한', '밖', '꼭', '답변']\n",
      "428번째 리뷰: ['해도', '배민', '라이더', '고객', '센터', '전화', '카톡', '답']\n",
      "429번째 리뷰: ['여러', '기능', '추가', '밑', '분', '글', '내용', '배달', '팁', '배열', '점주', '꼼수', '가게', '오픈', '시간', '별', '필터', '추가', '신규', '업', '소도', '볼', '수', '가게', '중복', '신규', '업', '소나', '다른', '곳', '안보']\n",
      "430번째 리뷰: ['이벤트', '페이지', '오류', '종종', '발생', '실시간', '상담', '로', '상세', '내용', '분석', '캡쳐', '포함', '문의', '해결', '대화', '대기', '한마디', '답변', '수', '기본', '그', '제대로', '보지', '문제', '식', '대충', '마지막', '위', '다시', '반복', '일방', '상담', '종료', '메시지', '아예', '전송', '시장', '독과점', '폐혜', '건가', '새삼']\n",
      "431번째 리뷰: ['특정', '지역', '사유', '배달', '기능', '약속', '돈', '배달', '신청', '대뜸', '우린', '통보', '형식', '취소', '설령', '기능', '해도', '구석', '사용자', '보라', '것', '말', '식당', '직접', '연락', '배달', '분', '해당', '지역', '배달', '취소', '킨', '는걸', '걸', '식당', '사장', '정보']\n",
      "432번째 리뷰: ['이벤트', '주문', '에러', '서버', '증설', '공지', '십분', '시도', '저', '사람', '둘', '내', '시간', '개발자', '홍보', '용인', '시스템', '문제', '고객', '네트워크', '문제', '애러메시', '도대체', '혀', '사람', '자기', '폰', '문제', '생각']\n",
      "433번째 리뷰: ['배민', '거의', '매우', '이용', '사람', '가지', '건의', '사항', '리뷰', '현재', '기능', '배달', '팁', '이하', '이하', '설정', '배달', '팁', '가게', '검색', '인분', '로', '쓸모', '건의', '내용', '최소', '배달', '팁', '최대', '배달', '팁', '항목', '추가', '최소', '이하', '최대', '이하', '식', '설정', '배달', '팁', '등록', '가게', '출력']\n",
      "434번째 리뷰: ['이용', '대부분', '배민', '사용', '얼마', '전', '업데이트', '후', '일정', '시간대', '앱', '주문', '전화', '주문', '업체', '기능', '뭔', '소비자', '입장', '기만', '배민', '이유', '어차피', '전화', '주문', '찌라시', '쿠폰', '요', '하루', '수정']\n",
      "435번째 리뷰: ['현재', '제공', '기능', '몇', '가지', '건의', '내', '리뷰', '중', '특정', '식당', '검색', '작성', '리뷰', '개', '유저', '로서', '예전', '주문', '때', '곳', '확인', '식당', '리뷰', '제', '리뷰', '특정', '식당', '제', '리뷰', '보기', '거의', '식당', '리뷰', '중', '특정', '메뉴', '주문', '리뷰', '보기', '다른', '분', '언급', '기능', '주문', '메뉴', '분', '리뷰', '을', '아보', '찜', '개', '이상', '기능', '식당', '취소', '더', '예전', '찜', '식당', '것', '알', '취소', '곳', '때', '위해', '개', '이상', '디스플레이', '차이', '개', '정도', '로라', '것']\n",
      "436번째 리뷰: ['베타', '버전', '목적지', '상부', '표시', '한가지', '더', '정북', '방향', '버튼', '회전', '방향', '감각']\n",
      "437번째 리뷰: ['주문', '할인', '쿠폰', '가지', '첫', '주문', '적용', '것', '심지어', '할인', '적용', '검정색', '활성화', '표시', '적용', '불합리', '부분', '생각', '가지', '순서', '때문', '할인', '적용']\n",
      "438번째 리뷰: ['라이더', '배달', '이해', '시간', '동안', '시간', '고객', '센터', '음식점', '배민', '연결', '취소', '못', '전화', '통', '이상', '고객', '센터', '연결', '한시', '간반', '제목', '실시간', '채팅', '상담', '문자', '상담', '답', '간반', '보통', '실시간', '겨우', '통화', '그냥', '만원', '식이', '정말', '주신', '만원', '탈퇴', '쿠팡', '기지역', '배달', '등', '굳이', '배달', '비도', '곳', '서비스', '굳이', '진짜', '서비스', '최악', '배달', '어플', '듯']\n",
      "439번째 리뷰: ['배민앱', '배달', '분', '영수증', '기계', '앱', '영수증', '발급', '버튼', '정상', '동작', '어쩌', '멀리', '가게', '직접', '건가', '여태', '결제', '해도', '항상', '영수증', '발급', '어제', '결제', '역', '상담', '문의', '상담', '분', '바로', '결제', '때', '영수증', '발급', '시일', '지난', '영수증', '출력', '안', '건', '이해', '도대체', '영수증', '발급', '버튼', '최', '회사', '야식', '주문', '수', '것']\n",
      "440번째 리뷰: ['배민', '초창', '기', '사용', '이용자', '배달', '어플', '가장', '한가지', '제안', '사항', '매장', '별', '리뷰', '사진', '일반', '평', '보고', '주문', '편', '사진', '선', '사람', '뭐', '주문', '매장', '몇번', '사진', '메뉴', '뭐', '애초', '리뷰', '달', '때', '메뉴', '주문', '상단', '정보', '기재', '이', '메뉴', '사진', '보고']\n",
      "441번째 리뷰: ['예전', '보기', '편햇', '요즘', '집', '배달', '알뜰', '배달', '미관', '별로', '임', '더', '보이']\n",
      "442번째 리뷰: ['배민', '상품권', '왜', '도저히', '결제', '항목', '선물', '함', '보이지', '상품권', '생각', '기능']\n",
      "443번째 리뷰: ['결제', '방법', '현상', '이제', '결재', '배달', '팁', '계산', '오류', '계속', '모든', '프로그램', '버그', '것', '시작', '좀', '편의', '기능', '지금', '대충', '수', '결재', '결재', '방법', '안', '수가']\n",
      "444번째 리뷰: ['배달', '기본', '이상', '앱', '배달', '전문', '식당', '문의', '배차', '거', '데', '차라리', '앱']\n",
      "445번째 리뷰: ['알뜰', '배달', '집', '배달', '예상', '시간', '실제', '배달', '시간', '한번', '이해', '번', '연속', '임']\n",
      "446번째 리뷰: ['배민', '알뜰', '배달', '집', '배달', '왜', '번', '시간', '기사', '퇴근', '때', '답변', '배달', '배너', '비', '활성화', '무슨', '밥', '새벽', '가게', '퇴근', '못', '손님', '밥', '요기', '요도', '론데', '더', '별로']\n",
      "447번째 리뷰: ['리뷰', '쓰기', '때', '오류', '화면', '계속', '새로고침', '함', '리뷰', '때', '이미지', '로딩', '림', '그것', '개선']\n",
      "448번째 리뷰: ['식당', '바로', '연락', '개불', '사장', '눈', '배달', '취소', '해도', '배민', '취소', '방법', '전화량', '통화', '끝', '지나', '보고', '어쩌', '순차', '처리', '계속', '취소', '청해', '대응', '진짜', '진심', '욕', '정도']\n",
      "449번째 리뷰: ['주문', '배달', '메뉴', '변경', '통화량', '다음', '연락', '통보', '곳', '배민', '취소', '하라', '거', '변경', '못', '그대로', '배달', '만', '배달', '실망']\n",
      "450번째 리뷰: ['앱', '개발', '서버', '관리', '담당', '부서', '직통', '연결', '이메일', '주소', '고객', '센터', '대화', '안', '통해', '서버', '쪽', '연결', '불가', '문제', '관해', '담당', '부서', '직접', '얘기']\n",
      "451번째 리뷰: ['선착순', '이벤트', '피해자', '밑', '결제', '취소', '분', '운', '는', '결제', '시', '결제', '카드', '옆', '할인', '연락', '바로', '결제', '사이', '선착순', '된거', '매장', '음식', '준비', '취소', '담당자', '연락', '연락', '이건', '이벤트', '장난', '질']\n",
      "452번째 리뷰: ['우선', '배달', '업체', '광고', '두번째', '주문', '직전', '주소', '매우', '매우', '매우', '메인', '메뉴', '가야', '평점', '일', '뒤', '서비스', '엉망', '곳', '시간', '초과', '일', '유예', '주시']\n",
      "453번째 리뷰: ['배민', '쭉', '쓴소리', '하나', '중간', '다리', '플랫폼', '식당', '유저', '사이', '중재', '역할', '것', '라면', '양쪽', '편의', '고하', '방향', '전체', '주문', '중', '일부', '음식', '이상', '부분', '환불', '일부', '취소', '매우', '시스템', '재', '주문', '필요', '식당', '일부', '취소', '포기', '전체', '환불', '말', '식당', '손해', '것', '식당', '직접', '해결', '중', '요', '앱', '개선', '제대로', '답변', '보고', '리뷰', '보충', '저', '지금', '고객', '센터', '활용', '법', '문의', '센터', '불만', '제기', '실시간', '채팅', '저', '주문', '내용', '일부', '취소', '전체', '취소', '재', '주문', '방식', '통해', '실질', '일부', '취소', '우회', '현', '시스템', '개선', '요구', '것', '우회', '일부', '취소', '움', '때문', '여러', '음식', '중', '하나', '음식', '문제', '경우', '전체', '취소', '식당', '손해', '보고', '현실']\n",
      "454번째 리뷰: ['업데이트', '된거', '디자인', '배민', '부분', '음식점', '거번', '음식점', '종류', '관건', '이건', '뭐', '음식점', '소개', '칸', '스크롤할때', '정신', '손', '공간', '낭비', '심해', '전', '한번', '개', '음식', '해주', '새', '때', '여러', '음식점', '진짜']\n",
      "455번째 리뷰: ['주문', '주문', '할인', '광고', '계속', '친구', '초대', '역', '친추', '어쩌', '겁', '주문', '적', '역', '친구', '초대', '친추', '기능', '왜', '거']\n",
      "456번째 리뷰: ['메뉴', '문의', '채팅', '답변', '메뉴', '다시', '거', '리뷰', '어플', '삭제']\n"
     ]
    }
   ],
   "source": [
    "# 워드 클라우드\n",
    "# 목표: 데이터의 모든 댓글에 대한 Noun 품사를 가진 단어들을 word_list에 담는 것\n",
    "# 조건1: 전처리 과정(특수문자, 자음, 모음 없애기)\n",
    "# 조건2: 불용어 제거(stopwords)\n",
    "# 조건3: 한 글자인 단어는 포함하지 않는다.\n",
    "\n",
    "word_list = []\n",
    "stopwords = [\"배민\", \"민족\"]\n",
    "\n",
    "for i, review in enumerate(data[\"댓글\"].tolist()):\n",
    "    # 조건1. 정규표현식을 이용한 전처리 \n",
    "    new_review = re.sub(\"[^0-9a-zA-Z가-힣\\s]\", \"\", review)\n",
    "    # 형태소 분석기\n",
    "    result = okt.nouns(new_review)\n",
    "    for word in result:\n",
    "        # 조건2 | 조건3\n",
    "        if len(word) == 1 or word in stopwords:\n",
    "            continue\n",
    "        # word_list에 추가\n",
    "        word_list.append(word)\n",
    "    print(f\"{i}번째 리뷰: {result}\")   "
   ]
  },
  {
   "cell_type": "code",
   "execution_count": 78,
   "id": "24499530",
   "metadata": {},
   "outputs": [
    {
     "name": "stdout",
     "output_type": "stream",
     "text": [
      "Counter({'남': 4, '여': 2})\n"
     ]
    }
   ],
   "source": [
    "from collections import Counter \n",
    "\n",
    "example = [\"남\", \"여\", \"여\", \"남\", \"남\", \"남\"]\n",
    "counter = Counter(example)\n",
    "print(counter)"
   ]
  },
  {
   "cell_type": "code",
   "execution_count": 79,
   "id": "8cf45184",
   "metadata": {},
   "outputs": [
    {
     "name": "stdout",
     "output_type": "stream",
     "text": [
      "Counter({'배달': 600, '주문': 236, '가게': 215, '메뉴': 142, '시간': 124, '기능': 109, '고객': 107, '리뷰': 104, '사용': 99, '음식': 97, '취소': 97, '어플': 92, '결제': 88, '전화': 79, '검색': 77, '센터': 77, '다른': 70, '이용': 67, '업데이트': 67, '연결': 66, '쿠폰': 66, '계속': 60, '문제': 57, '그냥': 55, '다시': 54, '진짜': 50, '생각': 49, '선택': 49, '상담': 49, '화면': 46, '확인': 46, '추가': 45, '하나': 45, '개선': 43, '요청': 42, '매장': 42, '설정': 41, '기본': 39, '경우': 39, '식당': 38, '사람': 37, '사항': 36, '배차': 36, '삭제': 34, '라이더': 34, '서비스': 34, '포장': 33, '채팅': 33, '사진': 33, '기사': 32, '지연': 31, '연락': 31, '알뜰': 30, '시스템': 30, '정말': 30, '직접': 29, '할인': 29, '지도': 29, '버튼': 28, '문의': 28, '처음': 28, '음식점': 28, '사용자': 27, '자체': 26, '해도': 26, '이상': 26, '별로': 26, '한번': 25, '정도': 25, '위치': 25, '목록': 25, '부분': 24, '이유': 24, '바로': 24, '로그인': 24, '입력': 24, '항상': 23, '자주': 23, '답변': 23, '이제': 23, '광고': 23, '무슨': 23, '혜택': 23, '이번': 23, '보고': 23, '때문': 22, '가지': 22, '주소': 22, '전체': 21, '이해': 21, '표시': 21, '사장': 21, '운영': 21, '오류': 21, '장바구니': 20, '체크': 20, '보기': 20, '예상': 20, '수수료': 20, '찾기': 20, '업체': 20, '마트': 19, '최악': 19, '점점': 18, '기존': 18, '상담사': 18, '이벤트': 18, '거리': 18, '등록': 18, '정보': 18, '소비자': 18, '변경': 17, '지금': 17, '방식': 17, '알림': 17, '카테고리': 17, '완료': 17, '방법': 16, '상태': 16, '잘못': 16, '가요': 16, '도착': 16, '최소': 16, '저장': 16, '상황': 16, '예전': 16, '민원': 16, '카드': 16, '수정': 16, '해결': 15, '금액': 15, '참고': 15, '설치': 15, '입장': 14, '거의': 14, '몇번': 14, '제대로': 14, '환불': 14, '자꾸': 14, '정렬': 14, '최대': 14, '대한': 13, '수저': 13, '옵션': 13, '특정': 13, '쿠팡': 13, '가격': 13, '편의': 13, '해당': 13, '조금': 12, '일반': 12, '갑자기': 12, '매우': 12, '시도': 12, '이건': 12, '클릭': 12, '발생': 12, '건가': 12, '건의': 12, '내용': 12, '이전': 12, '매번': 12, '리스트': 12, '포크': 11, '본인': 11, '처리': 11, '다만': 11, '이용자': 11, '이면': 11, '이름': 11, '적용': 11, '회사': 11, '배송': 11, '일부': 11, '크롤': 10, '로딩': 10, '반복': 10, '보상': 10, '수가': 10, '정시': 10, '굳이': 10, '여러': 10, '가끔': 10, '포함': 10, '그대로': 10, '혹시': 10, '실제': 10, '도대체': 10, '요즘': 10, '계정': 10, '제한': 10, '진행': 10, '작성': 10, '오픈': 10, '달라': 10, '메인': 10, '무료': 10, '문자': 10, '자동': 10, '업주': 9, '맛집': 9, '항목': 9, '페이지': 9, '초기': 9, '실시간': 9, '등급': 9, '의미': 9, '아주': 9, '전달': 9, '접수': 9, '시작': 9, '종료': 9, '아예': 9, '기분': 9, '이후': 9, '동네': 9, '쓰레기': 9, '노출': 9, '가장': 9, '보이': 9, '아이디': 9, '느낌': 9, '관련': 9, '조리': 9, '지역': 9, '대부분': 9, '위해': 9, '평점': 8, '언제': 8, '반영': 8, '메모': 8, '제일': 8, '번호': 8, '관리': 8, '분류': 8, '공지': 8, '경험': 8, '한가지': 8, '모든': 8, '최근': 8, '배정': 8, '포기': 8, '하라': 8, '오늘': 8, '제공': 8, '쓰기': 8, '어쩌': 8, '가입': 8, '아래': 8, '이하': 8, '개발': 8, '차이': 8, '휴대폰': 8, '영업': 8, '식사': 7, '개발자': 7, '필요': 7, '활성화': 7, '새로고침': 7, '실수': 7, '도움': 7, '뭔가': 7, '수단': 7, '점도': 7, '브랜드': 7, '그것': 7, '겨우': 7, '스토어': 7, '요기': 7, '인터페이스': 7, '덕분': 7, '점주': 7, '평가': 7, '불가': 7, '하니': 7, '먼저': 7, '거기': 7, '무조건': 7, '대체': 7, '어차피': 7, '는걸': 7, '설명': 7, '모두': 7, '불편': 7, '구성': 7, '이미지': 7, '상단': 7, '안내': 7, '핸드폰': 7, '장난': 7, '제발': 7, '개인': 7, '표기': 7, '필터': 7, '데이터': 7, '작동': 7, '메모리': 7, '수고': 6, '여러가지': 6, '구매': 6, '스크롤': 6, '젓가락': 6, '편의점': 6, '도저히': 6, '치킨': 6, '수도': 6, '생기': 6, '한참': 6, '원래': 6, '얼마나': 6, '인분': 6, '수준': 6, '보통': 6, '거나': 6, '유저': 6, '분명': 6, '구조': 6, '동안': 6, '자기': 6, '방향': 6, '기준': 6, '우리': 6, '대기': 6, '단점': 6, '일일이': 6, '사이': 6, '통화': 6, '라면': 6, '주소지': 6, '준비': 6, '메시지': 6, '기재': 6, '현재': 6, '다음': 6, '픽업': 6, '피해': 6, '발급': 6, '캐시': 6, '옛날': 6, '영수증': 6, '터치': 5, '환경': 5, '오히려': 5, '버전': 5, '여기': 5, '기억': 5, '부담': 5, '출발': 5, '평소': 5, '심지어': 5, '이동': 5, '천원': 5, '누가': 5, '마음': 5, '갈수록': 5, '군데': 5, '플로': 5, '적도': 5, '연속': 5, '혼자': 5, '종류': 5, '오지': 5, '요로': 5, '편이': 5, '절대': 5, '버그': 5, '일단': 5, '그때': 5, '장님': 5, '주변': 5, '현장': 5, '전혀': 5, '메일': 5, '나중': 5, '탈퇴': 5, '한지': 5, '현상': 5, '바람': 5, '불만': 5, '현금': 5, '페이': 5, '배민앱': 5, '서버': 5, '업뎃': 5, '손해': 5, '기요': 5, '기만': 5, '주지': 5, '하든': 5, '고려': 5, '집배': 5, '예정': 5, '팝업': 5, '결재': 5, '범위': 5, '과정': 5, '선착순': 5, '안보': 5, '얘기': 5, '가능': 5, '와이파이': 5, '상호': 5, '살짝': 4, '위로': 4, '해제': 4, '그거': 4, '다가': 4, '먹기': 4, '일일': 4, '용이': 4, '유도': 4, '목적': 4, '구분': 4, '사유': 4, '일이': 4, '대응': 4, '차단': 4, '가면': 4, '첨부': 4, '정립': 4, '상품': 4, '천생연분': 4, '누구': 4, '거지': 4, '응대': 4, '가까이': 4, '대처': 4, '스트레스': 4, '저녁': 4, '대해': 4, '세부': 4, '몇몇': 4, '대비': 4, '기다림': 4, '발전': 4, '인터넷': 4, '하나요': 4, '조치': 4, '애초': 4, '문구': 4, '플랫폼': 4, '사과': 4, '비밀번호': 4, '개인정보': 4, '지불': 4, '막상': 4, '결과': 4, '장점': 4, '텍스트': 4, '슬라이드': 4, '입맛': 4, '위생': 4, '비회': 4, '홍보': 4, '화가': 4, '어디': 4, '속도': 4, '저번': 4, '기간': 4, '어려움': 4, '꼼수': 4, '순간': 4, '마케팅': 4, '유지': 4, '간반': 4, '얼마': 4, '소요': 4, '미리': 4, '전부': 4, '랜덤': 4, '딸기': 4, '식이': 4, '그동안': 4, '애용': 4, '달이': 4, '휴무': 4, '된거': 4, '갤럭시': 4, '그게': 4, '낭비': 4, '차라리': 4, '결정': 4, '계산': 4, '현황': 4, '최고': 4, '배너': 4, '먹통': 4, '다운로드': 4, '상점': 4, '추천': 4, '이메일': 4, '만원': 4, '개도': 4, '에두': 4, '문제점': 4, '직관': 4, '통해': 4, '동시': 4, '작업': 4, '신규': 4, '횟수': 4, '알러지': 4, '상자': 4, '교환': 4, '회원': 4, '용량': 3, '좌우': 3, '매일': 3, '제품': 3, '디폴트': 3, '안나': 3, '폴더': 3, '중간': 3, '순이': 3, '서로': 3, '단골': 3, '반대': 3, '물건': 3, '하루': 3, '이슈': 3, '지정': 3, '진심': 3, '대로': 3, '수거': 3, '지시': 3, '두번째': 3, '당황': 3, '방문': 3, '기도': 3, '일어나서': 3, '감사': 3, '프로모션': 3, '등등': 3, '집알뜰': 3, '강제': 3, '퇴근': 3, '응답': 3, '부족': 3, '야식': 3, '한식': 3, '뭣같': 3, '샐러드': 3, '비도': 3, '며칠': 3, '을해': 3, '몇개': 3, '번은': 3, '안함': 3, '자신': 3, '개념': 3, '드네': 3, '보이지': 3, '걱정': 3, '난리': 3, '약관': 3, '신경': 3, '전화번호': 3, '선물': 3, '긴급': 3, '수로': 3, '깜빡': 3, '나열': 3, '당장': 3, '정리': 3, '기업': 3, '업계': 3, '쓸모': 3, '제철': 3, '특성': 3, '별도': 3, '개수': 3, '더욱': 3, '허위': 3, '지급': 3, '사실': 3, '복사': 3, '불구': 3, '책임': 3, '고지': 3, '근처': 3, '순서': 3, '경쟁': 3, '매칭': 3, '통보': 3, '기적': 3, '분리': 3, '도입': 3, '제안': 3, '만약': 3, '심해': 3, '마지막': 3, '기회': 3, '책정': 3, '비용': 3, '노력': 3, '몰래': 3, '친구': 3, '초대': 3, '실망': 3, '이득': 3, '성의': 3, '의지': 3, '시간대': 3, '프로그램': 3, '경도': 3, '캡쳐': 3, '개불': 3, '중복': 3, '오토바이': 3, '고민': 3, '통화량': 3, '소통': 3, '대신': 3, '보완': 3, '최신': 3, '주인': 3, '권한': 3, '환경설정': 3, '스스로': 3, '피자': 3, '손님': 3, '곱창': 3, '담당': 3, '부서': 3, '가맹': 3, '울트라': 3, '문수': 3, '숫자': 3, '과거': 3, '종종': 3, '단순': 3, '출력': 3, '정상': 3, '멀리': 3, '가야': 3, '실질': 3, '에러': 3, '사양': 3, '용기': 3, '플라스틱': 3, '정신': 3, '문건': 2, '아이디어': 2, '안해': 2, '대각선': 2, '점심': 2, '다식': 2, '갯수': 2, '워낙': 2, '주말': 2, '래야': 2, '지나': 2, '똑바로': 2, '일주일': 2, '지난번': 2, '주기': 2, '하란': 2, '요가': 2, '소모': 2, '감정': 2, '뿌리': 2, '빵집': 2, '장기': 2, '접근': 2, '때론': 2, '실속': 2, '배송비': 2, '조절': 2, '짜장': 2, '지속': 2, '나오니': 2, '과연': 2, '가치': 2, '경로': 2, '콜센터': 2, '다운': 2, '시절': 2, '플레인': 2, '한눈': 2, '래그': 2, '편집': 2, '소리': 2, '다소': 2, '보장': 2, '그간': 2, '아무': 2, '방금': 2, '보라': 2, '사업': 2, '강요': 2, '지경': 2, '가시': 2, '유선': 2, '생일': 2, '하단': 2, '로그': 2, '비정상': 2, '방치': 2, '퇴화': 2, '보시': 2, '잠깐': 2, '약속': 2, '날씨': 2, '활용': 2, '관심': 2, '근거': 2, '체제': 2, '정작': 2, '업소': 2, '다인': 2, '오거': 2, '사례': 2, '폭주': 2, '장사': 2, '듭니': 2, '지방러': 2, '마찬가지': 2, '롤백': 2, '행성': 2, '뽑기': 2, '모름': 2, '과일': 2, '누락': 2, '수령': 2, '성품': 2, '제제': 2, '제재': 2, '정책': 2, '면서': 2, '입점': 2, '의견': 2, '빈칸': 2, '연장': 2, '채널': 2, '건물': 2, '차별': 2, '마리': 2, '역할': 2, '능력': 2, '신뢰': 2, '효율': 2, '사정': 2, '불가능': 2, '식품': 2, '일치': 2, '권장': 2, '연휴': 2, '한해': 2, '날짜': 2, '갤러리': 2, '다른사람': 2, '중이': 2, '스크롤할때': 2, '탭이동': 2, '도보': 2, '판단': 2, '십분': 2, '밀리': 2, '일부러': 2, '모바일': 2, '최소한': 2, '신고': 2, '관계': 2, '문전': 2, '아침': 2, '기술': 2, '택시': 2, '타고': 2, '비대': 2, '요소': 2, '점검': 2, '판매': 2, '측면': 2, '붙여넣기': 2, '지원': 2, '초과': 2, '나머지': 2, '증가': 2, '무엇': 2, '장수': 2, '동일': 2, '대행': 2, '번잡': 2, '가독성': 2, '쿠팡잇츠': 2, '가기': 2, '조건': 2, '요새': 2, '제도': 2, '정해진': 2, '시기': 2, '자전거': 2, '상담량': 2, '기록': 2, '피크': 2, '멋대로': 2, '푸시': 2, '짜증': 2, '매달': 2, '손가락': 2, '나은': 2, '보답': 2, '변명': 2, '인증': 2, '하래': 2, '상세': 2, '과도': 2, '깃발': 2, '명시': 2, '아마': 2, '감당': 2, '려고': 2, '자도': 2, '오후': 2, '주로': 2, '여지': 2, '배짱': 2, '공유': 2, '보지': 2, '실행': 2, '동의': 2, '노트': 2, '일시': 2, '방안': 2, '질문': 2, '새벽': 2, '상하': 2, '인터': 2, '랙션': 2, '리셋': 2, '여부': 2, '하하': 2, '단위': 2, '유무': 2, '확률': 2, '시각': 2, '포장탭': 2, '제로': 2, '아이러니': 2, '취향': 2, '대한민국': 2, '호실': 2, '지난': 2, '지인': 2, '고정': 2, '검색어': 2, '개편': 2, '테스트': 2, '진입': 2, '조회': 2, '재료': 2, '무한': 2, '원인': 2, '전단지': 2, '또한': 2, '점유': 2, '카톡': 2, '최상': 2, '라운드': 2, '외국': 2, '예약': 2, '모습': 2, '쇼핑': 2, '라이브': 2, '인지': 2, '왼쪽': 2, '오른쪽': 2, '인정': 2, '파인트': 2, '커서': 2, '레이아웃': 2, '디자인': 2, '답장': 2, '네트워크': 2, '닉네임': 2, '만큼': 2, '구색': 2, '워드': 2, '일정': 2, '장치': 2, '비즈니스': 2, '주력': 2, '코로나': 2, '메모장': 2, '절차': 2, '아이콘': 2, '식성': 2, '크게': 2, '주시': 2, '슈퍼': 2, '열기': 2, '증상': 2, '모양': 2, '떡볶이': 2, '허용': 2, '인원': 2, '바코드': 2, '관해': 2, '우선': 2, '영역': 2, '청소': 2, '남발': 2, '즉시': 2, '타자': 2, '글자': 2, '구글': 2, '대화': 2, '대충': 2, '상품권': 2, '우회': 2, '친추': 2, '클린': 1, '체적': 1, '탐색': 1, '추구': 1, '어플리케이션': 1, '여러분': 1, '직선': 1, '체크박스': 1, '보호': 1, '압니': 1, '별개': 1, '일수': 1, '직장': 1, '맨손': 1, '조잡': 1, '화로': 1, '래지': 1, '감수': 1, '저주': 1, '후식': 1, '기타': 1, '나가야': 1, '재고': 1, '휴일': 1, '깜박': 1, '위아래': 1, '인식': 1, '시티': 1, '개열': 1, '오류로': 1, '후기': 1, '커녕': 1, '정해': 1, '가이드라인': 1, '해먹': 1, '부터': 1, '인상': 1, '라지': 1, '만듭시': 1, '내부': 1, '음식물': 1, '이중': 1, '거주': 1, '문밖': 1, '시로': 1, '장바구느': 1, '능이': 1, '문의량': 1, '러시': 1, '들보': 1, '형상': 1, '삽입': 1, '감자': 1, '튀김': 1, '주니': 1, '냉면': 1, '육수': 1, '아차': 1, '작용': 1, '객관': 1, '여론': 1, '무작정': 1, '마냥': 1, '메뉴얼': 1, '놨두': 1, '은근': 1, '지점': 1, '둘러보기': 1, '기피': 1, '길이': 1, '무소': 1, '빼기': 1, '승낙': 1, '반응': 1, '수락': 1, '청하면': 1, '계좌': 1, '이체': 1, '탕수육': 1, '래서': 1, '방송': 1, '매체': 1, '분식': 1, '패스트푸드': 1, '알고리즘': 1, '롯데리아': 1, '명인': 1, '씨름': 1, '법카': 1, '조속': 1, '희망': 1, '툭하면': 1, '고치': 1, '물품': 1, '고추장': 1, '불고기': 1, '바이바이': 1, '일상': 1, '배빈': 1, '타이밍': 1, '매점': 1, '바이': 1, '알람': 1, '해주시': 1, '어서': 1, '주님': 1, '태도': 1, '상관': 1, '가운데': 1, '프레임': 1, '파서': 1, '혼동': 1, '안주': 1, '스페이스': 1, '튀어': 1, '안썻으': 1, '상기': 1, '가족': 1, '신세계': 1, '발견': 1, '부들': 1, '이제야': 1, '재미': 1, '가차': 1, '소액': 1, '소문': 1, '수긍': 1, '불호': 1, '나름': 1, '별거': 1, '단계': 1, '현관': 1, '지난주': 1, '비번': 1, '고작': 1, '짓거리': 1, '초점': 1, '폐쇄적': 1, '축소': 1, '우상': 1, '아래쪽': 1, '고사하고': 1, '쓰시': 1, '앱재': 1, '상식': 1, '마인드': 1, '최대한': 1, '최초': 1, '이기만': 1, '달리': 1, '어처구니': 1, '일회용품': 1, '모텔': 1, '두절': 1, '컨트롤': 1, '다지': 1, '순회': 1, '불어': 1, '집의': 1, '무난': 1, '회피': 1, '스타트업': 1, '본질': 1, '줫나': 1, '구조만': 1, '거지갘': 1, '리순': 1, '성은': 1, '케바케': 1, '발송': 1, '백업': 1, '이야기': 1, '던데': 1, '이윤': 1, '버세': 1, '역도': 1, '결번': 1, '번전': 1, '품질': 1, '자시': 1, '명의': 1, '대서': 1, '무한정': 1, '리뉴얼': 1, '턱턱': 1, '정정': 1, '업뎃후': 1, '안녕': 1, '변동': 1, '겨울': 1, '일임': 1, '주장': 1, '따라서': 1, '마치': 1, '젠더': 1, '단어': 1, '상소': 1, '재작성': 1, '전보': 1, '개대': 1, '벌써': 1, '비값': 1, '분식집': 1, '대목': 1, '대꾸': 1, '창구': 1, '십년': 1, '무의식': 1, '캠페인': 1, '연말': 1, '폭로': 1, '교육': 1, '각종': 1, '자율': 1, '공식': 1, '미동': 1, '의구': 1, '외부': 1, '겨자': 1, '레전드': 1, '직원': 1, '사서': 1, '이천원': 1, '장주': 1, '개킹': 1, '개구리': 1, '당시': 1, '삭재': 1, '마음대로': 1, '이기': 1, '죄임': 1, '랍시고': 1, '트러블': 1, '중개': 1, '방관': 1, '솔루션': 1, '꼬박꼬박': 1, '오해': 1, '공사': 1, '가계부': 1, '만족도': 1, '최하': 1, '내가면': 1, '개돼지': 1, '취급': 1, '이상은': 1, '따뜩하': 1, '퀄리티': 1, '도오': 1, '사보': 1, '던지기': 1, '화창': 1, '대답': 1, '로그아웃': 1, '점포': 1, '단편': 1, '블편해': 1, '멈뭐있어': 1, '중단': 1, '셀프': 1, '돈처': 1, '매크로': 1, '돌림': 1, '곳도': 1, '악용': 1, '걷기': 1, '배척': 1, '악질': 1, '썻는미': 1, '시켯습니': 1, '저서': 1, '핑계': 1, '삼각형': 1, '착시': 1, '랙걸려': 1, '일괄': 1, '집도': 1, '안전': 1, '완전': 1, '사기': 1, '블라인드': 1, '어쩐지': 1, '리가': 1, '업무': 1, '관계자': 1, '수라도': 1, '예측': 1, '차감': 1, '탭해': 1, '장르': 1, '만듭니': 1, '자가': 1, '결코': 1, '답글': 1, '인생': 1, '체계': 1, '직장인': 1, '식비': 1, '분할': 1, '법인': 1, '충전': 1, '눌린것': 1, '리지': 1, '여개': 1, '자영': 1, '업자': 1, '방침': 1, '거주지': 1, '일도': 1, '조심': 1, '스레': 1, '거절': 1, '측은': 1, '로시': 1, '외식': 1, '의적': 1, '번만': 1, '비교': 1, '거도': 1, '벨소리': 1, '불평': 1, '부지역': 1, '적정': 1, '할증': 1, '내야': 1, '일인': 1, '저런': 1, '품목': 1, '주네': 1, '더라도': 1, '매기': 1, '단연': 1, '라이': 1, '생색': 1, '슬금슬금': 1, '어쨋': 1, '부모님': 1, '코드': 1, '대상': 1, '돈대': 1, '하자': 1, '가해': 1, '거르': 1, '고자': 1, '이정': 1, '타임': 1, '광고알림': 1, '거임': 1, '모른체': 1, '레츠고': 1, '창의': 1, '여럿': 1, '서일': 1, '메리트': 1, '달도': 1, '지정도': 1, '이해해': 1, '거짓말': 1, '받을런': 1, '다해': 1, '란건': 1, '파악': 1, '기오': 1, '속사': 1, '각각': 1, '부당': 1, '차액': 1, '날수': 1, '동일시': 1, '캡처': 1, '재송부함': 1, '세번': 1, '일로': 1, '송부드리': 1, '등장': 1, '주뮨': 1, '탭별': 1, '안봣는데': 1, '때메': 1, '건대': 1, '각탭별': 1, '호구': 1, '리하': 1, '어둠': 1, '게속': 1, '뭐해': 1, '고집': 1, '안감': 1, '암암리': 1, '수익': 1, '조사': 1, '공정위': 1, '진정': 1, '이외': 1, '카카오': 1, '왜정': 1, '비공개': 1, '단축': 1, '챗봇': 1, '웃음': 1, '에너지': 1, '상가': 1, '대책': 1, '행정': 1, '편입': 1, '점순': 1, '자하': 1, '긍정': 1, '검토': 1, '주심': 1, '화거': 1, '반도': 1, '결론': 1, '합의': 1, '엇다': 1, '요나': 1, '법적': 1, '갈취': 1, '유의': 1, '공익': 1, '맙시': 1, '코멘트': 1, '뻿어': 1, '공함': 1, '대폭': 1, '금방': 1, '확보': 1, '안정': 1, '프로필': 1, '카메라': 1, '동영상': 1, '회신': 1, '계획': 1, '시전': 1, '거밖테': 1, '실상': 1, '수신': 1, '주더': 1, '장애인': 1, '약간': 1, '문의사항': 1, '통정': 1, '갈기': 1, '기상': 1, '악화': 1, '수급': 1, '성능': 1, '통째': 1, '와중': 1, '부로': 1, '점수': 1, '어딘': 1, '전번': 1, '인용': 1, '리프': 1, '레시': 1, '접속': 1, '운전': 1, '국민': 1, '도안': 1, '시킴': 1, '시긴': 1, '전용': 1, '배치': 1, '라식': 1, '가계': 1, '존안': 1, '장사항': 1, '지금껏': 1, '사고': 1, '나남': 1, '플릭킹': 1, '조정': 1, '원문': 1, '커트': 1, '구가': 1, '콜로': 1, '의도': 1, '지역별': 1, '썻던': 1, '만회': 1, '보나마나': 1, '외각': 1, '금은': 1, '건너': 1, '타렵니': 1, '너프': 1, '로만': 1, '대표': 1, '구미': 1, '접근성': 1, '수동': 1, '피드백': 1, '상징': 1, '다행': 1, '증거': 1, '최준': 1, '바로가기': 1, '편리': 1, '무색': 1, '못하겟': 1, '아날로그': 1, '진짬': 1, '말귀': 1, '함비': 1, '대면': 1, '여기저기': 1, '사단': 1, '치면': 1, '사리': 1, '공감': 1, '폐업': 1, '여간': 1, '장애': 1, '우리동네': 1, '알때': 1, '기반': 1, '소린': 1, '막무가내': 1, '데이트': 1, '구멍': 1, '프로세스': 1, '모로': 1, '우형': 1, '댕청함': 1, '업뎃하': 1, '밑스크롤': 1, '무언가': 1, '송료': 1, '반찬': 1, '착오': 1, '찬가': 1, '웰빙': 1, '업로드': 1, '스크롤링': 1, '기호': 1, '알레르기': 1, '신분': 1, '인시': 1, '불능': 1, '인트': 1, '태블릿': 1, '갤탭': 1, '처럼': 1, '봐뀐점': 1, '지장': 1, '순위': 1, '썸네일': 1, '편법': 1, '이로': 1, '평균': 1, '드릴': 1, '지웟다': 1, '깔아봣더': 1, '기종은': 1, '엣지': 1, '수상': 1, '기동': 1, '강탈': 1, '의심': 1, '비작': 1, '호텔': 1, '노골': 1, '비판': 1, '정돈': 1, '변화': 1, '형태': 1, '웹디자인': 1, '중요도': 1, '한창': 1, '마감': 1, '임박': 1, '강조': 1, '미디어': 1, '세스코': 1, '버스': 1, '검증': 1, '볼때': 1, '자본': 1, '요요': 1, '자꾸만': 1, '짤려': 1, '설사': 1, '환경문제': 1, '통신': 1, '단지': 1, '베스킨라빈스': 1, '누르기': 1, '충성': 1, '싸구려': 1, '고급': 1, '점심때': 1, '재부팅': 1, '클라우드': 1, '드라이브': 1, '저기': 1, '한글': 1, '특수문자': 1, '공백': 1, '자음': 1, '모음': 1, '배달탭': 1, '버벅되네': 1, '과유': 1, '불급': 1, '가뜩이나': 1, '실현': 1, '필수': 1, '상한': 1, '초심': 1, '문제해결': 1, '신건': 1, '이벤': 1, '구려': 1, '번쩍': 1, '용감': 1, '구리': 1, '바라지': 1, '땡입': 1, '캐릭터': 1, '문방구': 1, '굿즈': 1, '팔지': 1, '오타': 1, '카운팅': 1, '내의': 1, '전면': 1, '검열': 1, '셀렉': 1, '확장': 1, '본래': 1, '컨셉': 1, '키트': 1, '마진': 1, '타겟': 1, '고유': 1, '바캉스': 1, '휴가': 1, '구비': 1, '체온계': 1, '방수': 1, '물총': 1, '썬크림': 1, '셀카': 1, '중국집': 1, '이집': 1, '짜장면': 1, '네이버': 1, '순식간': 1, '떳다': 1, '인지도': 1, '블랙리스트': 1, '아쉬움': 1, '우측': 1, '돋보기': 1, '버츤': 1, '분과': 1, '로고': 1, '애플리케이션': 1, '차례': 1, '거구': 1, '부재': 1, '숨기': 1, '개별': 1, '체인점': 1, '부탁': 1, '부과': 1, '욕심': 1, '이구': 1, '구별': 1, '필기': 1, '절반': 1, '배려': 1, '택지': 1, '세분': 1, '초인종': 1, '정석': 1, '선호': 1, '그닥': 1, '시골': 1, '주위': 1, '서도': 1, '파워': 1, '의리': 1, '쏜다': 1, '안드로이드': 1, '파일': 1, '상향': 1, '입찰': 1, '시점': 1, '기입': 1, '혼돈': 1, '어필': 1, '친환경': 1, '척입': 1, '생년': 1, '일지': 1, '여하튼': 1, '더러': 1, '기대': 1, '맛등': 1, '엄마': 1, '수취': 1, '전반': 1, '이해도': 1, '출시': 1, '보임': 1, '랭킹': 1, '가도': 1, '차서': 1, '사각형': 1, '구경이': 1, '오직': 1, '제생': 1, '겻습': 1, '스크린샷': 1, '단체': 1, '제외': 1, '적진': 1, '무방': 1, '벨벳': 1, '어땟는': 1, '구체': 1, '비건': 1, '식단': 1, '포장재': 1, '이스트': 1, '채식': 1, '지향': 1, '전략': 1, '전이': 1, '세상': 1, '나발': 1, '연착': 1, '절하': 1, '우천': 1, '시나': 1, '몰리': 1, '클라스': 1, '업그레이드': 1, '첫째': 1, '둘째': 1, '누적': 1, '이익': 1, '소비': 1, '궁리': 1, '웃기': 1, '구식': 1, '온갖': 1, '자세': 1, '가계도': 1, '올킬': 1, '만족': 1, '다린': 1, '만하': 1, '판다': 1, '어이': 1, '완성': 1, '일회용': 1, '환경오염': 1, '양심': 1, '뇌절': 1, '수요일': 1, '별칭': 1, '깊이': 1, '확연': 1, '소가': 1, '도배': 1, '인사': 1, '응원': 1, '고함': 1, '사이드': 1, '국내': 1, '역시': 1, '바탕': 1, '줄곧': 1, '이즘': 1, '이기진': 1, '먀번': 1, '낚시': 1, '나하': 1, '더하기': 1, '무관': 1, '실패': 1, '안지': 1, '종결': 1, '전담': 1, '치자': 1, '공안': 1, '다이렉트': 1, '스팅': 1, '개보': 1, '글씨': 1, '장소': 1, '보구': 1, '병문안': 1, '진작': 1, '곱빼기': 1, '독점': 1, '해이': 1, '양식': 1, '중식': 1, '카페': 1, '업종': 1, '모니터': 1, '음성': 1, '민감': 1, '영향': 1, '예시': 1, '와플': 1, '보드': 1, '입창': 1, '여친': 1, '집중': 1, '과부': 1, '운용': 1, '슬로건': 1, '훌쩍': 1, '요금': 1, '내면': 1, '차비': 1, '혼밥': 1, '동거': 1, '결혼': 1, '가입자': 1, '횡포': 1, '의사소통': 1, '직업': 1, '동문서답': 1, '보너스': 1, '허가': 1, '배열': 1, '소도': 1, '소나': 1, '분석': 1, '한마디': 1, '일방': 1, '전송': 1, '시장': 1, '독과점': 1, '폐혜': 1, '새삼': 1, '신청': 1, '대뜸': 1, '우린': 1, '형식': 1, '설령': 1, '구석': 1, '증설': 1, '용인': 1, '애러메시': 1, '찌라시': 1, '로서': 1, '언급': 1, '아보': 1, '디스플레이': 1, '로라': 1, '베타': 1, '목적지': 1, '상부': 1, '정북': 1, '회전': 1, '감각': 1, '검정색': 1, '불합리': 1, '한시': 1, '제목': 1, '주신': 1, '기지역': 1, '기계': 1, '동작': 1, '여태': 1, '어제': 1, '시일': 1, '초창': 1, '편햇': 1, '미관': 1, '전문': 1, '요도': 1, '론데': 1, '전화량': 1, '순차': 1, '청해': 1, '직통': 1, '피해자': 1, '담당자': 1, '직전': 1, '엉망': 1, '유예': 1, '쓴소리': 1, '다리': 1, '중재': 1, '양쪽': 1, '고하': 1, '보충': 1, '제기': 1, '요구': 1, '현실': 1, '거번': 1, '관건': 1, '소개': 1, '공간': 1, '해주': 1})\n",
      "[('배달', 600), ('주문', 236), ('가게', 215), ('메뉴', 142), ('시간', 124), ('기능', 109), ('고객', 107), ('리뷰', 104), ('사용', 99), ('음식', 97), ('취소', 97), ('어플', 92), ('결제', 88), ('전화', 79), ('검색', 77), ('센터', 77), ('다른', 70), ('이용', 67), ('업데이트', 67), ('연결', 66), ('쿠폰', 66), ('계속', 60), ('문제', 57), ('그냥', 55), ('다시', 54), ('진짜', 50), ('생각', 49), ('선택', 49), ('상담', 49), ('화면', 46)]\n"
     ]
    }
   ],
   "source": [
    "counter = Counter((word_list))\n",
    "print(counter)\n",
    "print(counter.most_common(30)) #가장 많이 발생한 것 "
   ]
  },
  {
   "cell_type": "code",
   "execution_count": 77,
   "id": "07190b21",
   "metadata": {},
   "outputs": [
    {
     "name": "stdout",
     "output_type": "stream",
     "text": [
      "NanumGothic C:\\Windows\\Fonts\\EXTRABOLD.TTF\n",
      "Yu Gothic C:\\Windows\\Fonts\\YuGothL.ttc\n",
      "Yu Gothic C:\\Windows\\Fonts\\YuGothR.ttc\n",
      "Franklin Gothic Medium C:\\Windows\\Fonts\\framd.ttf\n",
      "Century Gothic C:\\Windows\\Fonts\\GOTHIC.TTF\n",
      "MS Gothic C:\\Windows\\Fonts\\msgothic.ttc\n",
      "Franklin Gothic Book C:\\Windows\\Fonts\\FRABK.TTF\n",
      "Malgun Gothic C:\\Windows\\Fonts\\malgun.ttf\n",
      "Franklin Gothic Medium Cond C:\\Windows\\Fonts\\FRAMDCN.TTF\n",
      "NanumGothic C:\\Windows\\Fonts\\.TTF\n",
      "Yu Gothic C:\\Windows\\Fonts\\YuGothM.ttc\n",
      "HYGothic-Extra C:\\Windows\\Fonts\\H2GTRE.TTF\n",
      "Malgun Gothic C:\\Windows\\Fonts\\malgunbd.ttf\n",
      "NanumGothic C:\\Windows\\Fonts\\BOLD.TTF\n",
      "Franklin Gothic Book C:\\Windows\\Fonts\\FRABKIT.TTF\n",
      "Franklin Gothic Demi C:\\Windows\\Fonts\\FRADMIT.TTF\n",
      "Franklin Gothic Demi C:\\Windows\\Fonts\\FRADM.TTF\n",
      "Copperplate Gothic Light C:\\Windows\\Fonts\\COPRGTL.TTF\n",
      "Franklin Gothic Medium C:\\Windows\\Fonts\\framdit.ttf\n",
      "Franklin Gothic Demi Cond C:\\Windows\\Fonts\\FRADMCN.TTF\n",
      "Century Gothic C:\\Windows\\Fonts\\GOTHICBI.TTF\n",
      "Copperplate Gothic Bold C:\\Windows\\Fonts\\COPRGTB.TTF\n",
      "Century Gothic C:\\Windows\\Fonts\\GOTHICB.TTF\n",
      "Yu Gothic C:\\Windows\\Fonts\\YuGothB.ttc\n",
      "Franklin Gothic Heavy C:\\Windows\\Fonts\\FRAHVIT.TTF\n",
      "Malgun Gothic C:\\Windows\\Fonts\\malgunsl.ttf\n",
      "Franklin Gothic Heavy C:\\Windows\\Fonts\\FRAHV.TTF\n",
      "Showcard Gothic C:\\Windows\\Fonts\\SHOWG.TTF\n",
      "Century Gothic C:\\Windows\\Fonts\\GOTHICI.TTF\n",
      "HYGothic-Medium C:\\Windows\\Fonts\\H2GTRM.TTF\n"
     ]
    }
   ],
   "source": [
    "from matplotlib import font_manager \n",
    "\n",
    "search_font = \"gothic\"\n",
    "\n",
    "for font in font_manager.findSystemFonts():\n",
    "    font_info = font_manager.FontProperties(fname=font)\n",
    "    font_name = font_info.get_name()\n",
    "    font_path = font_info.get_file()\n",
    "    if search_font in font_name.lower():\n",
    "        print(font_name, font_path )\n"
   ]
  },
  {
   "cell_type": "code",
   "execution_count": 81,
   "id": "055f59bb",
   "metadata": {},
   "outputs": [
    {
     "ename": "OSError",
     "evalue": "cannot open resource",
     "output_type": "error",
     "traceback": [
      "\u001b[1;31m---------------------------------------------------------------------------\u001b[0m",
      "\u001b[1;31mOSError\u001b[0m                                   Traceback (most recent call last)",
      "Cell \u001b[1;32mIn[81], line 21\u001b[0m\n\u001b[0;32m      9\u001b[0m mask_img \u001b[38;5;241m=\u001b[39m np\u001b[38;5;241m.\u001b[39marray(image)\n\u001b[0;32m     11\u001b[0m wc \u001b[38;5;241m=\u001b[39m WordCloud(\n\u001b[0;32m     12\u001b[0m     \u001b[38;5;66;03m# font_path = \"C:\\Windows\\Fonts\\BATANG.TTC\",\u001b[39;00m\n\u001b[0;32m     13\u001b[0m     font_path \u001b[38;5;241m=\u001b[39m \u001b[38;5;124m\"\u001b[39m\u001b[38;5;124mmalguns.ttf\u001b[39m\u001b[38;5;124m\"\u001b[39m,\n\u001b[1;32m   (...)\u001b[0m\n\u001b[0;32m     18\u001b[0m     height\u001b[38;5;241m=\u001b[39m\u001b[38;5;241m400\u001b[39m\n\u001b[0;32m     19\u001b[0m )\n\u001b[1;32m---> 21\u001b[0m \u001b[43mwc\u001b[49m\u001b[38;5;241;43m.\u001b[39;49m\u001b[43mgenerate_from_frequencies\u001b[49m\u001b[43m(\u001b[49m\u001b[43mcounter\u001b[49m\u001b[43m)\u001b[49m\n\u001b[0;32m     23\u001b[0m plt\u001b[38;5;241m.\u001b[39mfigure(figsize\u001b[38;5;241m=\u001b[39m(\u001b[38;5;241m5\u001b[39m,\u001b[38;5;241m5\u001b[39m))\n\u001b[0;32m     24\u001b[0m plt\u001b[38;5;241m.\u001b[39mimshow(wc, interpolation\u001b[38;5;241m=\u001b[39m\u001b[38;5;124m\"\u001b[39m\u001b[38;5;124mbilinear\u001b[39m\u001b[38;5;124m\"\u001b[39m)\n",
      "File \u001b[1;32mc:\\newproject\\.venv\\lib\\site-packages\\wordcloud\\wordcloud.py:453\u001b[0m, in \u001b[0;36mWordCloud.generate_from_frequencies\u001b[1;34m(self, frequencies, max_font_size)\u001b[0m\n\u001b[0;32m    451\u001b[0m     font_size \u001b[38;5;241m=\u001b[39m \u001b[38;5;28mself\u001b[39m\u001b[38;5;241m.\u001b[39mheight\n\u001b[0;32m    452\u001b[0m \u001b[38;5;28;01melse\u001b[39;00m:\n\u001b[1;32m--> 453\u001b[0m     \u001b[38;5;28;43mself\u001b[39;49m\u001b[38;5;241;43m.\u001b[39;49m\u001b[43mgenerate_from_frequencies\u001b[49m\u001b[43m(\u001b[49m\u001b[38;5;28;43mdict\u001b[39;49m\u001b[43m(\u001b[49m\u001b[43mfrequencies\u001b[49m\u001b[43m[\u001b[49m\u001b[43m:\u001b[49m\u001b[38;5;241;43m2\u001b[39;49m\u001b[43m]\u001b[49m\u001b[43m)\u001b[49m\u001b[43m,\u001b[49m\n\u001b[0;32m    454\u001b[0m \u001b[43m                                   \u001b[49m\u001b[43mmax_font_size\u001b[49m\u001b[38;5;241;43m=\u001b[39;49m\u001b[38;5;28;43mself\u001b[39;49m\u001b[38;5;241;43m.\u001b[39;49m\u001b[43mheight\u001b[49m\u001b[43m)\u001b[49m\n\u001b[0;32m    455\u001b[0m     \u001b[38;5;66;03m# find font sizes\u001b[39;00m\n\u001b[0;32m    456\u001b[0m     sizes \u001b[38;5;241m=\u001b[39m [x[\u001b[38;5;241m1\u001b[39m] \u001b[38;5;28;01mfor\u001b[39;00m x \u001b[38;5;129;01min\u001b[39;00m \u001b[38;5;28mself\u001b[39m\u001b[38;5;241m.\u001b[39mlayout_]\n",
      "File \u001b[1;32mc:\\newproject\\.venv\\lib\\site-packages\\wordcloud\\wordcloud.py:506\u001b[0m, in \u001b[0;36mWordCloud.generate_from_frequencies\u001b[1;34m(self, frequencies, max_font_size)\u001b[0m\n\u001b[0;32m    504\u001b[0m     \u001b[38;5;28;01mbreak\u001b[39;00m\n\u001b[0;32m    505\u001b[0m \u001b[38;5;66;03m# try to find a position\u001b[39;00m\n\u001b[1;32m--> 506\u001b[0m font \u001b[38;5;241m=\u001b[39m \u001b[43mImageFont\u001b[49m\u001b[38;5;241;43m.\u001b[39;49m\u001b[43mtruetype\u001b[49m\u001b[43m(\u001b[49m\u001b[38;5;28;43mself\u001b[39;49m\u001b[38;5;241;43m.\u001b[39;49m\u001b[43mfont_path\u001b[49m\u001b[43m,\u001b[49m\u001b[43m \u001b[49m\u001b[43mfont_size\u001b[49m\u001b[43m)\u001b[49m\n\u001b[0;32m    507\u001b[0m \u001b[38;5;66;03m# transpose font optionally\u001b[39;00m\n\u001b[0;32m    508\u001b[0m transposed_font \u001b[38;5;241m=\u001b[39m ImageFont\u001b[38;5;241m.\u001b[39mTransposedFont(\n\u001b[0;32m    509\u001b[0m     font, orientation\u001b[38;5;241m=\u001b[39morientation)\n",
      "File \u001b[1;32mc:\\newproject\\.venv\\lib\\site-packages\\PIL\\ImageFont.py:880\u001b[0m, in \u001b[0;36mtruetype\u001b[1;34m(font, size, index, encoding, layout_engine)\u001b[0m\n\u001b[0;32m    877\u001b[0m     \u001b[38;5;28;01mreturn\u001b[39;00m FreeTypeFont(font, size, index, encoding, layout_engine)\n\u001b[0;32m    879\u001b[0m \u001b[38;5;28;01mtry\u001b[39;00m:\n\u001b[1;32m--> 880\u001b[0m     \u001b[38;5;28;01mreturn\u001b[39;00m \u001b[43mfreetype\u001b[49m\u001b[43m(\u001b[49m\u001b[43mfont\u001b[49m\u001b[43m)\u001b[49m\n\u001b[0;32m    881\u001b[0m \u001b[38;5;28;01mexcept\u001b[39;00m \u001b[38;5;167;01mOSError\u001b[39;00m:\n\u001b[0;32m    882\u001b[0m     \u001b[38;5;28;01mif\u001b[39;00m \u001b[38;5;129;01mnot\u001b[39;00m is_path(font):\n",
      "File \u001b[1;32mc:\\newproject\\.venv\\lib\\site-packages\\PIL\\ImageFont.py:877\u001b[0m, in \u001b[0;36mtruetype.<locals>.freetype\u001b[1;34m(font)\u001b[0m\n\u001b[0;32m    876\u001b[0m \u001b[38;5;28;01mdef\u001b[39;00m\u001b[38;5;250m \u001b[39m\u001b[38;5;21mfreetype\u001b[39m(font: StrOrBytesPath \u001b[38;5;241m|\u001b[39m BinaryIO) \u001b[38;5;241m-\u001b[39m\u001b[38;5;241m>\u001b[39m FreeTypeFont:\n\u001b[1;32m--> 877\u001b[0m     \u001b[38;5;28;01mreturn\u001b[39;00m \u001b[43mFreeTypeFont\u001b[49m\u001b[43m(\u001b[49m\u001b[43mfont\u001b[49m\u001b[43m,\u001b[49m\u001b[43m \u001b[49m\u001b[43msize\u001b[49m\u001b[43m,\u001b[49m\u001b[43m \u001b[49m\u001b[43mindex\u001b[49m\u001b[43m,\u001b[49m\u001b[43m \u001b[49m\u001b[43mencoding\u001b[49m\u001b[43m,\u001b[49m\u001b[43m \u001b[49m\u001b[43mlayout_engine\u001b[49m\u001b[43m)\u001b[49m\n",
      "File \u001b[1;32mc:\\newproject\\.venv\\lib\\site-packages\\PIL\\ImageFont.py:285\u001b[0m, in \u001b[0;36mFreeTypeFont.__init__\u001b[1;34m(self, font, size, index, encoding, layout_engine)\u001b[0m\n\u001b[0;32m    283\u001b[0m                 load_from_bytes(f)\n\u001b[0;32m    284\u001b[0m             \u001b[38;5;28;01mreturn\u001b[39;00m\n\u001b[1;32m--> 285\u001b[0m     \u001b[38;5;28mself\u001b[39m\u001b[38;5;241m.\u001b[39mfont \u001b[38;5;241m=\u001b[39m \u001b[43mcore\u001b[49m\u001b[38;5;241;43m.\u001b[39;49m\u001b[43mgetfont\u001b[49m\u001b[43m(\u001b[49m\n\u001b[0;32m    286\u001b[0m \u001b[43m        \u001b[49m\u001b[43mfont\u001b[49m\u001b[43m,\u001b[49m\u001b[43m \u001b[49m\u001b[43msize\u001b[49m\u001b[43m,\u001b[49m\u001b[43m \u001b[49m\u001b[43mindex\u001b[49m\u001b[43m,\u001b[49m\u001b[43m \u001b[49m\u001b[43mencoding\u001b[49m\u001b[43m,\u001b[49m\u001b[43m \u001b[49m\u001b[43mlayout_engine\u001b[49m\u001b[38;5;241;43m=\u001b[39;49m\u001b[43mlayout_engine\u001b[49m\n\u001b[0;32m    287\u001b[0m \u001b[43m    \u001b[49m\u001b[43m)\u001b[49m\n\u001b[0;32m    288\u001b[0m \u001b[38;5;28;01melse\u001b[39;00m:\n\u001b[0;32m    289\u001b[0m     load_from_bytes(cast(IO[\u001b[38;5;28mbytes\u001b[39m], font))\n",
      "\u001b[1;31mOSError\u001b[0m: cannot open resource"
     ]
    }
   ],
   "source": [
    "from wordcloud import WordCloud \n",
    "import matplotlib.pyplot as plt \n",
    "import koreanize_matplotlib\n",
    "\n",
    "from PIL import Image\n",
    "import numpy as np \n",
    "\n",
    "image = Image.open(\"../resources/circle.png\")\n",
    "mask_img = np.array(image)\n",
    "\n",
    "wc = WordCloud(\n",
    "    # font_path = \"C:\\Windows\\Fonts\\BATANG.TTC\",\n",
    "    font_path = \"malguns.ttf\",\n",
    "    mask=mask_img,\n",
    "    background_color=\"white\",\n",
    "    colormap=\"coolwarm\",\n",
    "    width=800,\n",
    "    height=400\n",
    ")\n",
    "\n",
    "wc.generate_from_frequencies(counter)\n",
    "\n",
    "plt.figure(figsize=(5,5))\n",
    "plt.imshow(wc, interpolation=\"bilinear\")\n",
    "plt.axis(\"off\")\n",
    "plt.title(\"배달의 민족 워드 클라우드(명사)\", fontsize=20)\n",
    "plt.show()\n",
    "\n",
    "\n"
   ]
  },
  {
   "cell_type": "code",
   "execution_count": null,
   "id": "76884a56",
   "metadata": {},
   "outputs": [],
   "source": [
    "#배달의민족 댓글 \"동사\"에 대한 워드 클라우드 \n",
    "#norm, stem \n",
    "#조건은 동일 \n",
    "#gpt이용해서 새로운 마스크 만들어보고 적용해보기 "
   ]
  },
  {
   "cell_type": "markdown",
   "id": "ab874247",
   "metadata": {},
   "source": [
    "## 5)검색\n"
   ]
  },
  {
   "cell_type": "code",
   "execution_count": null,
   "id": "875422d6",
   "metadata": {},
   "outputs": [],
   "source": [
    "# 명사들을 추출한 워드클라우드를 생성했다면, 그 명사가 포함된 문장을 어떻게 검색할 수 있을까?\n",
    "# \"취소\" 단어가 있는 문장들만 검색\n",
    "keyword = \"취소\"\n",
    "\n",
    "extract_data = data.loc[data[\"댓글\"].str.contains(keyword),:]\n",
    "extract_data.head()"
   ]
  },
  {
   "cell_type": "code",
   "execution_count": 74,
   "id": "967aacaa",
   "metadata": {},
   "outputs": [
    {
     "ename": "NameError",
     "evalue": "name 'extract_data' is not defined",
     "output_type": "error",
     "traceback": [
      "\u001b[1;31m---------------------------------------------------------------------------\u001b[0m",
      "\u001b[1;31mNameError\u001b[0m                                 Traceback (most recent call last)",
      "Cell \u001b[1;32mIn[74], line 1\u001b[0m\n\u001b[1;32m----> 1\u001b[0m \u001b[38;5;28;01mfor\u001b[39;00m review \u001b[38;5;129;01min\u001b[39;00m \u001b[43mextract_data\u001b[49m[\u001b[38;5;124m\"\u001b[39m\u001b[38;5;124m댓글\u001b[39m\u001b[38;5;124m\"\u001b[39m]:\n\u001b[0;32m      2\u001b[0m     \u001b[38;5;28mprint\u001b[39m(review)\n\u001b[0;32m      3\u001b[0m     \u001b[38;5;28mprint\u001b[39m(\u001b[38;5;124m\"\u001b[39m\u001b[38;5;124m=\u001b[39m\u001b[38;5;124m\"\u001b[39m\u001b[38;5;241m*\u001b[39m\u001b[38;5;241m100\u001b[39m)\n",
      "\u001b[1;31mNameError\u001b[0m: name 'extract_data' is not defined"
     ]
    }
   ],
   "source": [
    "for review in extract_data[\"댓글\"]:\n",
    "    print(review)\n",
    "    print(\"=\"*100)"
   ]
  },
  {
   "cell_type": "code",
   "execution_count": null,
   "id": "72eaeef7",
   "metadata": {},
   "outputs": [],
   "source": []
  },
  {
   "cell_type": "markdown",
   "id": "9f356aca",
   "metadata": {},
   "source": [
    "## KIWI"
   ]
  },
  {
   "cell_type": "code",
   "execution_count": 66,
   "id": "6cb5fde1",
   "metadata": {},
   "outputs": [
    {
     "name": "stdout",
     "output_type": "stream",
     "text": [
      "-65.28563690185547\t['메뉴', '문의', '채팅', '답변', '메뉴', '다시', '거', '리뷰', '어플', '삭제']\n",
      "-69.0050277709961\t['메뉴', '문의', '채팅', '답변', '메뉴', '다시', '거', '리뷰', '어플', '삭제']\n",
      "-69.7073745727539\t['메뉴', '문의', '채팅', '답변', '메뉴', '다시', '거', '리뷰', '어플', '삭제']\n",
      "-73.4267578125\t['메뉴', '문의', '채팅', '답변', '메뉴', '다시', '거', '리뷰', '어플', '삭제']\n",
      "-73.45321655273438\t['메뉴', '문의', '채팅', '답변', '메뉴', '다시', '거', '리뷰', '어플', '삭제']\n"
     ]
    }
   ],
   "source": [
    "#명사들을 추출한 워드클라우드를 생성했다면, 그 명사가 포함된 문장을 어떻게 검색할 수 있을까? \n",
    "#'취소'단어가 있는 문장들만 검색 \n",
    "from kiwipiepy import Kiwi\n",
    "\n",
    "kiwi = Kiwi()\n",
    "\n",
    "text = \"분명 배달이 완료되었는데 나는 받지 않았어\"\n",
    "\n",
    "for res, score in kiwi.analyze(text, top_n=5):\n",
    "    print(score, result, sep=\"\\t\")"
   ]
  },
  {
   "cell_type": "code",
   "execution_count": 68,
   "id": "1b62a9b4",
   "metadata": {},
   "outputs": [
    {
     "name": "stdout",
     "output_type": "stream",
     "text": [
      "[Token(form='분명', tag='MAG', start=0, len=2), Token(form='배달', tag='NNG', start=3, len=2), Token(form='이', tag='JKS', start=5, len=1), Token(form='완료', tag='NNG', start=7, len=2), Token(form='되', tag='XSV', start=9, len=1), Token(form='었', tag='EP', start=10, len=1), Token(form='는데', tag='EC', start=11, len=2), Token(form='나', tag='NP', start=14, len=1), Token(form='는', tag='JX', start=15, len=1), Token(form='받', tag='VV-R', start=17, len=1), Token(form='지', tag='EC', start=18, len=1), Token(form='않', tag='VX', start=20, len=1), Token(form='었', tag='EP', start=21, len=1), Token(form='어', tag='EF', start=22, len=1)]\n"
     ]
    }
   ],
   "source": [
    "#명사들을 추출한 워드클라우드를 생성했다면, 그 명사가 포함된 문장을 어떻게 검색할 수 있을까? \n",
    "#'취소'단어가 있는 문장들만 검색 \n",
    "from kiwipiepy import Kiwi\n",
    "\n",
    "kiwi = Kiwi()\n",
    "\n",
    "result = kiwi.tokenize(text)\n",
    "print(result)"
   ]
  },
  {
   "cell_type": "code",
   "execution_count": 73,
   "id": "977bb489",
   "metadata": {},
   "outputs": [
    {
     "name": "stdout",
     "output_type": "stream",
     "text": [
      "배달 NNG\n",
      "완료 NNG\n",
      "나 NP\n"
     ]
    }
   ],
   "source": [
    "#명사만 추출\n",
    "for res in result:\n",
    "    if res.tag[0] == \"N\":\n",
    "        print(res.form,res.tag)"
   ]
  },
  {
   "cell_type": "markdown",
   "id": "51fc9659",
   "metadata": {},
   "source": [
    "## 2. 장바구니 분석"
   ]
  },
  {
   "cell_type": "code",
   "execution_count": 83,
   "id": "706b7b7e",
   "metadata": {},
   "outputs": [
    {
     "data": {
      "text/html": [
       "<div>\n",
       "<style scoped>\n",
       "    .dataframe tbody tr th:only-of-type {\n",
       "        vertical-align: middle;\n",
       "    }\n",
       "\n",
       "    .dataframe tbody tr th {\n",
       "        vertical-align: top;\n",
       "    }\n",
       "\n",
       "    .dataframe thead th {\n",
       "        text-align: right;\n",
       "    }\n",
       "</style>\n",
       "<table border=\"1\" class=\"dataframe\">\n",
       "  <thead>\n",
       "    <tr style=\"text-align: right;\">\n",
       "      <th></th>\n",
       "      <th>댓글</th>\n",
       "    </tr>\n",
       "  </thead>\n",
       "  <tbody>\n",
       "    <tr>\n",
       "      <th>0</th>\n",
       "      <td>배달의 민족앱자체는 만족하나, 식사후 맛 리뷰 평점 자체는 클린하게 이뤄지진 못하는...</td>\n",
       "    </tr>\n",
       "    <tr>\n",
       "      <th>1</th>\n",
       "      <td>장바구니가 너무 불편합니다. 비마트에서 여러가지를 담고 스크롤 올리고 내릴때 살짝 ...</td>\n",
       "    </tr>\n",
       "    <tr>\n",
       "      <th>2</th>\n",
       "      <td>B마트 이용중인데 언제부턴가 전체선택 버튼이 비활성화되어있습니다. 장바구니에 있는것...</td>\n",
       "    </tr>\n",
       "    <tr>\n",
       "      <th>3</th>\n",
       "      <td>수저포크x 버튼 기본으로 활성화 되어있는거 환경 보호한다고 해놓은거 압니다. 그런데...</td>\n",
       "    </tr>\n",
       "    <tr>\n",
       "      <th>4</th>\n",
       "      <td>개선이되고 업데이트가 된다는건 불편했던 사항들을 반영하는것 아닌가요? 오히려 더 불...</td>\n",
       "    </tr>\n",
       "  </tbody>\n",
       "</table>\n",
       "</div>"
      ],
      "text/plain": [
       "                                                  댓글\n",
       "0  배달의 민족앱자체는 만족하나, 식사후 맛 리뷰 평점 자체는 클린하게 이뤄지진 못하는...\n",
       "1  장바구니가 너무 불편합니다. 비마트에서 여러가지를 담고 스크롤 올리고 내릴때 살짝 ...\n",
       "2  B마트 이용중인데 언제부턴가 전체선택 버튼이 비활성화되어있습니다. 장바구니에 있는것...\n",
       "3  수저포크x 버튼 기본으로 활성화 되어있는거 환경 보호한다고 해놓은거 압니다. 그런데...\n",
       "4  개선이되고 업데이트가 된다는건 불편했던 사항들을 반영하는것 아닌가요? 오히려 더 불..."
      ]
     },
     "execution_count": 83,
     "metadata": {},
     "output_type": "execute_result"
    }
   ],
   "source": [
    "data = pd.read_csv(\"../chan/배달의민족댓글.csv\", index_col=0)\n",
    "data.head()"
   ]
  },
  {
   "cell_type": "code",
   "execution_count": null,
   "id": "cb496751",
   "metadata": {},
   "outputs": [],
   "source": [
    "# 댓글을 반복문으로 하나씩 추출 \n",
    "# 전처리 과정 그대로 \n",
    "\n",
    "# 댓글 형태소 분석 \n",
    "# 빈 리스트 만들기 sub_list  \n",
    "# 반복문으로 형태소 명사 단어들 담기 \n",
    "# sub_list에 명사 단어들 담기 \n",
    "# main_list에 sub_list 담기 "
   ]
  },
  {
   "cell_type": "code",
   "execution_count": null,
   "id": "4fc46e7c",
   "metadata": {},
   "outputs": [],
   "source": [
    "# 전처리 과정 그대로 \n",
    "import re \n",
    "data_list = data\n",
    "data = re.sub(\"[^0-9a-zA-Z가-힣- ]\",\"\", text) # 값을 찾아냄  ^ -> ^다음 문장을 제외하고 제거 -, 공백도 가능"
   ]
  },
  {
   "cell_type": "code",
   "execution_count": null,
   "id": "01633d9f",
   "metadata": {},
   "outputs": [],
   "source": [
    "#main_list [[리뷰1에 대한 명사 단어들],[리뷰2에 대한 명사 단어들], .....] 형식으로 저장되어야 한다. "
   ]
  }
 ],
 "metadata": {
  "kernelspec": {
   "display_name": "potenup",
   "language": "python",
   "name": "python3"
  },
  "language_info": {
   "codemirror_mode": {
    "name": "ipython",
    "version": 3
   },
   "file_extension": ".py",
   "mimetype": "text/x-python",
   "name": "python",
   "nbconvert_exporter": "python",
   "pygments_lexer": "ipython3",
   "version": "3.10.18"
  }
 },
 "nbformat": 4,
 "nbformat_minor": 5
}
